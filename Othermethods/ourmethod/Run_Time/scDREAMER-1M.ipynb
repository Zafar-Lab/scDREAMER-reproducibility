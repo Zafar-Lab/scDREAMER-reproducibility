{
 "cells": [
  {
   "cell_type": "code",
   "execution_count": null,
   "metadata": {
    "execution": {
     "iopub.execute_input": "2022-12-19T12:20:45.571258Z",
     "iopub.status.busy": "2022-12-19T12:20:45.571043Z",
     "iopub.status.idle": "2022-12-19T12:20:46.685941Z",
     "shell.execute_reply": "2022-12-19T12:20:46.685232Z",
     "shell.execute_reply.started": "2022-12-19T12:20:45.571184Z"
    },
    "id": "ba6OBfX1gnzG",
    "tags": []
   },
   "outputs": [],
   "source": [
    "import tensorflow as tf"
   ]
  },
  {
   "cell_type": "code",
   "execution_count": null,
   "metadata": {
    "execution": {
     "iopub.execute_input": "2022-12-19T12:20:46.687569Z",
     "iopub.status.busy": "2022-12-19T12:20:46.687296Z",
     "iopub.status.idle": "2022-12-19T12:20:46.690540Z",
     "shell.execute_reply": "2022-12-19T12:20:46.690065Z",
     "shell.execute_reply.started": "2022-12-19T12:20:46.687547Z"
    },
    "id": "hSANW-xEVJx3",
    "tags": []
   },
   "outputs": [],
   "source": [
    "import os\n",
    "import numpy as np"
   ]
  },
  {
   "cell_type": "code",
   "execution_count": null,
   "metadata": {
    "execution": {
     "iopub.execute_input": "2022-12-19T12:20:46.691250Z",
     "iopub.status.busy": "2022-12-19T12:20:46.691128Z",
     "iopub.status.idle": "2022-12-19T12:20:46.696460Z",
     "shell.execute_reply": "2022-12-19T12:20:46.695966Z",
     "shell.execute_reply.started": "2022-12-19T12:20:46.691235Z"
    },
    "id": "purv3YeibJgw",
    "tags": []
   },
   "outputs": [],
   "source": [
    "tf.enable_eager_execution()\n",
    "np.random.seed(0)\n",
    "tf.set_random_seed(0)"
   ]
  },
  {
   "cell_type": "code",
   "execution_count": null,
   "metadata": {
    "execution": {
     "iopub.execute_input": "2022-12-19T12:20:46.697384Z",
     "iopub.status.busy": "2022-12-19T12:20:46.697140Z",
     "iopub.status.idle": "2022-12-19T12:20:46.700110Z",
     "shell.execute_reply": "2022-12-19T12:20:46.699541Z",
     "shell.execute_reply.started": "2022-12-19T12:20:46.697363Z"
    },
    "tags": []
   },
   "outputs": [],
   "source": [
    "\n",
    "dataset = 'Human_Mouse'\n",
    "batch = 'batch'\n"
   ]
  },
  {
   "cell_type": "markdown",
   "metadata": {
    "id": "XnC_XfBeHHq-"
   },
   "source": [
    "Building model"
   ]
  },
  {
   "cell_type": "code",
   "execution_count": null,
   "metadata": {
    "colab": {
     "base_uri": "https://localhost:8080/",
     "height": 1000
    },
    "execution": {
     "iopub.execute_input": "2022-12-19T12:20:46.701000Z",
     "iopub.status.busy": "2022-12-19T12:20:46.700793Z",
     "iopub.status.idle": "2022-12-19T13:53:52.427607Z",
     "shell.execute_reply": "2022-12-19T13:53:52.426367Z",
     "shell.execute_reply.started": "2022-12-19T12:20:46.700979Z"
    },
    "id": "Lu41SpbIteg2",
    "outputId": "b4dd5296-7e6a-4b8c-f2d7-803ffd8a9768",
    "scrolled": true,
    "tags": []
   },
   "outputs": [],
   "source": [
    "import model\n",
    "\n",
    "run_config = tf.ConfigProto()\n",
    "run_config.gpu_options.per_process_gpu_memory_fraction = 0.333\n",
    "run_config.gpu_options.allow_growth = True\n",
    "\n",
    "with tf.Session(config = run_config) as sess:\n",
    "\n",
    "    dreamer = model.scDREAMER(\n",
    "        sess,\n",
    "        epoch = 50,\n",
    "        dataset_name = \"/home/krushna/Documents/Data_integration/SCRNA_Datasets/All_h5ad/\"+dataset+\".h5ad\",\n",
    "        batch = batch\n",
    "        )\n",
    "\n",
    "    dreamer.train_cluster()\n",
    "\n"
   ]
  },
  {
   "cell_type": "code",
   "execution_count": null,
   "metadata": {
    "execution": {
     "iopub.execute_input": "2022-12-19T13:53:52.434596Z",
     "iopub.status.busy": "2022-12-19T13:53:52.434120Z",
     "iopub.status.idle": "2022-12-19T13:53:52.441175Z",
     "shell.execute_reply": "2022-12-19T13:53:52.440057Z",
     "shell.execute_reply.started": "2022-12-19T13:53:52.434547Z"
    },
    "tags": []
   },
   "outputs": [],
   "source": [
    "print('done')"
   ]
  }
 ],
 "metadata": {
  "accelerator": "GPU",
  "colab": {
   "collapsed_sections": [],
   "include_colab_link": true,
   "machine_shape": "hm",
   "name": "2109_Classifier.ipynb",
   "provenance": []
  },
  "kernelspec": {
   "display_name": "Python 3 (ipykernel)",
   "language": "python",
   "name": "python3"
  },
  "language_info": {
   "codemirror_mode": {
    "name": "ipython",
    "version": 3
   },
   "file_extension": ".py",
   "mimetype": "text/x-python",
   "name": "python",
   "nbconvert_exporter": "python",
   "pygments_lexer": "ipython3",
   "version": "3.7.7"
  }
 },
 "nbformat": 4,
 "nbformat_minor": 4
}
