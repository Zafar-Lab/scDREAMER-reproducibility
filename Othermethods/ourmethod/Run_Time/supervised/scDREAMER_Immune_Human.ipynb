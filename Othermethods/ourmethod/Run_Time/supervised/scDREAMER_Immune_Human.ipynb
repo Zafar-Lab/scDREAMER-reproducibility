{
 "cells": [
  {
   "cell_type": "code",
   "execution_count": null,
   "metadata": {
    "execution": {
     "iopub.execute_input": "2022-12-20T10:19:33.426258Z",
     "iopub.status.busy": "2022-12-20T10:19:33.426026Z",
     "iopub.status.idle": "2022-12-20T10:19:34.629728Z",
     "shell.execute_reply": "2022-12-20T10:19:34.629084Z",
     "shell.execute_reply.started": "2022-12-20T10:19:33.426178Z"
    },
    "id": "ba6OBfX1gnzG",
    "tags": []
   },
   "outputs": [],
   "source": [
    "import tensorflow as tf"
   ]
  },
  {
   "cell_type": "code",
   "execution_count": null,
   "metadata": {
    "execution": {
     "iopub.execute_input": "2022-12-20T10:19:34.631322Z",
     "iopub.status.busy": "2022-12-20T10:19:34.631021Z",
     "iopub.status.idle": "2022-12-20T10:19:34.634789Z",
     "shell.execute_reply": "2022-12-20T10:19:34.634039Z",
     "shell.execute_reply.started": "2022-12-20T10:19:34.631300Z"
    },
    "id": "hSANW-xEVJx3",
    "tags": []
   },
   "outputs": [],
   "source": [
    "import os\n",
    "import numpy as np"
   ]
  },
  {
   "cell_type": "code",
   "execution_count": null,
   "metadata": {
    "execution": {
     "iopub.execute_input": "2022-12-20T10:19:34.635523Z",
     "iopub.status.busy": "2022-12-20T10:19:34.635394Z",
     "iopub.status.idle": "2022-12-20T10:19:34.640982Z",
     "shell.execute_reply": "2022-12-20T10:19:34.640513Z",
     "shell.execute_reply.started": "2022-12-20T10:19:34.635506Z"
    },
    "id": "purv3YeibJgw",
    "tags": []
   },
   "outputs": [],
   "source": [
    "tf.enable_eager_execution()\n",
    "np.random.seed(0)\n",
    "tf.set_random_seed(0)"
   ]
  },
  {
   "cell_type": "code",
   "execution_count": null,
   "metadata": {
    "execution": {
     "iopub.execute_input": "2022-12-20T10:19:34.641884Z",
     "iopub.status.busy": "2022-12-20T10:19:34.641565Z",
     "iopub.status.idle": "2022-12-20T10:19:34.667836Z",
     "shell.execute_reply": "2022-12-20T10:19:34.666754Z",
     "shell.execute_reply.started": "2022-12-20T10:19:34.641867Z"
    },
    "tags": []
   },
   "outputs": [],
   "source": [
    "batch_key_dic = {'Immune_Human' : 'batch',\n",
    "                 'Lung' : 'batch',\n",
    "                 'Pancreas' : 'tech',\n",
    "                 'Human_Mouse' : 'batch',\n",
    "                 'Human_Retina': \"Batch\"\n",
    "                }\n",
    "cell_type_key_dic = {'Immune_Human' : 'final_annotation',\n",
    "                 'Immune_human_mouse' : 'final_annotation',\n",
    "                 'Lung' : 'cell_type',\n",
    "                 'Pancreas' : 'Group',\n",
    "                 \"Human_Retina\":\"Subcluster\"}\n",
    "\n",
    "dataset = 'Immune_Human'\n",
    "batch = batch_key_dic[dataset]\n",
    "cell_type = cell_type_key_dic[dataset]"
   ]
  },
  {
   "cell_type": "markdown",
   "metadata": {
    "id": "XnC_XfBeHHq-"
   },
   "source": [
    "Building model"
   ]
  },
  {
   "cell_type": "code",
   "execution_count": null,
   "metadata": {
    "colab": {
     "base_uri": "https://localhost:8080/",
     "height": 1000
    },
    "execution": {
     "iopub.execute_input": "2022-12-20T10:19:34.669952Z",
     "iopub.status.busy": "2022-12-20T10:19:34.669444Z",
     "iopub.status.idle": "2022-12-20T10:30:54.662628Z",
     "shell.execute_reply": "2022-12-20T10:30:54.661304Z",
     "shell.execute_reply.started": "2022-12-20T10:19:34.669898Z"
    },
    "id": "Lu41SpbIteg2",
    "outputId": "b4dd5296-7e6a-4b8c-f2d7-803ffd8a9768",
    "scrolled": true,
    "tags": []
   },
   "outputs": [],
   "source": [
    "import model_scanvi\n",
    "\n",
    "run_config = tf.ConfigProto()\n",
    "run_config.gpu_options.per_process_gpu_memory_fraction = 0.333\n",
    "run_config.gpu_options.allow_growth = True\n",
    "\n",
    "with tf.Session(config = run_config) as sess:\n",
    "\n",
    "    dreamer = model_scanvi.scDREAMER(\n",
    "        sess,\n",
    "        epoch = 100,\n",
    "        dataset_name = \"/home/krushna/Documents/Data_integration/SCRNA_Datasets/All_h5ad/\"+dataset+\".h5ad\",\n",
    "        batch = batch,\n",
    "        cell_type = cell_type,\n",
    "        name = dataset\n",
    "        )\n",
    "\n",
    "    dreamer.train_cluster()\n",
    "\n"
   ]
  },
  {
   "cell_type": "code",
   "execution_count": null,
   "metadata": {
    "execution": {
     "iopub.execute_input": "2022-12-20T10:30:54.669443Z",
     "iopub.status.busy": "2022-12-20T10:30:54.669190Z",
     "iopub.status.idle": "2022-12-20T10:30:54.674983Z",
     "shell.execute_reply": "2022-12-20T10:30:54.674249Z",
     "shell.execute_reply.started": "2022-12-20T10:30:54.669414Z"
    },
    "tags": []
   },
   "outputs": [],
   "source": [
    "print('done')"
   ]
  }
 ],
 "metadata": {
  "accelerator": "GPU",
  "colab": {
   "collapsed_sections": [],
   "include_colab_link": true,
   "machine_shape": "hm",
   "name": "2109_Classifier.ipynb",
   "provenance": []
  },
  "kernelspec": {
   "display_name": "Python 3 (ipykernel)",
   "language": "python",
   "name": "python3"
  },
  "language_info": {
   "codemirror_mode": {
    "name": "ipython",
    "version": 3
   },
   "file_extension": ".py",
   "mimetype": "text/x-python",
   "name": "python",
   "nbconvert_exporter": "python",
   "pygments_lexer": "ipython3",
   "version": "3.7.7"
  }
 },
 "nbformat": 4,
 "nbformat_minor": 4
}
