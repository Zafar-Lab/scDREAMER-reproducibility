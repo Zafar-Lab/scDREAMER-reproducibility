{
 "cells": [
  {
   "cell_type": "code",
   "execution_count": null,
   "id": "6ea81f73-7f00-4c09-9444-99e3a70eef42",
   "metadata": {},
   "outputs": [],
   "source": [
    "import os\n",
    "import numpy as np\n",
    "import scipy.sparse\n",
    "import scipy.io\n",
    "from sklearn.metrics.cluster import normalized_mutual_info_score as nmi\n",
    "from sklearn.cluster import KMeans\n",
    "from sklearn.mixture import GaussianMixture\n",
    "from scipy import stats \n",
    "from scipy import * \n",
    "import numpy as np\n",
    "import scanpy as sc\n",
    "import pandas as pd"
   ]
  },
  {
   "cell_type": "code",
   "execution_count": null,
   "id": "2fe458ed-e999-46fa-b098-079c7cb4cf1c",
   "metadata": {},
   "outputs": [],
   "source": [
    "dir_path = \"/home/krushna/Documents/Data_integration/SCRNA_Datasets/All_h5ad/\"\n",
    "def load_data(dataset,batch):\n",
    "    adata =sc.read_h5ad(dir_path+dataset+'.h5ad')\n",
    "    sc.pp.filter_genes(adata, min_counts=3)\n",
    "    adata.layers[\"counts\"] = adata.X.copy()\n",
    "    sc.pp.normalize_total(adata, target_sum=1e4)\n",
    "    sc.pp.log1p(adata)\n",
    "    adata.raw = adata\n",
    "    sc.pp.highly_variable_genes(\n",
    "            adata,\n",
    "            flavor=\"seurat\",\n",
    "            n_top_genes=2000,\n",
    "            layer=\"counts\",\n",
    "            batch_key=batch,\n",
    "            subset=True\n",
    "    )\n",
    "    return adata\n",
    "batch_key_dic = {'Immune_Human' : 'batch',\n",
    "                 'Lung' : 'batch',\n",
    "                 'Pancreas' : 'tech',\n",
    "                 'Human_Mouse' : 'batch',\n",
    "                 'Human_Retina': \"Batch\"\n",
    "                 \n",
    "                }\n",
    "cell_type_key_dic = {'Immune_Human' : 'final_annotation',\n",
    "                 'Lung' : 'cell_type',\n",
    "                 'Pancreas' : 'celltype',\n",
    "                 'Human_Mouse' : \"celltype\",\n",
    "                 \"Human_Retina\":\"Subcluster\"\n",
    "                    }    \n",
    "our_method_emb_dic = {'Immune_Human' : 'Immune_Human_case2_latent_matrix_c_250',\n",
    "                 'Lung' : 'Lung_case2_latent_matrix_c_300',\n",
    "                 'Pancreas' : 'Pancreas_case2_latent_matrix_c_250',\n",
    "                 'Human_Retina': \"retina_case2_latent_matrix_c_300\"    \n",
    "                }   \n",
    "emb_folder = \"/home/krushna/Documents/Data_integration/Ajita_embeddings/checking_other_cases/final/\""
   ]
  },
  {
   "cell_type": "code",
   "execution_count": null,
   "id": "85307e3c-d181-4516-a5f1-4e4c888c6346",
   "metadata": {},
   "outputs": [],
   "source": [
    "dataset = 'Lung_removed_top_cells'\n",
    "batch = 'batch'\n",
    "cell_type = 'cell_type'\n",
    "adata = load_data(dataset,batch)\n",
    "emb_path = '/home/krushna/Documents/Data_integration/Othermethods/ourmethod/latent_matrix_c200.csv'\n",
    "final_embedings=pd.read_csv(emb_path, sep=',',header=None).values\n",
    "adata.obsm['final_embeddings'] = final_embedings"
   ]
  },
  {
   "cell_type": "code",
   "execution_count": null,
   "id": "d7cdea78-74d4-4d54-8827-f8aa38603f9b",
   "metadata": {
    "scrolled": true,
    "tags": []
   },
   "outputs": [],
   "source": [
    "import scIB\n",
    "results,ilisi_all,clisi_all,kbet_all  =   scIB.metrics.metrics(                \n",
    "                adata,\n",
    "                adata,\n",
    "                batch_key = batch, #need to change according\n",
    "                label_key = cell_type, #need to change according\n",
    "                hvg_score_=False,\n",
    "                cluster_key='cluster',\n",
    "                cluster_nmi=None,\n",
    "                ari_=True,\n",
    "                nmi_=True,\n",
    "                nmi_method='arithmetic',\n",
    "                nmi_dir=None,\n",
    "                silhouette_=True,\n",
    "                embed= 'final_embeddings', #need to change according \n",
    "                si_metric='euclidean',\n",
    "                pcr_=True,\n",
    "                cell_cycle_=False,\n",
    "                organism='mouse',\n",
    "                isolated_labels_=True,  # backwards compatibility\n",
    "                isolated_labels_f1_=True,\n",
    "                isolated_labels_asw_=True,\n",
    "                n_isolated=None,\n",
    "                graph_conn_=True,\n",
    "                kBET_=True,\n",
    "                kBET_sub=0.5,\n",
    "                lisi_graph_=True,\n",
    "                lisi_raw=True,\n",
    "                trajectory_=False,\n",
    "                type_=None,\n",
    "                verbose=False,\n",
    "        )"
   ]
  },
  {
   "cell_type": "code",
   "execution_count": null,
   "id": "87346620-d06b-439f-9dd9-1c600d0bae26",
   "metadata": {
    "scrolled": true,
    "tags": []
   },
   "outputs": [],
   "source": [
    "results"
   ]
  },
  {
   "cell_type": "code",
   "execution_count": null,
   "id": "8cbb5363-9323-4c98-9c36-6574dcd54e9e",
   "metadata": {},
   "outputs": [],
   "source": [
    "dataset = 'Lung_removed_top_cells'\n",
    "batch = 'batch'\n",
    "cell_type = 'cell_type'\n",
    "adata = load_data(dataset,batch)\n",
    "emb_path = '/home/krushna/Documents/Data_integration/Othermethods/ourmethod/latent_matrix_c200.csv'\n",
    "final_embedings=pd.read_csv(emb_path, sep=',',header=None).values\n",
    "adata.obsm['final_embeddings'] = final_embedings"
   ]
  },
  {
   "cell_type": "code",
   "execution_count": null,
   "id": "945962b3-33d8-4159-baeb-96715c1d9ddd",
   "metadata": {
    "scrolled": true,
    "tags": []
   },
   "outputs": [],
   "source": [
    "import scIB\n",
    "results,ilisi_all,clisi_all,kbet_all  =   scIB.metrics.metrics(                \n",
    "                adata,\n",
    "                adata,\n",
    "                batch_key = batch, #need to change according\n",
    "                label_key = cell_type, #need to change according\n",
    "                hvg_score_=False,\n",
    "                cluster_key='cluster',\n",
    "                cluster_nmi=None,\n",
    "                ari_=True,\n",
    "                nmi_=True,\n",
    "                nmi_method='arithmetic',\n",
    "                nmi_dir=None,\n",
    "                silhouette_=True,\n",
    "                embed= 'final_embeddings', #need to change according \n",
    "                si_metric='euclidean',\n",
    "                pcr_=True,\n",
    "                cell_cycle_=False,\n",
    "                organism='mouse',\n",
    "                isolated_labels_=True,  # backwards compatibility\n",
    "                isolated_labels_f1_=True,\n",
    "                isolated_labels_asw_=True,\n",
    "                n_isolated=None,\n",
    "                graph_conn_=True,\n",
    "                kBET_=True,\n",
    "                kBET_sub=0.5,\n",
    "                lisi_graph_=True,\n",
    "                lisi_raw=True,\n",
    "                trajectory_=False,\n",
    "                type_=None,\n",
    "                verbose=False,\n",
    "        )\n",
    "results"
   ]
  },
  {
   "cell_type": "code",
   "execution_count": null,
   "id": "c879dedc-68f6-4305-bca1-6b9f7b9c104d",
   "metadata": {},
   "outputs": [],
   "source": [
    "dataset = 'Lung_removed_top_cells'\n",
    "batch = 'batch'\n",
    "cell_type = 'cell_type'\n",
    "adata = load_data(dataset,batch)\n",
    "emb_path = '/home/krushna/Documents/Data_integration/Othermethods/ourmethod/latent_matrix_c299.csv'\n",
    "final_embedings=pd.read_csv(emb_path, sep=',',header=None).values\n",
    "adata.obsm['final_embeddings'] = final_embedings"
   ]
  },
  {
   "cell_type": "code",
   "execution_count": null,
   "id": "0d59f921-5c51-4393-994b-159d85c75a2a",
   "metadata": {
    "scrolled": true,
    "tags": []
   },
   "outputs": [],
   "source": [
    "import scIB\n",
    "results,ilisi_all,clisi_all,kbet_all  =   scIB.metrics.metrics(                \n",
    "                adata,\n",
    "                adata,\n",
    "                batch_key = batch, #need to change according\n",
    "                label_key = cell_type, #need to change according\n",
    "                hvg_score_=False,\n",
    "                cluster_key='cluster',\n",
    "                cluster_nmi=None,\n",
    "                ari_=True,\n",
    "                nmi_=True,\n",
    "                nmi_method='arithmetic',\n",
    "                nmi_dir=None,\n",
    "                silhouette_=True,\n",
    "                embed= 'final_embeddings', #need to change according \n",
    "                si_metric='euclidean',\n",
    "                pcr_=True,\n",
    "                cell_cycle_=False,\n",
    "                organism='mouse',\n",
    "                isolated_labels_=True,  # backwards compatibility\n",
    "                isolated_labels_f1_=True,\n",
    "                isolated_labels_asw_=True,\n",
    "                n_isolated=None,\n",
    "                graph_conn_=True,\n",
    "                kBET_=True,\n",
    "                kBET_sub=0.5,\n",
    "                lisi_graph_=True,\n",
    "                lisi_raw=True,\n",
    "                trajectory_=False,\n",
    "                type_=None,\n",
    "                verbose=False,\n",
    "        )\n",
    "results"
   ]
  },
  {
   "cell_type": "code",
   "execution_count": null,
   "id": "8600aec7-358f-4e6d-a7ad-f02724ab6595",
   "metadata": {},
   "outputs": [],
   "source": [
    "# import numpy as np\n",
    "# path_to_save = \"/home/krushna/Documents/Data_integration/ourmethod_metrics/kbet_lisi/\"\n",
    "# np.savetxt(path_to_save+dataset+\"_ilisi.csv\", ilisi_all, delimiter=\",\")\n",
    "# np.savetxt(path_to_save+dataset+\"_clisi.csv\", clisi_all, delimiter=\",\")\n",
    "# np.savetxt(path_to_save+dataset+\"_kbet_all.csv\",np.concatenate([np.array(val).reshape(1,-1) for val in kbet_all],axis = 0), delimiter=',')"
   ]
  },
  {
   "cell_type": "code",
   "execution_count": null,
   "id": "eef4a385-30ed-48f8-bbb7-3e29084c76b4",
   "metadata": {},
   "outputs": [],
   "source": []
  },
  {
   "cell_type": "code",
   "execution_count": null,
   "id": "3bffc456-e771-41db-b88e-bb20b59a1cb0",
   "metadata": {},
   "outputs": [],
   "source": [
    "# import matplotlib as mpl\n",
    "# mpl.rcParams['figure.dpi'] = 300"
   ]
  },
  {
   "cell_type": "code",
   "execution_count": null,
   "id": "76bfed31-227d-4c87-8ec1-90d98878abbd",
   "metadata": {},
   "outputs": [],
   "source": [
    "# import numpy as np\n",
    "# from sklearn.cluster import KMeans\n",
    "# from sklearn.metrics.cluster import normalized_mutual_info_score as nmi\n",
    "\n",
    "\n",
    "# latent_matrix = adata.obsm['final_embeddings'] \n",
    "# labels = np.array(adata.obs[cell_type] )\n",
    "# K = np.size(np.unique(labels))\n",
    "# kmeans = KMeans(n_clusters=K, random_state=0).fit(latent_matrix)\n",
    "# y_pred = kmeans.labels_\n",
    "\n",
    "# print('Computing NMI ...')\n",
    "# NMI = nmi(labels.flatten(), y_pred.flatten())\n",
    "# print('NMI = {}'.format(NMI))"
   ]
  },
  {
   "cell_type": "code",
   "execution_count": null,
   "id": "e1139fb4-414c-46f1-a23c-e8dbc3b65efe",
   "metadata": {},
   "outputs": [],
   "source": [
    "# sc.pp.neighbors(adata, use_rep='final_embeddings')  # use_rep = 'final_embeddings'\n",
    "# sc.tl.umap(adata)\n",
    "# sc.pl.umap(adata, color=cell_type, frameon=False)\n",
    "# sc.pl.umap(adata, color=batch, frameon=False)\n",
    "# sc.pl.umap(adata, color='cluster', frameon=False)"
   ]
  },
  {
   "cell_type": "code",
   "execution_count": null,
   "id": "416924a7-3ba6-4440-9312-6fcbe43324d7",
   "metadata": {},
   "outputs": [],
   "source": []
  }
 ],
 "metadata": {
  "kernelspec": {
   "display_name": "Python 3 (ipykernel)",
   "language": "python",
   "name": "python3"
  },
  "language_info": {
   "codemirror_mode": {
    "name": "ipython",
    "version": 3
   },
   "file_extension": ".py",
   "mimetype": "text/x-python",
   "name": "python",
   "nbconvert_exporter": "python",
   "pygments_lexer": "ipython3",
   "version": "3.7.11"
  }
 },
 "nbformat": 4,
 "nbformat_minor": 5
}
