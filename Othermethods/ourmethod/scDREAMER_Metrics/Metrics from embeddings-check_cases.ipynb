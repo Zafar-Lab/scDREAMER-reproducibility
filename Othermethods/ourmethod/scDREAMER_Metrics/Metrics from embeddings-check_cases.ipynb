{
 "cells": [
  {
   "cell_type": "code",
   "execution_count": null,
   "id": "f95b6306",
   "metadata": {
    "scrolled": true
   },
   "outputs": [],
   "source": [
    "import os\n",
    "import numpy as np\n",
    "import scipy.sparse\n",
    "import scipy.io\n",
    "from sklearn.metrics.cluster import normalized_mutual_info_score as nmi\n",
    "from sklearn.cluster import KMeans\n",
    "from sklearn.mixture import GaussianMixture\n",
    "from scipy import stats \n",
    "from scipy import * \n",
    "import numpy as np\n",
    "import scanpy as sc\n",
    "import pandas as pd"
   ]
  },
  {
   "cell_type": "code",
   "execution_count": null,
   "id": "ca753692",
   "metadata": {
    "scrolled": true
   },
   "outputs": [],
   "source": [
    "def get_metrics(Ann,batch_key,cell_type_key):\n",
    "    import scIB\n",
    "    results,ilisi_all,clisi_all,kbet_all = scIB.metrics.metrics(\n",
    "                Ann,\n",
    "                Ann,\n",
    "                batch_key = batch_key, #need to change according\n",
    "                label_key = cell_type_key, #need to change according\n",
    "                hvg_score_=False,\n",
    "                cluster_key='cluster',\n",
    "                cluster_nmi=None,\n",
    "                ari_=True,\n",
    "                nmi_=True,\n",
    "                nmi_method='arithmetic',\n",
    "                nmi_dir=None,\n",
    "                silhouette_=True,\n",
    "                embed= 'final_embeddings', #need to change according \n",
    "                si_metric='euclidean',\n",
    "                pcr_=True,\n",
    "                cell_cycle_=False,\n",
    "                organism='mouse',\n",
    "                isolated_labels_=True,  # backwards compatibility\n",
    "                isolated_labels_f1_=True,\n",
    "                isolated_labels_asw_=True,\n",
    "                n_isolated=None,\n",
    "                graph_conn_=True,\n",
    "                kBET_=True,\n",
    "                kBET_sub=0.5,\n",
    "                lisi_graph_=True,\n",
    "                lisi_raw=True,\n",
    "                trajectory_=False,\n",
    "                type_=None,\n",
    "                verbose=False,\n",
    "        )\n",
    "    print(results)\n",
    "    sc.pp.neighbors(Ann, use_rep='final_embeddings')  \n",
    "    sc.tl.umap(Ann)\n",
    "    sc.pl.umap(Ann, color=cell_type_key, frameon=False)  # cells\n",
    "    sc.pl.umap(Ann, color=batch_key, frameon=False)\n",
    "    # sc.pl.umap(Ann, color='cluster', frameon=False)\n",
    "    labels =  np.array(Ann.obs[cell_type_key].astype(\"category\"))\n",
    "    K = np.size(np.unique(labels))\n",
    "    kmeans = KMeans(n_clusters=K, random_state=0).fit(Ann.obsm['final_embeddings'])\n",
    "    y_pred = kmeans.labels_\n",
    "\n",
    "    print('Computing NMI ...')\n",
    "    NMI = nmi(labels.flatten(), y_pred.flatten())\n",
    "    print('Done !')\n",
    "\n",
    "    print('NMI = {}'.\n",
    "          format(NMI))"
   ]
  },
  {
   "cell_type": "code",
   "execution_count": null,
   "id": "a4493d64",
   "metadata": {
    "scrolled": true
   },
   "outputs": [],
   "source": [
    "batch_key_dic = {'Immune_Human' : 'batch',\n",
    "                 'Immune_human_mouse' : 'batch',\n",
    "                 'Lung' : 'batch',\n",
    "                 'Mouse_brain' : 'batch',\n",
    "                 'Pancreas' : 'tech',\n",
    "                 'Simulation1' : 'Batch',\n",
    "                 'Simulation2' : 'Batch',\n",
    "                 'Pancreas_scDGN' : 'batch',\n",
    "                 'Mouse_Brain_scDGN' : 'batch',\n",
    "                 'tabular_muris' : \"batch\",\n",
    "                 'Human_Mouse' : 'batch',\n",
    "                 'Human_Retina': \"Batch\"\n",
    "                 \n",
    "                }\n",
    "cell_type_key_dic = {'Immune_Human' : 'final_annotation',\n",
    "                 'Immune_human_mouse' : 'final_annotation',\n",
    "                 'Lung' : 'cell_type',\n",
    "                 'Mouse_brain' : 'cell_type',\n",
    "                 'Pancreas' : 'celltype',\n",
    "                 'Simulation1' : 'Group',\n",
    "                 'Simulation2' : 'Group',\n",
    "                 'Pancreas_scDGN' : 'cell_type',\n",
    "                 'Mouse_Brain_scDGN' : \"tissue\" ,\n",
    "                 \"tabular_muris\" : \"cell_ontology_class\",\n",
    "                 'Human_Mouse' : \"celltype\",\n",
    "                 \"Human_Retina\":\"Subcluster\"\n",
    "                    }    \n",
    "datasets_folder = '/home/krushna/Documents/Data_integration/SCRNA_Datasets/All_h5ad/'\n",
    "emb_folder = \"/home/krushna/Documents/Data_integration/Ajita_embeddings/checking_other_cases/\"\n"
   ]
  },
  {
   "cell_type": "code",
   "execution_count": null,
   "id": "2fc9978b",
   "metadata": {
    "scrolled": true,
    "tags": []
   },
   "outputs": [],
   "source": [
    "dataset_name = \"Pancreas\"\n",
    "emb_file_name = \"pancreas_case1_latent_matrix_c_250.csv\" #abcd.csv\n",
    "\n",
    "dataset_path = datasets_folder + dataset_name + '.h5ad'\n",
    "batch_key = batch_key_dic[dataset_name]\n",
    "cell_type_key = cell_type_key_dic[dataset_name]\n",
    "emb_path = emb_folder+emb_file_name\n",
    "Ann = sc.read_h5ad(dataset_path)\n",
    "final_embedings=pd.read_csv(emb_path, sep=',',header=None).values\n",
    "Ann.obsm['final_embeddings'] = final_embedings\n",
    "get_metrics(Ann,batch_key,cell_type_key)"
   ]
  },
  {
   "cell_type": "code",
   "execution_count": null,
   "id": "7937b764",
   "metadata": {
    "scrolled": true,
    "tags": []
   },
   "outputs": [],
   "source": [
    "dataset_name = \"Pancreas\"\n",
    "emb_file_name = \"Pancreas_case2_latent_matrix_c.csv\" #abcd.csv\n",
    "\n",
    "dataset_path = datasets_folder + dataset_name + '.h5ad'\n",
    "batch_key = batch_key_dic[dataset_name]\n",
    "cell_type_key = cell_type_key_dic[dataset_name]\n",
    "emb_path = emb_folder+emb_file_name\n",
    "Ann = sc.read_h5ad(dataset_path)\n",
    "final_embedings=pd.read_csv(emb_path, sep=',',header=None).values\n",
    "Ann.obsm['final_embeddings'] = final_embedings\n",
    "get_metrics(Ann,batch_key,cell_type_key)"
   ]
  },
  {
   "cell_type": "code",
   "execution_count": null,
   "id": "34469b58",
   "metadata": {
    "scrolled": true,
    "tags": []
   },
   "outputs": [],
   "source": [
    "dataset_name = \"Pancreas\"\n",
    "emb_file_name = \"pancreas_case3_latent_matrix_c.csv\" #abcd.csv\n",
    "\n",
    "dataset_path = datasets_folder + dataset_name + '.h5ad'\n",
    "batch_key = batch_key_dic[dataset_name]\n",
    "cell_type_key = cell_type_key_dic[dataset_name]\n",
    "emb_path = emb_folder+emb_file_name\n",
    "Ann = sc.read_h5ad(dataset_path)\n",
    "final_embedings=pd.read_csv(emb_path, sep=',',header=None).values\n",
    "Ann.obsm['final_embeddings'] = final_embedings\n",
    "get_metrics(Ann,batch_key,cell_type_key)"
   ]
  },
  {
   "cell_type": "code",
   "execution_count": null,
   "id": "65788ee4",
   "metadata": {
    "scrolled": true,
    "tags": []
   },
   "outputs": [],
   "source": [
    "dataset_name = \"Lung\"\n",
    "emb_file_name = \"lung_case1_latent_matrix_c_250.csv\" #abcd.csv\n",
    "\n",
    "dataset_path = datasets_folder + dataset_name + '.h5ad'\n",
    "batch_key = batch_key_dic[dataset_name]\n",
    "cell_type_key = cell_type_key_dic[dataset_name]\n",
    "emb_path = emb_folder+emb_file_name\n",
    "Ann = sc.read_h5ad(dataset_path)\n",
    "final_embedings=pd.read_csv(emb_path, sep=',',header=None).values\n",
    "Ann.obsm['final_embeddings'] = final_embedings\n",
    "get_metrics(Ann,batch_key,cell_type_key)"
   ]
  },
  {
   "cell_type": "code",
   "execution_count": null,
   "id": "f5473f89",
   "metadata": {
    "scrolled": true,
    "tags": []
   },
   "outputs": [],
   "source": [
    "dataset_name = \"Lung\"\n",
    "emb_file_name = \"lung_case2_latent_matrix_c.csv\" #abcd.csv\n",
    "\n",
    "dataset_path = datasets_folder + dataset_name + '.h5ad'\n",
    "batch_key = batch_key_dic[dataset_name]\n",
    "cell_type_key = cell_type_key_dic[dataset_name]\n",
    "emb_path = emb_folder+emb_file_name\n",
    "Ann = sc.read_h5ad(dataset_path)\n",
    "final_embedings=pd.read_csv(emb_path, sep=',',header=None).values\n",
    "Ann.obsm['final_embeddings'] = final_embedings\n",
    "get_metrics(Ann,batch_key,cell_type_key)"
   ]
  },
  {
   "cell_type": "code",
   "execution_count": null,
   "id": "0faa5b8e",
   "metadata": {
    "scrolled": true,
    "tags": []
   },
   "outputs": [],
   "source": [
    "dataset_name = \"Human_Retina\"\n",
    "emb_file_name = \"retina_case2_latent_matrix_c_200.csv\" #abcd.csv\n",
    "\n",
    "dataset_path = datasets_folder + dataset_name + '.h5ad'\n",
    "batch_key = batch_key_dic[dataset_name]\n",
    "cell_type_key = cell_type_key_dic[dataset_name]\n",
    "emb_path = emb_folder+emb_file_name\n",
    "Ann = sc.read_h5ad(dataset_path)\n",
    "final_embedings=pd.read_csv(emb_path, sep=',',header=None).values\n",
    "Ann.obsm['final_embeddings'] = final_embedings\n",
    "get_metrics(Ann,batch_key,cell_type_key)"
   ]
  },
  {
   "cell_type": "code",
   "execution_count": null,
   "id": "0c58b911",
   "metadata": {
    "scrolled": true,
    "tags": []
   },
   "outputs": [],
   "source": [
    "dataset_name = \"Human_Retina\"\n",
    "emb_file_name = \"retina_case2_latent_matrix_c_250.csv\" #abcd.csv\n",
    "\n",
    "dataset_path = datasets_folder + dataset_name + '.h5ad'\n",
    "batch_key = batch_key_dic[dataset_name]\n",
    "cell_type_key = cell_type_key_dic[dataset_name]\n",
    "emb_path = emb_folder+emb_file_name\n",
    "Ann = sc.read_h5ad(dataset_path)\n",
    "final_embedings=pd.read_csv(emb_path, sep=',',header=None).values\n",
    "Ann.obsm['final_embeddings'] = final_embedings\n",
    "get_metrics(Ann,batch_key,cell_type_key)"
   ]
  },
  {
   "cell_type": "code",
   "execution_count": null,
   "id": "5283bbd8",
   "metadata": {
    "scrolled": true
   },
   "outputs": [],
   "source": [
    "dataset_name = \"Human_Retina\"\n",
    "emb_file_name = \"retina_case2_latent_matrix_c_300.csv\" #abcd.csv\n",
    "\n",
    "dataset_path = datasets_folder + dataset_name + '.h5ad'\n",
    "batch_key = batch_key_dic[dataset_name]\n",
    "cell_type_key = cell_type_key_dic[dataset_name]\n",
    "emb_path = emb_folder+emb_file_name\n",
    "Ann = sc.read_h5ad(dataset_path)\n",
    "final_embedings=pd.read_csv(emb_path, sep=',',header=None).values\n",
    "Ann.obsm['final_embeddings'] = final_embedings\n",
    "get_metrics(Ann,batch_key,cell_type_key)"
   ]
  },
  {
   "cell_type": "code",
   "execution_count": null,
   "id": "af54960e",
   "metadata": {
    "scrolled": true,
    "tags": []
   },
   "outputs": [],
   "source": [
    "dataset_name = \"Immune_Human\"\n",
    "emb_file_name = \"Immune_Human_case2_latent_matrix_c_350.csv\" #abcd.csv\n",
    "\n",
    "dataset_path = datasets_folder + dataset_name + '.h5ad'\n",
    "batch_key = batch_key_dic[dataset_name]\n",
    "cell_type_key = cell_type_key_dic[dataset_name]\n",
    "emb_path = emb_folder+emb_file_name\n",
    "Ann = sc.read_h5ad(dataset_path)\n",
    "final_embedings=pd.read_csv(emb_path, sep=',',header=None).values\n",
    "Ann.obsm['final_embeddings'] = final_embedings\n",
    "get_metrics(Ann,batch_key,cell_type_key)"
   ]
  },
  {
   "cell_type": "code",
   "execution_count": null,
   "id": "3919bdfe",
   "metadata": {
    "scrolled": true
   },
   "outputs": [],
   "source": []
  },
  {
   "cell_type": "code",
   "execution_count": null,
   "id": "16374569",
   "metadata": {
    "scrolled": true
   },
   "outputs": [],
   "source": []
  },
  {
   "cell_type": "code",
   "execution_count": null,
   "id": "c9c1774c-6f6e-4859-963b-9b67f7153f2a",
   "metadata": {
    "scrolled": true,
    "tags": []
   },
   "outputs": [],
   "source": [
    "dataset_name = \"Immune_Human\"\n",
    "emb_file_name = \"Immune_Human_case2_latent_matrix_c_250.csv\" #abcd.csv\n",
    "\n",
    "dataset_path = datasets_folder + dataset_name + '.h5ad'\n",
    "batch_key = batch_key_dic[dataset_name]\n",
    "cell_type_key = cell_type_key_dic[dataset_name]\n",
    "emb_path = emb_folder+emb_file_name\n",
    "Ann = sc.read_h5ad(dataset_path)\n",
    "final_embedings=pd.read_csv(emb_path, sep=',',header=None).values\n",
    "Ann.obsm['final_embeddings'] = final_embedings\n",
    "get_metrics(Ann,batch_key,cell_type_key)"
   ]
  },
  {
   "cell_type": "code",
   "execution_count": null,
   "id": "644f8a16",
   "metadata": {
    "scrolled": true
   },
   "outputs": [],
   "source": []
  },
  {
   "cell_type": "code",
   "execution_count": null,
   "id": "fc8d391d-4928-41d4-a1f8-17489f53a516",
   "metadata": {
    "scrolled": true
   },
   "outputs": [],
   "source": [
    "dataset_name = \"Immune_Human\"\n",
    "emb_file_name = \"Immune_Human_case2_latent_matrix_c_300.csv\" #abcd.csv\n",
    "\n",
    "dataset_path = datasets_folder + dataset_name + '.h5ad'\n",
    "batch_key = batch_key_dic[dataset_name]\n",
    "cell_type_key = cell_type_key_dic[dataset_name]\n",
    "emb_path = emb_folder+emb_file_name\n",
    "Ann = sc.read_h5ad(dataset_path)\n",
    "final_embedings=pd.read_csv(emb_path, sep=',',header=None).values\n",
    "Ann.obsm['final_embeddings'] = final_embedings\n",
    "get_metrics(Ann,batch_key,cell_type_key)"
   ]
  },
  {
   "cell_type": "code",
   "execution_count": null,
   "id": "4741d80b-195b-4b52-afa4-a9cdfa0bbb0a",
   "metadata": {
    "scrolled": true
   },
   "outputs": [],
   "source": [
    "dataset_name = \"Immune_Human\"\n",
    "emb_file_name = \"Immune_Human_case2_latent_matrix_c_350.csv\" #abcd.csv\n",
    "\n",
    "dataset_path = datasets_folder + dataset_name + '.h5ad'\n",
    "batch_key = batch_key_dic[dataset_name]\n",
    "cell_type_key = cell_type_key_dic[dataset_name]\n",
    "emb_path = emb_folder+emb_file_name\n",
    "Ann = sc.read_h5ad(dataset_path)\n",
    "final_embedings=pd.read_csv(emb_path, sep=',',header=None).values\n",
    "Ann.obsm['final_embeddings'] = final_embedings\n",
    "get_metrics(Ann,batch_key,cell_type_key)"
   ]
  },
  {
   "cell_type": "code",
   "execution_count": null,
   "id": "3e4a73f6-9e68-4352-97e8-62ae0fdeff17",
   "metadata": {
    "scrolled": true
   },
   "outputs": [],
   "source": []
  },
  {
   "cell_type": "code",
   "execution_count": null,
   "id": "40ac541f-215b-415c-b425-2371e35f1e5c",
   "metadata": {
    "scrolled": true,
    "tags": []
   },
   "outputs": [],
   "source": [
    "dataset_name = \"Lung\"\n",
    "emb_file_name = \"lung_case2_latent_matrix_c_200.csv\" #abcd.csv\n",
    "\n",
    "dataset_path = datasets_folder + dataset_name + '.h5ad'\n",
    "batch_key = batch_key_dic[dataset_name]\n",
    "cell_type_key = cell_type_key_dic[dataset_name]\n",
    "emb_path = emb_folder+emb_file_name\n",
    "Ann = sc.read_h5ad(dataset_path)\n",
    "final_embedings=pd.read_csv(emb_path, sep=',',header=None).values\n",
    "Ann.obsm['final_embeddings'] = final_embedings\n",
    "get_metrics(Ann,batch_key,cell_type_key)"
   ]
  },
  {
   "cell_type": "code",
   "execution_count": null,
   "id": "67edeedd-b786-4bb5-a914-175be116dd55",
   "metadata": {
    "scrolled": true,
    "tags": []
   },
   "outputs": [],
   "source": [
    "dataset_name = \"Lung\"\n",
    "emb_file_name = \"Lung_case2_latent_matrix_c_250.csv\" #abcd.csv\n",
    "\n",
    "dataset_path = datasets_folder + dataset_name + '.h5ad'\n",
    "batch_key = batch_key_dic[dataset_name]\n",
    "cell_type_key = cell_type_key_dic[dataset_name]\n",
    "emb_path = emb_folder+emb_file_name\n",
    "Ann = sc.read_h5ad(dataset_path)\n",
    "final_embedings=pd.read_csv(emb_path, sep=',',header=None).values\n",
    "Ann.obsm['final_embeddings'] = final_embedings\n",
    "get_metrics(Ann,batch_key,cell_type_key)\n"
   ]
  },
  {
   "cell_type": "code",
   "execution_count": null,
   "id": "58558dbc-ad93-489e-9b62-56a37573c32b",
   "metadata": {
    "scrolled": true
   },
   "outputs": [],
   "source": [
    "dataset_name = \"Lung\"\n",
    "emb_file_name = \"Lung_case2_latent_matrix_c_300.csv\" #abcd.csv\n",
    "\n",
    "dataset_path = datasets_folder + dataset_name + '.h5ad'\n",
    "batch_key = batch_key_dic[dataset_name]\n",
    "cell_type_key = cell_type_key_dic[dataset_name]\n",
    "emb_path = emb_folder+emb_file_name\n",
    "Ann = sc.read_h5ad(dataset_path)\n",
    "final_embedings=pd.read_csv(emb_path, sep=',',header=None).values\n",
    "Ann.obsm['final_embeddings'] = final_embedings\n",
    "get_metrics(Ann,batch_key,cell_type_key)\n"
   ]
  },
  {
   "cell_type": "code",
   "execution_count": null,
   "id": "3b317891-96e2-4d08-85a4-905b42207d50",
   "metadata": {
    "scrolled": true,
    "tags": []
   },
   "outputs": [],
   "source": [
    "dataset_name = \"Lung\"\n",
    "emb_file_name = \"Lung_case2_latent_matrix_c_350.csv\" #abcd.csv\n",
    "\n",
    "dataset_path = datasets_folder + dataset_name + '.h5ad'\n",
    "batch_key = batch_key_dic[dataset_name]\n",
    "cell_type_key = cell_type_key_dic[dataset_name]\n",
    "emb_path = emb_folder+emb_file_name\n",
    "Ann = sc.read_h5ad(dataset_path)\n",
    "final_embedings=pd.read_csv(emb_path, sep=',',header=None).values\n",
    "Ann.obsm['final_embeddings'] = final_embedings\n",
    "get_metrics(Ann,batch_key,cell_type_key)\n"
   ]
  },
  {
   "cell_type": "code",
   "execution_count": null,
   "id": "b6c9674e-66a0-4754-ab1f-3afa8f227204",
   "metadata": {
    "scrolled": true,
    "tags": []
   },
   "outputs": [],
   "source": [
    "dataset_name = \"Pancreas\"\n",
    "emb_file_name = \"Pancreas_case2_latent_matrix_c_200.csv\" #abcd.csv\n",
    "\n",
    "dataset_path = datasets_folder + dataset_name + '.h5ad'\n",
    "batch_key = batch_key_dic[dataset_name]\n",
    "cell_type_key = cell_type_key_dic[dataset_name]\n",
    "emb_path = emb_folder+emb_file_name\n",
    "Ann = sc.read_h5ad(dataset_path)\n",
    "final_embedings=pd.read_csv(emb_path, sep=',',header=None).values\n",
    "Ann.obsm['final_embeddings'] = final_embedings\n",
    "get_metrics(Ann,batch_key,cell_type_key)\n"
   ]
  },
  {
   "cell_type": "code",
   "execution_count": null,
   "id": "6b16547c-7744-4b6b-8b6d-74f628ecc146",
   "metadata": {},
   "outputs": [],
   "source": [
    "dataset_name = \"Pancreas\"\n",
    "emb_file_name = \"final/Pancreas_case2_latent_matrix_c_250.csv\" #abcd.csv\n",
    "\n",
    "dataset_path = datasets_folder + dataset_name + '.h5ad'\n",
    "batch_key = batch_key_dic[dataset_name]\n",
    "cell_type_key = cell_type_key_dic[dataset_name]\n",
    "emb_path = emb_folder+emb_file_name\n",
    "Ann = sc.read_h5ad(dataset_path)\n",
    "final_embedings=pd.read_csv(emb_path, sep=',',header=None).values\n",
    "Ann.obsm['final_embeddings'] = final_embedings\n",
    "get_metrics(Ann,batch_key,cell_type_key)\n"
   ]
  },
  {
   "cell_type": "code",
   "execution_count": null,
   "id": "463d57cb-83ef-4a07-9792-687ca430d10d",
   "metadata": {
    "scrolled": true
   },
   "outputs": [],
   "source": [
    "dataset_name = \"Pancreas\"\n",
    "emb_file_name = \"Pancreas_case2_latent_matrix_c_300.csv\" #abcd.csv\n",
    "\n",
    "dataset_path = datasets_folder + dataset_name + '.h5ad'\n",
    "batch_key = batch_key_dic[dataset_name]\n",
    "cell_type_key = cell_type_key_dic[dataset_name]\n",
    "emb_path = emb_folder+emb_file_name\n",
    "Ann = sc.read_h5ad(dataset_path)\n",
    "final_embedings=pd.read_csv(emb_path, sep=',',header=None).values\n",
    "Ann.obsm['final_embeddings'] = final_embedings\n",
    "get_metrics(Ann,batch_key,cell_type_key)\n"
   ]
  },
  {
   "cell_type": "code",
   "execution_count": null,
   "id": "476ad272",
   "metadata": {},
   "outputs": [],
   "source": []
  }
 ],
 "metadata": {
  "kernelspec": {
   "display_name": "Python 3 (ipykernel)",
   "language": "python",
   "name": "python3"
  },
  "language_info": {
   "codemirror_mode": {
    "name": "ipython",
    "version": 3
   },
   "file_extension": ".py",
   "mimetype": "text/x-python",
   "name": "python",
   "nbconvert_exporter": "python",
   "pygments_lexer": "ipython3",
   "version": "3.7.11"
  }
 },
 "nbformat": 4,
 "nbformat_minor": 5
}
