{
 "cells": [
  {
   "cell_type": "code",
   "execution_count": null,
   "id": "6ea81f73-7f00-4c09-9444-99e3a70eef42",
   "metadata": {},
   "outputs": [],
   "source": [
    "import os\n",
    "import numpy as np\n",
    "import scipy.sparse\n",
    "import scipy.io\n",
    "from sklearn.metrics.cluster import normalized_mutual_info_score as nmi\n",
    "from sklearn.cluster import KMeans\n",
    "from sklearn.mixture import GaussianMixture\n",
    "from scipy import stats \n",
    "from scipy import * \n",
    "import numpy as np\n",
    "import scanpy as sc\n",
    "import pandas as pd"
   ]
  },
  {
   "cell_type": "code",
   "execution_count": null,
   "id": "2fe458ed-e999-46fa-b098-079c7cb4cf1c",
   "metadata": {},
   "outputs": [],
   "source": [
    "dir_path = \"/home/krushna/Documents/Data_integration/SCRNA_Datasets/All_h5ad/\"\n",
    "def load_data(dataset,batch):\n",
    "    adata =sc.read_h5ad(dir_path+dataset+'.h5ad')\n",
    "    # sc.pp.filter_genes(adata, min_counts=3)\n",
    "    # adata.layers[\"counts\"] = adata.X.copy()\n",
    "    # sc.pp.normalize_total(adata, target_sum=1e4)\n",
    "    # sc.pp.log1p(adata)\n",
    "    # adata.raw = adata\n",
    "    # sc.pp.highly_variable_genes(\n",
    "    #         adata,\n",
    "    #         flavor=\"seurat\",\n",
    "    #         n_top_genes=2000,\n",
    "    #         layer=\"counts\",\n",
    "    #         batch_key=batch,\n",
    "    #         subset=True\n",
    "    # )\n",
    "    # return adata\n",
    "batch_key_dic = {'Immune_Human' : 'batch',\n",
    "                 'Lung' : 'batch',\n",
    "                 'Pancreas' : 'tech',\n",
    "                 'Human_Mouse' : 'batch',\n",
    "                 'Human_Retina': \"Batch\"\n",
    "                 \n",
    "                }\n",
    "cell_type_key_dic = {'Immune_Human' : 'final_annotation',\n",
    "                 'Lung' : 'cell_type',\n",
    "                 'Pancreas' : 'celltype',\n",
    "                 'Human_Mouse' : \"celltype\",\n",
    "                 \"Human_Retina\":\"Subcluster\"\n",
    "                    }    \n",
    "our_method_emb_dic = {'Immune_Human' : 'Immune_Human_case2_latent_matrix_c_300',\n",
    "                 'Lung' : 'Lung_case2_latent_matrix_c_300',\n",
    "                 'Pancreas' : 'Pancreas_case2_latent_matrix_c_250',\n",
    "                 'Human_Retina': \"retina_case2_latent_matrix_c_300\",\n",
    "                 'Human_Mouse' : 'Human_Mouse_latent_matrix_c100'\n",
    "                }   \n",
    "emb_folder = \"/home/krushna/Documents/Data_integration/Ajita_embeddings/misc/checking_other_cases/\""
   ]
  },
  {
   "cell_type": "code",
   "execution_count": null,
   "id": "9f6a4133-bfaf-436d-8f4d-55f22b3008e3",
   "metadata": {},
   "outputs": [],
   "source": [
    "dataset = 'Human_Mouse'\n",
    "embeddings = our_method_emb_dic[dataset]+'.csv'\n",
    "batch = batch_key_dic[dataset]\n",
    "cell_type = cell_type_key_dic[dataset]"
   ]
  },
  {
   "cell_type": "code",
   "execution_count": null,
   "id": "85307e3c-d181-4516-a5f1-4e4c888c6346",
   "metadata": {},
   "outputs": [],
   "source": [
    "adata = load_data(dataset,batch)\n",
    "emb_path = emb_folder + embeddings \n",
    "final_embedings=pd.read_csv(emb_path, sep=',',header=None).values\n",
    "adata.obsm['final_embeddings'] = final_embedings"
   ]
  },
  {
   "cell_type": "code",
   "execution_count": null,
   "id": "42195a3f-abd1-4e3e-b63b-f4b85ec448ff",
   "metadata": {},
   "outputs": [],
   "source": [
    "import scIB\n",
    "adata = sc.read_h5ad(dir_path+dataset+'.h5ad')\n",
    "embeddings = our_method_emb_dic[dataset]+'.csv'\n",
    "emb_path = emb_folder + embeddings \n",
    "final_embedings=pd.read_csv(emb_path, sep=',',header=None).values\n",
    "adata.obsm['final_embeddings'] = final_embedings\n",
    "results,ilisi_all,clisi_all,kbet_all  =   scIB.metrics.metrics(                \n",
    "                adata,\n",
    "                adata,\n",
    "                batch_key = batch, #need to change according\n",
    "                label_key = cell_type, #need to change according\n",
    "                hvg_score_=False,\n",
    "                cluster_key='cluster',\n",
    "                cluster_nmi=None,\n",
    "                ari_=False,\n",
    "                nmi_=False,\n",
    "                nmi_method='arithmetic',\n",
    "                nmi_dir=None,\n",
    "                silhouette_=False,\n",
    "                embed= 'final_embeddings', #need to change according \n",
    "                si_metric='euclidean',\n",
    "                pcr_=True,\n",
    "                cell_cycle_=False,\n",
    "                organism='mouse',\n",
    "                isolated_labels_=False,  # backwards compatibility\n",
    "                isolated_labels_f1_=False,\n",
    "                isolated_labels_asw_=False,\n",
    "                n_isolated=None,\n",
    "                graph_conn_=True,\n",
    "                kBET_=False,\n",
    "                kBET_sub=0.5,\n",
    "                lisi_graph_=False,\n",
    "                lisi_raw=False,\n",
    "                trajectory_=False,\n",
    "                type_=None,\n",
    "                verbose=True,\n",
    "        )\n",
    "results"
   ]
  },
  {
   "cell_type": "code",
   "execution_count": null,
   "id": "d7cdea78-74d4-4d54-8827-f8aa38603f9b",
   "metadata": {
    "scrolled": true,
    "tags": []
   },
   "outputs": [],
   "source": [
    "import scIB\n",
    "results,ilisi_all,clisi_all,kbet_all  =   scIB.metrics.metrics(                \n",
    "                adata,\n",
    "                adata,\n",
    "                batch_key = batch, #need to change according\n",
    "                label_key = cell_type, #need to change according\n",
    "                hvg_score_=False,\n",
    "                cluster_key='cluster',\n",
    "                cluster_nmi=None,\n",
    "                ari_=True,\n",
    "                nmi_=True,\n",
    "                nmi_method='arithmetic',\n",
    "                nmi_dir=None,\n",
    "                silhouette_=True,\n",
    "                embed= 'final_embeddings', #need to change according \n",
    "                si_metric='euclidean',\n",
    "                pcr_=True,\n",
    "                cell_cycle_=False,\n",
    "                organism='mouse',\n",
    "                isolated_labels_=False,  # backwards compatibility\n",
    "                isolated_labels_f1_=False,\n",
    "                isolated_labels_asw_=False,\n",
    "                n_isolated=None,\n",
    "                graph_conn_=True,\n",
    "                kBET_=True,\n",
    "                kBET_sub=0.5,\n",
    "                lisi_graph_=True,\n",
    "                lisi_raw=True,\n",
    "                trajectory_=False,\n",
    "                type_=None,\n",
    "                verbose=True,\n",
    "        )"
   ]
  },
  {
   "cell_type": "code",
   "execution_count": null,
   "id": "87346620-d06b-439f-9dd9-1c600d0bae26",
   "metadata": {},
   "outputs": [],
   "source": [
    "results"
   ]
  },
  {
   "cell_type": "code",
   "execution_count": null,
   "id": "8600aec7-358f-4e6d-a7ad-f02724ab6595",
   "metadata": {},
   "outputs": [],
   "source": [
    "import numpy as np\n",
    "path_to_save = \"/home/krushna/Documents/Data_integration/ourmethod_metrics/kbet_lisi/\"\n",
    "np.savetxt(path_to_save+dataset+\"_ilisi.csv\", ilisi_all, delimiter=\",\")\n",
    "np.savetxt(path_to_save+dataset+\"_clisi.csv\", clisi_all, delimiter=\",\")\n",
    "np.savetxt(path_to_save+dataset+\"_kbet_all.csv\",np.concatenate([np.array(val).reshape(1,-1) for val in kbet_all],axis = 0), delimiter=',')"
   ]
  },
  {
   "cell_type": "code",
   "execution_count": null,
   "id": "3bffc456-e771-41db-b88e-bb20b59a1cb0",
   "metadata": {},
   "outputs": [],
   "source": [
    "import matplotlib as mpl\n",
    "mpl.rcParams['figure.dpi'] = 300"
   ]
  },
  {
   "cell_type": "code",
   "execution_count": null,
   "id": "76bfed31-227d-4c87-8ec1-90d98878abbd",
   "metadata": {},
   "outputs": [],
   "source": [
    "import numpy as np\n",
    "from sklearn.cluster import KMeans\n",
    "from sklearn.metrics.cluster import normalized_mutual_info_score as nmi\n",
    "\n",
    "\n",
    "latent_matrix = adata.obsm['final_embeddings'] \n",
    "labels = np.array(adata.obs[cell_type] )\n",
    "K = np.size(np.unique(labels))\n",
    "kmeans = KMeans(n_clusters=K, random_state=0).fit(latent_matrix)\n",
    "y_pred = kmeans.labels_\n",
    "\n",
    "print('Computing NMI ...')\n",
    "NMI = nmi(labels.flatten(), y_pred.flatten())\n",
    "print('NMI = {}'.format(NMI))"
   ]
  },
  {
   "cell_type": "code",
   "execution_count": null,
   "id": "e1139fb4-414c-46f1-a23c-e8dbc3b65efe",
   "metadata": {
    "scrolled": true
   },
   "outputs": [],
   "source": [
    "sc.pp.neighbors(adata, use_rep='final_embeddings')  # use_rep = 'final_embeddings'\n",
    "sc.tl.umap(adata)\n",
    "sc.pl.umap(adata, color=cell_type, frameon=False)\n",
    "sc.pl.umap(adata, color=batch, frameon=False)\n",
    "sc.pl.umap(adata, color='cluster', frameon=False)"
   ]
  },
  {
   "cell_type": "code",
   "execution_count": null,
   "id": "450e89c6-71ff-4350-a552-b5e360dc9dcb",
   "metadata": {},
   "outputs": [],
   "source": []
  },
  {
   "cell_type": "code",
   "execution_count": null,
   "id": "2a6ff467-6efd-4bee-86f8-25b5cd27ae1e",
   "metadata": {},
   "outputs": [],
   "source": []
  }
 ],
 "metadata": {
  "kernelspec": {
   "display_name": "Python 3 (ipykernel)",
   "language": "python",
   "name": "python3"
  },
  "language_info": {
   "codemirror_mode": {
    "name": "ipython",
    "version": 3
   },
   "file_extension": ".py",
   "mimetype": "text/x-python",
   "name": "python",
   "nbconvert_exporter": "python",
   "pygments_lexer": "ipython3",
   "version": "3.7.11"
  }
 },
 "nbformat": 4,
 "nbformat_minor": 5
}
