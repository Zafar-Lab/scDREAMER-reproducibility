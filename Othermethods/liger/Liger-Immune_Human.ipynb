{
 "cells": [
  {
   "cell_type": "code",
   "execution_count": null,
   "id": "79c9b7a1",
   "metadata": {
    "execution": {
     "iopub.execute_input": "2022-12-13T10:29:51.886100Z",
     "iopub.status.busy": "2022-12-13T10:29:51.885332Z",
     "iopub.status.idle": "2022-12-13T10:29:52.857834Z",
     "shell.execute_reply": "2022-12-13T10:29:52.857409Z",
     "shell.execute_reply.started": "2022-12-13T10:29:51.885929Z"
    }
   },
   "outputs": [],
   "source": [
    "import scanpy as sc\n",
    "import numpy as np"
   ]
  },
  {
   "cell_type": "code",
   "execution_count": null,
   "id": "83b6b1b4",
   "metadata": {
    "execution": {
     "iopub.execute_input": "2022-12-13T10:29:52.858918Z",
     "iopub.status.busy": "2022-12-13T10:29:52.858691Z",
     "iopub.status.idle": "2022-12-13T10:29:52.864339Z",
     "shell.execute_reply": "2022-12-13T10:29:52.863696Z",
     "shell.execute_reply.started": "2022-12-13T10:29:52.858900Z"
    }
   },
   "outputs": [],
   "source": [
    "dir_path = \"/home/krushna/Documents/Data_integration/SCRNA_Datasets/All_h5ad/\"\n",
    "def load_data(dataset,batch):\n",
    "    adata =sc.read_h5ad(dir_path+dataset+'.h5ad')\n",
    "    sc.pp.filter_genes(adata, min_counts=3)\n",
    "    adata.layers[\"counts\"] = adata.X.copy()\n",
    "    sc.pp.normalize_total(adata, target_sum=1e4)\n",
    "    sc.pp.log1p(adata)\n",
    "    adata.raw = adata\n",
    "    sc.pp.highly_variable_genes(\n",
    "            adata,\n",
    "            flavor=\"seurat\",\n",
    "            n_top_genes=2000,\n",
    "            layer=\"counts\",\n",
    "            batch_key=batch,\n",
    "            subset=True\n",
    "    )\n",
    "    return adata\n",
    "    \n",
    "batch_key_dic = {'Immune_Human' : 'batch',\n",
    "                 'Immune_human_mouse' : 'batch',\n",
    "                 'Lung' : 'batch',\n",
    "                 'Mouse_brain' : 'batch',\n",
    "                 'Pancreas' : 'tech',\n",
    "                 'Simulation1' : 'Batch',\n",
    "                 'Simulation2' : 'Batch'}\n",
    "cell_type_key_dic = {'Immune_Human' : 'final_annotation',\n",
    "                 'Immune_human_mouse' : 'final_annotation',\n",
    "                 'Lung' : 'cell_type',\n",
    "                 'Mouse_brain' : 'cell_type',\n",
    "                 'Pancreas' : 'celltype',\n",
    "                 'Simulation1' : 'Group',\n",
    "                 'Simulation2' : 'Group'}  "
   ]
  },
  {
   "cell_type": "code",
   "execution_count": null,
   "id": "8060824c",
   "metadata": {
    "execution": {
     "iopub.execute_input": "2022-12-13T10:29:53.002692Z",
     "iopub.status.busy": "2022-12-13T10:29:53.002017Z",
     "iopub.status.idle": "2022-12-13T10:30:14.965103Z",
     "shell.execute_reply": "2022-12-13T10:30:14.964360Z",
     "shell.execute_reply.started": "2022-12-13T10:29:53.002631Z"
    }
   },
   "outputs": [],
   "source": [
    "dataset = 'Immune_Human'\n",
    "batch = batch_key_dic[dataset]\n",
    "cell_type = cell_type_key_dic[dataset]\n",
    "adata = load_data(dataset,batch)\n",
    "adata_sce = adata.copy()\n",
    "if type(adata_sce.X) != type(np.array([])):\n",
    "    adata_sce.X = adata_sce.X.toarray()\n",
    "    adata_sce.layers['counts'] = adata_sce.layers['counts'].toarray()\n",
    "    # del adata_sce.layers['counts']\n",
    "del adata_sce.uns\n",
    "del adata_sce.var"
   ]
  },
  {
   "cell_type": "code",
   "execution_count": null,
   "id": "da85d99a",
   "metadata": {
    "execution": {
     "iopub.execute_input": "2022-12-13T10:30:14.966361Z",
     "iopub.status.busy": "2022-12-13T10:30:14.966195Z",
     "iopub.status.idle": "2022-12-13T10:30:14.971154Z",
     "shell.execute_reply": "2022-12-13T10:30:14.970511Z",
     "shell.execute_reply.started": "2022-12-13T10:30:14.966340Z"
    }
   },
   "outputs": [],
   "source": [
    "print(adata,adata_sce,sep='\\n')"
   ]
  },
  {
   "cell_type": "code",
   "execution_count": null,
   "id": "ecd123e8",
   "metadata": {
    "execution": {
     "iopub.execute_input": "2022-12-13T10:30:14.972251Z",
     "iopub.status.busy": "2022-12-13T10:30:14.971958Z",
     "iopub.status.idle": "2022-12-13T10:30:15.941272Z",
     "shell.execute_reply": "2022-12-13T10:30:15.939980Z",
     "shell.execute_reply.started": "2022-12-13T10:30:14.972227Z"
    },
    "scrolled": true,
    "tags": []
   },
   "outputs": [],
   "source": [
    "import anndata2ri\n",
    "anndata2ri.activate()\n",
    "\n",
    "#Loading the rpy2 extension enables cell magic to be used\n",
    "#This runs R code in jupyter notebook cells\n",
    "%load_ext rpy2.ipython\n",
    "\n",
    "sc.settings.verbosity = 3\n",
    "sc.logging.print_versions()"
   ]
  },
  {
   "cell_type": "code",
   "execution_count": null,
   "id": "e08b0032",
   "metadata": {
    "execution": {
     "iopub.execute_input": "2022-12-13T10:30:15.944406Z",
     "iopub.status.busy": "2022-12-13T10:30:15.943881Z",
     "iopub.status.idle": "2022-12-13T10:30:58.927531Z",
     "shell.execute_reply": "2022-12-13T10:30:58.926773Z",
     "shell.execute_reply.started": "2022-12-13T10:30:15.944355Z"
    }
   },
   "outputs": [],
   "source": [
    "%%R -i adata_sce --i batch\n",
    "\n",
    "library(Seurat)\n",
    "adata_seu <- as.Seurat(adata_sce, counts = \"counts\", data = \"X\")\n"
   ]
  },
  {
   "cell_type": "code",
   "execution_count": null,
   "id": "940c9540-3d2d-4569-9818-d92da1c348f8",
   "metadata": {
    "execution": {
     "iopub.execute_input": "2022-12-13T10:30:58.928697Z",
     "iopub.status.busy": "2022-12-13T10:30:58.928529Z",
     "iopub.status.idle": "2022-12-13T10:30:59.174662Z",
     "shell.execute_reply": "2022-12-13T10:30:59.173926Z",
     "shell.execute_reply.started": "2022-12-13T10:30:58.928676Z"
    }
   },
   "outputs": [],
   "source": [
    "%%R\n",
    "adata_seu = RenameAssays(object = adata_seu, originalexp = 'RNA')\n",
    "sobj = adata_seu"
   ]
  },
  {
   "cell_type": "code",
   "execution_count": null,
   "id": "bd7c66c1-fbd8-4e94-8819-e5195aa807dd",
   "metadata": {
    "execution": {
     "iopub.execute_input": "2022-12-13T10:30:59.176143Z",
     "iopub.status.busy": "2022-12-13T10:30:59.175869Z",
     "iopub.status.idle": "2022-12-13T10:30:59.179470Z",
     "shell.execute_reply": "2022-12-13T10:30:59.178831Z",
     "shell.execute_reply.started": "2022-12-13T10:30:59.176123Z"
    }
   },
   "outputs": [],
   "source": [
    "import time\n",
    "start_time = time.time()"
   ]
  },
  {
   "cell_type": "code",
   "execution_count": null,
   "id": "019b6527-1edc-4972-8903-0aac573c2455",
   "metadata": {
    "execution": {
     "iopub.execute_input": "2022-12-13T10:30:59.180474Z",
     "iopub.status.busy": "2022-12-13T10:30:59.180317Z",
     "iopub.status.idle": "2022-12-13T10:31:00.567119Z",
     "shell.execute_reply": "2022-12-13T10:31:00.566456Z",
     "shell.execute_reply.started": "2022-12-13T10:30:59.180455Z"
    }
   },
   "outputs": [],
   "source": [
    "%%R\n",
    "tryCatch(\n",
    "    require(liger),\n",
    "    warning = function (w) require(rliger)\n",
    "  )\n",
    "  require(Seurat)\n",
    "\n",
    "  # Only counts is converted to liger object. To pass our own normalized data,\n",
    "  # store it in the \"counts\" slot\n",
    "  if (is.null(sobj@assays$RNA)) {\n",
    "    # Seurat v4\n",
    "    data <- GetAssayData(sobj, slot = \"data\")\n",
    "    SetAssayData(sobj, slot = \"counts\", new.data = as.matrix(data))\n",
    "  } else {\n",
    "    # Seurat v3\n",
    "    sobj@assays$RNA@counts = sobj@assays$RNA@data\n",
    "  }\n",
    "\n"
   ]
  },
  {
   "cell_type": "code",
   "execution_count": null,
   "id": "24d0c57f-7eab-4b23-9dd8-aef4bee0c14f",
   "metadata": {
    "execution": {
     "iopub.execute_input": "2022-12-13T10:31:00.568277Z",
     "iopub.status.busy": "2022-12-13T10:31:00.567909Z",
     "iopub.status.idle": "2022-12-13T10:31:00.576130Z",
     "shell.execute_reply": "2022-12-13T10:31:00.575573Z",
     "shell.execute_reply.started": "2022-12-13T10:31:00.568259Z"
    }
   },
   "outputs": [],
   "source": [
    "%%R\n",
    "hvg = rownames(sobj)"
   ]
  },
  {
   "cell_type": "code",
   "execution_count": null,
   "id": "5f8557b4-3716-4486-be2b-4b72ba8ed44d",
   "metadata": {
    "execution": {
     "iopub.execute_input": "2022-12-13T10:31:00.576896Z",
     "iopub.status.busy": "2022-12-13T10:31:00.576763Z",
     "iopub.status.idle": "2022-12-13T10:31:01.393188Z",
     "shell.execute_reply": "2022-12-13T10:31:01.392517Z",
     "shell.execute_reply.started": "2022-12-13T10:31:00.576879Z"
    }
   },
   "outputs": [],
   "source": [
    "%%R\n",
    "  # Create Liger object\n",
    "  lobj = seuratToLiger(\n",
    "    sobj,\n",
    "    combined.seurat = T,\n",
    "    meta.var = batch,\n",
    "    renormalize = F,\n",
    "    remove.missing = F\n",
    "  )\n"
   ]
  },
  {
   "cell_type": "code",
   "execution_count": null,
   "id": "3e11e6e7-94b0-42be-bc62-4cb5d73a61a2",
   "metadata": {
    "execution": {
     "iopub.execute_input": "2022-12-13T10:31:01.394342Z",
     "iopub.status.busy": "2022-12-13T10:31:01.394055Z",
     "iopub.status.idle": "2022-12-13T10:31:01.652518Z",
     "shell.execute_reply": "2022-12-13T10:31:01.651816Z",
     "shell.execute_reply.started": "2022-12-13T10:31:01.394310Z"
    }
   },
   "outputs": [],
   "source": [
    "%%R\n",
    "  # We only pass nomarlized data, so store it as such\n",
    "  lobj@norm.data <- lobj@raw.data\n",
    "\n",
    "  # Assign hvgs\n",
    "  lobj = selectGenes(lobj,num.genes = 2000)\n",
    "\n",
    " "
   ]
  },
  {
   "cell_type": "code",
   "execution_count": null,
   "id": "aaaa934e-e823-4fc8-b113-1ba916b475d9",
   "metadata": {
    "execution": {
     "iopub.execute_input": "2022-12-13T10:31:01.654034Z",
     "iopub.status.busy": "2022-12-13T10:31:01.653777Z",
     "iopub.status.idle": "2022-12-13T10:31:03.973715Z",
     "shell.execute_reply": "2022-12-13T10:31:03.972990Z",
     "shell.execute_reply.started": "2022-12-13T10:31:01.654015Z"
    }
   },
   "outputs": [],
   "source": [
    "%%R\n",
    "lobj <- scaleNotCenter(lobj, remove.missing = F) # Can't do our own scaling atm\n"
   ]
  },
  {
   "cell_type": "code",
   "execution_count": null,
   "id": "64d6640c-169f-419f-a9a3-d64c0c88b31d",
   "metadata": {
    "execution": {
     "iopub.execute_input": "2022-12-13T10:31:03.974618Z",
     "iopub.status.busy": "2022-12-13T10:31:03.974462Z",
     "iopub.status.idle": "2022-12-13T10:45:41.912441Z",
     "shell.execute_reply": "2022-12-13T10:45:41.911640Z",
     "shell.execute_reply.started": "2022-12-13T10:31:03.974601Z"
    }
   },
   "outputs": [],
   "source": [
    "%%R\n",
    "\n",
    "lobj <- optimizeALS(lobj, k = 20, thresh = 5e-5, nrep = 3)\n",
    "\n",
    "lobj <- quantileAlignSNF(lobj, resolution = 0.4, small.clust.thresh = small.clust.thresh)\n",
    "\n",
    "# Store embedding in initial Seurat object\n",
    "# Code taken from ligerToSeurat() function from LIGER\n",
    "inmf.obj <- new(\n",
    "Class = \"DimReduc\", feature.loadings = t(lobj@W),\n",
    "cell.embeddings = lobj@H.norm, key = \"X_emb\"\n",
    ")\n",
    "sobj@reductions['X_emb'] <- inmf.obj\n",
    "\n"
   ]
  },
  {
   "cell_type": "code",
   "execution_count": null,
   "id": "f9a5aacc",
   "metadata": {
    "execution": {
     "iopub.execute_input": "2022-12-13T10:45:41.914435Z",
     "iopub.status.busy": "2022-12-13T10:45:41.913952Z",
     "iopub.status.idle": "2022-12-13T10:45:41.919437Z",
     "shell.execute_reply": "2022-12-13T10:45:41.918790Z",
     "shell.execute_reply.started": "2022-12-13T10:45:41.914413Z"
    }
   },
   "outputs": [],
   "source": [
    "end_time = time.time()\n",
    "print('total time taken', end_time-start_time)"
   ]
  },
  {
   "cell_type": "code",
   "execution_count": null,
   "id": "66505463",
   "metadata": {},
   "outputs": [],
   "source": [
    "%%R -i dataset\n",
    "write.csv(lobj@H.norm,paste0(dataset,'.csv'))"
   ]
  },
  {
   "cell_type": "code",
   "execution_count": null,
   "id": "26867933-ff51-415a-9ef8-4a7cd23136aa",
   "metadata": {},
   "outputs": [],
   "source": [
    "import pandas as pd\n",
    "adata = load_data(dataset,batch)\n",
    "adata.obsm['X_emb'] = pd.read_csv(dataset+'.csv',index_col=0).loc[list(adata.obs_names),:].values"
   ]
  },
  {
   "cell_type": "code",
   "execution_count": null,
   "id": "cf9699ed-ae26-4ccc-9271-500c5c279bc2",
   "metadata": {
    "scrolled": true,
    "tags": []
   },
   "outputs": [],
   "source": [
    "import scIB\n",
    "#Trajectory is asking precomputed sudo time point\n",
    "results,ilisi_all,clisi_all,kbet_all = scIB.metrics.metrics(\n",
    "        adata,\n",
    "        adata,\n",
    "        batch_key = batch,\n",
    "        label_key = cell_type,\n",
    "        hvg_score_=False,\n",
    "        cluster_key='cluster',\n",
    "        cluster_nmi=None,\n",
    "        ari_=True,\n",
    "        nmi_=True,\n",
    "        nmi_method='arithmetic',\n",
    "        nmi_dir=None,\n",
    "        silhouette_=True,\n",
    "        embed='X_emb',\n",
    "        si_metric='euclidean',\n",
    "        pcr_=True,\n",
    "        cell_cycle_=False,\n",
    "        organism='mouse',\n",
    "        isolated_labels_=True,  # backwards compatibility\n",
    "        isolated_labels_f1_=True,\n",
    "        isolated_labels_asw_=True,\n",
    "        n_isolated=None,\n",
    "        graph_conn_=True,\n",
    "        kBET_=True,\n",
    "        kBET_sub=0.5,\n",
    "        lisi_graph_=True,\n",
    "        lisi_raw=True,\n",
    "        trajectory_=False,\n",
    "        type_=None,\n",
    "        verbose=False,\n",
    ")"
   ]
  },
  {
   "cell_type": "code",
   "execution_count": null,
   "id": "0233daf1-b3eb-43ca-b7d0-7af88f11c3bb",
   "metadata": {},
   "outputs": [],
   "source": [
    "results"
   ]
  },
  {
   "cell_type": "code",
   "execution_count": null,
   "id": "f648ae71-6a22-47b8-936a-f0cb3ffde7d9",
   "metadata": {},
   "outputs": [],
   "source": [
    "import numpy as np\n",
    "np.savetxt(dataset+\"_ilisi.csv\", ilisi_all, delimiter=\",\")\n",
    "np.savetxt(dataset+\"_clisi.csv\", clisi_all, delimiter=\",\")\n",
    "np.savetxt(dataset+\"_kbet_all.csv\",np.concatenate([np.array(val).reshape(1,-1) for val in kbet_all],axis = 0), delimiter=',')"
   ]
  },
  {
   "cell_type": "code",
   "execution_count": null,
   "id": "17fb46d2-5680-4298-96c6-0705cec35a64",
   "metadata": {},
   "outputs": [],
   "source": [
    "import matplotlib as mpl\n",
    "mpl.rcParams['figure.dpi'] = 300"
   ]
  },
  {
   "cell_type": "code",
   "execution_count": null,
   "id": "29047e09-3b64-4cd7-b808-e2d05d840467",
   "metadata": {},
   "outputs": [],
   "source": [
    "sc.pp.neighbors(adata, use_rep = 'X_emb')  # use_rep = 'final_embeddings'\n",
    "sc.tl.umap(adata)\n",
    "sc.pl.umap(adata, color=cell_type, frameon=False)\n",
    "sc.pl.umap(adata, color=batch, frameon=False)\n",
    "# sc.pl.umap(adata_int, color='cluster', frameon=False)"
   ]
  },
  {
   "cell_type": "code",
   "execution_count": null,
   "id": "ae6a0ca0",
   "metadata": {},
   "outputs": [],
   "source": []
  },
  {
   "cell_type": "code",
   "execution_count": null,
   "id": "2e2804e8",
   "metadata": {
    "scrolled": true,
    "tags": []
   },
   "outputs": [],
   "source": [
    "import scIB\n",
    "#Trajectory is asking precomputed sudo time point\n",
    "results,ilisi_all,clisi_all,kbet_all = scIB.metrics.metrics(\n",
    "        adata,\n",
    "        adata,\n",
    "        batch_key = batch,\n",
    "        label_key = cell_type,\n",
    "        hvg_score_=False,\n",
    "        cluster_key='cluster',\n",
    "        cluster_nmi=None,\n",
    "        ari_=True,\n",
    "        nmi_=False,\n",
    "        nmi_method='arithmetic',\n",
    "        nmi_dir=None,\n",
    "        silhouette_=False,\n",
    "        embed='X_emb',\n",
    "        si_metric='euclidean',\n",
    "        pcr_=False,\n",
    "        cell_cycle_=False,\n",
    "        organism='mouse',\n",
    "        isolated_labels_=False,  # backwards compatibility\n",
    "        isolated_labels_f1_=False,\n",
    "        isolated_labels_asw_=False,\n",
    "        n_isolated=None,\n",
    "        graph_conn_=False,\n",
    "        kBET_=False,\n",
    "        kBET_sub=0.5,\n",
    "        lisi_graph_=False,\n",
    "        lisi_raw=False,\n",
    "        trajectory_=True,\n",
    "        type_=None,\n",
    "        verbose=False,\n",
    ")\n",
    "results"
   ]
  },
  {
   "cell_type": "code",
   "execution_count": null,
   "id": "d5f201e4",
   "metadata": {
    "scrolled": true,
    "tags": []
   },
   "outputs": [],
   "source": [
    "import scIB\n",
    "#Trajectory is asking precomputed sudo time point\n",
    "results,ilisi_all,clisi_all,kbet_all = scIB.metrics.metrics(\n",
    "        adata,\n",
    "        adata,\n",
    "        batch_key = batch,\n",
    "        label_key = cell_type,\n",
    "        hvg_score_=False,\n",
    "        cluster_key='cluster',\n",
    "        cluster_nmi=None,\n",
    "        ari_=True,\n",
    "        nmi_=True,\n",
    "        nmi_method='arithmetic',\n",
    "        nmi_dir=None,\n",
    "        silhouette_=False,\n",
    "        embed='X_emb',\n",
    "        si_metric='euclidean',\n",
    "        pcr_=False,\n",
    "        cell_cycle_=False,\n",
    "        organism='mouse',\n",
    "        isolated_labels_=False,  # backwards compatibility\n",
    "        isolated_labels_f1_=False,\n",
    "        isolated_labels_asw_=False,\n",
    "        n_isolated=None,\n",
    "        graph_conn_=False,\n",
    "        kBET_=False,\n",
    "        kBET_sub=0.5,\n",
    "        lisi_graph_=False,\n",
    "        lisi_raw=False,\n",
    "        trajectory_=False,\n",
    "        type_=None,\n",
    "        verbose=False,\n",
    ")\n",
    "results"
   ]
  },
  {
   "cell_type": "code",
   "execution_count": null,
   "id": "8f7adf5d-bc7e-46c6-86ae-d231a8b172c4",
   "metadata": {},
   "outputs": [],
   "source": [
    "sc.settings.figdir = '/home/krushna/Documents/Data_integration/Figures/Immune_Human/'\n",
    "import matplotlib as mpl\n",
    "mpl.rcParams['figure.dpi'] = 200\n",
    "sc.pp.neighbors(adata, use_rep = 'X_emb')  # use_rep = 'final_embeddings'\n",
    "sc.tl.umap(adata)"
   ]
  },
  {
   "cell_type": "code",
   "execution_count": null,
   "id": "8782994a-6ca1-4551-86d3-a9452f6dd4bf",
   "metadata": {},
   "outputs": [],
   "source": [
    "sc.pl.umap(adata, color=cell_type, frameon=False,save='_liger_'+dataset+\"_cell_type.png\")\n",
    "sc.pl.umap(adata, color=batch, frameon=False,save='_liger_'+dataset+\"_batch.png\")\n",
    "sc.pl.umap(adata, color='cluster', frameon=False,save='_liger_'+dataset+\"_optimal_resolution.png\")"
   ]
  },
  {
   "cell_type": "code",
   "execution_count": null,
   "id": "b71cdb64-0b97-42a0-81c2-340215dedfd7",
   "metadata": {},
   "outputs": [],
   "source": [
    "adata"
   ]
  },
  {
   "cell_type": "code",
   "execution_count": null,
   "id": "c9d97446-c804-48e8-a9a9-1e12706b1c3d",
   "metadata": {},
   "outputs": [],
   "source": [
    "import pandas as pd\n",
    "cluster_cell_type = pd.crosstab(np.array(adata.obs['cluster']),np.array(adata.obs['final_annotation']))\n",
    "cluster_cell_type.index.name = 'cluster'\n",
    "cluster_cell_type"
   ]
  },
  {
   "cell_type": "code",
   "execution_count": null,
   "id": "6511f040-36db-4c1d-87b0-71803f8f5115",
   "metadata": {},
   "outputs": [],
   "source": [
    "li = []\n",
    "for column in cluster_cell_type:\n",
    "    li.append([column,entropy(cluster_cell_type[column])])\n",
    "pd.DataFrame(li)"
   ]
  },
  {
   "cell_type": "code",
   "execution_count": null,
   "id": "5c3f1299-1960-45bb-9d9d-20927866a0be",
   "metadata": {},
   "outputs": [],
   "source": []
  }
 ],
 "metadata": {
  "kernelspec": {
   "display_name": "Python 3 (ipykernel)",
   "language": "python",
   "name": "python3"
  },
  "language_info": {
   "codemirror_mode": {
    "name": "ipython",
    "version": 3
   },
   "file_extension": ".py",
   "mimetype": "text/x-python",
   "name": "python",
   "nbconvert_exporter": "python",
   "pygments_lexer": "ipython3",
   "version": "3.7.11"
  }
 },
 "nbformat": 4,
 "nbformat_minor": 5
}
