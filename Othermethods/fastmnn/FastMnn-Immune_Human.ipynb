{
 "cells": [
  {
   "cell_type": "code",
   "execution_count": null,
   "id": "b0c8be5c-e51c-4097-a2ff-701a6c417641",
   "metadata": {},
   "outputs": [],
   "source": [
    "import scanpy as sc\n",
    "import numpy as np"
   ]
  },
  {
   "cell_type": "code",
   "execution_count": null,
   "id": "56a00561-8688-4e9f-adb3-ada639391319",
   "metadata": {},
   "outputs": [],
   "source": [
    "dir_path = \"/home/krushna/Documents/Data_integration/SCRNA_Datasets/All_h5ad/\"\n",
    "def load_data(dataset,batch):\n",
    "    adata =sc.read_h5ad(dir_path+dataset+'.h5ad')\n",
    "    sc.pp.filter_genes(adata, min_counts=3)\n",
    "    adata.layers[\"counts\"] = adata.X.copy()\n",
    "    sc.pp.normalize_total(adata, target_sum=1e4)\n",
    "    sc.pp.log1p(adata)\n",
    "    adata.raw = adata\n",
    "    sc.pp.highly_variable_genes(\n",
    "            adata,\n",
    "            flavor=\"seurat\",\n",
    "            n_top_genes=2000,\n",
    "            layer=\"counts\",\n",
    "            batch_key=batch,\n",
    "            subset=True\n",
    "    )\n",
    "    return adata\n",
    "    \n",
    "batch_key_dic = {'Immune_Human' : 'batch',\n",
    "                 'Lung' : 'batch',\n",
    "                 'Pancreas' : 'tech',\n",
    "                 'Human_Retina': \"Batch\",\n",
    "                 'Human_Mouse' : 'batch'\n",
    "                }\n",
    "cell_type_key_dic = {'Immune_Human' : 'final_annotation',\n",
    "                 'Lung' : 'cell_type',\n",
    "                 'Pancreas' : 'celltype',\n",
    "                 'Human_Retina': \"Subcluster\",\n",
    "                 'Human_Mouse' : \"celltype\"\n",
    "                    }       "
   ]
  },
  {
   "cell_type": "code",
   "execution_count": null,
   "id": "aca60f23-e214-475e-9397-80c9688176be",
   "metadata": {},
   "outputs": [],
   "source": [
    "import anndata2ri\n",
    "anndata2ri.activate()\n",
    "%load_ext rpy2.ipython"
   ]
  },
  {
   "cell_type": "code",
   "execution_count": null,
   "id": "657e7149-9a4f-4342-91f5-012b2960a108",
   "metadata": {},
   "outputs": [],
   "source": [
    "# running in r manually\n",
    "# %%R\n",
    "# sce <- fastMNN(expr, batch = adata_seu@meta.data[[batch]])"
   ]
  },
  {
   "cell_type": "code",
   "execution_count": null,
   "id": "4d058cb3-2b4f-4e6d-bc96-8db32b29f5f2",
   "metadata": {},
   "outputs": [],
   "source": [
    "dataset = 'Immune_Human'\n",
    "batch = batch_key_dic[dataset]\n",
    "cell_type = cell_type_key_dic[dataset]\n",
    "adata = load_data(dataset,batch)\n",
    "adata_sce = adata.copy()\n",
    "if type(adata_sce.X) != type(np.array([])):\n",
    "    adata_sce.X = adata_sce.X.toarray()\n",
    "    adata_sce.layers['counts'] = adata_sce.layers['counts'].toarray()\n",
    "    # del adata_sce.layers['counts']\n",
    "del adata_sce.uns\n",
    "del adata_sce.var"
   ]
  },
  {
   "cell_type": "code",
   "execution_count": null,
   "id": "69b5f05a-6296-4a77-bb4b-8d4c7aa2948e",
   "metadata": {},
   "outputs": [],
   "source": [
    "%%R -i adata_sce -i batch -i dataset\n",
    "library(Seurat)\n",
    "library(batchelor)\n",
    "adata_seu = as.Seurat(adata_sce, counts = \"counts\", data = \"X\")\n",
    "saveRDS(adata_seu,paste0(dataset,'_fastmnn.rds'))"
   ]
  },
  {
   "cell_type": "code",
   "execution_count": null,
   "id": "293abd77-b2de-4e89-b79c-0678937c1906",
   "metadata": {},
   "outputs": [],
   "source": [
    "dataset = 'Human_Retina'\n",
    "batch = batch_key_dic[dataset]\n",
    "cell_type = cell_type_key_dic[dataset]\n",
    "adata = load_data(dataset,batch)\n",
    "adata_sce = adata.copy()\n",
    "if type(adata_sce.X) != type(np.array([])):\n",
    "    adata_sce.X = adata_sce.X.toarray()\n",
    "    adata_sce.layers['counts'] = adata_sce.layers['counts'].toarray()\n",
    "    # del adata_sce.layers['counts']\n",
    "del adata_sce.uns\n",
    "del adata_sce.var"
   ]
  },
  {
   "cell_type": "code",
   "execution_count": null,
   "id": "2a3f69cf-0cc7-472d-ba1f-66d83c1efc8f",
   "metadata": {},
   "outputs": [],
   "source": [
    "%%R -i adata_sce -i batch -i dataset\n",
    "library(Seurat)\n",
    "library(batchelor)\n",
    "adata_seu = as.Seurat(adata_sce, counts = \"counts\", data = \"X\")\n",
    "saveRDS(adata_seu,paste0(dataset,'_fastmnn.rds'))"
   ]
  },
  {
   "cell_type": "code",
   "execution_count": null,
   "id": "66c113f3-fca0-493f-9292-9ff9c39cdb7d",
   "metadata": {},
   "outputs": [],
   "source": [
    "dataset = 'Human_Mouse'\n",
    "batch = batch_key_dic[dataset]\n",
    "cell_type = cell_type_key_dic[dataset]\n",
    "adata = load_data(dataset,batch)\n",
    "adata_sce = adata.copy()\n",
    "if type(adata_sce.X) != type(np.array([])):\n",
    "    adata_sce.X = adata_sce.X.toarray()\n",
    "    adata_sce.layers['counts'] = adata_sce.layers['counts'].toarray()\n",
    "    # del adata_sce.layers['counts']\n",
    "del adata_sce.uns\n",
    "del adata_sce.var"
   ]
  },
  {
   "cell_type": "code",
   "execution_count": null,
   "id": "f15ff6bd-02a9-45d2-87ca-d124c4dd09bb",
   "metadata": {},
   "outputs": [],
   "source": [
    "%%R -i adata_sce -i batch -i dataset\n",
    "library(Seurat)\n",
    "library(batchelor)\n",
    "adata_seu = as.Seurat(adata_sce, counts = \"counts\", data = \"X\")\n",
    "saveRDS(adata_seu,paste0(dataset,'_fastmnn.rds'))"
   ]
  },
  {
   "cell_type": "code",
   "execution_count": null,
   "id": "630d0ec8-ee75-44c7-b898-2a384cd92667",
   "metadata": {},
   "outputs": [],
   "source": []
  },
  {
   "cell_type": "code",
   "execution_count": null,
   "id": "f23c9fcd-e772-479e-a066-1dd9bbfaa4c0",
   "metadata": {},
   "outputs": [],
   "source": []
  },
  {
   "cell_type": "code",
   "execution_count": null,
   "id": "365a8a78-ccf9-428b-8d51-868c74e8f579",
   "metadata": {},
   "outputs": [],
   "source": [
    "dataset = 'Immune_Human'\n",
    "batch = batch_key_dic[dataset]\n",
    "cell_type = cell_type_key_dic[dataset]\n",
    "adata = load_data(dataset,batch)\n",
    "adata_int = sc.read_h5ad(\"Immune_Human.h5ad\")"
   ]
  },
  {
   "cell_type": "code",
   "execution_count": null,
   "id": "ce0f4d21-d949-430b-b778-8f8992419f29",
   "metadata": {
    "scrolled": true,
    "tags": []
   },
   "outputs": [],
   "source": [
    "import scIB\n",
    "#Trajectory is asking precomputed sudo time point\n",
    "results,ilisi_all,clisi_all,kbet_all  =   scIB.metrics.metrics(\n",
    "        adata,\n",
    "        adata_int,\n",
    "        batch_key = batch,\n",
    "        label_key = cell_type,\n",
    "        hvg_score_=False,\n",
    "        cluster_key='cluster',\n",
    "        cluster_nmi=None,\n",
    "        ari_=True,\n",
    "        nmi_=True,\n",
    "        nmi_method='arithmetic',\n",
    "        nmi_dir=None,\n",
    "        silhouette_=True,\n",
    "        embed= 'X_pca',\n",
    "        si_metric='euclidean',\n",
    "        pcr_=True,\n",
    "        cell_cycle_=False,\n",
    "        organism='mouse',\n",
    "        isolated_labels_=True,  # backwards compatibility\n",
    "        isolated_labels_f1_=False,\n",
    "        isolated_labels_asw_=False,\n",
    "        n_isolated=None,\n",
    "        graph_conn_=True,\n",
    "        kBET_=True,\n",
    "        kBET_sub=0.5,\n",
    "        lisi_graph_=True,\n",
    "        lisi_raw=True,\n",
    "        trajectory_=False,\n",
    "        type_=None,\n",
    "        verbose=False,\n",
    ")"
   ]
  },
  {
   "cell_type": "code",
   "execution_count": null,
   "id": "45a93e7b-9f6d-4de0-ba7f-4e053c663dfd",
   "metadata": {},
   "outputs": [],
   "source": [
    "results"
   ]
  },
  {
   "cell_type": "code",
   "execution_count": null,
   "id": "1e1037ad-7b34-4a48-93ff-68c5a00edaa3",
   "metadata": {},
   "outputs": [],
   "source": [
    "import numpy as np\n",
    "np.savetxt(dataset+\"_ilisi.csv\", ilisi_all, delimiter=\",\")\n",
    "np.savetxt(dataset+\"_clisi.csv\", clisi_all, delimiter=\",\")\n",
    "np.savetxt(dataset+\"_kbet_all.csv\",np.concatenate([np.array(val).reshape(1,-1) for val in kbet_all],axis = 0), delimiter=',')"
   ]
  },
  {
   "cell_type": "code",
   "execution_count": null,
   "id": "2c04e2d3-4ba4-44d4-9a85-16e347c3b542",
   "metadata": {},
   "outputs": [],
   "source": [
    "import matplotlib as mpl\n",
    "mpl.rcParams['figure.dpi'] = 300"
   ]
  },
  {
   "cell_type": "code",
   "execution_count": null,
   "id": "93771c16-2e51-4de8-88ca-f51c58265460",
   "metadata": {},
   "outputs": [],
   "source": [
    "sc.pp.neighbors(adata_int)  # use_rep = 'final_embeddings'\n",
    "sc.tl.umap(adata_int)\n",
    "sc.pl.umap(adata_int, color=cell_type, frameon=False)\n",
    "sc.pl.umap(adata_int, color=batch, frameon=False)\n",
    "sc.pl.umap(adata_int, color='cluster', frameon=False)"
   ]
  },
  {
   "cell_type": "code",
   "execution_count": null,
   "id": "8a5ac7af-9386-45fe-ad20-e582e43c70e0",
   "metadata": {},
   "outputs": [],
   "source": []
  },
  {
   "cell_type": "code",
   "execution_count": null,
   "id": "7473908e-db4b-4ab2-8040-a3acc6d19055",
   "metadata": {},
   "outputs": [],
   "source": []
  },
  {
   "cell_type": "code",
   "execution_count": null,
   "id": "753742ee-55f8-4a27-a5a0-9990cfb2a066",
   "metadata": {},
   "outputs": [],
   "source": [
    "import scIB\n",
    "#Trajectory is asking precomputed sudo time point\n",
    "results,ilisi_all,clisi_all,kbet_all  =   scIB.metrics.metrics(\n",
    "        adata,\n",
    "        adata_int,\n",
    "        batch_key = batch,\n",
    "        label_key = cell_type,\n",
    "        hvg_score_=False,\n",
    "        cluster_key='cluster',\n",
    "        cluster_nmi=None,\n",
    "        ari_=True,\n",
    "        nmi_=False,\n",
    "        nmi_method='arithmetic',\n",
    "        nmi_dir=None,\n",
    "        silhouette_=False,\n",
    "        embed= 'X_pca',\n",
    "        si_metric='euclidean',\n",
    "        pcr_=False,\n",
    "        cell_cycle_=False,\n",
    "        organism='mouse',\n",
    "        isolated_labels_=False,  # backwards compatibility\n",
    "        isolated_labels_f1_=False,\n",
    "        isolated_labels_asw_=False,\n",
    "        n_isolated=None,\n",
    "        graph_conn_=False,\n",
    "        kBET_=False,\n",
    "        kBET_sub=0.5,\n",
    "        lisi_graph_=False,\n",
    "        lisi_raw=False,\n",
    "        trajectory_=True,\n",
    "        type_=None,\n",
    "        verbose=False,\n",
    ")\n",
    "results"
   ]
  },
  {
   "cell_type": "code",
   "execution_count": null,
   "id": "ae92c258-51de-41d4-bf27-b39bdcfba3a9",
   "metadata": {},
   "outputs": [],
   "source": []
  },
  {
   "cell_type": "code",
   "execution_count": null,
   "id": "44769892-9c68-4c7e-b144-3c80ea1e404f",
   "metadata": {},
   "outputs": [],
   "source": [
    "import scIB\n",
    "#Trajectory is asking precomputed sudo time point\n",
    "results,ilisi_all,clisi_all,kbet_all  =   scIB.metrics.metrics(\n",
    "        adata,\n",
    "        adata_int,\n",
    "        batch_key = batch,\n",
    "        label_key = cell_type,\n",
    "        hvg_score_=False,\n",
    "        cluster_key='cluster',\n",
    "        cluster_nmi=None,\n",
    "        ari_=True,\n",
    "        nmi_=True,\n",
    "        nmi_method='arithmetic',\n",
    "        nmi_dir=None,\n",
    "        silhouette_=False,\n",
    "        embed= 'X_pca',\n",
    "        si_metric='euclidean',\n",
    "        pcr_=False,\n",
    "        cell_cycle_=False,\n",
    "        organism='mouse',\n",
    "        isolated_labels_=False,  # backwards compatibility\n",
    "        isolated_labels_f1_=False,\n",
    "        isolated_labels_asw_=False,\n",
    "        n_isolated=None,\n",
    "        graph_conn_=False,\n",
    "        kBET_=False,\n",
    "        kBET_sub=0.5,\n",
    "        lisi_graph_=False,\n",
    "        lisi_raw=False,\n",
    "        trajectory_=False,\n",
    "        type_=None,\n",
    "        verbose=False,\n",
    ")\n",
    "results"
   ]
  },
  {
   "cell_type": "code",
   "execution_count": null,
   "id": "c7b74ad5-b29a-4689-aa4e-65fd76ca446c",
   "metadata": {},
   "outputs": [],
   "source": [
    "sc.settings.figdir = '/home/krushna/Documents/Data_integration/Figures/Immune_Human/'\n",
    "import matplotlib as mpl\n",
    "mpl.rcParams['figure.dpi'] = 200\n",
    "sc.pp.neighbors(adata_int)  # use_rep = 'final_embeddings'\n",
    "sc.tl.umap(adata_int)"
   ]
  },
  {
   "cell_type": "code",
   "execution_count": null,
   "id": "28376caf-85c8-4f67-9f12-c9cdab566acd",
   "metadata": {},
   "outputs": [],
   "source": [
    "sc.pl.umap(adata_int, color=cell_type, frameon=False, save='_fastmnn_'+dataset+\"_cell_type.png\")\n",
    "sc.pl.umap(adata_int, color=batch,  frameon=False,save='_fastmnn_'+dataset+\"_batch.png\")\n",
    "sc.pl.umap(adata_int, color='cluster',  frameon=False,save='_fastmnn_'+dataset+\"_optimal_resolution.png\")"
   ]
  },
  {
   "cell_type": "code",
   "execution_count": null,
   "id": "d0d78c0d-7257-4988-9103-fbe6149864ac",
   "metadata": {},
   "outputs": [],
   "source": []
  },
  {
   "cell_type": "code",
   "execution_count": null,
   "id": "aff1a837-3ca0-4780-bd6f-2344ba8ab0e3",
   "metadata": {},
   "outputs": [],
   "source": [
    "import pandas as pd\n",
    "import numpy as np\n",
    "cluster_cell_type = pd.crosstab(np.array(adata_int.obs['cluster']),np.array(adata_int.obs['final_annotation']))\n",
    "cluster_cell_type.index.name = 'cluster'\n",
    "cluster_cell_type"
   ]
  },
  {
   "cell_type": "code",
   "execution_count": null,
   "id": "013b381c-ab35-4a39-b623-a0d822e4fe97",
   "metadata": {},
   "outputs": [],
   "source": [
    "li = []\n",
    "for column in cluster_cell_type:\n",
    "    li.append([column,entropy(cluster_cell_type[column])])\n",
    "pd.DataFrame(li)"
   ]
  },
  {
   "cell_type": "code",
   "execution_count": null,
   "id": "371431ff-78d8-491f-a7fd-da904d7980a6",
   "metadata": {},
   "outputs": [],
   "source": []
  }
 ],
 "metadata": {
  "kernelspec": {
   "display_name": "Python 3 (ipykernel)",
   "language": "python",
   "name": "python3"
  },
  "language_info": {
   "codemirror_mode": {
    "name": "ipython",
    "version": 3
   },
   "file_extension": ".py",
   "mimetype": "text/x-python",
   "name": "python",
   "nbconvert_exporter": "python",
   "pygments_lexer": "ipython3",
   "version": "3.7.11"
  }
 },
 "nbformat": 4,
 "nbformat_minor": 5
}
