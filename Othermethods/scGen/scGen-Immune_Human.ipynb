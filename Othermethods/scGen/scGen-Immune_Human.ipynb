{
 "cells": [
  {
   "cell_type": "code",
   "execution_count": null,
   "id": "5adb11e1",
   "metadata": {
    "execution": {
     "iopub.execute_input": "2022-12-13T12:03:05.546762Z",
     "iopub.status.busy": "2022-12-13T12:03:05.545913Z",
     "iopub.status.idle": "2022-12-13T12:03:08.004628Z",
     "shell.execute_reply": "2022-12-13T12:03:08.003623Z",
     "shell.execute_reply.started": "2022-12-13T12:03:05.546588Z"
    }
   },
   "outputs": [],
   "source": [
    "import scvi\n",
    "import scanpy as sc\n",
    "import numpy as np\n",
    "import scgen"
   ]
  },
  {
   "cell_type": "code",
   "execution_count": null,
   "id": "3bde40a0",
   "metadata": {
    "execution": {
     "iopub.execute_input": "2022-12-13T12:03:08.006205Z",
     "iopub.status.busy": "2022-12-13T12:03:08.005887Z",
     "iopub.status.idle": "2022-12-13T12:03:08.013184Z",
     "shell.execute_reply": "2022-12-13T12:03:08.012411Z",
     "shell.execute_reply.started": "2022-12-13T12:03:08.006186Z"
    }
   },
   "outputs": [],
   "source": [
    "dir_path = \"/home/krushna/Documents/Data_integration/SCRNA_Datasets/All_h5ad/\"\n",
    "def load_data(dataset,batch):\n",
    "    adata =sc.read_h5ad(dir_path+dataset+'.h5ad')\n",
    "    sc.pp.filter_genes(adata, min_counts=3)\n",
    "    adata.layers[\"counts\"] = adata.X.copy()\n",
    "    sc.pp.normalize_total(adata, target_sum=1e4)\n",
    "    sc.pp.log1p(adata)\n",
    "    adata.raw = adata\n",
    "    sc.pp.highly_variable_genes(\n",
    "            adata,\n",
    "            flavor=\"seurat\",\n",
    "            n_top_genes=2000,\n",
    "            layer=\"counts\",\n",
    "            batch_key=batch,\n",
    "            subset=True\n",
    "    )\n",
    "\n",
    "    return adata\n",
    "    \n",
    "batch_key_dic = {'Immune_Human' : 'batch',\n",
    "                 'Immune_human_mouse' : 'batch',\n",
    "                 'Lung' : 'batch',\n",
    "                 'Mouse_brain' : 'batch',\n",
    "                 'Pancreas' : 'tech',\n",
    "                 'Simulation1' : 'Batch',\n",
    "                 'Simulation2' : 'Batch',\n",
    "                 'Human_Mouse' : 'batch',\n",
    "                 'Human_Retina': \"Batch\"}\n",
    "cell_type_key_dic = {'Immune_Human' : 'final_annotation',\n",
    "                 'Immune_human_mouse' : 'final_annotation',\n",
    "                 'Lung' : 'cell_type',\n",
    "                 'Mouse_brain' : 'cell_type',\n",
    "                 'Pancreas' : 'celltype',\n",
    "                 'Simulation1' : 'Group',\n",
    "                 'Simulation2' : 'Group',\n",
    "                 'Human_Mouse' : \"celltype\",\n",
    "                 \"Human_Retina\":\"Subcluster\"}  "
   ]
  },
  {
   "cell_type": "code",
   "execution_count": null,
   "id": "10f69035",
   "metadata": {
    "execution": {
     "iopub.execute_input": "2022-12-13T12:03:08.014209Z",
     "iopub.status.busy": "2022-12-13T12:03:08.013971Z",
     "iopub.status.idle": "2022-12-13T12:03:08.017563Z",
     "shell.execute_reply": "2022-12-13T12:03:08.016905Z",
     "shell.execute_reply.started": "2022-12-13T12:03:08.014189Z"
    }
   },
   "outputs": [],
   "source": [
    "dataset = 'Immune_Human'\n",
    "batch = batch_key_dic[dataset]\n",
    "cell_type = cell_type_key_dic[dataset]"
   ]
  },
  {
   "cell_type": "code",
   "execution_count": null,
   "id": "d5618640-515f-4d56-b63c-6ef9ceec9776",
   "metadata": {
    "execution": {
     "iopub.execute_input": "2022-12-13T12:03:34.078225Z",
     "iopub.status.busy": "2022-12-13T12:03:34.077545Z",
     "iopub.status.idle": "2022-12-13T12:03:58.333952Z",
     "shell.execute_reply": "2022-12-13T12:03:58.332881Z",
     "shell.execute_reply.started": "2022-12-13T12:03:34.078167Z"
    }
   },
   "outputs": [],
   "source": [
    "adata = load_data(dataset,batch)"
   ]
  },
  {
   "cell_type": "code",
   "execution_count": null,
   "id": "b6ed8bd8-4660-46d9-b4cb-dba3e272c23a",
   "metadata": {
    "execution": {
     "iopub.execute_input": "2022-12-13T12:03:58.335703Z",
     "iopub.status.busy": "2022-12-13T12:03:58.335331Z",
     "iopub.status.idle": "2022-12-13T12:03:58.340159Z",
     "shell.execute_reply": "2022-12-13T12:03:58.339050Z",
     "shell.execute_reply.started": "2022-12-13T12:03:58.335684Z"
    }
   },
   "outputs": [],
   "source": [
    "import time\n",
    "start_time = time.time()"
   ]
  },
  {
   "cell_type": "code",
   "execution_count": null,
   "id": "ef5c58ea-2ed8-4601-9dc1-8b25d349e640",
   "metadata": {
    "execution": {
     "iopub.execute_input": "2022-12-13T12:03:58.341358Z",
     "iopub.status.busy": "2022-12-13T12:03:58.341109Z",
     "iopub.status.idle": "2022-12-13T12:03:58.348839Z",
     "shell.execute_reply": "2022-12-13T12:03:58.348261Z",
     "shell.execute_reply.started": "2022-12-13T12:03:58.341334Z"
    }
   },
   "outputs": [],
   "source": [
    "train = adata\n",
    "scgen.SCGEN.setup_anndata(train, batch_key=batch, labels_key=cell_type)"
   ]
  },
  {
   "cell_type": "code",
   "execution_count": null,
   "id": "835e4648-26b0-4301-a794-78a388eda8d9",
   "metadata": {
    "execution": {
     "iopub.execute_input": "2022-12-13T12:03:58.350247Z",
     "iopub.status.busy": "2022-12-13T12:03:58.349989Z",
     "iopub.status.idle": "2022-12-13T12:03:58.379585Z",
     "shell.execute_reply": "2022-12-13T12:03:58.379017Z",
     "shell.execute_reply.started": "2022-12-13T12:03:58.350229Z"
    }
   },
   "outputs": [],
   "source": [
    "model = scgen.SCGEN(train)"
   ]
  },
  {
   "cell_type": "code",
   "execution_count": null,
   "id": "db478711-1c23-4110-bd60-97a137c16c76",
   "metadata": {
    "execution": {
     "iopub.execute_input": "2022-12-13T12:03:58.380648Z",
     "iopub.status.busy": "2022-12-13T12:03:58.380367Z",
     "iopub.status.idle": "2022-12-13T12:08:10.932851Z",
     "shell.execute_reply": "2022-12-13T12:08:10.931814Z",
     "shell.execute_reply.started": "2022-12-13T12:03:58.380632Z"
    }
   },
   "outputs": [],
   "source": [
    "model.train(\n",
    "    max_epochs=100,\n",
    "    batch_size=32,\n",
    "    early_stopping=True,\n",
    "    early_stopping_patience=25,\n",
    ")"
   ]
  },
  {
   "cell_type": "code",
   "execution_count": null,
   "id": "6c5a15cc-d0be-4a11-9ef3-1a772910741c",
   "metadata": {
    "execution": {
     "iopub.execute_input": "2022-12-13T12:08:10.934594Z",
     "iopub.status.busy": "2022-12-13T12:08:10.934031Z",
     "iopub.status.idle": "2022-12-13T12:08:13.601247Z",
     "shell.execute_reply": "2022-12-13T12:08:13.600304Z",
     "shell.execute_reply.started": "2022-12-13T12:08:10.934574Z"
    }
   },
   "outputs": [],
   "source": [
    "adata_int = model.batch_removal()\n",
    "adata_int"
   ]
  },
  {
   "cell_type": "code",
   "execution_count": null,
   "id": "2ba70f3f-188c-4994-a445-7da966ae6bb2",
   "metadata": {
    "execution": {
     "iopub.execute_input": "2022-12-13T12:08:13.602949Z",
     "iopub.status.busy": "2022-12-13T12:08:13.602648Z",
     "iopub.status.idle": "2022-12-13T12:08:13.608254Z",
     "shell.execute_reply": "2022-12-13T12:08:13.607300Z",
     "shell.execute_reply.started": "2022-12-13T12:08:13.602930Z"
    }
   },
   "outputs": [],
   "source": [
    "end_time = time.time()\n",
    "print('total time taken:', end_time-start_time)"
   ]
  },
  {
   "cell_type": "code",
   "execution_count": null,
   "id": "0cc43f72-1b99-428c-a809-cbc76f05b2a3",
   "metadata": {},
   "outputs": [],
   "source": [
    "adata_int.write('scGen-Immune_Human.h5ad')"
   ]
  },
  {
   "cell_type": "code",
   "execution_count": null,
   "id": "922ddd85-c00a-4349-afd4-79d0e19c85ac",
   "metadata": {},
   "outputs": [],
   "source": [
    "adata_int = sc.read_h5ad(\"scGen-Immune_Human.h5ad\")"
   ]
  },
  {
   "cell_type": "code",
   "execution_count": null,
   "id": "156a94ba",
   "metadata": {},
   "outputs": [],
   "source": [
    "import scIB\n",
    "#Trajectory is asking precomputed sudo time point\n",
    "results,ilisi_all,clisi_all,kbet_all  =   scIB.metrics.metrics(\n",
    "        adata,\n",
    "        adata_int,\n",
    "        batch_key = batch,\n",
    "        label_key = cell_type,\n",
    "        hvg_score_=False,\n",
    "        cluster_key='cluster',\n",
    "        cluster_nmi=None,\n",
    "        ari_=True,\n",
    "        nmi_=True,\n",
    "        nmi_method='arithmetic',\n",
    "        nmi_dir=None,\n",
    "        silhouette_=True,\n",
    "        embed= 'X_pca',\n",
    "        si_metric='euclidean',\n",
    "        pcr_=True,\n",
    "        cell_cycle_=False,\n",
    "        organism='mouse',\n",
    "        isolated_labels_=True,  # backwards compatibility\n",
    "        isolated_labels_f1_=False,\n",
    "        isolated_labels_asw_=False,\n",
    "        n_isolated=None,\n",
    "        graph_conn_=True,\n",
    "        kBET_=True,\n",
    "        kBET_sub=0.5,\n",
    "        lisi_graph_=True,\n",
    "        lisi_raw=True,\n",
    "        trajectory_=False,\n",
    "        type_=None,\n",
    "        verbose=False,\n",
    ")"
   ]
  },
  {
   "cell_type": "code",
   "execution_count": null,
   "id": "3e1ea281-6432-475a-95f0-d0bc9c6e0b2d",
   "metadata": {},
   "outputs": [],
   "source": [
    "results"
   ]
  },
  {
   "cell_type": "code",
   "execution_count": null,
   "id": "2996bdb6-1238-43d0-a7b5-8ff66735f146",
   "metadata": {},
   "outputs": [],
   "source": [
    "import numpy as np\n",
    "np.savetxt(dataset+\"_ilisi.csv\", ilisi_all, delimiter=\",\")\n",
    "np.savetxt(dataset+\"_clisi.csv\", clisi_all, delimiter=\",\")\n",
    "np.savetxt(dataset+\"_kbet_all.csv\",np.concatenate([np.array(val).reshape(1,-1) for val in kbet_all],axis = 0), delimiter=',')"
   ]
  },
  {
   "cell_type": "code",
   "execution_count": null,
   "id": "b5bea771-7d8c-4460-b192-79d305dc4ea4",
   "metadata": {},
   "outputs": [],
   "source": [
    "import matplotlib as mpl\n",
    "mpl.rcParams['figure.dpi'] = 300"
   ]
  },
  {
   "cell_type": "code",
   "execution_count": null,
   "id": "9358792e",
   "metadata": {},
   "outputs": [],
   "source": [
    "sc.pp.neighbors(adata_int)  # use_rep = 'final_embeddings'\n",
    "sc.tl.umap(adata_int)\n",
    "sc.pl.umap(adata_int, color=cell_type, frameon=False)\n",
    "sc.pl.umap(adata_int, color=batch, frameon=False)\n",
    "sc.pl.umap(adata_int, color='cluster', frameon=False)"
   ]
  },
  {
   "cell_type": "code",
   "execution_count": null,
   "id": "7e57ab9c",
   "metadata": {},
   "outputs": [],
   "source": []
  },
  {
   "cell_type": "code",
   "execution_count": null,
   "id": "3d8c390e-c2fb-46f1-8a36-a59ca7b6c63f",
   "metadata": {},
   "outputs": [],
   "source": [
    "import scIB\n",
    "#Trajectory is asking precomputed sudo time point\n",
    "results,ilisi_all,clisi_all,kbet_all  =   scIB.metrics.metrics(\n",
    "        adata,\n",
    "        adata_int,\n",
    "        batch_key = batch,\n",
    "        label_key = cell_type,\n",
    "        hvg_score_=False,\n",
    "        cluster_key='cluster',\n",
    "        cluster_nmi=None,\n",
    "        ari_=True,\n",
    "        nmi_=False,\n",
    "        nmi_method='arithmetic',\n",
    "        nmi_dir=None,\n",
    "        silhouette_=False,\n",
    "        embed= 'X_pca',\n",
    "        si_metric='euclidean',\n",
    "        pcr_=False,\n",
    "        cell_cycle_=False,\n",
    "        organism='mouse',\n",
    "        isolated_labels_=False,  # backwards compatibility\n",
    "        isolated_labels_f1_=False,\n",
    "        isolated_labels_asw_=False,\n",
    "        n_isolated=None,\n",
    "        graph_conn_=False,\n",
    "        kBET_=False,\n",
    "        kBET_sub=0.5,\n",
    "        lisi_graph_=False,\n",
    "        lisi_raw=False,\n",
    "        trajectory_=True,\n",
    "        type_=None,\n",
    "        verbose=False,\n",
    ")\n",
    "results"
   ]
  },
  {
   "cell_type": "code",
   "execution_count": null,
   "id": "acb4d101-e1b1-4e6e-8aa4-a269a84ad2a4",
   "metadata": {},
   "outputs": [],
   "source": []
  }
 ],
 "metadata": {
  "kernelspec": {
   "display_name": "Python 3 (ipykernel)",
   "language": "python",
   "name": "python3"
  },
  "language_info": {
   "codemirror_mode": {
    "name": "ipython",
    "version": 3
   },
   "file_extension": ".py",
   "mimetype": "text/x-python",
   "name": "python",
   "nbconvert_exporter": "python",
   "pygments_lexer": "ipython3",
   "version": "3.7.13"
  }
 },
 "nbformat": 4,
 "nbformat_minor": 5
}
