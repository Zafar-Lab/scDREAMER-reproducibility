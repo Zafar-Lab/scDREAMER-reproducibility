{
 "cells": [
  {
   "cell_type": "code",
   "execution_count": null,
   "id": "845f9075-a77b-455f-965d-0fd90faf3bdc",
   "metadata": {},
   "outputs": [],
   "source": [
    "import os\n",
    "import numpy as np\n",
    "import scipy.sparse\n",
    "import scipy.io\n",
    "from sklearn.metrics.cluster import normalized_mutual_info_score as nmi\n",
    "from sklearn.cluster import KMeans\n",
    "from sklearn.mixture import GaussianMixture\n",
    "from scipy import stats \n",
    "from scipy import * \n",
    "import numpy as np\n",
    "import scanpy as sc\n",
    "import pandas as pd"
   ]
  },
  {
   "cell_type": "code",
   "execution_count": null,
   "id": "1f245067-757a-4937-9a14-3e18a98ac781",
   "metadata": {},
   "outputs": [],
   "source": [
    "dir_path = \"/home/krushna/Documents/Data_integration/SCRNA_Datasets/All_h5ad/\"\n",
    "def load_data(dataset,batch):\n",
    "    adata =sc.read_h5ad(dir_path+dataset+'.h5ad')\n",
    "    # sc.pp.filter_genes(adata, min_counts=3)\n",
    "    # adata.layers[\"counts\"] = adata.X.copy()\n",
    "    # sc.pp.normalize_total(adata, target_sum=1e4)\n",
    "    # sc.pp.log1p(adata)\n",
    "    # adata.raw = adata\n",
    "    return adata\n",
    "batch_key_dic = {'Immune_Human' : 'batch',\n",
    "                 'Lung' : 'batch',\n",
    "                 'Pancreas' : 'tech',\n",
    "                 'Human_Mouse' : 'batch',\n",
    "                 'Human_Retina': \"Batch\"\n",
    "                 \n",
    "                }\n",
    "cell_type_key_dic = {'Immune_Human' : 'final_annotation',\n",
    "                 'Lung' : 'cell_type',\n",
    "                 'Pancreas' : 'celltype',\n",
    "                 'Human_Mouse' : \"celltype\",\n",
    "                 \"Human_Retina\":\"Subcluster\"\n",
    "                    }  \n",
    "our_method_emb_dic = {'Immune_Human' : 'Immune_Human_case2_latent_matrix_c_250',\n",
    "                 'Lung' : 'Lung_case2_latent_matrix_c_300',\n",
    "                 'Pancreas' : 'Pancreas_case2_latent_matrix_c_250',\n",
    "                 'Human_Retina': \"retina_case2_latent_matrix_c_300\",\n",
    "                 'Human_Mouse' : \"Human_Mouse_latent_matrix_c400\",\n",
    "                } \n",
    "emb_folder = \"/home/krushna/Documents/Data_integration/Ajita_embeddings/checking_other_cases/final/\""
   ]
  },
  {
   "cell_type": "markdown",
   "id": "b091f4b0-f402-4902-af6f-96e737f158e1",
   "metadata": {},
   "source": [
    "# scDREAMER"
   ]
  },
  {
   "cell_type": "code",
   "execution_count": null,
   "id": "c8538948-8992-4519-a88c-5b461739e709",
   "metadata": {},
   "outputs": [],
   "source": [
    "dataset = 'Human_Mouse'\n",
    "batch = batch_key_dic[dataset]\n",
    "cell_type = cell_type_key_dic[dataset]\n",
    "adata = load_data(dataset,batch)"
   ]
  },
  {
   "cell_type": "code",
   "execution_count": null,
   "id": "88d52818-7091-49c8-9e34-77ad0979e352",
   "metadata": {},
   "outputs": [],
   "source": [
    "import matplotlib as mpl\n",
    "mpl.rcParams['figure.dpi'] = 300"
   ]
  },
  {
   "cell_type": "code",
   "execution_count": null,
   "id": "af9a9d2f-d4eb-408c-9411-cfb17b87098f",
   "metadata": {},
   "outputs": [],
   "source": [
    "sc.pp.neighbors(adata)  # use_rep = 'final_embeddings'\n",
    "sc.tl.umap(adata)\n",
    "sc.pl.umap(adata, color=cell_type, frameon=False)"
   ]
  },
  {
   "cell_type": "code",
   "execution_count": null,
   "id": "e38c1f6c-b9fe-4209-9522-603edaa11da2",
   "metadata": {},
   "outputs": [],
   "source": [
    "sc.pl.umap(adata, color=batch, frameon=False)"
   ]
  },
  {
   "cell_type": "code",
   "execution_count": null,
   "id": "a8e58ab5-638b-4fe7-ab97-9456389c08b7",
   "metadata": {},
   "outputs": [],
   "source": []
  }
 ],
 "metadata": {
  "kernelspec": {
   "display_name": "Python 3 (ipykernel)",
   "language": "python",
   "name": "python3"
  },
  "language_info": {
   "codemirror_mode": {
    "name": "ipython",
    "version": 3
   },
   "file_extension": ".py",
   "mimetype": "text/x-python",
   "name": "python",
   "nbconvert_exporter": "python",
   "pygments_lexer": "ipython3",
   "version": "3.7.11"
  }
 },
 "nbformat": 4,
 "nbformat_minor": 5
}
