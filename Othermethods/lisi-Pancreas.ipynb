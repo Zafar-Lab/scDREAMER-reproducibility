{
 "cells": [
  {
   "cell_type": "code",
   "execution_count": null,
   "id": "d9815bd7",
   "metadata": {},
   "outputs": [],
   "source": [
    "dataset = \"Pancreas\"\n",
    "All_h5ad = \"/home/krushna/Documents/Data_integration/SCRNA_Datasets/All_h5ad/\""
   ]
  },
  {
   "cell_type": "code",
   "execution_count": null,
   "id": "5fa7448c",
   "metadata": {},
   "outputs": [],
   "source": [
    "our_method_emb_dic = {'Immune_Human' : 'Immune_latent_matrix_1510_200',\n",
    "                 'Lung' : 'Lung_latent_matrix_1510_250',\n",
    "                 'Pancreas' : 'Pancreas_latent_matrix_1510_200',\n",
    "                 'Tabula_Muris' : \"Tabular_latent_matrix_0112_c300\",\n",
    "                 'Human_Mouse' : 'Human_Mouse_latent_matrix_c200',\n",
    "                 'Human_Retina': \"Human_Retinalatent_matrix_c250\"    \n",
    "}   \n",
    "\n",
    "insct_emb_dic = {'Immune_Human' : 'Immune_tnn_embeddings_1510',\n",
    "             'Lung' : 'Lung_tnn_embeddings_1510',\n",
    "             'Pancreas' : 'Pancreas_tnn_embeddings_1510',\n",
    "             'Tabula_Muris' : \"tabular_muris_tnn_embeddings_0211\",\n",
    "             'Human_Mouse' : '',\n",
    "             'Human_Retina': \"\"    \n",
    "}   \n",
    "  \n",
    "batch_key_dic = {'Immune_Human' : 'batch',\n",
    "                 'Lung' : 'batch',\n",
    "                 'Pancreas' : 'tech',\n",
    "                 'Tabula_Muris' : \"batch\",\n",
    "                 'Human_Mouse' : 'batch',\n",
    "                 'Human_Retina': \"Batch\"\n",
    "                }\n",
    "cell_type_key_dic = {'Immune_Human' : 'final_annotation',\n",
    "                 'Lung' : 'cell_type',\n",
    "                 'Pancreas' : 'celltype',\n",
    "                 \"Tabula_Muris\" : \"cell_ontology_class\",\n",
    "                 'Human_Mouse' : \"celltype\",\n",
    "                 \"Human_Retina\":\"Subcluster\"\n",
    "                    } \n",
    "insct_emb  = insct_emb_dic[dataset]\n",
    "our_method_emb = our_method_emb_dic[dataset]\n",
    "batch_key = batch_key_dic[dataset]\n",
    "cell_type_key = cell_type_key_dic[dataset]\n",
    "paths = {\n",
    "    'scanorama' : \"scanorama/scanorama-\"+dataset+\".h5ad\", #adata\n",
    "    'scvi' : \"scvi/scvi-\"+dataset+\".h5ad\", #adata\n",
    "    'harmony' : \"harmony/harmony-\"+dataset+\".h5ad\", #adata\n",
    "    'seurat' : \"seurat/seurat-\"+dataset+\".h5ad\",\n",
    "    'bbknn' : \"bbknn/bbknn-\"+dataset+'.h5ad',\n",
    "    'our_method' : \"/home/krushna/Documents/Data_integration/Ajita_embeddings/non zero kl/\" + our_method_emb +'.csv',\n",
    "    'insct' : \"/home/krushna/Documents/Data_integration/Ajita_embeddings/non zero kl/\" + insct_emb +'.csv'\n",
    "}\n",
    "\n"
   ]
  },
  {
   "cell_type": "code",
   "execution_count": null,
   "id": "05729c42",
   "metadata": {},
   "outputs": [],
   "source": [
    "import scanpy as sc\n",
    "import numpy as np"
   ]
  },
  {
   "cell_type": "markdown",
   "id": "a9ea61e2",
   "metadata": {},
   "source": [
    "# scvi"
   ]
  },
  {
   "cell_type": "code",
   "execution_count": null,
   "id": "10a2a7bb",
   "metadata": {},
   "outputs": [],
   "source": [
    "# sys.path.append('/home/krushna/Documents/Data_integration/Othermethods/bbknn')\n",
    "import scIB # import kBET\n",
    "\n",
    "adata =sc.read_h5ad(paths['scvi'])\n",
    "sc.pp.neighbors(adata, use_rep='X_scVI') \n"
   ]
  },
  {
   "cell_type": "code",
   "execution_count": null,
   "id": "85a7415e",
   "metadata": {
    "scrolled": true,
    "tags": []
   },
   "outputs": [],
   "source": [
    "#Trajectory is asking precomputed sudo time point\n",
    "results,ilisi_all,clisi_all,kbet_all = scIB.metrics.metrics(\n",
    "        adata,\n",
    "        adata,\n",
    "        batch_key = batch_key,\n",
    "        label_key = cell_type_key,\n",
    "        hvg_score_=False,\n",
    "        cluster_key='cluster',\n",
    "        cluster_nmi=None,\n",
    "        ari_=True,\n",
    "        nmi_=True,\n",
    "        nmi_method='arithmetic',\n",
    "        nmi_dir=None,\n",
    "        silhouette_=True,\n",
    "        embed='X_scVI',\n",
    "        si_metric='euclidean',\n",
    "        pcr_=True,\n",
    "        cell_cycle_=False,\n",
    "        organism='mouse',\n",
    "        isolated_labels_=True,  # backwards compatibility\n",
    "        isolated_labels_f1_=True,\n",
    "        isolated_labels_asw_=True,\n",
    "        n_isolated=None,\n",
    "        graph_conn_=True,\n",
    "        kBET_=True,\n",
    "        kBET_sub=0.5,\n",
    "        lisi_graph_=True,\n",
    "        lisi_raw=True,\n",
    "        trajectory_=False,\n",
    "        type_=None,\n",
    "        verbose=True,\n",
    ")"
   ]
  },
  {
   "cell_type": "code",
   "execution_count": null,
   "id": "aa15b4d5",
   "metadata": {},
   "outputs": [],
   "source": [
    "results"
   ]
  },
  {
   "cell_type": "code",
   "execution_count": null,
   "id": "412a4a2b",
   "metadata": {},
   "outputs": [],
   "source": [
    "np.savetxt(\"scvi/\"+dataset+\"_ilisi.csv\", ilisi_all, delimiter=\",\")\n",
    "np.savetxt(\"scvi/\"+dataset+\"_clisi.csv\", clisi_all, delimiter=\",\")\n",
    "np.savetxt(\"scvi/\"+dataset+\"_kbet_all.csv\",np.concatenate([np.array(val).reshape(1,-1) for val in kbet_all],axis = 0), delimiter=',')"
   ]
  },
  {
   "cell_type": "markdown",
   "id": "a7bb6f66-2aae-4d11-8f2d-45a906df0691",
   "metadata": {},
   "source": [
    "# harmony"
   ]
  },
  {
   "cell_type": "code",
   "execution_count": null,
   "id": "d1dd1367-7cee-4259-93fb-ee3435b88ede",
   "metadata": {},
   "outputs": [],
   "source": [
    "adata = sc.read_h5ad(paths['harmony'])\n",
    "sc.pp.neighbors(adata, use_rep='X_harmony') "
   ]
  },
  {
   "cell_type": "code",
   "execution_count": null,
   "id": "cb283c7a-7322-44e3-9d00-5bfdb252cad2",
   "metadata": {},
   "outputs": [],
   "source": [
    "import scIB \n",
    "#Trajectory is asking precomputed sudo time point\n",
    "results,ilisi_all,clisi_all,kbet_all  =      scIB.metrics.metrics(\n",
    "        adata,\n",
    "        adata,\n",
    "        batch_key = batch_key,\n",
    "        label_key = cell_type_key,\n",
    "        hvg_score_=False,\n",
    "        cluster_key='cluster',\n",
    "        cluster_nmi=None,\n",
    "        ari_=True,\n",
    "        nmi_=True,\n",
    "        nmi_method='arithmetic',\n",
    "        nmi_dir=None,\n",
    "        silhouette_=True,\n",
    "        embed= 'X_harmony',\n",
    "        si_metric='euclidean',\n",
    "        pcr_=True,\n",
    "        cell_cycle_=False,\n",
    "        organism='mouse',\n",
    "        isolated_labels_=True,  # backwards compatibility\n",
    "        isolated_labels_f1_=True,\n",
    "        isolated_labels_asw_=True,\n",
    "        n_isolated=None,\n",
    "        graph_conn_=True,\n",
    "        kBET_=True,\n",
    "        kBET_sub=0.5,\n",
    "        lisi_graph_=True,\n",
    "        lisi_raw=True,\n",
    "        trajectory_=False,\n",
    "        type_=None,\n",
    "        verbose=False,\n",
    ")"
   ]
  },
  {
   "cell_type": "code",
   "execution_count": null,
   "id": "06b477ad-037f-4de8-8344-3e154e97f8e6",
   "metadata": {},
   "outputs": [],
   "source": [
    "results"
   ]
  },
  {
   "cell_type": "code",
   "execution_count": null,
   "id": "d4df4e34-5089-467f-83d8-d0d3791d63d2",
   "metadata": {},
   "outputs": [],
   "source": [
    "np.savetxt(\"harmony/\"+dataset+\"_ilisi.csv\", ilisi_all, delimiter=\",\")\n",
    "np.savetxt(\"harmony/\"+dataset+\"_clisi.csv\", clisi_all, delimiter=\",\")\n",
    "np.savetxt(\"harmony/\"+dataset+\"_kbet_all.csv\",np.concatenate([np.array(val).reshape(1,-1) for val in kbet_all],axis = 0), delimiter=',')"
   ]
  },
  {
   "cell_type": "markdown",
   "id": "6001dcf4-b6b9-4cd2-bcf6-da498994bdf1",
   "metadata": {},
   "source": [
    "# seurat"
   ]
  },
  {
   "cell_type": "code",
   "execution_count": null,
   "id": "d317ba4f-475b-44ab-8f09-f869cf1f9868",
   "metadata": {},
   "outputs": [],
   "source": [
    "adata = sc.read_h5ad(All_h5ad+dataset+'.h5ad')\n",
    "adata_int = sc.read_h5ad(paths['seurat'])\n",
    "sc.pp.neighbors(adata_int)"
   ]
  },
  {
   "cell_type": "code",
   "execution_count": null,
   "id": "7eec6cb4-d013-4251-8848-c42ebcf92f7c",
   "metadata": {},
   "outputs": [],
   "source": [
    "import scIB\n",
    "#Trajectory is asking precomputed sudo time point\n",
    "results,ilisi_all,clisi_all,kbet_all  =   scIB.metrics.metrics(\n",
    "        adata,\n",
    "        adata_int,\n",
    "        batch_key = batch_key,\n",
    "        label_key = cell_type_key,\n",
    "        hvg_score_=False,\n",
    "        cluster_key='cluster',\n",
    "        cluster_nmi=None,\n",
    "        ari_=True,\n",
    "        nmi_=True,\n",
    "        nmi_method='arithmetic',\n",
    "        nmi_dir=None,\n",
    "        silhouette_=True,\n",
    "        embed= 'X_pca',\n",
    "        si_metric='euclidean',\n",
    "        pcr_=True,\n",
    "        cell_cycle_=False,\n",
    "        organism='mouse',\n",
    "        isolated_labels_=True,  # backwards compatibility\n",
    "        isolated_labels_f1_=False,\n",
    "        isolated_labels_asw_=False,\n",
    "        n_isolated=None,\n",
    "        graph_conn_=True,\n",
    "        kBET_=True,\n",
    "        kBET_sub=0.5,\n",
    "        lisi_graph_=True,\n",
    "        lisi_raw=True,\n",
    "        trajectory_=False,\n",
    "        type_=None,\n",
    "        verbose=False,\n",
    ")"
   ]
  },
  {
   "cell_type": "code",
   "execution_count": null,
   "id": "17232126-8d76-47b8-ac4a-d23986cb8f97",
   "metadata": {},
   "outputs": [],
   "source": [
    "results"
   ]
  },
  {
   "cell_type": "code",
   "execution_count": null,
   "id": "7d89b9a9-2102-41a2-8d8a-c9f786731667",
   "metadata": {},
   "outputs": [],
   "source": [
    "np.savetxt(\"seurat/\"+dataset+\"_ilisi.csv\", ilisi_all, delimiter=\",\")\n",
    "np.savetxt(\"seurat/\"+dataset+\"_clisi.csv\", clisi_all, delimiter=\",\")\n",
    "np.savetxt(\"seurat/\"+dataset+\"_kbet_all.csv\",np.concatenate([np.array(val).reshape(1,-1) for val in kbet_all],axis = 0), delimiter=',')"
   ]
  },
  {
   "cell_type": "markdown",
   "id": "0fef568b-4c29-44b4-83f0-28eec96ffa3a",
   "metadata": {},
   "source": [
    "# bbknn"
   ]
  },
  {
   "cell_type": "code",
   "execution_count": null,
   "id": "301349fd-0969-462f-85c3-559d33226680",
   "metadata": {},
   "outputs": [],
   "source": [
    "adata = sc.read_h5ad(All_h5ad+dataset+'.h5ad')\n",
    "adata_int = sc.read_h5ad(paths['bbknn'])"
   ]
  },
  {
   "cell_type": "code",
   "execution_count": null,
   "id": "748a8428-a321-439d-989d-97274785460d",
   "metadata": {},
   "outputs": [],
   "source": [
    "import scIB \n",
    "#Trajectory is asking precomputed sudo time point\n",
    "results,ilisi_all,clisi_all,kbet_all  =   scIB.metrics.metrics(\n",
    "        adata,\n",
    "        adata_int,\n",
    "        batch_key = batch_key,\n",
    "        label_key = cell_type_key,\n",
    "        hvg_score_=False,\n",
    "        cluster_key='cluster',\n",
    "        cluster_nmi=None,\n",
    "        ari_=True,\n",
    "        nmi_=True,\n",
    "        nmi_method='arithmetic',\n",
    "        nmi_dir=None,\n",
    "        silhouette_=True,\n",
    "        embed= 'X_pca',\n",
    "        si_metric='euclidean',\n",
    "        pcr_=True,\n",
    "        cell_cycle_=False,\n",
    "        organism='mouse',\n",
    "        isolated_labels_=True,  # backwards compatibility\n",
    "        isolated_labels_f1_=False,\n",
    "        isolated_labels_asw_=False,\n",
    "        n_isolated=None,\n",
    "        graph_conn_=True,\n",
    "        kBET_=True,\n",
    "        kBET_sub=0.5,\n",
    "        lisi_graph_=True,\n",
    "        lisi_raw=True,\n",
    "        trajectory_=False,\n",
    "        type_='knn',\n",
    "        verbose=False,\n",
    ")"
   ]
  },
  {
   "cell_type": "code",
   "execution_count": null,
   "id": "2f3b62c7-4c97-4d68-bc5f-206253a2591a",
   "metadata": {},
   "outputs": [],
   "source": [
    "results"
   ]
  },
  {
   "cell_type": "code",
   "execution_count": null,
   "id": "8d4a0286-5faa-4c7f-b469-c4d996e7e6a3",
   "metadata": {},
   "outputs": [],
   "source": [
    "np.savetxt(\"bbknn/\"+dataset+\"_ilisi.csv\", ilisi_all, delimiter=\",\")\n",
    "np.savetxt(\"bbknn/\"+dataset+\"_clisi.csv\", clisi_all, delimiter=\",\")\n",
    "np.savetxt(\"bbknn/\"+dataset+\"_kbet_all.csv\",np.concatenate([np.array(val).reshape(1,-1) for val in kbet_all],axis = 0), delimiter=',')"
   ]
  },
  {
   "cell_type": "markdown",
   "id": "5aa65dfd-4256-44a1-a836-bd6aa20f796e",
   "metadata": {},
   "source": [
    "# scanorama"
   ]
  },
  {
   "cell_type": "code",
   "execution_count": null,
   "id": "656960f2-0bbd-4b34-962a-21f7f0b3e091",
   "metadata": {},
   "outputs": [],
   "source": [
    "adata = sc.read_h5ad(paths['scanorama'])\n",
    "sc.pp.neighbors(adata,use_rep='X_emb')"
   ]
  },
  {
   "cell_type": "code",
   "execution_count": null,
   "id": "fbf74b83-906a-483e-99e2-b70903bacac7",
   "metadata": {},
   "outputs": [],
   "source": [
    "import scIB\n",
    "results,ilisi_all,clisi_all,kbet_all  =   scIB.metrics.metrics(\n",
    "        adata,\n",
    "        adata,\n",
    "        batch_key = batch_key,\n",
    "        label_key = cell_type_key,\n",
    "        hvg_score_=False,\n",
    "        cluster_key='cluster',\n",
    "        cluster_nmi=None,\n",
    "        ari_=True,\n",
    "        nmi_=True,\n",
    "        nmi_method='arithmetic',\n",
    "        nmi_dir=None,\n",
    "        silhouette_=True,\n",
    "        embed='X_emb',\n",
    "        si_metric='euclidean',\n",
    "        pcr_=True,\n",
    "        cell_cycle_=False,\n",
    "        organism='mouse',\n",
    "        isolated_labels_=True,  # backwards compatibility\n",
    "        isolated_labels_f1_=False,\n",
    "        isolated_labels_asw_=False,\n",
    "        n_isolated=None,\n",
    "        graph_conn_=True,\n",
    "        kBET_=True,\n",
    "        kBET_sub=0.5,\n",
    "        lisi_graph_=True,\n",
    "        lisi_raw=True,\n",
    "        trajectory_=False,\n",
    "        type_=None,\n",
    "        verbose=False,\n",
    ")\n"
   ]
  },
  {
   "cell_type": "code",
   "execution_count": null,
   "id": "7c152d97-7d1e-4386-a895-a36bdbd4f571",
   "metadata": {},
   "outputs": [],
   "source": [
    "results"
   ]
  },
  {
   "cell_type": "code",
   "execution_count": null,
   "id": "c8885afb-1ba6-40f6-a55a-b753bb5e46eb",
   "metadata": {},
   "outputs": [],
   "source": [
    "np.savetxt(\"scanorama/\"+dataset+\"_ilisi.csv\", ilisi_all, delimiter=\",\")\n",
    "np.savetxt(\"scanorama/\"+dataset+\"_clisi.csv\", clisi_all, delimiter=\",\")\n",
    "np.savetxt(\"scanorama/\"+dataset+\"_kbet_all.csv\",np.concatenate([np.array(val).reshape(1,-1) for val in kbet_all],axis = 0), delimiter=',')"
   ]
  },
  {
   "cell_type": "markdown",
   "id": "be25d710-a30a-473e-b791-dbb3ca9d424f",
   "metadata": {},
   "source": [
    "# our methods"
   ]
  },
  {
   "cell_type": "code",
   "execution_count": null,
   "id": "11239042-44cb-4748-b36a-4ea32230deac",
   "metadata": {},
   "outputs": [],
   "source": [
    "import pandas as pd\n",
    "adata =sc.read_h5ad(All_h5ad+dataset+\".h5ad\")\n",
    "adata.obsm['final_embeddings'] = pd.read_csv(paths['our_method'],sep=',',header=None).values\n",
    "sc.pp.neighbors(adata,use_rep='final_embeddings')"
   ]
  },
  {
   "cell_type": "code",
   "execution_count": null,
   "id": "5afcde23-b20b-4d94-af2c-1a9869007524",
   "metadata": {},
   "outputs": [],
   "source": [
    "import scIB\n",
    "results,ilisi_all,clisi_all,kbet_all  = scIB.metrics.metrics(\n",
    "                adata,\n",
    "                adata,\n",
    "                batch_key = batch_key, #need to change according\n",
    "                label_key = cell_type_key, #need to change according\n",
    "                hvg_score_=False,\n",
    "                cluster_key='cluster',\n",
    "                cluster_nmi=None,\n",
    "                ari_=True,\n",
    "                nmi_=True,\n",
    "                nmi_method='arithmetic',\n",
    "                nmi_dir=None,\n",
    "                silhouette_=True,\n",
    "                embed= 'final_embeddings', #need to change according \n",
    "                si_metric='euclidean',\n",
    "                pcr_=True,\n",
    "                cell_cycle_=False,\n",
    "                organism='mouse',\n",
    "                isolated_labels_=True,  # backwards compatibility\n",
    "                isolated_labels_f1_=False,\n",
    "                isolated_labels_asw_=False,\n",
    "                n_isolated=None,\n",
    "                graph_conn_=True,\n",
    "                kBET_=True,\n",
    "                kBET_sub=0.5,\n",
    "                lisi_graph_=True,\n",
    "                lisi_raw=True,\n",
    "                trajectory_=False,\n",
    "                type_=None,\n",
    "                verbose=False,\n",
    "        )"
   ]
  },
  {
   "cell_type": "code",
   "execution_count": null,
   "id": "ebc5b2cb-12f1-41d9-951d-90e788841092",
   "metadata": {},
   "outputs": [],
   "source": [
    "results"
   ]
  },
  {
   "cell_type": "code",
   "execution_count": null,
   "id": "5ad0f9ac-30ca-4ffd-bf56-874d1cc8f2e5",
   "metadata": {},
   "outputs": [],
   "source": [
    "np.savetxt(\"ourmethod/\"+dataset+\"_ilisi.csv\", ilisi_all, delimiter=\",\")\n",
    "np.savetxt(\"ourmethod/\"+dataset+\"_clisi.csv\", clisi_all, delimiter=\",\")\n",
    "np.savetxt(\"ourmethod/\"+dataset+\"_kbet_all.csv\",np.concatenate([np.array(val).reshape(1,-1) for val in kbet_all],axis = 0), delimiter=',')"
   ]
  },
  {
   "cell_type": "markdown",
   "id": "6664cf0e-f88b-4bde-ada3-95c99d47762a",
   "metadata": {},
   "source": [
    "# Insct"
   ]
  },
  {
   "cell_type": "code",
   "execution_count": null,
   "id": "3d632be3-8b44-46d5-afc1-a80cec999560",
   "metadata": {},
   "outputs": [],
   "source": [
    "import pandas as pd\n",
    "adata =sc.read_h5ad(All_h5ad+dataset+\".h5ad\")\n",
    "adata.obsm['final_embeddings'] = pd.read_csv(paths['insct'],sep=',',header=None).values\n",
    "sc.pp.neighbors(adata,use_rep='final_embeddings')"
   ]
  },
  {
   "cell_type": "code",
   "execution_count": null,
   "id": "85a35927-2d73-42ea-8dba-17a7e923c054",
   "metadata": {},
   "outputs": [],
   "source": [
    "import scIB\n",
    "results,ilisi_all,clisi_all,kbet_all  = scIB.metrics.metrics(\n",
    "                adata,\n",
    "                adata,\n",
    "                batch_key = batch_key, #need to change according\n",
    "                label_key = cell_type_key, #need to change according\n",
    "                hvg_score_=False,\n",
    "                cluster_key='cluster',\n",
    "                cluster_nmi=None,\n",
    "                ari_=True,\n",
    "                nmi_=True,\n",
    "                nmi_method='arithmetic',\n",
    "                nmi_dir=None,\n",
    "                silhouette_=True,\n",
    "                embed= 'final_embeddings', #need to change according \n",
    "                si_metric='euclidean',\n",
    "                pcr_=True,\n",
    "                cell_cycle_=False,\n",
    "                organism='mouse',\n",
    "                isolated_labels_=True,  # backwards compatibility\n",
    "                isolated_labels_f1_=False,\n",
    "                isolated_labels_asw_=False,\n",
    "                n_isolated=None,\n",
    "                graph_conn_=True,\n",
    "                kBET_=True,\n",
    "                kBET_sub=0.5,\n",
    "                lisi_graph_=True,\n",
    "                lisi_raw=True,\n",
    "                trajectory_=False,\n",
    "                type_=None,\n",
    "                verbose=False,\n",
    "        )"
   ]
  },
  {
   "cell_type": "code",
   "execution_count": null,
   "id": "977b823a-fbc6-4a07-ba72-2a9eb16f59f0",
   "metadata": {},
   "outputs": [],
   "source": [
    "results"
   ]
  },
  {
   "cell_type": "code",
   "execution_count": null,
   "id": "4fa92376-9388-4827-b608-19f8cf136cde",
   "metadata": {},
   "outputs": [],
   "source": [
    "np.savetxt(\"insct/\"+dataset+\"_ilisi.csv\", ilisi_all, delimiter=\",\")\n",
    "np.savetxt(\"insct/\"+dataset+\"_clisi.csv\", clisi_all, delimiter=\",\")\n",
    "np.savetxt(\"insct/\"+dataset+\"_kbet_all.csv\",np.concatenate([np.array(val).reshape(1,-1) for val in kbet_all],axis = 0), delimiter=',')"
   ]
  },
  {
   "cell_type": "code",
   "execution_count": null,
   "id": "d5536fba-bcec-4d60-9ae9-211c1628c315",
   "metadata": {
    "tags": []
   },
   "outputs": [],
   "source": []
  },
  {
   "cell_type": "code",
   "execution_count": null,
   "id": "0d4625b7-2827-4c64-a573-f4957ed299d6",
   "metadata": {},
   "outputs": [],
   "source": [
    "# ilisi_paths = [\"scvi/\"+dataset+\"_ilisi.csv\",\n",
    "#               \"harmony/\"+dataset+\"_ilisi.csv\",\n",
    "#                \"seurat/\"+dataset+\"_ilisi.csv\",\n",
    "#                \"bbknn/\"+dataset+\"_ilisi.csv\",\n",
    "#                \"scanorama/\"+dataset+\"_ilisi.csv\",\n",
    "#                \"ourmethod/\"+dataset+\"_ilisi.csv\"\n",
    "#               ]\n",
    "# clisi_paths = [\"scvi/\"+dataset+\"_clisi.csv\",\n",
    "#               \"harmony/\"+dataset+\"_clisi.csv\",\n",
    "#                \"seurat/\"+dataset+\"_clisi.csv\",\n",
    "#                \"bbknn/\"+dataset+\"_clisi.csv\",\n",
    "#                \"scanorama/\"+dataset+\"_clisi.csv\",\n",
    "#                \"ourmethod/\"+dataset+\"_clisi.csv\"\n",
    "#               ]\n",
    "# labels = ['bbknn','harmony','scanorama','scvi','seurat','ourmethod']"
   ]
  },
  {
   "cell_type": "code",
   "execution_count": null,
   "id": "957f827a-30f7-4455-9d3b-2acf183e9cd7",
   "metadata": {},
   "outputs": [],
   "source": [
    "# ilisi_values = [np.genfromtxt(path) for path in ilisi_paths]\n",
    "# clisi_values = [np.genfromtxt(path) for path in clisi_paths]"
   ]
  },
  {
   "cell_type": "code",
   "execution_count": null,
   "id": "09ca84ec-8d3c-4d52-ad65-dbb4248aab45",
   "metadata": {},
   "outputs": [],
   "source": [
    "# import matplotlib.pyplot as plt\n",
    "# plt.boxplot(ilisi_values,labels = labels)\n",
    "# plt.show()"
   ]
  },
  {
   "cell_type": "code",
   "execution_count": null,
   "id": "98b68b34-79f3-4957-bb18-eac3ead74045",
   "metadata": {},
   "outputs": [],
   "source": []
  },
  {
   "cell_type": "code",
   "execution_count": null,
   "id": "46788a7d-d71b-4124-8fc5-16f479cfcb49",
   "metadata": {},
   "outputs": [],
   "source": []
  }
 ],
 "metadata": {
  "kernelspec": {
   "display_name": "Python 3 (ipykernel)",
   "language": "python",
   "name": "python3"
  },
  "language_info": {
   "codemirror_mode": {
    "name": "ipython",
    "version": 3
   },
   "file_extension": ".py",
   "mimetype": "text/x-python",
   "name": "python",
   "nbconvert_exporter": "python",
   "pygments_lexer": "ipython3",
   "version": "3.7.11"
  }
 },
 "nbformat": 4,
 "nbformat_minor": 5
}
