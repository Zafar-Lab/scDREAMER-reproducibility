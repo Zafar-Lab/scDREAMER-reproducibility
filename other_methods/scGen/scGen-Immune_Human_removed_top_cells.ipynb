{
 "cells": [
  {
   "cell_type": "code",
   "execution_count": null,
   "id": "5adb11e1",
   "metadata": {},
   "outputs": [],
   "source": [
    "import scvi\n",
    "import scanpy as sc\n",
    "import numpy as np\n",
    "import scgen"
   ]
  },
  {
   "cell_type": "code",
   "execution_count": null,
   "id": "3bde40a0",
   "metadata": {},
   "outputs": [],
   "source": [
    "dir_path = \"/home/krushna/Documents/Data_integration/SCRNA_Datasets/All_h5ad/\"\n",
    "def load_data(dataset,batch):\n",
    "    adata =sc.read_h5ad(dir_path+dataset+'.h5ad')\n",
    "    sc.pp.filter_genes(adata, min_counts=3)\n",
    "    adata.layers[\"counts\"] = adata.X.copy()\n",
    "    sc.pp.normalize_total(adata, target_sum=1e4)\n",
    "    sc.pp.log1p(adata)\n",
    "    adata.raw = adata\n",
    "    sc.pp.highly_variable_genes(\n",
    "            adata,\n",
    "            flavor=\"seurat\",\n",
    "            n_top_genes=2000,\n",
    "            layer=\"counts\",\n",
    "            batch_key=batch,\n",
    "            subset=True\n",
    "    )\n",
    "\n",
    "    return adata\n",
    "    \n",
    "batch_key_dic = {'Immune_Human' : 'batch',\n",
    "                 'Immune_human_mouse' : 'batch',\n",
    "                 'Lung' : 'batch',\n",
    "                 'Mouse_brain' : 'batch',\n",
    "                 'Pancreas' : 'tech',\n",
    "                 'Simulation1' : 'Batch',\n",
    "                 'Simulation2' : 'Batch',\n",
    "                 'Human_Mouse' : 'batch',\n",
    "                 'Human_Retina': \"Batch\"}\n",
    "cell_type_key_dic = {'Immune_Human' : 'final_annotation',\n",
    "                 'Immune_human_mouse' : 'final_annotation',\n",
    "                 'Lung' : 'cell_type',\n",
    "                 'Mouse_brain' : 'cell_type',\n",
    "                 'Pancreas' : 'celltype',\n",
    "                 'Simulation1' : 'Group',\n",
    "                 'Simulation2' : 'Group',\n",
    "                 'Human_Mouse' : \"celltype\",\n",
    "                 \"Human_Retina\":\"Subcluster\"}  "
   ]
  },
  {
   "cell_type": "code",
   "execution_count": null,
   "id": "10f69035",
   "metadata": {},
   "outputs": [],
   "source": [
    "dataset = 'Immune_Human_removed_top_cells'\n",
    "batch = 'batch'\n",
    "cell_type = 'final_annotation'"
   ]
  },
  {
   "cell_type": "code",
   "execution_count": null,
   "id": "d5618640-515f-4d56-b63c-6ef9ceec9776",
   "metadata": {},
   "outputs": [],
   "source": [
    "adata = load_data(dataset,batch)"
   ]
  },
  {
   "cell_type": "code",
   "execution_count": null,
   "id": "ef5c58ea-2ed8-4601-9dc1-8b25d349e640",
   "metadata": {},
   "outputs": [],
   "source": [
    "train = adata\n",
    "scgen.SCGEN.setup_anndata(train, batch_key=batch, labels_key=cell_type)"
   ]
  },
  {
   "cell_type": "code",
   "execution_count": null,
   "id": "835e4648-26b0-4301-a794-78a388eda8d9",
   "metadata": {},
   "outputs": [],
   "source": [
    "model = scgen.SCGEN(train)"
   ]
  },
  {
   "cell_type": "code",
   "execution_count": null,
   "id": "db478711-1c23-4110-bd60-97a137c16c76",
   "metadata": {},
   "outputs": [],
   "source": [
    "model.train(\n",
    "    max_epochs=100,\n",
    "    batch_size=32,\n",
    "    early_stopping=True,\n",
    "    early_stopping_patience=25,\n",
    ")"
   ]
  },
  {
   "cell_type": "code",
   "execution_count": null,
   "id": "6c5a15cc-d0be-4a11-9ef3-1a772910741c",
   "metadata": {},
   "outputs": [],
   "source": [
    "adata_int = model.batch_removal()\n",
    "adata_int"
   ]
  },
  {
   "cell_type": "code",
   "execution_count": null,
   "id": "0cc43f72-1b99-428c-a809-cbc76f05b2a3",
   "metadata": {},
   "outputs": [],
   "source": [
    "adata_int.write('scGen-Immune_Human_removed_top_cells.h5ad')"
   ]
  },
  {
   "cell_type": "code",
   "execution_count": null,
   "id": "922ddd85-c00a-4349-afd4-79d0e19c85ac",
   "metadata": {},
   "outputs": [],
   "source": [
    "adata_int = sc.read_h5ad(\"scGen-Immune_Human_removed_top_cells.h5ad\")"
   ]
  },
  {
   "cell_type": "code",
   "execution_count": null,
   "id": "156a94ba",
   "metadata": {
    "scrolled": true,
    "tags": []
   },
   "outputs": [],
   "source": [
    "import scIB\n",
    "#Trajectory is asking precomputed sudo time point\n",
    "results,ilisi_all,clisi_all,kbet_all  =   scIB.metrics.metrics(\n",
    "        adata,\n",
    "        adata_int,\n",
    "        batch_key = batch,\n",
    "        label_key = cell_type,\n",
    "        hvg_score_=False,\n",
    "        cluster_key='cluster',\n",
    "        cluster_nmi=None,\n",
    "        ari_=True,\n",
    "        nmi_=True,\n",
    "        nmi_method='arithmetic',\n",
    "        nmi_dir=None,\n",
    "        silhouette_=True,\n",
    "        embed= 'X_pca',\n",
    "        si_metric='euclidean',\n",
    "        pcr_=True,\n",
    "        cell_cycle_=False,\n",
    "        organism='mouse',\n",
    "        isolated_labels_=True,  # backwards compatibility\n",
    "        isolated_labels_f1_=False,\n",
    "        isolated_labels_asw_=False,\n",
    "        n_isolated=None,\n",
    "        graph_conn_=True,\n",
    "        kBET_=True,\n",
    "        kBET_sub=0.5,\n",
    "        lisi_graph_=True,\n",
    "        lisi_raw=True,\n",
    "        trajectory_=False,\n",
    "        type_=None,\n",
    "        verbose=False,\n",
    ")"
   ]
  },
  {
   "cell_type": "code",
   "execution_count": null,
   "id": "3e1ea281-6432-475a-95f0-d0bc9c6e0b2d",
   "metadata": {},
   "outputs": [],
   "source": [
    "results"
   ]
  },
  {
   "cell_type": "code",
   "execution_count": null,
   "id": "2996bdb6-1238-43d0-a7b5-8ff66735f146",
   "metadata": {},
   "outputs": [],
   "source": [
    "import numpy as np\n",
    "np.savetxt(dataset+\"_ilisi.csv\", ilisi_all, delimiter=\",\")\n",
    "np.savetxt(dataset+\"_clisi.csv\", clisi_all, delimiter=\",\")\n",
    "np.savetxt(dataset+\"_kbet_all.csv\",np.concatenate([np.array(val).reshape(1,-1) for val in kbet_all],axis = 0), delimiter=',')"
   ]
  },
  {
   "cell_type": "code",
   "execution_count": null,
   "id": "b5bea771-7d8c-4460-b192-79d305dc4ea4",
   "metadata": {},
   "outputs": [],
   "source": [
    "import matplotlib as mpl\n",
    "mpl.rcParams['figure.dpi'] = 300"
   ]
  },
  {
   "cell_type": "code",
   "execution_count": null,
   "id": "9358792e",
   "metadata": {},
   "outputs": [],
   "source": [
    "sc.pp.neighbors(adata_int)  # use_rep = 'final_embeddings'\n",
    "sc.tl.umap(adata_int)\n",
    "sc.pl.umap(adata_int, color=cell_type, frameon=False)\n",
    "sc.pl.umap(adata_int, color=batch, frameon=False)\n",
    "sc.pl.umap(adata_int, color='cluster', frameon=False)"
   ]
  },
  {
   "cell_type": "code",
   "execution_count": null,
   "id": "7e57ab9c",
   "metadata": {},
   "outputs": [],
   "source": []
  },
  {
   "cell_type": "code",
   "execution_count": null,
   "id": "3d8c390e-c2fb-46f1-8a36-a59ca7b6c63f",
   "metadata": {},
   "outputs": [],
   "source": []
  }
 ],
 "metadata": {
  "kernelspec": {
   "display_name": "Python 3 (ipykernel)",
   "language": "python",
   "name": "python3"
  },
  "language_info": {
   "codemirror_mode": {
    "name": "ipython",
    "version": 3
   },
   "file_extension": ".py",
   "mimetype": "text/x-python",
   "name": "python",
   "nbconvert_exporter": "python",
   "pygments_lexer": "ipython3",
   "version": "3.7.13"
  }
 },
 "nbformat": 4,
 "nbformat_minor": 5
}
