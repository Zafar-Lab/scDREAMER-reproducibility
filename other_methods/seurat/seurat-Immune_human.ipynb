{
 "cells": [
  {
   "cell_type": "code",
   "execution_count": null,
   "id": "79c9b7a1",
   "metadata": {},
   "outputs": [],
   "source": [
    "import scanpy as sc\n",
    "import numpy as np"
   ]
  },
  {
   "cell_type": "code",
   "execution_count": null,
   "id": "83b6b1b4",
   "metadata": {},
   "outputs": [],
   "source": [
    "dir_path = \"/home/krushna/Documents/Data_integration/SCRNA_Datasets/All_h5ad/\"\n",
    "def load_data(dataset,batch):\n",
    "    adata =sc.read_h5ad(dir_path+dataset+'.h5ad')\n",
    "    sc.pp.filter_genes(adata, min_counts=3)\n",
    "    adata.layers[\"counts\"] = adata.X.copy()\n",
    "    sc.pp.normalize_total(adata, target_sum=1e4)\n",
    "    sc.pp.log1p(adata)\n",
    "    adata.raw = adata\n",
    "    sc.pp.highly_variable_genes(\n",
    "            adata,\n",
    "            flavor=\"seurat\",\n",
    "            n_top_genes=2000,\n",
    "            layer=\"counts\",\n",
    "            batch_key=batch,\n",
    "            subset=True\n",
    "    )\n",
    "    return adata\n",
    "    \n",
    "batch_key_dic = {'Immune_Human' : 'batch',\n",
    "                 'Immune_human_mouse' : 'batch',\n",
    "                 'Lung' : 'batch',\n",
    "                 'Mouse_brain' : 'batch',\n",
    "                 'Pancreas' : 'Batch',\n",
    "                 'Simulation1' : 'Batch',\n",
    "                 'Simulation2' : 'Batch'}\n",
    "cell_type_key_dic = {'Immune_Human' : 'final_annotation',\n",
    "                 'Immune_human_mouse' : 'final_annotation',\n",
    "                 'Lung' : 'cell_type',\n",
    "                 'Mouse_brain' : 'cell_type',\n",
    "                 'Pancreas' : 'Group',\n",
    "                 'Simulation1' : 'Group',\n",
    "                 'Simulation2' : 'Group'}"
   ]
  },
  {
   "cell_type": "code",
   "execution_count": null,
   "id": "8060824c",
   "metadata": {},
   "outputs": [],
   "source": [
    "dataset = 'Immune_Human'\n",
    "batch = batch_key_dic[dataset]\n",
    "cell_type = cell_type_key_dic[dataset]\n",
    "adata = load_data(dataset,batch)\n",
    "adata_sce = adata.copy()\n",
    "if type(adata_sce.X) != type(np.array([])):\n",
    "    adata_sce.X = adata_sce.X.toarray()\n",
    "    adata_sce.layers['counts'] = adata_sce.layers['counts'].toarray()\n",
    "    # del adata_sce.layers['counts']\n",
    "del adata_sce.uns\n",
    "del adata_sce.var"
   ]
  },
  {
   "cell_type": "code",
   "execution_count": null,
   "id": "da85d99a",
   "metadata": {},
   "outputs": [],
   "source": [
    "print(adata,adata_sce,sep='\\n')"
   ]
  },
  {
   "cell_type": "code",
   "execution_count": null,
   "id": "36e31a63-e611-45f3-bb12-e4e91047e905",
   "metadata": {},
   "outputs": [],
   "source": [
    "import time\n",
    "start_time = time.time()"
   ]
  },
  {
   "cell_type": "code",
   "execution_count": null,
   "id": "ecd123e8",
   "metadata": {
    "scrolled": true,
    "tags": []
   },
   "outputs": [],
   "source": [
    "import anndata2ri\n",
    "anndata2ri.activate()\n",
    "\n",
    "#Loading the rpy2 extension enables cell magic to be used\n",
    "#This runs R code in jupyter notebook cells\n",
    "%load_ext rpy2.ipython\n",
    "\n",
    "sc.settings.verbosity = 3\n",
    "sc.logging.print_versions()"
   ]
  },
  {
   "cell_type": "code",
   "execution_count": null,
   "id": "e08b0032",
   "metadata": {},
   "outputs": [],
   "source": [
    "%%R -i adata_sce\n",
    "\n",
    "library(Seurat)\n",
    "adata_seu <- as.Seurat(adata_sce, counts = \"counts\", data = \"X\")\n"
   ]
  },
  {
   "cell_type": "code",
   "execution_count": null,
   "id": "0b025346",
   "metadata": {},
   "outputs": [],
   "source": [
    "%%R  -i batch\n",
    "batch_list = SplitObject(adata_seu, split.by = batch)"
   ]
  },
  {
   "cell_type": "code",
   "execution_count": null,
   "id": "0ff70ea0",
   "metadata": {
    "scrolled": true,
    "tags": []
   },
   "outputs": [],
   "source": [
    "%%R\n",
    "hvg=2000\n",
    "anchors = FindIntegrationAnchors(\n",
    "object.list = batch_list,\n",
    "anchor.features = hvg,\n",
    "scale = T,\n",
    "l2.norm = T,\n",
    "dims = 1:30,\n",
    "k.anchor = 5,\n",
    "k.filter = 200,\n",
    "k.score = 30,\n",
    "max.features = 200,\n",
    "eps = 0)"
   ]
  },
  {
   "cell_type": "code",
   "execution_count": null,
   "id": "80a120db",
   "metadata": {
    "scrolled": true,
    "tags": []
   },
   "outputs": [],
   "source": [
    "%%R\n",
    "integrated = IntegrateData(anchorset = anchors)"
   ]
  },
  {
   "cell_type": "code",
   "execution_count": null,
   "id": "95f6b3a7",
   "metadata": {},
   "outputs": [],
   "source": [
    "%%R -o integrated_sce\n",
    "integrated_sce <-  as.SingleCellExperiment(integrated)"
   ]
  },
  {
   "cell_type": "code",
   "execution_count": null,
   "id": "a8eac6b9",
   "metadata": {},
   "outputs": [],
   "source": [
    "adata_int = integrated_sce\n",
    "adata_int"
   ]
  },
  {
   "cell_type": "code",
   "execution_count": null,
   "id": "50da4de9-b134-4073-adc2-338627beeef7",
   "metadata": {},
   "outputs": [],
   "source": [
    "end_time = time.time()\n",
    "print(\"total time taken: \", end_time-start_time)"
   ]
  },
  {
   "cell_type": "code",
   "execution_count": null,
   "id": "3db43f13",
   "metadata": {},
   "outputs": [],
   "source": [
    "try:\n",
    "    del adata_int.obs['nFeature_originalexp']\n",
    "    del adata_int.obs['nGene']\n",
    "    del adata_int.obs['nUMI']\n",
    "except :\n",
    "    pass\n",
    "adata_int.write('seurat-Immune_human.h5ad')"
   ]
  },
  {
   "cell_type": "code",
   "execution_count": null,
   "id": "af68bce7",
   "metadata": {},
   "outputs": [],
   "source": [
    "adata_int = sc.read_h5ad('seurat-Immune_Human.h5ad')"
   ]
  },
  {
   "cell_type": "code",
   "execution_count": null,
   "id": "e40e4d58",
   "metadata": {
    "scrolled": true,
    "tags": []
   },
   "outputs": [],
   "source": [
    "import scIB\n",
    "#Trajectory is asking precomputed sudo time point\n",
    "results,ilisi_all,clisi_all,kbet_all  =   scIB.metrics.metrics(\n",
    "        adata,\n",
    "        adata_int,\n",
    "        batch_key = batch,\n",
    "        label_key = cell_type,\n",
    "        hvg_score_=False,\n",
    "        cluster_key='cluster',\n",
    "        cluster_nmi=None,\n",
    "        ari_=True,\n",
    "        nmi_=True,\n",
    "        nmi_method='arithmetic',\n",
    "        nmi_dir=None,\n",
    "        silhouette_=True,\n",
    "        embed= 'X_pca',\n",
    "        si_metric='euclidean',\n",
    "        pcr_=True,\n",
    "        cell_cycle_=False,\n",
    "        organism='mouse',\n",
    "        isolated_labels_=True,  # backwards compatibility\n",
    "        isolated_labels_f1_=False,\n",
    "        isolated_labels_asw_=False,\n",
    "        n_isolated=None,\n",
    "        graph_conn_=True,\n",
    "        kBET_=True,\n",
    "        kBET_sub=0.5,\n",
    "        lisi_graph_=True,\n",
    "        lisi_raw=True,\n",
    "        trajectory_=False,\n",
    "        type_=None,\n",
    "        verbose=False,\n",
    ")"
   ]
  },
  {
   "cell_type": "code",
   "execution_count": null,
   "id": "442532a5-a266-46d5-9843-caaf14ec49b6",
   "metadata": {},
   "outputs": [],
   "source": [
    "results"
   ]
  },
  {
   "cell_type": "code",
   "execution_count": null,
   "id": "03638b28-125e-418b-9081-ac5ac87e33cc",
   "metadata": {},
   "outputs": [],
   "source": [
    "import numpy as np\n",
    "np.savetxt(dataset+\"_ilisi.csv\", ilisi_all, delimiter=\",\")\n",
    "np.savetxt(dataset+\"_clisi.csv\", clisi_all, delimiter=\",\")\n",
    "np.savetxt(dataset+\"_kbet_all.csv\",np.concatenate([np.array(val).reshape(1,-1) for val in kbet_all],axis = 0), delimiter=',')"
   ]
  },
  {
   "cell_type": "code",
   "execution_count": null,
   "id": "cf8f3884-07a4-45bf-9104-875e4ac37edf",
   "metadata": {},
   "outputs": [],
   "source": [
    "import matplotlib as mpl\n",
    "mpl.rcParams['figure.dpi'] = 300"
   ]
  },
  {
   "cell_type": "code",
   "execution_count": null,
   "id": "3522baa7",
   "metadata": {
    "scrolled": true
   },
   "outputs": [],
   "source": [
    "import numpy as np\n",
    "from sklearn.cluster import KMeans\n",
    "from sklearn.metrics.cluster import normalized_mutual_info_score as nmi\n",
    "\n",
    "\n",
    "latent_matrix = adata_int.X \n",
    "labels = np.array(adata.obs[cell_type] )\n",
    "K = np.size(np.unique(labels))\n",
    "kmeans = KMeans(n_clusters=K, random_state=0).fit(latent_matrix)\n",
    "y_pred = kmeans.labels_\n",
    "\n",
    "print('Computing NMI ...')\n",
    "NMI = nmi(labels.flatten(), y_pred.flatten())\n",
    "print('NMI = {}'.format(NMI))"
   ]
  },
  {
   "cell_type": "code",
   "execution_count": null,
   "id": "9d13c4d2",
   "metadata": {},
   "outputs": [],
   "source": [
    "sc.pp.neighbors(adata_int)  # use_rep = 'final_embeddings'\n",
    "sc.tl.umap(adata_int)\n",
    "sc.pl.umap(adata_int, color=cell_type, frameon=False)\n",
    "sc.pl.umap(adata_int, color=batch, frameon=False)\n",
    "sc.pl.umap(adata_int, color='cluster', frameon=False)"
   ]
  },
  {
   "cell_type": "code",
   "execution_count": null,
   "id": "f9a5aacc",
   "metadata": {},
   "outputs": [],
   "source": [
    "adata_int.obs['temp'] =  y_pred\n",
    "adata_int.obs['temp'] = adata_int.obs['temp'].astype(str)\n",
    "sc.pl.umap(adata_int, color='temp', frameon=False)"
   ]
  },
  {
   "cell_type": "code",
   "execution_count": null,
   "id": "66505463",
   "metadata": {},
   "outputs": [],
   "source": [
    "import scIB\n",
    "#Trajectory is asking precomputed sudo time point\n",
    "results,ilisi_all,clisi_all,kbet_all  =   scIB.metrics.metrics(\n",
    "        adata,\n",
    "        adata_int,\n",
    "        batch_key = batch,\n",
    "        label_key = cell_type,\n",
    "        hvg_score_=False,\n",
    "        cluster_key='cluster',\n",
    "        cluster_nmi=None,\n",
    "        ari_=True,\n",
    "        nmi_=False,\n",
    "        nmi_method='arithmetic',\n",
    "        nmi_dir=None,\n",
    "        silhouette_=False,\n",
    "        embed= 'X_pca',\n",
    "        si_metric='euclidean',\n",
    "        pcr_=False,\n",
    "        cell_cycle_=False,\n",
    "        organism='mouse',\n",
    "        isolated_labels_=False,  # backwards compatibility\n",
    "        isolated_labels_f1_=False,\n",
    "        isolated_labels_asw_=False,\n",
    "        n_isolated=None,\n",
    "        graph_conn_=False,\n",
    "        kBET_=False,\n",
    "        kBET_sub=0.5,\n",
    "        lisi_graph_=False,\n",
    "        lisi_raw=False,\n",
    "        trajectory_=True,\n",
    "        type_=None,\n",
    "        verbose=False,\n",
    ")\n",
    "results.loc['trajectory']"
   ]
  },
  {
   "cell_type": "code",
   "execution_count": null,
   "id": "ae6a0ca0",
   "metadata": {},
   "outputs": [],
   "source": []
  },
  {
   "cell_type": "code",
   "execution_count": null,
   "id": "2e2804e8",
   "metadata": {},
   "outputs": [],
   "source": [
    "import scIB\n",
    "#Trajectory is asking precomputed sudo time point\n",
    "results,ilisi_all,clisi_all,kbet_all  =   scIB.metrics.metrics(\n",
    "        adata,\n",
    "        adata_int,\n",
    "        batch_key = batch,\n",
    "        label_key = cell_type,\n",
    "        hvg_score_=False,\n",
    "        cluster_key='cluster',\n",
    "        cluster_nmi=None,\n",
    "        ari_=True,\n",
    "        nmi_=True,\n",
    "        nmi_method='arithmetic',\n",
    "        nmi_dir=None,\n",
    "        silhouette_=False,\n",
    "        embed= 'X_pca',\n",
    "        si_metric='euclidean',\n",
    "        pcr_=False,\n",
    "        cell_cycle_=False,\n",
    "        organism='mouse',\n",
    "        isolated_labels_=False,  # backwards compatibility\n",
    "        isolated_labels_f1_=False,\n",
    "        isolated_labels_asw_=False,\n",
    "        n_isolated=None,\n",
    "        graph_conn_=False,\n",
    "        kBET_=False,\n",
    "        kBET_sub=0.5,\n",
    "        lisi_graph_=False,\n",
    "        lisi_raw=False,\n",
    "        trajectory_=False,\n",
    "        type_=None,\n",
    "        verbose=False,\n",
    ")\n",
    "results"
   ]
  },
  {
   "cell_type": "code",
   "execution_count": null,
   "id": "c7c3545d",
   "metadata": {},
   "outputs": [],
   "source": [
    "sc.settings.figdir = '/home/krushna/Documents/Data_integration/Figures/Immune_Human/'\n",
    "import matplotlib as mpl\n",
    "mpl.rcParams['figure.dpi'] = 200\n",
    "sc.pp.neighbors(adata_int)  # use_rep = 'final_embeddings'\n",
    "sc.tl.umap(adata_int)"
   ]
  },
  {
   "cell_type": "code",
   "execution_count": null,
   "id": "d5f201e4",
   "metadata": {},
   "outputs": [],
   "source": [
    "sc.pl.umap(adata_int, color=cell_type, frameon=False,save='_seurat_'+dataset+\"_cell_type.png\")\n",
    "sc.pl.umap(adata_int, color=batch, frameon=False,save='_seurat_'+dataset+\"_batch.png\")\n",
    "sc.pl.umap(adata_int, color='cluster', frameon=False,save='_seurat_'+dataset+\"_optimal_resolution.png\")"
   ]
  },
  {
   "cell_type": "code",
   "execution_count": null,
   "id": "528b7bf1-6a20-4bda-9c6d-8e3570fb877a",
   "metadata": {},
   "outputs": [],
   "source": []
  },
  {
   "cell_type": "code",
   "execution_count": null,
   "id": "5d58c97a-8b47-4407-a19e-30c198de032c",
   "metadata": {},
   "outputs": [],
   "source": [
    "import pandas as pd\n",
    "import numpy as np\n",
    "cluster_cell_type = pd.crosstab(np.array(adata_int.obs['cluster']),np.array(adata_int.obs['final_annotation']))\n",
    "cluster_cell_type.index.name = 'cluster'\n",
    "cluster_cell_type"
   ]
  },
  {
   "cell_type": "code",
   "execution_count": null,
   "id": "b8339f9f-ffdc-4b72-9882-8300a7183684",
   "metadata": {},
   "outputs": [],
   "source": [
    "li = []\n",
    "for column in cluster_cell_type:\n",
    "    li.append([column,entropy(cluster_cell_type[column])])\n",
    "pd.DataFrame(li)"
   ]
  },
  {
   "cell_type": "code",
   "execution_count": null,
   "id": "8d3dbdfe-147a-4c7a-9f2c-f036a150ed95",
   "metadata": {},
   "outputs": [],
   "source": []
  }
 ],
 "metadata": {
  "kernelspec": {
   "display_name": "Python 3 (ipykernel)",
   "language": "python",
   "name": "python3"
  },
  "language_info": {
   "codemirror_mode": {
    "name": "ipython",
    "version": 3
   },
   "file_extension": ".py",
   "mimetype": "text/x-python",
   "name": "python",
   "nbconvert_exporter": "python",
   "pygments_lexer": "ipython3",
   "version": "3.7.11"
  }
 },
 "nbformat": 4,
 "nbformat_minor": 5
}
