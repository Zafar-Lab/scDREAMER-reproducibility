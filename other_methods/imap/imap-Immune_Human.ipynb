{
 "cells": [
  {
   "cell_type": "code",
   "execution_count": null,
   "id": "5adb11e1",
   "metadata": {},
   "outputs": [],
   "source": [
    "import scvi\n",
    "import scanpy as sc\n",
    "import numpy as np\n",
    "import imap"
   ]
  },
  {
   "cell_type": "code",
   "execution_count": null,
   "id": "3bde40a0",
   "metadata": {},
   "outputs": [],
   "source": [
    "dir_path = \"/home/krushna/Documents/Data_integration/SCRNA_Datasets/All_h5ad/\"\n",
    "def load_data(dataset,batch):\n",
    "    adata =sc.read_h5ad(dir_path+dataset+'.h5ad')\n",
    "    sc.pp.filter_genes(adata, min_counts=3)\n",
    "    adata.layers[\"counts\"] = adata.X.copy()\n",
    "    sc.pp.normalize_total(adata, target_sum=1e4)\n",
    "    sc.pp.log1p(adata)\n",
    "    adata.raw = adata\n",
    "    sc.pp.highly_variable_genes(\n",
    "            adata,\n",
    "            flavor=\"seurat\",\n",
    "            n_top_genes=2000,\n",
    "            layer=\"counts\",\n",
    "            batch_key=batch,\n",
    "            subset=True\n",
    "    )\n",
    "    return adata\n",
    "    \n",
    "batch_key_dic = {'Immune_Human' : 'batch',\n",
    "                 'Immune_human_mouse' : 'batch',\n",
    "                 'Lung' : 'batch',\n",
    "                 'Mouse_brain' : 'batch',\n",
    "                 'Pancreas' : 'tech',\n",
    "                 'Simulation1' : 'Batch',\n",
    "                 'Simulation2' : 'Batch'}\n",
    "cell_type_key_dic = {'Immune_Human' : 'final_annotation',\n",
    "                 'Immune_human_mouse' : 'final_annotation',\n",
    "                 'Lung' : 'cell_type',\n",
    "                 'Mouse_brain' : 'cell_type',\n",
    "                 'Pancreas' : 'celltype',\n",
    "                 'Simulation1' : 'Group',\n",
    "                 'Simulation2' : 'Group'}    "
   ]
  },
  {
   "cell_type": "code",
   "execution_count": null,
   "id": "10f69035",
   "metadata": {},
   "outputs": [],
   "source": [
    "dataset = 'Immune_Human'\n",
    "batch = batch_key_dic[dataset]\n",
    "cell_type = cell_type_key_dic[dataset]"
   ]
  },
  {
   "cell_type": "code",
   "execution_count": null,
   "id": "d5618640-515f-4d56-b63c-6ef9ceec9776",
   "metadata": {},
   "outputs": [],
   "source": [
    "adata = load_data(dataset,batch)"
   ]
  },
  {
   "cell_type": "code",
   "execution_count": null,
   "id": "e30b2b18",
   "metadata": {},
   "outputs": [],
   "source": [
    "if type(adata.X) != type(np.array([])):\n",
    "    adata.X = adata.X.toarray()"
   ]
  },
  {
   "cell_type": "code",
   "execution_count": null,
   "id": "e1c9b402-d353-4c98-8a0c-dcb4a6b9ab90",
   "metadata": {},
   "outputs": [],
   "source": [
    "import time\n",
    "start_time = time.time()"
   ]
  },
  {
   "cell_type": "code",
   "execution_count": null,
   "id": "ef5c58ea-2ed8-4601-9dc1-8b25d349e640",
   "metadata": {
    "scrolled": true
   },
   "outputs": [],
   "source": [
    "### Stage I\n",
    "print('HI')\n",
    "EC, ec_data = imap.stage1.iMAP_fast(adata, key=batch)"
   ]
  },
  {
   "cell_type": "code",
   "execution_count": null,
   "id": "835e4648-26b0-4301-a794-78a388eda8d9",
   "metadata": {
    "scrolled": true,
    "tags": []
   },
   "outputs": [],
   "source": [
    "### Stage II\n",
    "output_results = imap.stage2.integrate_data(adata, ec_data, key=batch)"
   ]
  },
  {
   "cell_type": "code",
   "execution_count": null,
   "id": "4742d790",
   "metadata": {},
   "outputs": [],
   "source": [
    "output_results.shape"
   ]
  },
  {
   "cell_type": "code",
   "execution_count": null,
   "id": "3b4524d4-a876-436a-a27a-08e16acbf7c4",
   "metadata": {},
   "outputs": [],
   "source": [
    "end_time = time.time()\n",
    "print('total time talken', end_time-start_time)"
   ]
  },
  {
   "cell_type": "code",
   "execution_count": null,
   "id": "cf8f4bd3",
   "metadata": {},
   "outputs": [],
   "source": [
    "adata_int = adata.copy()\n",
    "adata_int.X = output_results"
   ]
  },
  {
   "cell_type": "code",
   "execution_count": null,
   "id": "0cc43f72-1b99-428c-a809-cbc76f05b2a3",
   "metadata": {},
   "outputs": [],
   "source": [
    "adata_int.write('imap-Immune_Human.h5ad')"
   ]
  },
  {
   "cell_type": "code",
   "execution_count": null,
   "id": "922ddd85-c00a-4349-afd4-79d0e19c85ac",
   "metadata": {},
   "outputs": [],
   "source": [
    "adata_int = sc.read_h5ad(\"imap-Immune_Human.h5ad\")"
   ]
  },
  {
   "cell_type": "code",
   "execution_count": null,
   "id": "609961ca",
   "metadata": {},
   "outputs": [],
   "source": [
    "adata_int"
   ]
  },
  {
   "cell_type": "code",
   "execution_count": null,
   "id": "156a94ba",
   "metadata": {
    "scrolled": true,
    "tags": []
   },
   "outputs": [],
   "source": [
    "import scIB\n",
    "#Trajectory is asking precomputed sudo time point\n",
    "results,ilisi_all,clisi_all,kbet_all  =   scIB.metrics.metrics(\n",
    "        adata,\n",
    "        adata_int,\n",
    "        batch_key = batch,\n",
    "        label_key = cell_type,\n",
    "        hvg_score_=False,\n",
    "        cluster_key='cluster',\n",
    "        cluster_nmi=None,\n",
    "        ari_=True,\n",
    "        nmi_=True,\n",
    "        nmi_method='arithmetic',\n",
    "        nmi_dir=None,\n",
    "        silhouette_=True,\n",
    "        embed= 'X_pca',\n",
    "        si_metric='euclidean',\n",
    "        pcr_=True,\n",
    "        cell_cycle_=False,\n",
    "        organism='mouse',\n",
    "        isolated_labels_=True,  # backwards compatibility\n",
    "        isolated_labels_f1_=False,\n",
    "        isolated_labels_asw_=False,\n",
    "        n_isolated=None,\n",
    "        graph_conn_=True,\n",
    "        kBET_=True,\n",
    "        kBET_sub=0.5,\n",
    "        lisi_graph_=True,\n",
    "        lisi_raw=True,\n",
    "        trajectory_=False,\n",
    "        type_=None,\n",
    "        verbose=False,\n",
    ")"
   ]
  },
  {
   "cell_type": "code",
   "execution_count": null,
   "id": "3e1ea281-6432-475a-95f0-d0bc9c6e0b2d",
   "metadata": {},
   "outputs": [],
   "source": [
    "results"
   ]
  },
  {
   "cell_type": "code",
   "execution_count": null,
   "id": "2996bdb6-1238-43d0-a7b5-8ff66735f146",
   "metadata": {},
   "outputs": [],
   "source": [
    "import numpy as np\n",
    "np.savetxt(dataset+\"_ilisi.csv\", ilisi_all, delimiter=\",\")\n",
    "np.savetxt(dataset+\"_clisi.csv\", clisi_all, delimiter=\",\")\n",
    "np.savetxt(dataset+\"_kbet_all.csv\",np.concatenate([np.array(val).reshape(1,-1) for val in kbet_all],axis = 0), delimiter=',')"
   ]
  },
  {
   "cell_type": "code",
   "execution_count": null,
   "id": "b5bea771-7d8c-4460-b192-79d305dc4ea4",
   "metadata": {},
   "outputs": [],
   "source": [
    "import matplotlib as mpl\n",
    "mpl.rcParams['figure.dpi'] = 300"
   ]
  },
  {
   "cell_type": "code",
   "execution_count": null,
   "id": "9358792e",
   "metadata": {},
   "outputs": [],
   "source": [
    "sc.pp.neighbors(adata_int)  # use_rep = 'final_embeddings'\n",
    "sc.tl.umap(adata_int)\n",
    "sc.pl.umap(adata_int, color=cell_type, frameon=False)\n",
    "sc.pl.umap(adata_int, color=batch, frameon=False)\n",
    "sc.pl.umap(adata_int, color='cluster', frameon=False)"
   ]
  },
  {
   "cell_type": "code",
   "execution_count": null,
   "id": "50e467a9",
   "metadata": {},
   "outputs": [],
   "source": [
    "import numpy as np\n",
    "cluster_key = 'cluster'\n",
    "sc.tl.louvain(adata, resolution=0.01, key_added=cluster_key)\n",
    "len(np.unique(adata.obs[cluster_key]))"
   ]
  },
  {
   "cell_type": "code",
   "execution_count": null,
   "id": "7e57ab9c",
   "metadata": {},
   "outputs": [],
   "source": []
  },
  {
   "cell_type": "code",
   "execution_count": null,
   "id": "840a8878-79bc-4923-8cf6-34108cb39c2f",
   "metadata": {},
   "outputs": [],
   "source": [
    "import scIB\n",
    "#Trajectory is asking precomputed sudo time point\n",
    "results,ilisi_all,clisi_all,kbet_all  =   scIB.metrics.metrics(\n",
    "        adata,\n",
    "        adata_int,\n",
    "        batch_key = batch,\n",
    "        label_key = cell_type,\n",
    "        hvg_score_=False,\n",
    "        cluster_key='cluster',\n",
    "        cluster_nmi=None,\n",
    "        ari_=True,\n",
    "        nmi_=False,\n",
    "        nmi_method='arithmetic',\n",
    "        nmi_dir=None,\n",
    "        silhouette_=False,\n",
    "        embed= 'X_pca',\n",
    "        si_metric='euclidean',\n",
    "        pcr_=False,\n",
    "        cell_cycle_=False,\n",
    "        organism='mouse',\n",
    "        isolated_labels_=False,  # backwards compatibility\n",
    "        isolated_labels_f1_=False,\n",
    "        isolated_labels_asw_=False,\n",
    "        n_isolated=None,\n",
    "        graph_conn_=False,\n",
    "        kBET_=False,\n",
    "        kBET_sub=0.5,\n",
    "        lisi_graph_=False,\n",
    "        lisi_raw=False,\n",
    "        trajectory_=True,\n",
    "        type_=None,\n",
    "        verbose=False,\n",
    ")\n",
    "results"
   ]
  },
  {
   "cell_type": "code",
   "execution_count": null,
   "id": "22cbfcfe-5262-4d0a-a704-0ce367304336",
   "metadata": {},
   "outputs": [],
   "source": []
  },
  {
   "cell_type": "code",
   "execution_count": null,
   "id": "f821a115-0ac3-4595-84e0-243abd01bac0",
   "metadata": {},
   "outputs": [],
   "source": []
  }
 ],
 "metadata": {
  "kernelspec": {
   "display_name": "Python 3 (ipykernel)",
   "language": "python",
   "name": "python3"
  },
  "language_info": {
   "codemirror_mode": {
    "name": "ipython",
    "version": 3
   },
   "file_extension": ".py",
   "mimetype": "text/x-python",
   "name": "python",
   "nbconvert_exporter": "python",
   "pygments_lexer": "ipython3",
   "version": "3.7.13"
  }
 },
 "nbformat": 4,
 "nbformat_minor": 5
}
