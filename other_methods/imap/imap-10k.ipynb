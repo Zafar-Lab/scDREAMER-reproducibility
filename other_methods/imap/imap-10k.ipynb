{
 "cells": [
  {
   "cell_type": "code",
   "execution_count": null,
   "id": "5adb11e1",
   "metadata": {
    "execution": {
     "iopub.execute_input": "2022-12-16T05:44:09.958859Z",
     "iopub.status.busy": "2022-12-16T05:44:09.958201Z",
     "iopub.status.idle": "2022-12-16T05:44:12.871340Z",
     "shell.execute_reply": "2022-12-16T05:44:12.870258Z",
     "shell.execute_reply.started": "2022-12-16T05:44:09.958690Z"
    },
    "tags": []
   },
   "outputs": [],
   "source": [
    "import scvi\n",
    "import scanpy as sc\n",
    "import numpy as np\n",
    "import imap"
   ]
  },
  {
   "cell_type": "code",
   "execution_count": null,
   "id": "3bde40a0",
   "metadata": {
    "execution": {
     "iopub.execute_input": "2022-12-16T05:44:12.873425Z",
     "iopub.status.busy": "2022-12-16T05:44:12.873046Z",
     "iopub.status.idle": "2022-12-16T05:44:12.880611Z",
     "shell.execute_reply": "2022-12-16T05:44:12.879520Z",
     "shell.execute_reply.started": "2022-12-16T05:44:12.873397Z"
    },
    "tags": []
   },
   "outputs": [],
   "source": [
    "dir_path = \"/home/krushna/Documents/Data_integration/SCRNA_Datasets/All_h5ad/\"\n",
    "def load_data(dataset,batch):\n",
    "    adata =sc.read_h5ad(dir_path+dataset+'.h5ad')\n",
    "    sc.pp.filter_genes(adata, min_counts=3)\n",
    "    adata.layers[\"counts\"] = adata.X.copy()\n",
    "    sc.pp.normalize_total(adata, target_sum=1e4)\n",
    "    sc.pp.log1p(adata)\n",
    "    adata.raw = adata\n",
    "    sc.pp.highly_variable_genes(\n",
    "            adata,\n",
    "            flavor=\"seurat\",\n",
    "            n_top_genes=2000,\n",
    "            layer=\"counts\",\n",
    "            batch_key=batch,\n",
    "            subset=True\n",
    "    )\n",
    "    return adata\n",
    "    "
   ]
  },
  {
   "cell_type": "code",
   "execution_count": null,
   "id": "10f69035",
   "metadata": {
    "execution": {
     "iopub.execute_input": "2022-12-16T05:44:12.881718Z",
     "iopub.status.busy": "2022-12-16T05:44:12.881539Z",
     "iopub.status.idle": "2022-12-16T05:44:12.886294Z",
     "shell.execute_reply": "2022-12-16T05:44:12.885292Z",
     "shell.execute_reply.started": "2022-12-16T05:44:12.881694Z"
    },
    "tags": []
   },
   "outputs": [],
   "source": [
    "dataset = 'Human_Mouse_10k'\n",
    "batch = 'batch'\n",
    "cell_type ='celltype'"
   ]
  },
  {
   "cell_type": "code",
   "execution_count": null,
   "id": "d5618640-515f-4d56-b63c-6ef9ceec9776",
   "metadata": {
    "execution": {
     "iopub.execute_input": "2022-12-16T05:44:12.888497Z",
     "iopub.status.busy": "2022-12-16T05:44:12.888161Z",
     "iopub.status.idle": "2022-12-16T05:44:18.113872Z",
     "shell.execute_reply": "2022-12-16T05:44:18.112981Z",
     "shell.execute_reply.started": "2022-12-16T05:44:12.888470Z"
    },
    "tags": []
   },
   "outputs": [],
   "source": [
    "adata = load_data(dataset,batch)"
   ]
  },
  {
   "cell_type": "code",
   "execution_count": null,
   "id": "e30b2b18",
   "metadata": {
    "execution": {
     "iopub.execute_input": "2022-12-16T05:44:18.115225Z",
     "iopub.status.busy": "2022-12-16T05:44:18.114898Z",
     "iopub.status.idle": "2022-12-16T05:44:18.170460Z",
     "shell.execute_reply": "2022-12-16T05:44:18.169458Z",
     "shell.execute_reply.started": "2022-12-16T05:44:18.115206Z"
    },
    "tags": []
   },
   "outputs": [],
   "source": [
    "if type(adata.X) != type(np.array([])):\n",
    "    adata.X = adata.X.toarray()"
   ]
  },
  {
   "cell_type": "code",
   "execution_count": null,
   "id": "f193bdc9-271b-4614-b8b0-c7af9f61081c",
   "metadata": {
    "execution": {
     "iopub.execute_input": "2022-12-16T05:44:18.171525Z",
     "iopub.status.busy": "2022-12-16T05:44:18.171370Z",
     "iopub.status.idle": "2022-12-16T05:44:18.175500Z",
     "shell.execute_reply": "2022-12-16T05:44:18.174639Z",
     "shell.execute_reply.started": "2022-12-16T05:44:18.171508Z"
    },
    "tags": []
   },
   "outputs": [],
   "source": [
    "import time\n",
    "start_time = time.time()"
   ]
  },
  {
   "cell_type": "code",
   "execution_count": null,
   "id": "ef5c58ea-2ed8-4601-9dc1-8b25d349e640",
   "metadata": {
    "execution": {
     "iopub.execute_input": "2022-12-16T05:44:18.176460Z",
     "iopub.status.busy": "2022-12-16T05:44:18.176258Z",
     "iopub.status.idle": "2022-12-16T05:44:53.718094Z",
     "shell.execute_reply": "2022-12-16T05:44:53.717075Z",
     "shell.execute_reply.started": "2022-12-16T05:44:18.176444Z"
    },
    "scrolled": true,
    "tags": []
   },
   "outputs": [],
   "source": [
    "### Stage I\n",
    "print('HI')\n",
    "EC, ec_data = imap.stage1.iMAP_fast(adata, key=batch,  n_epochs=50)"
   ]
  },
  {
   "cell_type": "code",
   "execution_count": null,
   "id": "835e4648-26b0-4301-a794-78a388eda8d9",
   "metadata": {
    "execution": {
     "iopub.execute_input": "2022-12-16T05:44:53.719609Z",
     "iopub.status.busy": "2022-12-16T05:44:53.719453Z",
     "iopub.status.idle": "2022-12-16T05:45:16.108678Z",
     "shell.execute_reply": "2022-12-16T05:45:16.107872Z",
     "shell.execute_reply.started": "2022-12-16T05:44:53.719591Z"
    },
    "scrolled": true,
    "tags": []
   },
   "outputs": [],
   "source": [
    "### Stage II\n",
    "output_results = imap.stage2.integrate_data(adata, ec_data, key=batch,  n_epochs=50)"
   ]
  },
  {
   "cell_type": "code",
   "execution_count": null,
   "id": "3685d5c4-88e4-451a-a716-9e357d15b408",
   "metadata": {
    "execution": {
     "iopub.execute_input": "2022-12-16T05:45:16.109781Z",
     "iopub.status.busy": "2022-12-16T05:45:16.109569Z",
     "iopub.status.idle": "2022-12-16T05:45:16.114345Z",
     "shell.execute_reply": "2022-12-16T05:45:16.113425Z",
     "shell.execute_reply.started": "2022-12-16T05:45:16.109762Z"
    },
    "tags": []
   },
   "outputs": [],
   "source": [
    "end_time = time.time()\n",
    "print('total time taken: ',end_time-start_time)"
   ]
  },
  {
   "cell_type": "code",
   "execution_count": null,
   "id": "4742d790",
   "metadata": {
    "execution": {
     "iopub.execute_input": "2022-12-16T05:45:16.116141Z",
     "iopub.status.busy": "2022-12-16T05:45:16.115938Z",
     "iopub.status.idle": "2022-12-16T05:45:16.126025Z",
     "shell.execute_reply": "2022-12-16T05:45:16.125284Z",
     "shell.execute_reply.started": "2022-12-16T05:45:16.116121Z"
    },
    "tags": []
   },
   "outputs": [],
   "source": [
    "output_results.shape"
   ]
  },
  {
   "cell_type": "code",
   "execution_count": null,
   "id": "cf8f4bd3",
   "metadata": {
    "execution": {
     "iopub.execute_input": "2022-12-16T05:29:29.718876Z",
     "iopub.status.busy": "2022-12-16T05:29:29.718528Z",
     "iopub.status.idle": "2022-12-16T05:29:31.190465Z",
     "shell.execute_reply": "2022-12-16T05:29:31.189494Z",
     "shell.execute_reply.started": "2022-12-16T05:29:29.718844Z"
    }
   },
   "outputs": [],
   "source": [
    "# adata_int = adata.copy()\n",
    "# adata_int.X = output_results"
   ]
  },
  {
   "cell_type": "code",
   "execution_count": null,
   "id": "0cc43f72-1b99-428c-a809-cbc76f05b2a3",
   "metadata": {
    "execution": {
     "iopub.execute_input": "2022-12-16T05:29:31.191794Z",
     "iopub.status.busy": "2022-12-16T05:29:31.191478Z",
     "iopub.status.idle": "2022-12-16T05:29:33.498598Z",
     "shell.execute_reply": "2022-12-16T05:29:33.497543Z",
     "shell.execute_reply.started": "2022-12-16T05:29:31.191774Z"
    }
   },
   "outputs": [],
   "source": [
    "# adata_int.write('imap-'+dataset+'.h5ad')"
   ]
  },
  {
   "cell_type": "code",
   "execution_count": null,
   "id": "922ddd85-c00a-4349-afd4-79d0e19c85ac",
   "metadata": {
    "execution": {
     "iopub.execute_input": "2022-12-16T05:29:33.500720Z",
     "iopub.status.busy": "2022-12-16T05:29:33.500432Z",
     "iopub.status.idle": "2022-12-16T05:29:33.504323Z",
     "shell.execute_reply": "2022-12-16T05:29:33.503575Z",
     "shell.execute_reply.started": "2022-12-16T05:29:33.500702Z"
    }
   },
   "outputs": [],
   "source": [
    "# adata_int = sc.read_h5ad(\"imap-\"+dataset+\".h5ad\")"
   ]
  },
  {
   "cell_type": "code",
   "execution_count": null,
   "id": "609961ca",
   "metadata": {
    "execution": {
     "iopub.execute_input": "2022-12-16T05:29:33.505420Z",
     "iopub.status.busy": "2022-12-16T05:29:33.505181Z",
     "iopub.status.idle": "2022-12-16T05:29:33.558498Z",
     "shell.execute_reply": "2022-12-16T05:29:33.557321Z",
     "shell.execute_reply.started": "2022-12-16T05:29:33.505399Z"
    }
   },
   "outputs": [],
   "source": [
    "# adata_int"
   ]
  },
  {
   "cell_type": "code",
   "execution_count": null,
   "id": "156a94ba",
   "metadata": {
    "execution": {
     "iopub.execute_input": "2022-12-16T05:29:33.560425Z",
     "iopub.status.busy": "2022-12-16T05:29:33.560011Z",
     "iopub.status.idle": "2022-12-16T05:29:33.628653Z",
     "shell.execute_reply": "2022-12-16T05:29:33.627799Z",
     "shell.execute_reply.started": "2022-12-16T05:29:33.560387Z"
    }
   },
   "outputs": [],
   "source": [
    "# import scIB\n",
    "# #Trajectory is asking precomputed sudo time point\n",
    "# results,ilisi_all,clisi_all,kbet_all  =   scIB.metrics.metrics(\n",
    "#         adata,\n",
    "#         adata_int,\n",
    "#         batch_key = batch,\n",
    "#         label_key = cell_type,\n",
    "#         hvg_score_=False,\n",
    "#         cluster_key='cluster',\n",
    "#         cluster_nmi=None,\n",
    "#         ari_=True,\n",
    "#         nmi_=True,\n",
    "#         nmi_method='arithmetic',\n",
    "#         nmi_dir=None,\n",
    "#         silhouette_=True,\n",
    "#         embed= 'X_pca',\n",
    "#         si_metric='euclidean',\n",
    "#         pcr_=True,\n",
    "#         cell_cycle_=False,\n",
    "#         organism='mouse',\n",
    "#         isolated_labels_=True,  # backwards compatibility\n",
    "#         isolated_labels_f1_=False,\n",
    "#         isolated_labels_asw_=False,\n",
    "#         n_isolated=None,\n",
    "#         graph_conn_=True,\n",
    "#         kBET_=True,\n",
    "#         kBET_sub=0.5,\n",
    "#         lisi_graph_=True,\n",
    "#         lisi_raw=True,\n",
    "#         trajectory_=False,\n",
    "#         type_=None,\n",
    "#         verbose=False,\n",
    "# )"
   ]
  },
  {
   "cell_type": "code",
   "execution_count": null,
   "id": "3e1ea281-6432-475a-95f0-d0bc9c6e0b2d",
   "metadata": {
    "execution": {
     "iopub.execute_input": "2022-12-16T05:29:33.630190Z",
     "iopub.status.busy": "2022-12-16T05:29:33.629821Z",
     "iopub.status.idle": "2022-12-16T05:29:33.724104Z",
     "shell.execute_reply": "2022-12-16T05:29:33.722671Z",
     "shell.execute_reply.started": "2022-12-16T05:29:33.630159Z"
    }
   },
   "outputs": [],
   "source": [
    "# results"
   ]
  },
  {
   "cell_type": "code",
   "execution_count": null,
   "id": "2996bdb6-1238-43d0-a7b5-8ff66735f146",
   "metadata": {
    "execution": {
     "iopub.execute_input": "2022-12-16T05:29:33.726497Z",
     "iopub.status.busy": "2022-12-16T05:29:33.725925Z",
     "iopub.status.idle": "2022-12-16T05:29:33.731788Z",
     "shell.execute_reply": "2022-12-16T05:29:33.730889Z",
     "shell.execute_reply.started": "2022-12-16T05:29:33.726444Z"
    }
   },
   "outputs": [],
   "source": [
    "# import numpy as np\n",
    "# np.savetxt(dataset+\"_ilisi.csv\", ilisi_all, delimiter=\",\")\n",
    "# np.savetxt(dataset+\"_clisi.csv\", clisi_all, delimiter=\",\")\n",
    "# np.savetxt(dataset+\"_kbet_all.csv\",np.concatenate([np.array(val).reshape(1,-1) for val in kbet_all],axis = 0), delimiter=',')"
   ]
  },
  {
   "cell_type": "code",
   "execution_count": null,
   "id": "b5bea771-7d8c-4460-b192-79d305dc4ea4",
   "metadata": {
    "execution": {
     "iopub.execute_input": "2022-12-16T05:29:33.733060Z",
     "iopub.status.busy": "2022-12-16T05:29:33.732754Z",
     "iopub.status.idle": "2022-12-16T05:29:33.736825Z",
     "shell.execute_reply": "2022-12-16T05:29:33.735872Z",
     "shell.execute_reply.started": "2022-12-16T05:29:33.733038Z"
    }
   },
   "outputs": [],
   "source": [
    "# import matplotlib as mpl\n",
    "# mpl.rcParams['figure.dpi'] = 300"
   ]
  },
  {
   "cell_type": "code",
   "execution_count": null,
   "id": "9358792e",
   "metadata": {
    "execution": {
     "iopub.execute_input": "2022-12-16T05:29:33.737953Z",
     "iopub.status.busy": "2022-12-16T05:29:33.737785Z",
     "iopub.status.idle": "2022-12-16T05:29:33.741036Z",
     "shell.execute_reply": "2022-12-16T05:29:33.740443Z",
     "shell.execute_reply.started": "2022-12-16T05:29:33.737931Z"
    }
   },
   "outputs": [],
   "source": [
    "# sc.pp.neighbors(adata_int)  # use_rep = 'final_embeddings'a\n",
    "# sc.tl.umap(adata_int)\n",
    "# sc.pl.umap(adata_int, color=cell_type, frameon=False)\n",
    "# sc.pl.umap(adata_int, color=batch, frameon=False)\n",
    "# sc.pl.umap(adata_int, color='cluster', frameon=False)"
   ]
  },
  {
   "cell_type": "code",
   "execution_count": null,
   "id": "7e57ab9c",
   "metadata": {},
   "outputs": [],
   "source": []
  },
  {
   "cell_type": "code",
   "execution_count": null,
   "id": "dfc10987-4ec4-430a-bb81-7db948d85ef0",
   "metadata": {},
   "outputs": [],
   "source": []
  },
  {
   "cell_type": "code",
   "execution_count": null,
   "id": "935014ff-9d9c-4cd3-a529-1bb3844d1d99",
   "metadata": {},
   "outputs": [],
   "source": []
  }
 ],
 "metadata": {
  "kernelspec": {
   "display_name": "Python 3 (ipykernel)",
   "language": "python",
   "name": "python3"
  },
  "language_info": {
   "codemirror_mode": {
    "name": "ipython",
    "version": 3
   },
   "file_extension": ".py",
   "mimetype": "text/x-python",
   "name": "python",
   "nbconvert_exporter": "python",
   "pygments_lexer": "ipython3",
   "version": "3.7.13"
  }
 },
 "nbformat": 4,
 "nbformat_minor": 5
}
