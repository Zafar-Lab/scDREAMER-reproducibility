{
 "cells": [
  {
   "cell_type": "code",
   "execution_count": null,
   "id": "001d8efd",
   "metadata": {},
   "outputs": [],
   "source": [
    "import scanpy as sc"
   ]
  },
  {
   "cell_type": "code",
   "execution_count": null,
   "id": "9bbb6d55",
   "metadata": {},
   "outputs": [],
   "source": [
    "dir_path = \"/home/krushna/Documents/Data_integration/SCRNA_Datasets/All_h5ad/\"\n",
    "def load_data(dataset,batch):\n",
    "    adata =sc.read_h5ad(dir_path+dataset+'.h5ad')\n",
    "    sc.pp.filter_genes(adata, min_counts=3)\n",
    "    adata.layers[\"counts\"] = adata.X.copy()\n",
    "    sc.pp.normalize_total(adata, target_sum=1e4)\n",
    "    sc.pp.log1p(adata)\n",
    "    adata.raw = adata\n",
    "    sc.pp.highly_variable_genes(\n",
    "            adata,\n",
    "            flavor=\"seurat\",\n",
    "            n_top_genes=2000,\n",
    "            layer=\"counts\",\n",
    "            batch_key=batch,\n",
    "            subset=True\n",
    "    )\n",
    "    return adata\n",
    "    \n",
    "batch_key_dic = {'Immune_Human' : 'batch',\n",
    "                 'Immune_human_mouse' : 'batch',\n",
    "                 'Lung' : 'batch',\n",
    "                 'Mouse_brain' : 'batch',\n",
    "                 'Pancreas' : 'tech',\n",
    "                 'Simulation1' : 'Batch',\n",
    "                 'Simulation2' : 'Batch',\n",
    "                 'Pancreas_scDGN' : 'batch',\n",
    "                 'Mouse_Brain_scDGN' : 'batch',\n",
    "                 'tabular_muris' : \"batch\",\n",
    "                 'Human_Mouse' : 'batch',\n",
    "                 'Human_Retina': \"Batch\"\n",
    "                 \n",
    "                }\n",
    "cell_type_key_dic = {'Immune_Human' : 'final_annotation',\n",
    "                 'Immune_human_mouse' : 'final_annotation',\n",
    "                 'Lung' : 'cell_type',\n",
    "                 'Mouse_brain' : 'cell_type',\n",
    "                 'Pancreas' : 'celltype',\n",
    "                 'Simulation1' : 'Group',\n",
    "                 'Simulation2' : 'Group',\n",
    "                 'Pancreas_scDGN' : 'cell_type',\n",
    "                 'Mouse_Brain_scDGN' : \"tissue\" ,\n",
    "                 \"tabular_muris\" : \"cell_ontology_class\",\n",
    "                 'Human_Mouse' : \"celltype\",\n",
    "                 \"Human_Retina\":\"Subcluster\"\n",
    "                    }  "
   ]
  },
  {
   "cell_type": "code",
   "execution_count": null,
   "id": "5088ee57",
   "metadata": {},
   "outputs": [],
   "source": [
    "dataset = 'Immune_Human_removed_top_cells'\n",
    "batch = 'batch'\n",
    "cell_type = 'final_annotation'\n",
    "adata = load_data(dataset,batch)"
   ]
  },
  {
   "cell_type": "code",
   "execution_count": null,
   "id": "4fffbdbb",
   "metadata": {},
   "outputs": [],
   "source": [
    "# Load data\n",
    "import pandas as pd\n",
    "import harmonypy as hm\n",
    "\n",
    "\n",
    "sc.tl.pca(adata)\n",
    "meta_data = adata.obs\n",
    "vars_use = [batch]\n",
    "\n",
    "data_mat = adata.obsm['X_pca'][:,:20]\n",
    "# meta_data\n",
    "#\n",
    "#                  cell_id dataset  nGene  percent_mito cell_type\n",
    "# 0    half_TGAAATTGGTCTAG    half   3664      0.017722    jurkat\n",
    "# 1    half_GCGATATGCTGATG    half   3858      0.029228      t293\n",
    "# 299  t293_ACGCTGCTTCTTAC    t293   3513      0.021240      t293\n",
    "\n",
    "\n",
    "\n",
    "# data_mat[:5,:5]\n",
    "#\n",
    "# array([[ 0.0071695 , -0.00552724, -0.0036281 , -0.00798025,  0.00028931],\n",
    "#        [-0.011333  ,  0.00022233, -0.00073589, -0.00192452,  0.0032624 ],\n",
    "#        [ 0.0091214 , -0.00940727, -0.00106816, -0.0042749 , -0.00029096],\n",
    "#        [ 0.00866286, -0.00514987, -0.0008989 , -0.00821785, -0.00126997],\n",
    "#        [-0.00953977,  0.00222714, -0.00374373, -0.00028554,  0.00063737]])\n",
    "\n",
    "# meta_data.shape # 300 cells, 5 variables\n",
    "# (300, 5)\n",
    "#\n",
    "# data_mat.shape  # 300 cells, 20 PCs\n",
    "# (300, 20)\n",
    "\n",
    "# Run Harmony\n",
    "\n",
    "# res.to_csv(\"data/adj.tsv.gz\", sep = \"\\t\", index = False)\n"
   ]
  },
  {
   "cell_type": "code",
   "execution_count": null,
   "id": "0dd4fb1c",
   "metadata": {},
   "outputs": [],
   "source": [
    "ho = hm.run_harmony(data_mat, meta_data, vars_use)\n",
    "\n",
    "# Write the adjusted PCs to a new file.\n",
    "res = pd.DataFrame(ho.Z_corr)\n"
   ]
  },
  {
   "cell_type": "code",
   "execution_count": null,
   "id": "04a7eb79",
   "metadata": {},
   "outputs": [],
   "source": [
    "adata.obsm['X_harmony']  = res.T.to_numpy()\n",
    "adata.write('harmony-Immune_Human-removed_top_cells.h5ad')"
   ]
  },
  {
   "cell_type": "code",
   "execution_count": null,
   "id": "23e67e6e",
   "metadata": {},
   "outputs": [],
   "source": [
    "adata = sc.read_h5ad('harmony-Immune_Human-removed_top_cells.h5ad')"
   ]
  },
  {
   "cell_type": "code",
   "execution_count": null,
   "id": "973b110d-cd4c-4f45-aa9f-f889b6f3c55d",
   "metadata": {
    "scrolled": true
   },
   "outputs": [],
   "source": [
    "import scIB \n",
    "#Trajectory is asking precomputed sudo time point\n",
    "results,ilisi_all,clisi_all,kbet_all  =      scIB.metrics.metrics(\n",
    "        adata,\n",
    "        adata,\n",
    "        batch_key = batch,\n",
    "        label_key = cell_type,\n",
    "        hvg_score_=False,\n",
    "        cluster_key='cluster',\n",
    "        cluster_nmi=None,\n",
    "        ari_=True,\n",
    "        nmi_=True,\n",
    "        nmi_method='arithmetic',\n",
    "        nmi_dir=None,\n",
    "        silhouette_=True,\n",
    "        embed= 'X_harmony',\n",
    "        si_metric='euclidean',\n",
    "        pcr_=True,\n",
    "        cell_cycle_=False,\n",
    "        organism='mouse',\n",
    "        isolated_labels_=True,  # backwards compatibility\n",
    "        isolated_labels_f1_=True,\n",
    "        isolated_labels_asw_=True,\n",
    "        n_isolated=None,\n",
    "        graph_conn_=True,\n",
    "        kBET_=True,\n",
    "        kBET_sub=0.5,\n",
    "        lisi_graph_=True,\n",
    "        lisi_raw=True,\n",
    "        trajectory_=False,\n",
    "        type_=None,\n",
    "        verbose=False,\n",
    ")"
   ]
  },
  {
   "cell_type": "code",
   "execution_count": null,
   "id": "d524aa3d-ac36-41f4-b502-dd48a797a6b1",
   "metadata": {
    "tags": []
   },
   "outputs": [],
   "source": [
    "results"
   ]
  },
  {
   "cell_type": "code",
   "execution_count": null,
   "id": "d3f7662e-d7fb-4595-977a-438af1bc91ee",
   "metadata": {},
   "outputs": [],
   "source": [
    "import numpy as np\n",
    "np.savetxt(dataset+\"_ilisi.csv\", ilisi_all, delimiter=\",\")\n",
    "np.savetxt(dataset+\"_clisi.csv\", clisi_all, delimiter=\",\")\n",
    "np.savetxt(dataset+\"_kbet_all.csv\",np.concatenate([np.array(val).reshape(1,-1) for val in kbet_all],axis = 0), delimiter=',')"
   ]
  },
  {
   "cell_type": "code",
   "execution_count": null,
   "id": "58255a87-6cbb-4d48-8075-16542b3a0156",
   "metadata": {},
   "outputs": [],
   "source": [
    "import matplotlib as mpl\n",
    "mpl.rcParams['figure.dpi'] = 300"
   ]
  },
  {
   "cell_type": "code",
   "execution_count": null,
   "id": "7139254c",
   "metadata": {},
   "outputs": [],
   "source": [
    "import numpy as np\n",
    "from sklearn.cluster import KMeans\n",
    "from sklearn.metrics.cluster import normalized_mutual_info_score as nmi\n",
    "\n",
    "\n",
    "latent_matrix = adata.obsm['X_harmony'] \n",
    "labels = np.array(adata.obs[cell_type] )\n",
    "K = np.size(np.unique(labels))\n",
    "kmeans = KMeans(n_clusters=K, random_state=0).fit(latent_matrix)\n",
    "y_pred = kmeans.labels_\n",
    "\n",
    "print('Computing NMI ...')\n",
    "NMI = nmi(labels.flatten(), y_pred.flatten())\n",
    "print('NMI = {}'.format(NMI))"
   ]
  },
  {
   "cell_type": "code",
   "execution_count": null,
   "id": "792cc3a4",
   "metadata": {
    "scrolled": true
   },
   "outputs": [],
   "source": [
    "sc.pp.neighbors(adata, use_rep='X_harmony')  # use_rep = 'final_embeddings'\n",
    "sc.tl.umap(adata)\n",
    "sc.pl.umap(adata, color=cell_type, frameon=False)\n",
    "sc.pl.umap(adata, color=batch, frameon=False)\n",
    "sc.pl.umap(adata, color='cluster', frameon=False)"
   ]
  },
  {
   "cell_type": "code",
   "execution_count": null,
   "id": "c280328d",
   "metadata": {},
   "outputs": [],
   "source": [
    "adata.obs['temp'] =  y_pred\n",
    "adata.obs['temp'] = adata.obs['temp'].astype(str)\n",
    "sc.pl.umap(adata, color='temp', frameon=False)"
   ]
  },
  {
   "cell_type": "code",
   "execution_count": null,
   "id": "b5203b92",
   "metadata": {},
   "outputs": [],
   "source": []
  },
  {
   "cell_type": "code",
   "execution_count": null,
   "id": "79cc018a-7cb2-4d6f-bacd-da932ecb44d8",
   "metadata": {},
   "outputs": [],
   "source": []
  },
  {
   "cell_type": "code",
   "execution_count": null,
   "id": "fc6f280c-a6f2-49ba-8c52-b848f6926caa",
   "metadata": {},
   "outputs": [],
   "source": []
  }
 ],
 "metadata": {
  "kernelspec": {
   "display_name": "Python 3 (ipykernel)",
   "language": "python",
   "name": "python3"
  },
  "language_info": {
   "codemirror_mode": {
    "name": "ipython",
    "version": 3
   },
   "file_extension": ".py",
   "mimetype": "text/x-python",
   "name": "python",
   "nbconvert_exporter": "python",
   "pygments_lexer": "ipython3",
   "version": "3.7.11"
  }
 },
 "nbformat": 4,
 "nbformat_minor": 5
}
