{
 "cells": [
  {
   "cell_type": "code",
   "execution_count": null,
   "id": "5adb11e1",
   "metadata": {},
   "outputs": [],
   "source": [
    "import scvi\n",
    "import scanpy as sc\n",
    "import numpy as np"
   ]
  },
  {
   "cell_type": "code",
   "execution_count": null,
   "id": "3bde40a0",
   "metadata": {},
   "outputs": [],
   "source": [
    "dir_path = \"/home/krushna/Documents/Data_integration/SCRNA_Datasets/All_h5ad/\"\n",
    "def load_data(dataset,batch):\n",
    "    adata =sc.read_h5ad(dir_path+dataset+'.h5ad')\n",
    "    sc.pp.filter_genes(adata, min_counts=3)\n",
    "    adata.layers[\"counts\"] = adata.X.copy()\n",
    "    sc.pp.normalize_total(adata, target_sum=1e4)\n",
    "    sc.pp.log1p(adata)\n",
    "    adata.raw = adata\n",
    "    sc.pp.highly_variable_genes(\n",
    "            adata,\n",
    "            flavor=\"seurat\",\n",
    "            n_top_genes=2000,\n",
    "            layer=\"counts\",\n",
    "            batch_key=batch,\n",
    "            subset=True\n",
    "    )\n",
    "\n",
    "    scvi.model.SCVI.setup_anndata(\n",
    "        adata,\n",
    "        layer=\"counts\",\n",
    "        batch_key=batch\n",
    "    )\n",
    "    return adata\n",
    "    \n",
    "batch_key_dic = {'Immune_Human' : 'batch',\n",
    "                 'Immune_human_mouse' : 'batch',\n",
    "                 'Lung' : 'batch',\n",
    "                 'Mouse_brain' : 'batch',\n",
    "                 'Pancreas' : 'tech',\n",
    "                 'Simulation1' : 'Batch',\n",
    "                 'Simulation2' : 'Batch'}\n",
    "cell_type_key_dic = {'Immune_Human' : 'final_annotation',\n",
    "                 'Immune_human_mouse' : 'final_annotation',\n",
    "                 'Lung' : 'cell_type',\n",
    "                 'Mouse_brain' : 'cell_type',\n",
    "                 'Pancreas' : 'celltype',\n",
    "                 'Simulation1' : 'Group',\n",
    "                 'Simulation2' : 'Group'}    "
   ]
  },
  {
   "cell_type": "code",
   "execution_count": null,
   "id": "10f69035",
   "metadata": {},
   "outputs": [],
   "source": [
    "dataset = 'Immune_Human_removed_top_cells'\n",
    "batch = 'batch'\n",
    "cell_type = 'final_annotation'\n",
    "adata = load_data(dataset,batch)"
   ]
  },
  {
   "cell_type": "code",
   "execution_count": null,
   "id": "ef5c58ea-2ed8-4601-9dc1-8b25d349e640",
   "metadata": {},
   "outputs": [],
   "source": [
    "from scvi.model import SCANVI\n",
    "from scvi.model import SCVI\n",
    "vae = SCVI(adata)\n",
    "n_epochs_scVI = np.min([round((20000 / adata.n_obs) * 400), 400])  # 400\n",
    "n_epochs_scANVI = int(np.min([10, np.max([2, round(n_epochs_scVI / 3.0)])]))\n",
    "vae.train(max_epochs=n_epochs_scVI)\n",
    "adata.obsm[\"X_emb\"] = vae.get_latent_representation()"
   ]
  },
  {
   "cell_type": "code",
   "execution_count": null,
   "id": "835e4648-26b0-4301-a794-78a388eda8d9",
   "metadata": {},
   "outputs": [],
   "source": [
    " scanvae = scvi.model.SCANVI.from_scvi_model(\n",
    "        scvi_model=vae,\n",
    "        labels_key=cell_type,\n",
    "        unlabeled_category=\"UnknownUnknown\",  # pick anything definitely not in a dataset\n",
    "    )\n",
    "scanvae.train(max_epochs=n_epochs_scANVI)\n",
    "adata.obsm[\"X_scANVI\"] = scanvae.get_latent_representation()\n"
   ]
  },
  {
   "cell_type": "code",
   "execution_count": null,
   "id": "0cc43f72-1b99-428c-a809-cbc76f05b2a3",
   "metadata": {},
   "outputs": [],
   "source": [
    "adata.write('scanvi-Immune_Human-removed_top_cells.h5ad')"
   ]
  },
  {
   "cell_type": "code",
   "execution_count": null,
   "id": "922ddd85-c00a-4349-afd4-79d0e19c85ac",
   "metadata": {},
   "outputs": [],
   "source": [
    "adata = sc.read_h5ad(\"scanvi-Immune_Human-removed_top_cells.h5ad\")"
   ]
  },
  {
   "cell_type": "code",
   "execution_count": null,
   "id": "114a9166",
   "metadata": {},
   "outputs": [],
   "source": [
    "#its a file in this folder\n",
    "import scIB"
   ]
  },
  {
   "cell_type": "code",
   "execution_count": null,
   "id": "c8a213b2-07f3-453f-b6f4-708669d4112f",
   "metadata": {},
   "outputs": [],
   "source": [
    "adata"
   ]
  },
  {
   "cell_type": "code",
   "execution_count": null,
   "id": "156a94ba",
   "metadata": {
    "scrolled": true,
    "tags": []
   },
   "outputs": [],
   "source": [
    "#Trajectory is asking precomputed sudo time point\n",
    "results,ilisi_all,clisi_all,kbet_all = scIB.metrics.metrics(\n",
    "        adata,\n",
    "        adata,\n",
    "        batch_key = batch,\n",
    "        label_key = cell_type,\n",
    "        hvg_score_=False,\n",
    "        cluster_key='cluster',\n",
    "        cluster_nmi=None,\n",
    "        ari_=True,\n",
    "        nmi_=True,\n",
    "        nmi_method='arithmetic',\n",
    "        nmi_dir=None,\n",
    "        silhouette_=True,\n",
    "        embed='X_scANVI',\n",
    "        si_metric='euclidean',\n",
    "        pcr_=True,\n",
    "        cell_cycle_=False,\n",
    "        organism='mouse',\n",
    "        isolated_labels_=True,  # backwards compatibility\n",
    "        isolated_labels_f1_=True,\n",
    "        isolated_labels_asw_=True,\n",
    "        n_isolated=None,\n",
    "        graph_conn_=True,\n",
    "        kBET_=True,\n",
    "        kBET_sub=0.5,\n",
    "        lisi_graph_=True,\n",
    "        lisi_raw=True,\n",
    "        trajectory_=False,\n",
    "        type_=None,\n",
    "        verbose=True,\n",
    ")"
   ]
  },
  {
   "cell_type": "code",
   "execution_count": null,
   "id": "3e1ea281-6432-475a-95f0-d0bc9c6e0b2d",
   "metadata": {},
   "outputs": [],
   "source": [
    "results"
   ]
  },
  {
   "cell_type": "code",
   "execution_count": null,
   "id": "2996bdb6-1238-43d0-a7b5-8ff66735f146",
   "metadata": {},
   "outputs": [],
   "source": [
    "import numpy as np\n",
    "np.savetxt(dataset+\"_ilisi.csv\", ilisi_all, delimiter=\",\")\n",
    "np.savetxt(dataset+\"_clisi.csv\", clisi_all, delimiter=\",\")\n",
    "np.savetxt(dataset+\"_kbet_all.csv\",np.concatenate([np.array(val).reshape(1,-1) for val in kbet_all],axis = 0), delimiter=',')"
   ]
  },
  {
   "cell_type": "code",
   "execution_count": null,
   "id": "b5bea771-7d8c-4460-b192-79d305dc4ea4",
   "metadata": {},
   "outputs": [],
   "source": [
    "import matplotlib as mpl\n",
    "mpl.rcParams['figure.dpi'] = 300"
   ]
  },
  {
   "cell_type": "code",
   "execution_count": null,
   "id": "a164f960",
   "metadata": {},
   "outputs": [],
   "source": [
    "import numpy as np\n",
    "from sklearn.cluster import KMeans\n",
    "from sklearn.metrics.cluster import normalized_mutual_info_score as nmi\n",
    "\n",
    "\n",
    "latent_matrix = adata.obsm['X_scANVI'] \n",
    "labels = np.array(adata.obs[cell_type] )\n",
    "K = np.size(np.unique(labels))\n",
    "kmeans = KMeans(n_clusters=K, random_state=0).fit(latent_matrix)\n",
    "y_pred = kmeans.labels_\n",
    "\n",
    "print('Computing NMI ...')\n",
    "NMI = nmi(labels.flatten(), y_pred.flatten())\n",
    "print('NMI = {}'.format(NMI))"
   ]
  },
  {
   "cell_type": "code",
   "execution_count": null,
   "id": "9358792e",
   "metadata": {},
   "outputs": [],
   "source": [
    "sc.pp.neighbors(adata, use_rep='X_scANVI')  # use_rep = 'final_embeddings'\n",
    "sc.tl.umap(adata)\n",
    "sc.pl.umap(adata, color=cell_type, frameon=False)\n",
    "sc.pl.umap(adata, color=batch, frameon=False)\n",
    "sc.pl.umap(adata, color='cluster', frameon=False)"
   ]
  },
  {
   "cell_type": "code",
   "execution_count": null,
   "id": "b6712933",
   "metadata": {},
   "outputs": [],
   "source": [
    "import pandas as pd\n",
    "adata.obs['temp'] =  y_pred\n",
    "adata.obs['temp'] = adata.obs['temp'].astype(str)\n",
    "sc.pl.umap(adata, color='temp', frameon=False)"
   ]
  },
  {
   "cell_type": "code",
   "execution_count": null,
   "id": "50e467a9",
   "metadata": {},
   "outputs": [],
   "source": [
    "import numpy as np\n",
    "cluster_key = 'cluster'\n",
    "sc.tl.louvain(adata, resolution=0.01, key_added=cluster_key)\n",
    "len(np.unique(adata.obs[cluster_key]))"
   ]
  },
  {
   "cell_type": "code",
   "execution_count": null,
   "id": "7e57ab9c",
   "metadata": {},
   "outputs": [],
   "source": [
    "sc.pp.neighbors(adata, use_rep='X_emb')  # use_rep = 'final_embeddings'\n",
    "sc.tl.umap(adata)\n",
    "sc.pl.umap(adata, color=cell_type, frameon=False)\n",
    "sc.pl.umap(adata, color=batch, frameon=False)\n",
    "sc.pl.umap(adata, color='cluster', frameon=False)"
   ]
  },
  {
   "cell_type": "code",
   "execution_count": null,
   "id": "8bceb05a-29f7-47f9-a16f-c543e6d351ab",
   "metadata": {},
   "outputs": [],
   "source": []
  }
 ],
 "metadata": {
  "kernelspec": {
   "display_name": "Python 3 (ipykernel)",
   "language": "python",
   "name": "python3"
  },
  "language_info": {
   "codemirror_mode": {
    "name": "ipython",
    "version": 3
   },
   "file_extension": ".py",
   "mimetype": "text/x-python",
   "name": "python",
   "nbconvert_exporter": "python",
   "pygments_lexer": "ipython3",
   "version": "3.7.13"
  }
 },
 "nbformat": 4,
 "nbformat_minor": 5
}
