{
 "cells": [
  {
   "cell_type": "code",
   "execution_count": null,
   "id": "f7e2fdb8-5c31-4446-b07e-310eadc1dd6c",
   "metadata": {
    "execution": {
     "iopub.execute_input": "2023-08-12T10:12:40.460195Z",
     "iopub.status.busy": "2023-08-12T10:12:40.459400Z",
     "iopub.status.idle": "2023-08-12T10:12:42.831628Z",
     "shell.execute_reply": "2023-08-12T10:12:42.830603Z",
     "shell.execute_reply.started": "2023-08-12T10:12:40.460128Z"
    },
    "tags": []
   },
   "outputs": [],
   "source": [
    "import scDML\n",
    "print(scDML.__version__)\n",
    "import scanpy as sc \n",
    "import torch\n",
    "from scDML import scDMLModel\n",
    "from scDML.utils import print_dataset_information\n",
    "import matplotlib.pyplot as plt\n",
    "import pandas as pd\n",
    "import os\n",
    "os.system(\"clear\")"
   ]
  },
  {
   "cell_type": "code",
   "execution_count": null,
   "id": "7f70537f-7fed-4d2e-9820-dcc0215533bd",
   "metadata": {
    "execution": {
     "iopub.execute_input": "2023-08-12T10:12:42.833792Z",
     "iopub.status.busy": "2023-08-12T10:12:42.833333Z",
     "iopub.status.idle": "2023-08-12T10:12:42.838310Z",
     "shell.execute_reply": "2023-08-12T10:12:42.836982Z",
     "shell.execute_reply.started": "2023-08-12T10:12:42.833764Z"
    },
    "tags": []
   },
   "outputs": [],
   "source": [
    "import scanpy as sc \n",
    "import pandas as pd\n"
   ]
  },
  {
   "cell_type": "code",
   "execution_count": null,
   "id": "396e20d3-3fcb-4a19-9632-356fa4c8b3de",
   "metadata": {
    "execution": {
     "iopub.execute_input": "2023-08-12T10:12:42.839473Z",
     "iopub.status.busy": "2023-08-12T10:12:42.839246Z",
     "iopub.status.idle": "2023-08-12T10:12:42.845401Z",
     "shell.execute_reply": "2023-08-12T10:12:42.844288Z",
     "shell.execute_reply.started": "2023-08-12T10:12:42.839450Z"
    },
    "tags": []
   },
   "outputs": [],
   "source": [
    "dataset = 'Lung'\n",
    "\n",
    "batch_key_dic = {'Immune_Human' : 'batch',\n",
    "                 'Lung' : 'batch',\n",
    "                 'Pancreas' : 'tech',\n",
    "                'Human_Retina': \"Batch\"}\n",
    "cell_type_key_dic = {'Immune_Human' : 'final_annotation',\n",
    "                 'Lung' : 'cell_type',\n",
    "                 'Pancreas' : 'celltype',\n",
    "                 \"Human_Retina\":\"Subcluster\"}\n",
    "batch = batch_key_dic[dataset]\n",
    "cell_type = cell_type_key_dic[dataset]\n",
    "data_path=\"/home/krushna/Documents/Data_integration/SCRNA_Datasets/All_h5ad/\""
   ]
  },
  {
   "cell_type": "code",
   "execution_count": null,
   "id": "173e2013-ee69-470e-88fd-e9ad02298e0f",
   "metadata": {
    "execution": {
     "iopub.execute_input": "2023-08-12T10:12:42.847325Z",
     "iopub.status.busy": "2023-08-12T10:12:42.846960Z",
     "iopub.status.idle": "2023-08-12T10:12:44.796565Z",
     "shell.execute_reply": "2023-08-12T10:12:44.795122Z",
     "shell.execute_reply.started": "2023-08-12T10:12:42.847302Z"
    },
    "tags": []
   },
   "outputs": [],
   "source": [
    "data_path += dataset+\".h5ad\"\n",
    "adata=sc.read(data_path)\n",
    "adata.obs['BATCH'] = adata.obs[batch]\n",
    "ncluster = len(adata.obs[cell_type].unique())"
   ]
  },
  {
   "cell_type": "code",
   "execution_count": null,
   "id": "532f8a9b-cb82-4d4b-8c83-34a51f8948d3",
   "metadata": {
    "execution": {
     "iopub.execute_input": "2023-08-12T10:12:44.797664Z",
     "iopub.status.busy": "2023-08-12T10:12:44.797469Z",
     "iopub.status.idle": "2023-08-12T10:12:44.801830Z",
     "shell.execute_reply": "2023-08-12T10:12:44.800903Z",
     "shell.execute_reply.started": "2023-08-12T10:12:44.797646Z"
    },
    "tags": []
   },
   "outputs": [],
   "source": [
    "import time\n",
    "start_time = time.time()"
   ]
  },
  {
   "cell_type": "code",
   "execution_count": null,
   "id": "86c9cacb-6e25-40b0-b8bd-1e7fdc5397b9",
   "metadata": {
    "execution": {
     "iopub.execute_input": "2023-08-12T10:12:44.804137Z",
     "iopub.status.busy": "2023-08-12T10:12:44.803577Z",
     "iopub.status.idle": "2023-08-12T10:15:02.121620Z",
     "shell.execute_reply": "2023-08-12T10:15:02.120395Z",
     "shell.execute_reply.started": "2023-08-12T10:12:44.804083Z"
    },
    "scrolled": true,
    "tags": []
   },
   "outputs": [],
   "source": [
    "save_dir=\"./test_result/\"+dataset+\"/\"\n",
    "\n",
    "scdml=scDMLModel(save_dir=save_dir)\n",
    "adata_int=scdml.preprocess(adata,cluster_method=\"louvain\",resolution=3.0,batch_key = 'BATCH')\n",
    "#print(adata)\n",
    "scdml.integrate(adata_int,batch_key='BATCH',ncluster_list=[ncluster],\n",
    "               expect_num_cluster=ncluster,merge_rule=\"rule2\")\n",
    "\n",
    "# plt.plot(range(1,len(scdml.loss)+1),scdml.loss)"
   ]
  },
  {
   "cell_type": "code",
   "execution_count": null,
   "id": "22f8d54c-31ff-4465-9380-b01505d49aac",
   "metadata": {
    "execution": {
     "iopub.execute_input": "2023-08-12T10:15:02.123642Z",
     "iopub.status.busy": "2023-08-12T10:15:02.123353Z",
     "iopub.status.idle": "2023-08-12T10:15:02.130305Z",
     "shell.execute_reply": "2023-08-12T10:15:02.129591Z",
     "shell.execute_reply.started": "2023-08-12T10:15:02.123610Z"
    },
    "tags": []
   },
   "outputs": [],
   "source": [
    "end_time = time.time()\n",
    "print('time taken to run :', end_time - start_time)"
   ]
  },
  {
   "cell_type": "code",
   "execution_count": null,
   "id": "051b8287-973e-43d1-b2d3-5d4abbd0362c",
   "metadata": {
    "execution": {
     "iopub.execute_input": "2023-08-09T06:22:54.862510Z",
     "iopub.status.busy": "2023-08-09T06:22:54.862136Z",
     "iopub.status.idle": "2023-08-09T06:23:17.208830Z",
     "shell.execute_reply": "2023-08-09T06:23:17.207883Z",
     "shell.execute_reply.started": "2023-08-09T06:22:54.862482Z"
    },
    "tags": []
   },
   "outputs": [],
   "source": [
    "import matplotlib as mpl\n",
    "mpl.rcParams['figure.dpi'] = 300\n",
    "\n",
    "sc.pp.neighbors(adata_int, use_rep='X_emb')\n",
    "sc.tl.umap(adata_int)\n",
    "sc.pl.umap(adata_int, color=cell_type, frameon=False)\n",
    "sc.pl.umap(adata_int, color=batch, frameon=False)"
   ]
  },
  {
   "cell_type": "code",
   "execution_count": null,
   "id": "cdbb4d57-0cd6-481e-94f0-07e97db66e14",
   "metadata": {
    "execution": {
     "iopub.execute_input": "2023-08-09T06:23:17.210507Z",
     "iopub.status.busy": "2023-08-09T06:23:17.209937Z",
     "iopub.status.idle": "2023-08-09T06:23:18.054808Z",
     "shell.execute_reply": "2023-08-09T06:23:18.053782Z",
     "shell.execute_reply.started": "2023-08-09T06:23:17.210484Z"
    },
    "tags": []
   },
   "outputs": [],
   "source": [
    "obs_names = sc.read_h5ad(data_path).obs_names.to_list()\n",
    "adata_int.obs_names = pd.Series(adata_int.obs_names).apply(lambda x:x.rsplit('-',1)[0])\n",
    "adata_int = adata_int[obs_names,]"
   ]
  },
  {
   "cell_type": "code",
   "execution_count": null,
   "id": "b61a0293-e675-4318-b769-5fd0a04a3bce",
   "metadata": {
    "execution": {
     "iopub.execute_input": "2023-08-09T06:23:18.056624Z",
     "iopub.status.busy": "2023-08-09T06:23:18.056280Z",
     "iopub.status.idle": "2023-08-09T06:23:18.612528Z",
     "shell.execute_reply": "2023-08-09T06:23:18.611202Z",
     "shell.execute_reply.started": "2023-08-09T06:23:18.056604Z"
    },
    "tags": []
   },
   "outputs": [],
   "source": [
    "pd.DataFrame(adata_int.obsm['X_emb']).to_csv('scDML-'+dataset+'.csv',header = False,index = False)"
   ]
  },
  {
   "cell_type": "code",
   "execution_count": null,
   "id": "a3533de9-4037-4b59-b886-d49bef6a0f09",
   "metadata": {
    "execution": {
     "iopub.execute_input": "2023-08-09T06:24:23.113906Z",
     "iopub.status.busy": "2023-08-09T06:24:23.113398Z",
     "iopub.status.idle": "2023-08-09T06:24:23.120545Z",
     "shell.execute_reply": "2023-08-09T06:24:23.119215Z",
     "shell.execute_reply.started": "2023-08-09T06:24:23.113850Z"
    },
    "tags": []
   },
   "outputs": [],
   "source": [
    "import sys\n",
    "sys.path.append('/home/krushna/Documents/Data_integration/')\n",
    "import scIB"
   ]
  },
  {
   "cell_type": "code",
   "execution_count": null,
   "id": "c074c1be-5462-411e-86ce-12f7565d547f",
   "metadata": {
    "execution": {
     "iopub.execute_input": "2023-08-09T06:24:23.549189Z",
     "iopub.status.busy": "2023-08-09T06:24:23.548817Z",
     "iopub.status.idle": "2023-08-09T06:24:24.838994Z",
     "shell.execute_reply": "2023-08-09T06:24:24.838394Z",
     "shell.execute_reply.started": "2023-08-09T06:24:23.549145Z"
    },
    "tags": []
   },
   "outputs": [],
   "source": [
    "adata = sc.read_h5ad(data_path)\n",
    "adata_int = adata.copy()\n",
    "adata_int.obsm['X_emb'] = pd.read_csv('scDML-'+dataset+'.csv',index_col=None,header = None).values"
   ]
  },
  {
   "cell_type": "code",
   "execution_count": null,
   "id": "eb7f3d88-9ea1-45bc-b6b4-b6ffaa736ce2",
   "metadata": {
    "execution": {
     "iopub.execute_input": "2023-08-09T06:24:26.415755Z",
     "iopub.status.busy": "2023-08-09T06:24:26.415274Z",
     "iopub.status.idle": "2023-08-09T06:24:49.357534Z",
     "shell.execute_reply": "2023-08-09T06:24:49.356643Z",
     "shell.execute_reply.started": "2023-08-09T06:24:26.415700Z"
    },
    "tags": []
   },
   "outputs": [],
   "source": [
    "import matplotlib as mpl\n",
    "mpl.rcParams['figure.dpi'] = 300\n",
    "\n",
    "sc.pp.neighbors(adata_int, use_rep='X_emb')\n",
    "sc.tl.umap(adata_int)\n",
    "sc.pl.umap(adata_int, color=cell_type, frameon=False)\n",
    "sc.pl.umap(adata_int, color=batch, frameon=False)"
   ]
  },
  {
   "cell_type": "code",
   "execution_count": null,
   "id": "1ef940a8-8bc5-4528-aebe-f5467963ad46",
   "metadata": {
    "execution": {
     "iopub.execute_input": "2023-08-09T06:24:49.359179Z",
     "iopub.status.busy": "2023-08-09T06:24:49.359019Z",
     "iopub.status.idle": "2023-08-09T06:31:10.022246Z",
     "shell.execute_reply": "2023-08-09T06:31:10.021057Z",
     "shell.execute_reply.started": "2023-08-09T06:24:49.359159Z"
    },
    "scrolled": true,
    "tags": []
   },
   "outputs": [],
   "source": [
    "import scIB \n",
    "#Trajectory is asking precomputed sudo time point\n",
    "results,ilisi_all,clisi_all,kbet_all  =      scIB.metrics.metrics(\n",
    "        adata,\n",
    "        adata_int,\n",
    "        batch_key = batch,\n",
    "        label_key = cell_type,\n",
    "        hvg_score_=False,\n",
    "        cluster_key='cluster',\n",
    "        cluster_nmi=None,\n",
    "        ari_=True,\n",
    "        nmi_=True,\n",
    "        nmi_method='arithmetic',\n",
    "        nmi_dir=None,\n",
    "        silhouette_=True,\n",
    "        embed= 'X_emb',\n",
    "        si_metric='euclidean',\n",
    "        pcr_=True,\n",
    "        cell_cycle_=False,\n",
    "        organism='mouse',\n",
    "        isolated_labels_=True,  # backwards compatibility\n",
    "        isolated_labels_f1_=True,\n",
    "        isolated_labels_asw_=True,\n",
    "        n_isolated=None,\n",
    "        graph_conn_=True,\n",
    "        kBET_=True,\n",
    "        kBET_sub=0.5,\n",
    "        lisi_graph_=True,\n",
    "        lisi_raw=True,\n",
    "        trajectory_=False,\n",
    "        type_=None,\n",
    "        verbose=False,\n",
    ")\n",
    "results"
   ]
  },
  {
   "cell_type": "code",
   "execution_count": null,
   "id": "508ab896-8acf-40be-9359-a68376cb5010",
   "metadata": {
    "execution": {
     "iopub.execute_input": "2023-08-09T06:31:10.025319Z",
     "iopub.status.busy": "2023-08-09T06:31:10.024890Z",
     "iopub.status.idle": "2023-08-09T06:31:10.095892Z",
     "shell.execute_reply": "2023-08-09T06:31:10.095254Z",
     "shell.execute_reply.started": "2023-08-09T06:31:10.025240Z"
    },
    "tags": []
   },
   "outputs": [],
   "source": [
    "import numpy as np\n",
    "np.savetxt('./kbet_lisi/'+dataset+\"_ilisi.csv\", ilisi_all, delimiter=\",\")\n",
    "np.savetxt('./kbet_lisi/'+dataset+\"_clisi.csv\", clisi_all, delimiter=\",\")\n",
    "np.savetxt('./kbet_lisi/'+dataset+\"_kbet_all.csv\",np.concatenate([np.array(val).reshape(1,-1) for val in kbet_all],axis = 0), delimiter=',')"
   ]
  },
  {
   "cell_type": "code",
   "execution_count": null,
   "id": "014a9776-05d1-49fc-aacc-7254188ba4a9",
   "metadata": {},
   "outputs": [],
   "source": []
  },
  {
   "cell_type": "code",
   "execution_count": null,
   "id": "acd969bc-0331-403f-be3b-88e934668166",
   "metadata": {},
   "outputs": [],
   "source": []
  },
  {
   "cell_type": "code",
   "execution_count": null,
   "id": "9a290a81-fa00-4867-a99b-8ec7d105d95c",
   "metadata": {},
   "outputs": [],
   "source": []
  }
 ],
 "metadata": {
  "kernelspec": {
   "display_name": "Python 3 (ipykernel)",
   "language": "python",
   "name": "python3"
  },
  "language_info": {
   "codemirror_mode": {
    "name": "ipython",
    "version": 3
   },
   "file_extension": ".py",
   "mimetype": "text/x-python",
   "name": "python",
   "nbconvert_exporter": "python",
   "pygments_lexer": "ipython3",
   "version": "3.7.16"
  }
 },
 "nbformat": 4,
 "nbformat_minor": 5
}
