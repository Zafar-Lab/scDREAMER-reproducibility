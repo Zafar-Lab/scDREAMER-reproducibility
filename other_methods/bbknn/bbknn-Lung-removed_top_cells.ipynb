{
 "cells": [
  {
   "cell_type": "code",
   "execution_count": null,
   "id": "ac261d3e",
   "metadata": {},
   "outputs": [],
   "source": [
    "import bbknn\n",
    "import scanpy as sc"
   ]
  },
  {
   "cell_type": "code",
   "execution_count": null,
   "id": "1aea3e15",
   "metadata": {},
   "outputs": [],
   "source": [
    "dir_path = \"/home/krushna/Documents/Data_integration/SCRNA_Datasets/All_h5ad/\"\n",
    "def load_data(dataset,batch):\n",
    "    adata =sc.read_h5ad(dir_path+dataset+'.h5ad')\n",
    "    sc.pp.filter_genes(adata, min_counts=3)\n",
    "    adata.layers[\"counts\"] = adata.X.copy()\n",
    "    sc.pp.normalize_total(adata, target_sum=1e4)\n",
    "    sc.pp.log1p(adata)\n",
    "    adata.raw = adata\n",
    "    sc.pp.highly_variable_genes(\n",
    "            adata,\n",
    "            flavor=\"seurat\",\n",
    "            n_top_genes=2000,\n",
    "            layer=\"counts\",\n",
    "            batch_key=batch,\n",
    "            subset=True\n",
    "    )\n",
    "    return adata\n",
    "    \n",
    "batch_key_dic = {'Immune_Human' : 'batch',\n",
    "                 'Immune_human_mouse' : 'batch',\n",
    "                 'Lung' : 'batch',\n",
    "                 'Mouse_brain' : 'batch',\n",
    "                 'Pancreas' : 'tech',\n",
    "                 'Simulation1' : 'Batch',\n",
    "                 'Simulation2' : 'Batch'}\n",
    "cell_type_key_dic = {'Immune_Human' : 'final_annotation',\n",
    "                 'Immune_human_mouse' : 'final_annotation',\n",
    "                 'Lung' : 'cell_type',\n",
    "                 'Mouse_brain' : 'cell_type',\n",
    "                 'Pancreas' : 'celltype',\n",
    "                 'Simulation1' : 'Group',\n",
    "                 'Simulation2' : 'Group'}  "
   ]
  },
  {
   "cell_type": "code",
   "execution_count": null,
   "id": "a6e95097",
   "metadata": {},
   "outputs": [],
   "source": [
    "dataset = 'Lung_removed_top_cells'\n",
    "batch = 'batch'\n",
    "cell_type = 'cell_type'\n",
    "adata = load_data(dataset,batch)"
   ]
  },
  {
   "cell_type": "code",
   "execution_count": null,
   "id": "46ce641f",
   "metadata": {},
   "outputs": [],
   "source": [
    "sc.pp.pca(adata)"
   ]
  },
  {
   "cell_type": "code",
   "execution_count": null,
   "id": "66f7b4ec",
   "metadata": {},
   "outputs": [],
   "source": [
    "adata_int = bbknn.bbknn(adata, batch_key=batch, copy=True)"
   ]
  },
  {
   "cell_type": "code",
   "execution_count": null,
   "id": "877351a7",
   "metadata": {},
   "outputs": [],
   "source": [
    "adata_int.write('bbknn-Lung_removed_top_cells.h5ad')"
   ]
  },
  {
   "cell_type": "code",
   "execution_count": null,
   "id": "42d5cc41-e09d-4d9d-abbe-abbaf3431792",
   "metadata": {},
   "outputs": [],
   "source": [
    "adata_int = sc.read_h5ad(\"bbknn-Lung_removed_top_cells.h5ad\")"
   ]
  },
  {
   "cell_type": "code",
   "execution_count": null,
   "id": "83018153",
   "metadata": {
    "scrolled": true,
    "tags": []
   },
   "outputs": [],
   "source": [
    "import scIB \n",
    "#Trajectory is asking precomputed sudo time point\n",
    "results,ilisi_all,clisi_all,kbet_all  =   scIB.metrics.metrics(\n",
    "        adata,\n",
    "        adata_int,\n",
    "        batch_key = batch,\n",
    "        label_key = cell_type,\n",
    "        hvg_score_=False,\n",
    "        cluster_key='cluster',\n",
    "        cluster_nmi=None,\n",
    "        ari_=True,\n",
    "        nmi_=True,\n",
    "        nmi_method='arithmetic',\n",
    "        nmi_dir=None,\n",
    "        silhouette_=True,\n",
    "        embed= 'X_pca',\n",
    "        si_metric='euclidean',\n",
    "        pcr_=True,\n",
    "        cell_cycle_=False,\n",
    "        organism='mouse',\n",
    "        isolated_labels_=True,  # backwards compatibility\n",
    "        isolated_labels_f1_=False,\n",
    "        isolated_labels_asw_=False,\n",
    "        n_isolated=None,\n",
    "        graph_conn_=True,\n",
    "        kBET_=True,\n",
    "        kBET_sub=0.5,\n",
    "        lisi_graph_=True,\n",
    "        lisi_raw=True,\n",
    "        trajectory_=False,\n",
    "        type_='knn',\n",
    "        verbose=False,\n",
    ")"
   ]
  },
  {
   "cell_type": "code",
   "execution_count": null,
   "id": "2e87cdd0-f6b7-44c2-8156-484b9f2ea57c",
   "metadata": {},
   "outputs": [],
   "source": [
    "results"
   ]
  },
  {
   "cell_type": "code",
   "execution_count": null,
   "id": "19e0c021-92ae-4064-b0f4-0730bf73bc33",
   "metadata": {},
   "outputs": [],
   "source": [
    "import numpy as np\n",
    "np.savetxt(dataset+\"_ilisi.csv\", ilisi_all, delimiter=\",\")\n",
    "np.savetxt(dataset+\"_clisi.csv\", clisi_all, delimiter=\",\")\n",
    "np.savetxt(dataset+\"_kbet_all.csv\",np.concatenate([np.array(val).reshape(1,-1) for val in kbet_all],axis = 0), delimiter=',')"
   ]
  },
  {
   "cell_type": "code",
   "execution_count": null,
   "id": "8779c352-c4b3-4b01-9239-03b458a05b60",
   "metadata": {},
   "outputs": [],
   "source": [
    "import matplotlib as mpl\n",
    "mpl.rcParams['figure.dpi'] = 300"
   ]
  },
  {
   "cell_type": "code",
   "execution_count": null,
   "id": "85cc5c45",
   "metadata": {},
   "outputs": [],
   "source": [
    "import numpy as np\n",
    "from sklearn.cluster import KMeans\n",
    "from sklearn.metrics.cluster import normalized_mutual_info_score as nmi\n",
    "\n",
    "\n",
    "latent_matrix = adata_int.X \n",
    "labels = np.array(adata.obs[cell_type] )\n",
    "K = np.size(np.unique(labels))\n",
    "kmeans = KMeans(n_clusters=K, random_state=0).fit(latent_matrix)\n",
    "y_pred = kmeans.labels_\n",
    "\n",
    "print('Computing NMI ...')\n",
    "NMI = nmi(labels.flatten(), y_pred.flatten())\n",
    "print('NMI = {}'.format(NMI))"
   ]
  },
  {
   "cell_type": "code",
   "execution_count": null,
   "id": "123c92f3",
   "metadata": {},
   "outputs": [],
   "source": [
    "sc.tl.umap(adata_int)\n",
    "sc.pl.umap(adata_int, color=cell_type, frameon=False)\n",
    "sc.pl.umap(adata_int, color=batch, frameon=False)\n",
    "sc.pl.umap(adata_int, color='cluster', frameon=False)"
   ]
  },
  {
   "cell_type": "code",
   "execution_count": null,
   "id": "7177ce25",
   "metadata": {},
   "outputs": [],
   "source": [
    "adata_int.obs['temp'] =  y_pred\n",
    "adata_int.obs['temp'] = adata_int.obs['temp'].astype(str)\n",
    "sc.pl.umap(adata_int, color='temp', frameon=False)"
   ]
  },
  {
   "cell_type": "code",
   "execution_count": null,
   "id": "eaabd33a",
   "metadata": {},
   "outputs": [],
   "source": []
  },
  {
   "cell_type": "code",
   "execution_count": null,
   "id": "bff7baf9",
   "metadata": {},
   "outputs": [],
   "source": []
  },
  {
   "cell_type": "code",
   "execution_count": null,
   "id": "247a7e5a",
   "metadata": {},
   "outputs": [],
   "source": []
  }
 ],
 "metadata": {
  "kernelspec": {
   "display_name": "Python 3 (ipykernel)",
   "language": "python",
   "name": "python3"
  },
  "language_info": {
   "codemirror_mode": {
    "name": "ipython",
    "version": 3
   },
   "file_extension": ".py",
   "mimetype": "text/x-python",
   "name": "python",
   "nbconvert_exporter": "python",
   "pygments_lexer": "ipython3",
   "version": "3.7.11"
  }
 },
 "nbformat": 4,
 "nbformat_minor": 5
}
