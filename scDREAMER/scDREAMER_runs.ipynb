{
 "cells": [
  {
   "cell_type": "markdown",
   "metadata": {
    "colab_type": "text",
    "id": "view-in-github"
   },
   "source": [
    "<a href=\"https://colab.research.google.com/github/Zafar-Lab/scDREAMER/blob/main/2109_Classifier.ipynb\" target=\"_parent\"><img src=\"https://colab.research.google.com/assets/colab-badge.svg\" alt=\"Open In Colab\"/></a>"
   ]
  },
  {
   "cell_type": "code",
   "execution_count": 1,
   "metadata": {},
   "outputs": [
    {
     "name": "stderr",
     "output_type": "stream",
     "text": [
      "2023-08-25 13:07:01.660318: I tensorflow/core/platform/cpu_feature_guard.cc:182] This TensorFlow binary is optimized to use available CPU instructions in performance-critical operations.\n",
      "To enable the following instructions: AVX2 AVX512F FMA, in other operations, rebuild TensorFlow with the appropriate compiler flags.\n",
      "2023-08-25 13:07:02.287610: W tensorflow/compiler/tf2tensorrt/utils/py_utils.cc:38] TF-TRT Warning: Could not find TensorRT\n"
     ]
    },
    {
     "name": "stdout",
     "output_type": "stream",
     "text": [
      "WARNING:tensorflow:From /home/ajita/anaconda3/lib/python3.9/site-packages/tensorflow/python/compat/v2_compat.py:107: disable_resource_variables (from tensorflow.python.ops.variable_scope) is deprecated and will be removed in a future version.\n",
      "Instructions for updating:\n",
      "non-resource variables are not supported in the long term\n"
     ]
    },
    {
     "data": {
      "text/plain": [
       "94345"
      ]
     },
     "execution_count": 1,
     "metadata": {},
     "output_type": "execute_result"
    }
   ],
   "source": [
    "import os\n",
    "os.environ[\"CUDA_VISIBLE_DEVICES\"]=\"0\" # difference between gpu '0' and '1'\n",
    "\n",
    "\"\"\"\n",
    "# for reproducibility with server...\n",
    "\n",
    "os.environ[\"PYTHONHASHSEED\"] = \"0\"\n",
    "os.environ[\"TF_CUDNN_DETERMINISTIC\"] = \"1\" # setting \"true\"\n",
    "os.environ[\"TF_DETERMINISTIC_OPS\"] = \"1\"\n",
    "\"\"\"\n",
    "\n",
    "import numpy as np\n",
    "import tensorflow as tf2\n",
    "import random\n",
    "import tensorflow.compat.v1 as tf\n",
    "tf.disable_v2_behavior()\n",
    "\n",
    "import scipy.io\n",
    "from sklearn.decomposition import PCA\n",
    "import pdb\n",
    "\n",
    "import pandas as pd\n",
    "import scanpy as sc\n",
    "\n",
    "\n",
    "import scipy.sparse\n",
    "from sklearn.metrics.cluster import normalized_mutual_info_score as nmi\n",
    "from sklearn.cluster import KMeans\n",
    "from sklearn.mixture import GaussianMixture\n",
    "from scipy import stats \n",
    "from scipy import * \n",
    "import datetime \n",
    "from sklearn.preprocessing import OneHotEncoder\n",
    "from sklearn.preprocessing import LabelEncoder\n",
    "\n",
    "os.getpid()\n"
   ]
  },
  {
   "cell_type": "code",
   "execution_count": 2,
   "metadata": {},
   "outputs": [],
   "source": [
    "\n",
    "np.random.seed(0)\n",
    "tf.set_random_seed(0)\n",
    "random.seed(0)\n",
    "tf2.random.set_seed(0)\n",
    "tf2.keras.utils.set_random_seed(0)\n"
   ]
  },
  {
   "cell_type": "code",
   "execution_count": 3,
   "metadata": {
    "colab": {
     "base_uri": "https://localhost:8080/"
    },
    "id": "Go9Bo6ceSDoO",
    "outputId": "cc70a49c-de00-40ab-cbad-b6dd27139c2a"
   },
   "outputs": [
    {
     "data": {
      "text/plain": [
       "'\\n!pip install -U scipy==1.5.0\\n!pip install scanpy==1.8.2\\n!pip install -U scikit-learn\\n'"
      ]
     },
     "execution_count": 3,
     "metadata": {},
     "output_type": "execute_result"
    }
   ],
   "source": [
    "import warnings\n",
    "warnings.filterwarnings('ignore')\n",
    "\"\"\"\n",
    "!pip install -U scipy==1.5.0\n",
    "!pip install scanpy==1.8.2\n",
    "!pip install -U scikit-learn\n",
    "\"\"\""
   ]
  },
  {
   "cell_type": "markdown",
   "metadata": {
    "id": "XnC_XfBeHHq-"
   },
   "source": [
    "Building model"
   ]
  },
  {
   "cell_type": "code",
   "execution_count": 4,
   "metadata": {},
   "outputs": [],
   "source": [
    "name = \"Human_Mouse\"\n",
    "name = \"Immune_Human\"\n",
    "name = \"Pancreas\"\n",
    "name = \"Human_Retina\"\n",
    "name = \"Lung\"\n",
    "name = \"Healthy_Heart\"\n"
   ]
  },
  {
   "cell_type": "code",
   "execution_count": 5,
   "metadata": {},
   "outputs": [],
   "source": [
    "\n",
    "\n",
    "data_path = {\n",
    "\"Immune_Human\" : \"/home/ajita/Documents/data_integration/Immune/Immune_ALL_human.h5ad\",\n",
    "\"Pancreas\" : \"/home/ajita/Documents/data_integration/Pancreas/Pancreas.h5ad\",\n",
    "\"Human_Mouse\" : \"/home/ajita/Documents/data_integration/hum_mou/hcl_mca_merged.h5ad\",\n",
    "\"Human_Retina\" : \"/home/ajita/Documents/data_integration/Human_Retina/Human_Retina.h5ad\",\n",
    "\"Lung\" : \"/home/ajita/Documents/data_integration/Lung/Lung_atlas_public.h5ad\",\n",
    "\"Healthy_Heart\" : \"/home/ajita/Documents/data_integration/Healthy_Heart/Healthy_human_heart_adata.h5ad\" \n",
    "}\n",
    "\n",
    "\n",
    "batch_key_dict = {'Immune_Human' : 'batch',\n",
    "                 'Lung' : 'batch',\n",
    "                 'Pancreas' : 'tech',\n",
    "                 'Human_Mouse' : 'batch',\n",
    "                 'Human_Retina': \"Batch\",\n",
    "                 \"Healthy_Heart\" : \"sampleID\"\n",
    "                 \n",
    "                }\n",
    "cell_type_key_dict = {'Immune_Human' : 'final_annotation',\n",
    "                 'Lung' : 'cell_type',  \n",
    "                 'Pancreas' : 'celltype', \n",
    "                 'Human_Mouse' : \"celltype\", \n",
    "                 \"Human_Retina\":\"Subcluster\",\n",
    "                \"Healthy_Heart\" : \"celltype\"\n",
    "                    }    \n",
    "\n",
    "shuffle_type_dict = {'Immune_Human' : 1, 'Lung' : 2, 'Pancreas' : 1, 'Human_Mouse' : 1, \n",
    "                 \"Human_Retina\":2,\"Healthy_Heart\" : 1\n",
    "                    }\n",
    "learning_rate = {\n",
    "                 'Immune_Human' : {\"lr_ae\" : 0.0002, \"lr_dis\": 0.0007, \"lr_bc\": 0.0007},\n",
    "                 'Lung' : {\"lr_ae\" : 0.0002 , \"lr_dis\": 0.0007, \"lr_bc\": 0.0007},\n",
    "                 'Pancreas' : {\"lr_ae\" : 0.0002, \"lr_dis\": 0.0007, \"lr_bc\": 0.0007},\n",
    "                 'Human_Retina': {\"lr_ae\" : 0.0002, \"lr_dis\": 0.0007, \"lr_bc\": 0.0007},\n",
    "                 'Human_Mouse' : {\"lr_ae\" : 0.0001, \"lr_dis\": 0.00001, \"lr_bc\": 0.0007},\n",
    "                 \"Healthy_Heart\" : {\"lr_ae\" : 0.0001, \"lr_dis\": 0.00001, \"lr_bc\": 0.0007}\n",
    "}\n",
    "\n",
    "\n",
    "# big datasets: 20 dimensions\n",
    "latent_dim = {\n",
    "                'Immune_Human' : 10,\n",
    "                 'Lung' : 10,\n",
    "                 'Pancreas' : 10,\n",
    "                 'Human_Mouse' : 20,\n",
    "                 'Human_Retina': 10,\n",
    "                 \"Healthy_Heart\" : 20\n",
    "    \n",
    "            }\n",
    "BS = {\n",
    "    'Immune_Human' : 128,\n",
    "     'Lung' : 128,\n",
    "     'Pancreas' : 128,\n",
    "     'Human_Mouse' : 128,\n",
    "     'Human_Retina': 128,\n",
    "     \"Healthy_Heart\" : 128\n",
    "}\n",
    "\n",
    "epoch_dict = {\n",
    "    'Immune_Human' : 150,\n",
    "     'Lung' : 200,\n",
    "     'Pancreas' : 300,\n",
    "     'Human_Mouse' : 200,\n",
    "     'Human_Retina': 300,\n",
    "     \"Healthy_Heart\" : 300\n",
    "}"
   ]
  },
  {
   "cell_type": "code",
   "execution_count": null,
   "metadata": {
    "colab": {
     "base_uri": "https://localhost:8080/",
     "height": 1000
    },
    "id": "Lu41SpbIteg2",
    "outputId": "b4dd5296-7e6a-4b8c-f2d7-803ffd8a9768",
    "scrolled": false
   },
   "outputs": [
    {
     "name": "stderr",
     "output_type": "stream",
     "text": [
      "2023-08-25 13:07:04.884480: I tensorflow/core/common_runtime/gpu/gpu_device.cc:1635] Created device /job:localhost/replica:0/task:0/device:GPU:0 with 5367 MB memory:  -> device: 0, name: Quadro RTX 5000, pci bus id: 0000:af:00.0, compute capability: 7.5\n"
     ]
    },
    {
     "name": "stdout",
     "output_type": "stream",
     "text": [
      "came in load_gene\n",
      "updated hvg\n",
      "here [10 11 11 ...  2  2  2]\n",
      "Data set to work on:\n",
      "[[0.641589   0.         0.         ... 0.         0.         0.5712614 ]\n",
      " [0.         0.         0.         ... 0.         0.38129553 0.38129553]\n",
      " [0.         0.         0.         ... 0.         0.         0.38273725]\n",
      " ...\n",
      " [0.46720564 0.         0.         ... 0.7845247  0.77356744 0.7480512 ]\n",
      " [0.33004093 0.5576196  0.         ... 0.7455333  0.797172   0.76419365]\n",
      " [0.         0.         0.         ... 0.7021406  0.7504664  0.7350177 ]]\n",
      "(486134, 2000)\n",
      "[[0. 0. 0. ... 0. 0. 0.]\n",
      " [0. 0. 0. ... 0. 0. 0.]\n",
      " [0. 0. 0. ... 0. 0. 0.]\n",
      " ...\n",
      " [0. 0. 0. ... 0. 0. 0.]\n",
      " [0. 0. 0. ... 0. 0. 0.]\n",
      " [0. 0. 0. ... 0. 0. 0.]]\n",
      "(486134, 147)\n",
      "encoder input shape  Tensor(\"concat:0\", shape=(?, 2147), dtype=float32)\n",
      "WARNING:tensorflow:From /home/ajita/anaconda3/lib/python3.9/site-packages/tensorflow/python/util/dispatch.py:1176: calling dropout (from tensorflow.python.ops.nn_ops) with keep_prob is deprecated and will be removed in a future version.\n",
      "Instructions for updating:\n",
      "Please use `rate` instead of `keep_prob`. Rate should be set to `rate = 1 - keep_prob`.\n",
      "WARNING:tensorflow:From /home/ajita/anaconda3/lib/python3.9/site-packages/tensorflow/python/util/dispatch.py:1176: to_float (from tensorflow.python.ops.math_ops) is deprecated and will be removed in a future version.\n",
      "Instructions for updating:\n",
      "Use `tf.cast` instead.\n",
      "decoder input shape  Tensor(\"concat_2:0\", shape=(?, 167), dtype=float32)\n",
      "KL gaussian z Tensor(\"mul_10:0\", shape=(?,), dtype=float32)\n",
      "KL gaussian l Tensor(\"mul_9:0\", shape=(?,), dtype=float32)\n",
      "WARNING:tensorflow:From /home/ajita/anaconda3/lib/python3.9/site-packages/tensorflow/python/util/dispatch.py:1176: softmax_cross_entropy_with_logits (from tensorflow.python.ops.nn_ops) is deprecated and will be removed in a future version.\n",
      "Instructions for updating:\n",
      "\n",
      "Future major versions of TensorFlow will allow gradients to flow\n",
      "into the labels input on backprop by default.\n",
      "\n",
      "See `tf.nn.softmax_cross_entropy_with_logits_v2`.\n",
      "\n",
      "Cluster DRA on DataSet /home/ajita/Documents/data_integration/Healthy_Heart/Healthy_human_heart_adata.h5ad ... \n"
     ]
    },
    {
     "name": "stderr",
     "output_type": "stream",
     "text": [
      "2023-08-25 13:09:14.857058: I tensorflow/compiler/mlir/mlir_graph_optimization_pass.cc:353] MLIR V1 optimization pass is not enabled\n"
     ]
    },
    {
     "name": "stdout",
     "output_type": "stream",
     "text": [
      "Epoch : [0] ,  a_loss = 210.4372, d_loss: inf ,  g_loss: inf,  db_loss: 3.5235\n",
      "latent_matrix shape (486134, 20)\n",
      "(486134,)\n"
     ]
    }
   ],
   "source": [
    "    \n",
    "# add avg of losses,\n",
    "\n",
    "import src.model as model\n",
    "\n",
    "\n",
    "run_config = tf.ConfigProto()\n",
    "\n",
    "run_config.gpu_options.per_process_gpu_memory_fraction = 0.333\n",
    "run_config.gpu_options.allow_growth = True\n",
    "\n",
    "with tf.Session(config = run_config) as sess:\n",
    "\n",
    "    dreamer = model.scDREAMER(\n",
    "        sess,\n",
    "        epoch = epoch_dict[name],\n",
    "        dataset_name = data_path[name],\n",
    "        batch = batch_key_dict[name],\n",
    "        cell_type = cell_type_key_dict[name],\n",
    "        name = name,\n",
    "        lr_ae = learning_rate[name]['lr_ae'],\n",
    "        lr_dis = learning_rate[name]['lr_dis'],\n",
    "        lr_bc = learning_rate[name]['lr_bc'],\n",
    "        batch_size = BS[name],\n",
    "        z_dim = latent_dim[name],\n",
    "        shuffle_type = shuffle_type_dict[name]\n",
    "        )\n",
    "\n",
    "    dreamer.train_cluster()\n",
    "\n"
   ]
  },
  {
   "cell_type": "code",
   "execution_count": null,
   "metadata": {
    "id": "UMeOH7FmmZ1v"
   },
   "outputs": [],
   "source": []
  }
 ],
 "metadata": {
  "accelerator": "GPU",
  "colab": {
   "collapsed_sections": [],
   "include_colab_link": true,
   "machine_shape": "hm",
   "name": "2109_Classifier.ipynb",
   "provenance": []
  },
  "kernelspec": {
   "display_name": "Python 3 (ipykernel)",
   "language": "python",
   "name": "python3"
  },
  "language_info": {
   "codemirror_mode": {
    "name": "ipython",
    "version": 3
   },
   "file_extension": ".py",
   "mimetype": "text/x-python",
   "name": "python",
   "nbconvert_exporter": "python",
   "pygments_lexer": "ipython3",
   "version": "3.9.7"
  }
 },
 "nbformat": 4,
 "nbformat_minor": 1
}
