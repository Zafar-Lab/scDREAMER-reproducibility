{
 "cells": [
  {
   "cell_type": "code",
   "execution_count": null,
   "id": "60c6826d-04ac-4338-a7a5-7be9f9d76335",
   "metadata": {},
   "outputs": [],
   "source": [
    "import matplotlib.pyplot as plt\n",
    "import matplotlib as mpl\n",
    "mpl.rcParams['figure.dpi'] = 300\n",
    "import numpy as np\n",
    "\n",
    "dct = {'scVI' : '#28DDED','scDREAMER': '#086E28', 'INSCT' : '#286CED'}\n",
    "\n",
    "methods = ['scVI','INSCT','scDREAMER']\n",
    "X_axis = ['10k','100k','500k','1M']\n",
    "# X_axis = ['10000','100000','500000','1000000']\n",
    "scvi = [1.48502, 11.16046, 63.21514, 154.94488]\n",
    "insct = [2.0573, 23.19898, 107.04628, 172.18584]\n",
    "scdreamer = [0.79782, 7.5525, 37.67958, 72.70798]\n",
    "\n",
    "plt.plot(X_axis,scvi,'o--' ,color = dct['scVI'], label = 'scVI')\n",
    "plt.plot(X_axis,insct,'o--',color = dct['INSCT'], label = 'INSCT')\n",
    "plt.plot(X_axis,scdreamer,'o--',color = dct['scDREAMER'], label = 'scDREAMER')\n",
    "plt.xlabel('Number of cells',fontsize = 15, fontname='Arial', fontweight = 'bold')\n",
    "plt.ylabel('time/epoch (s)',fontsize = 15, fontname='Arial', fontweight = 'bold')\n",
    "plt.legend()\n",
    "plt.show()"
   ]
  },
  {
   "cell_type": "code",
   "execution_count": null,
   "id": "411478b2-a449-4b58-b73d-c30bb7b02430",
   "metadata": {},
   "outputs": [],
   "source": []
  }
 ],
 "metadata": {
  "kernelspec": {
   "display_name": "Python 3 (ipykernel)",
   "language": "python",
   "name": "python3"
  },
  "language_info": {
   "codemirror_mode": {
    "name": "ipython",
    "version": 3
   },
   "file_extension": ".py",
   "mimetype": "text/x-python",
   "name": "python",
   "nbconvert_exporter": "python",
   "pygments_lexer": "ipython3",
   "version": "3.9.7"
  }
 },
 "nbformat": 4,
 "nbformat_minor": 5
}
