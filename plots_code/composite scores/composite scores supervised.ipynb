{
 "cells": [
  {
   "cell_type": "code",
   "execution_count": null,
   "id": "b8dca486-fb1e-4ffb-987b-2142cbab39be",
   "metadata": {
    "tags": []
   },
   "outputs": [],
   "source": [
    "import matplotlib as mpl\n",
    "import matplotlib.pyplot as plt\n",
    "import numpy as np\n",
    "import pandas as pd\n",
    "from pylab import *\n",
    "import seaborn as sns\n",
    "from sklearn.preprocessing import MinMaxScaler\n",
    "\n",
    "mpl.rcParams[\"figure.dpi\"] = 300\n",
    "rc(\"axes\", linewidth=2)\n",
    "import os"
   ]
  },
  {
   "cell_type": "code",
   "execution_count": null,
   "id": "2b720a97-681c-4ba1-bdb5-be90d1a013f8",
   "metadata": {
    "tags": []
   },
   "outputs": [],
   "source": [
    "save_folder = \"./Main_Figures/Composite_Sup/\"\n",
    "dataset = \"Immune_Human\""
   ]
  },
  {
   "cell_type": "code",
   "execution_count": null,
   "id": "10c6034c-17af-4332-ac51-f79105a04e2f",
   "metadata": {
    "tags": []
   },
   "outputs": [],
   "source": [
    "excel_path = \"~/Downloads/All_metrics_15_Mar_23.xlsx\"\n",
    "sheet_name = \"All_Metrics\""
   ]
  },
  {
   "cell_type": "code",
   "execution_count": null,
   "id": "19c5e24d-4f51-4932-aef8-b5c78e78003a",
   "metadata": {
    "tags": []
   },
   "outputs": [],
   "source": [
    "columns_to_scale = [\n",
    "    \"NMI cluster/label\",\n",
    "    \"ARI cluster/label\",\n",
    "    \"ASW label\",\n",
    "    \"ASW label/batch\",\n",
    "    \"PCR batch\",\n",
    "    \"isolated f1 score\",\n",
    "    \"isolated silhouette coefficient\",\n",
    "    \"graph connectivity\",\n",
    "    \"kBET\",\n",
    "    \"iLISI\",\n",
    "    \"cLISI\",\n",
    "]\n",
    "method_color_dct = {\n",
    "    \"scVI\": \"#28DDED\",\n",
    "    \"Harmony\": \"#ED7A28\",\n",
    "    \"Seurat\": \"#994363\",\n",
    "    \"BBKNN\": \"#B626D3\",\n",
    "    \"Scanorama\": \"#EDBF28\",\n",
    "    \"INSCT\": \"#286CED\",\n",
    "    \"LIGER\": \"#90EE90\",\n",
    "    \"fastMNN\": \"#FFB6C1\",\n",
    "    \"iMAP\": \"#964B00\",\n",
    "    \"scDML\": \"#6F3AF9\",\n",
    "    \"scDREAMER\": \"#086E28\",\n",
    "    \"scANVI\": \"#c5b0d5\",\n",
    "    \"scGEN\": \"#d62829\",\n",
    "    \"scDREAMER-Sup\": \"#113f0a\",\n",
    "    \"scDREAMER redo\": \"#086E28\",\n",
    "    \"scDREAMER-Sup redo\": \"#113f0a\",\n",
    "}\n",
    "methods_to_plot = [\"scGEN\", \"scANVI\", \"scDREAMER-Sup\"]"
   ]
  },
  {
   "cell_type": "markdown",
   "id": "68614a08-0766-4018-818a-4f08700c9e0e",
   "metadata": {
    "tags": []
   },
   "source": [
    "# composite score supervised"
   ]
  },
  {
   "cell_type": "code",
   "execution_count": null,
   "id": "fb05b536-ef9c-4c23-a006-e7468271a2b3",
   "metadata": {
    "tags": []
   },
   "outputs": [],
   "source": [
    "def plot_bar_multi(df, col, method_color_dct, save_folder=None):\n",
    "    ax = sns.barplot(\n",
    "        x=\"Percentage_wrong\", y=col, hue=\"Method\", data=df, palette=method_color_dct\n",
    "    )  # , ax=ax1)\n",
    "    plt.xticks(rotation=90)\n",
    "    ax.legend(\n",
    "        loc=\"center left\",\n",
    "        bbox_to_anchor=(1, 0.5),\n",
    "        prop={\"family\": \"Arial\", \"weight\": \"bold\", \"size\": 14},\n",
    "    )\n",
    "    ax.get_legend().remove()\n",
    "    for tick in ax.xaxis.get_major_ticks():\n",
    "        tick.label1.set_fontsize(14)\n",
    "        tick.label1.set_fontweight(\"bold\")\n",
    "    for tick in ax.yaxis.get_major_ticks():\n",
    "        tick.label1.set_fontsize(14)\n",
    "        tick.label1.set_fontweight(\"bold\")\n",
    "    ax.set_ylabel(col, fontsize=15, fontname=\"Arial\", fontweight=\"bold\")\n",
    "    ax.set_xlabel(\n",
    "        \"Percentage of missing cell type labels\",\n",
    "        fontsize=15,\n",
    "        fontname=\"Arial\",\n",
    "        fontweight=\"bold\",\n",
    "    )\n",
    "    rects = ax.patches\n",
    "    for rect in rects:\n",
    "        height = rect.get_height()\n",
    "        ax.text(\n",
    "            rect.get_x() + rect.get_width() / 2,\n",
    "            height,\n",
    "            round(height, 2),\n",
    "            ha=\"center\",\n",
    "            va=\"bottom\",\n",
    "        )\n",
    "    ax.spines[\"top\"].set_visible(False)\n",
    "    ax.spines[\"right\"].set_visible(False)\n",
    "    if save_folder:\n",
    "        if not os.path.exists(save_folder):\n",
    "            print(save_folder)\n",
    "            os.makedirs(save_folder)\n",
    "        plt.savefig(\n",
    "            save_folder + \"/\" + col.replace(\"/\", \"_\") + \".png\",\n",
    "            transparent=True,\n",
    "            bbox_inches=\"tight\",\n",
    "        )\n",
    "    plt.show()\n",
    "\n",
    "def scale_with_mini(df, min_values):\n",
    "    for col in df.columns:\n",
    "        scaler = MinMaxScaler(feature_range=(min_values[col], 1))\n",
    "        df.loc[:, col] = scaler.fit_transform(np.array(df.loc[:, col]).reshape(-1, 1))\n",
    "    return df\n",
    "\n",
    "\n",
    "def scale(df):\n",
    "    scaler = MinMaxScaler()\n",
    "    df = scaler.fit_transform(df)\n",
    "    return df"
   ]
  },
  {
   "cell_type": "markdown",
   "id": "546f09b3-4c44-40f9-a036-733d259cb9de",
   "metadata": {
    "tags": []
   },
   "source": [
    "# scale all min max"
   ]
  },
  {
   "cell_type": "code",
   "execution_count": null,
   "id": "2050a1d6-2a5b-43e4-9fc6-cdfbe7c8b3dc",
   "metadata": {
    "tags": []
   },
   "outputs": [],
   "source": [
    "df = pd.read_excel(excel_path, sheet_name=sheet_name)\n",
    "df_dataset = df[df[\"Dataset\"] == dataset].reset_index(drop=True)\n",
    "df_dataset.index = df_dataset[\"Method\"]\n",
    "df_dataset.drop([\"Dataset\", \"Method\"], inplace=True, axis=1)\n",
    "df_dataset.loc[:, columns_to_scale] = scale(df_dataset.loc[:, columns_to_scale])\n",
    "df_dataset = df_dataset.loc[methods_to_plot, :]\n",
    "df_dataset"
   ]
  },
  {
   "cell_type": "markdown",
   "id": "482563ee-16b3-4e62-938c-f261c67b4421",
   "metadata": {
    "tags": []
   },
   "source": [
    "# scale with mini"
   ]
  },
  {
   "cell_type": "code",
   "execution_count": null,
   "id": "05058d86-d443-455d-a65b-9126cd472559",
   "metadata": {
    "tags": []
   },
   "outputs": [],
   "source": [
    "# df = pd.read_excel(excel_path,sheet_name =sheet_name)\n",
    "# df_dataset = df[df['Dataset'] == dataset].reset_index(drop = True)\n",
    "# df_dataset.index = df_dataset['Method']\n",
    "# df_dataset.drop(['Dataset','Method'], inplace=True, axis=1)\n",
    "# mini_values = df_dataset.loc[:,columns_to_scale].min(axis = 0)\n",
    "# df_dataset = df_dataset.loc[methods_to_plot,:]\n",
    "# df_dataset.loc[:,columns_to_scale] =scale_with_mini(df_dataset.loc[:,columns_to_scale],mini_values)\n",
    "# df_dataset"
   ]
  },
  {
   "cell_type": "markdown",
   "id": "b37404f9-f852-422c-844f-2e9eca1291cc",
   "metadata": {
    "tags": []
   },
   "source": [
    "# scale normal or existing"
   ]
  },
  {
   "cell_type": "code",
   "execution_count": null,
   "id": "04d55ed7-4ef4-49f2-beb6-73fe65680018",
   "metadata": {
    "scrolled": true,
    "tags": []
   },
   "outputs": [],
   "source": [
    "# df = pd.read_excel(excel_path,sheet_name =sheet_name)\n",
    "# df_dataset = df[df['Dataset'] == dataset].reset_index(drop = True)\n",
    "# df_dataset.index = df_dataset['Method']\n",
    "# df_dataset.drop(['Dataset','Method'], inplace=True, axis=1)\n",
    "# df_dataset = df_dataset.loc[methods_to_plot,:]\n",
    "# df_dataset.loc[:,columns_to_scale] =scale(df_dataset.loc[:,columns_to_scale])\n",
    "# df_dataset"
   ]
  },
  {
   "cell_type": "markdown",
   "id": "089c1d6d-18d4-462c-8b2c-214f99377902",
   "metadata": {
    "tags": []
   },
   "source": [
    "# calculate composite"
   ]
  },
  {
   "cell_type": "code",
   "execution_count": null,
   "id": "07b64545-1b69-4369-8b71-ac259eb09da4",
   "metadata": {
    "scrolled": true,
    "tags": []
   },
   "outputs": [],
   "source": [
    "if dataset in [\"Immune_Human\", \"Lung\"]:\n",
    "    df_dataset[\"Percentage_wrong\"] = df_dataset[\"Percentage_wrong\"].astype(\"int32\")\n",
    "    df_dataset = df_dataset.apply(\n",
    "        lambda x: x.apply(lambda y: round(y, 2) if type(y) == type(0.0) else y)\n",
    "    )\n",
    "    df_dataset[\"color\"] = pd.Series(df_dataset.index, index=df_dataset.index).replace(\n",
    "        method_color_dct\n",
    "    )\n",
    "    df_dataset[\"Method\"] = df_dataset.index\n",
    "    df_dataset[\"Composite bio-conservation score\"] = df_dataset[\n",
    "        [\"NMI cluster/label\", \"ARI cluster/label\", \"ASW label\"]\n",
    "    ].mean(axis=1)\n",
    "    df_dataset[\"Composite batch-correction score\"] = df_dataset[\n",
    "        [\"ASW label/batch\", \"PCR batch\", \"graph connectivity\", \"kBET\"]\n",
    "    ].mean(axis=1)\n",
    "    df_dataset[\"Composite isolated label score\"] = df_dataset[\n",
    "        [\"isolated silhouette coefficient\", \"isolated f1 score\"]\n",
    "    ].mean(axis=1)\n",
    "    df_dataset[\"Combined composite score\"] = df_dataset[\n",
    "        [\"Composite bio-conservation score\", \"Composite batch-correction score\"]\n",
    "    ].mean(axis=1)\n",
    "    plot_bar_multi(\n",
    "        df_dataset,\n",
    "        \"Combined composite score\",\n",
    "        method_color_dct,\n",
    "        save_folder=save_folder + dataset,\n",
    "    )\n",
    "    plot_bar_multi(\n",
    "        df_dataset,\n",
    "        \"Composite batch-correction score\",\n",
    "        method_color_dct,\n",
    "        save_folder=save_folder + dataset,\n",
    "    )\n",
    "    plot_bar_multi(\n",
    "        df_dataset,\n",
    "        \"Composite bio-conservation score\",\n",
    "        method_color_dct,\n",
    "        save_folder=save_folder + dataset,\n",
    "    )\n",
    "    plot_bar_multi(\n",
    "        df_dataset,\n",
    "        \"Composite isolated label score\",\n",
    "        method_color_dct,\n",
    "        save_folder=save_folder + dataset,\n",
    "    )"
   ]
  },
  {
   "cell_type": "code",
   "execution_count": null,
   "id": "a6903e6d-e9ff-4c4b-8c48-10b3ec29a9c6",
   "metadata": {
    "execution": {
     "iopub.execute_input": "2023-07-06T10:37:57.573247Z",
     "iopub.status.busy": "2023-07-06T10:37:57.571388Z",
     "iopub.status.idle": "2023-07-06T10:37:58.992323Z",
     "shell.execute_reply": "2023-07-06T10:37:58.991781Z",
     "shell.execute_reply.started": "2023-07-06T10:37:57.573150Z"
    },
    "scrolled": true,
    "tags": []
   },
   "outputs": [],
   "source": [
    "if dataset == \"Healthy_Human_Heart\":\n",
    "    df_dataset[\"Percentage_wrong\"] = df_dataset[\"Percentage_wrong\"].astype(\"int32\")\n",
    "    df_dataset = df_dataset.loc[df_dataset[\"Percentage_wrong\"].isin([0, 20, 50]), :]\n",
    "    df_dataset = df_dataset.apply(\n",
    "        lambda x: x.apply(lambda y: round(y, 2) if type(y) == type(0.0) else y)\n",
    "    )\n",
    "    df_dataset[\"color\"] = pd.Series(df_dataset.index, index=df_dataset.index).replace(\n",
    "        method_color_dct\n",
    "    )\n",
    "    df_dataset[\"Method\"] = df_dataset.index\n",
    "    df_dataset[\"Composite bio-conservation score\"] = df_dataset[\n",
    "        [\"NMI cluster/label\", \"ARI cluster/label\", \"ASW label\"]\n",
    "    ].mean(axis=1)\n",
    "    df_dataset[\"Composite batch-correction score\"] = df_dataset[\n",
    "        [\"ASW label/batch\", \"graph connectivity\"]\n",
    "    ].mean(\n",
    "        axis=1\n",
    "    )  #'kBET' as not calculated  'PCR batch',\n",
    "    df_dataset[\"Composite isolated label score\"] = df_dataset[\n",
    "        [\"isolated silhouette coefficient\", \"isolated f1 score\"]\n",
    "    ].mean(axis=1)\n",
    "    df_dataset[\"Combined composite score\"] = df_dataset[\n",
    "        [\"Composite bio-conservation score\", \"Composite batch-correction score\"]\n",
    "    ].mean(axis=1)\n",
    "    plot_bar_multi(\n",
    "        df_dataset,\n",
    "        \"Combined composite score\",\n",
    "        method_color_dct,\n",
    "        save_folder=save_folder + dataset,\n",
    "    )\n",
    "    plot_bar_multi(\n",
    "        df_dataset,\n",
    "        \"Composite batch-correction score\",\n",
    "        method_color_dct,\n",
    "        save_folder=save_folder + dataset,\n",
    "    )\n",
    "    plot_bar_multi(\n",
    "        df_dataset,\n",
    "        \"Composite bio-conservation score\",\n",
    "        method_color_dct,\n",
    "        save_folder=save_folder + dataset,\n",
    "    )\n",
    "    plot_bar_multi(\n",
    "        df_dataset,\n",
    "        \"Composite isolated label score\",\n",
    "        method_color_dct,\n",
    "        save_folder=save_folder + dataset,\n",
    "    )"
   ]
  },
  {
   "cell_type": "code",
   "execution_count": null,
   "id": "f98b9e9a-1ef2-4592-b5e9-865af58504ef",
   "metadata": {
    "execution": {
     "iopub.execute_input": "2023-05-22T12:03:05.264736Z",
     "iopub.status.busy": "2023-05-22T12:03:05.264593Z",
     "iopub.status.idle": "2023-05-22T12:03:05.267463Z",
     "shell.execute_reply": "2023-05-22T12:03:05.266954Z",
     "shell.execute_reply.started": "2023-05-22T12:03:05.264721Z"
    },
    "tags": []
   },
   "outputs": [],
   "source": [
    "# scVI - cyan\n",
    "# Harmony - orange\n",
    "# Seurat - magenta\n",
    "# BBKNN - purple\n",
    "# Scanorama - yellow\n",
    "# INSCT - blue\n",
    "# iMAP - brown\n",
    "# Liger - light green\n",
    "# fastMNN - light pink\n",
    "# scANVI - removed from main figure\n",
    "# scDREAMER - Green\n",
    "# scDREAMER++ - Red"
   ]
  },
  {
   "cell_type": "markdown",
   "id": "ae7dc58c-7b22-40f0-9dc7-b5a4baa638ae",
   "metadata": {},
   "source": [
    "# legend"
   ]
  },
  {
   "cell_type": "code",
   "execution_count": null,
   "id": "89593a57-ea4d-47cb-a691-38b0e650148a",
   "metadata": {
    "execution": {
     "iopub.execute_input": "2023-05-22T11:48:32.185061Z",
     "iopub.status.busy": "2023-05-22T11:48:32.184836Z",
     "iopub.status.idle": "2023-05-22T11:48:32.625762Z",
     "shell.execute_reply": "2023-05-22T11:48:32.625303Z",
     "shell.execute_reply.started": "2023-05-22T11:48:32.185036Z"
    },
    "scrolled": true,
    "tags": []
   },
   "outputs": [],
   "source": [
    "df_dataset[\"Method\"] = df_dataset.index\n",
    "ax = sns.barplot(\n",
    "    x=\"Percentage_wrong\",\n",
    "    y=\"NMI cluster/label\",\n",
    "    hue=\"Method\",\n",
    "    data=df_dataset,\n",
    "    palette=method_color_dct,\n",
    ")  # , ax=ax1)\n",
    "ax.legend(\n",
    "    loc=\"center left\", bbox_to_anchor=(1, 0.5), prop={\"family\": \"Arial\", \"size\": 14}\n",
    ")\n",
    "plt.savefig(\"./Supplimentary_Sup/Sup_legend.png\", transparent=True, bbox_inches=\"tight\")"
   ]
  },
  {
   "cell_type": "code",
   "execution_count": null,
   "id": "256880f0-f43d-4057-bef5-e7bd0bd5ed30",
   "metadata": {
    "execution": {
     "iopub.execute_input": "2023-05-22T11:48:32.888013Z",
     "iopub.status.busy": "2023-05-22T11:48:32.887800Z",
     "iopub.status.idle": "2023-05-22T11:48:32.901854Z",
     "shell.execute_reply": "2023-05-22T11:48:32.901319Z",
     "shell.execute_reply.started": "2023-05-22T11:48:32.887989Z"
    },
    "tags": []
   },
   "outputs": [],
   "source": [
    "if dataset in [\"Immune_Human\", \"Lung\"]:\n",
    "    df_dataset[\"Percentage_wrong\"] = df_dataset[\"Percentage_wrong\"].astype(\"int32\")\n",
    "    df_dataset = df_dataset.apply(\n",
    "        lambda x: x.apply(lambda y: round(y, 2) if type(y) == type(0.0) else y)\n",
    "    )\n",
    "    df_dataset[\"color\"] = pd.Series(df_dataset.index, index=df_dataset.index).replace(\n",
    "        method_color_dct\n",
    "    )\n",
    "    df_dataset[\"Method\"] = df_dataset.index\n",
    "    df_dataset[\"Composite bio-conservation score\"] = df_dataset[\n",
    "        [\"NMI cluster/label\", \"ARI cluster/label\", \"ASW label\"]\n",
    "    ].mean(axis=1)\n",
    "    df_dataset[\"Composite batch-correction score\"] = df_dataset[\n",
    "        [\"ASW label/batch\", \"PCR batch\", \"graph connectivity\", \"kBET\"]\n",
    "    ].mean(axis=1)\n",
    "    df_dataset[\"Composite isolated label score\"] = df_dataset[\n",
    "        [\"isolated silhouette coefficient\", \"isolated f1 score\"]\n",
    "    ].mean(axis=1)\n",
    "    df_dataset[\"Combined composite score\"] = df_dataset[\n",
    "        [\"Composite bio-conservation score\", \"Composite batch-correction score\"]\n",
    "    ].mean(axis=1)\n",
    "    df_dataset = df_dataset[\n",
    "        [\n",
    "            \"Composite bio-conservation score\",\n",
    "            \"Composite batch-correction score\",\n",
    "            \"Composite isolated label score\",\n",
    "            \"Combined composite score\",\n",
    "            \"Percentage_wrong\",\n",
    "        ]\n",
    "    ]"
   ]
  },
  {
   "cell_type": "code",
   "execution_count": null,
   "id": "996be46e-0228-4fc3-af2a-60c1ccdcd82a",
   "metadata": {
    "execution": {
     "iopub.execute_input": "2023-05-22T11:51:31.183581Z",
     "iopub.status.busy": "2023-05-22T11:51:31.181331Z",
     "iopub.status.idle": "2023-05-22T11:51:31.191676Z",
     "shell.execute_reply": "2023-05-22T11:51:31.190393Z",
     "shell.execute_reply.started": "2023-05-22T11:51:31.183498Z"
    },
    "tags": []
   },
   "outputs": [],
   "source": [
    "df_dataset.to_csv(dataset + \"_supervised_composite_scores.csv\", sep=\"\\t\", index=True)"
   ]
  },
  {
   "cell_type": "code",
   "execution_count": null,
   "id": "ab18ba20-b4fb-4e32-aff7-196f990e7e3f",
   "metadata": {},
   "outputs": [],
   "source": []
  }
 ],
 "metadata": {
  "kernelspec": {
   "display_name": "Python 3 (ipykernel)",
   "language": "python",
   "name": "python3"
  },
  "language_info": {
   "codemirror_mode": {
    "name": "ipython",
    "version": 3
   },
   "file_extension": ".py",
   "mimetype": "text/x-python",
   "name": "python",
   "nbconvert_exporter": "python",
   "pygments_lexer": "ipython3",
   "version": "3.7.11"
  }
 },
 "nbformat": 4,
 "nbformat_minor": 5
}
