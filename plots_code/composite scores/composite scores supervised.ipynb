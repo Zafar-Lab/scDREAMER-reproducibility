{
 "cells": [
  {
   "cell_type": "code",
   "execution_count": null,
   "id": "b8dca486-fb1e-4ffb-987b-2142cbab39be",
   "metadata": {},
   "outputs": [],
   "source": [
    "import pandas as pd\n",
    "import numpy as np\n",
    "import math\n",
    "import pylab\n",
    "from pylab import *\n",
    "from sklearn import linear_model\n",
    "from sklearn.metrics import mean_squared_error, r2_score\n",
    "import matplotlib.pyplot as plt\n",
    "import matplotlib.colors as mcolors\n",
    "\n",
    "import matplotlib as mpl\n",
    "mpl.rcParams['figure.dpi'] = 300\n",
    "\n",
    "import os"
   ]
  },
  {
   "cell_type": "code",
   "execution_count": null,
   "id": "2b720a97-681c-4ba1-bdb5-be90d1a013f8",
   "metadata": {},
   "outputs": [],
   "source": [
    "save_folder = './Supplimentary_Sup/'\n",
    "dataset = 'Immune_Human'"
   ]
  },
  {
   "cell_type": "code",
   "execution_count": null,
   "id": "10c6034c-17af-4332-ac51-f79105a04e2f",
   "metadata": {},
   "outputs": [],
   "source": [
    "excel_path = '~/Downloads/All_metrics_15_Sep.xlsx' \n",
    "sheet_name =  'all_metrics_revision'"
   ]
  },
  {
   "cell_type": "code",
   "execution_count": null,
   "id": "19c5e24d-4f51-4932-aef8-b5c78e78003a",
   "metadata": {},
   "outputs": [],
   "source": [
    "columns_to_scale = [\"NMI cluster/label\",\"ARI cluster/label\",\"ASW label\",\"ASW label/batch\",\"PCR batch\",\"isolated f1 score\",\"isolated silhouette coefficient\",\"graph connectivity\",\"kBET\",\"iLISI\",\"cLISI\"]\n",
    "method_color_dct = {'scVI' : '#28DDED', 'Harmony': '#ED7A28','Seurat' : '#994363', \n",
    "       'BBKNN': '#B626D3', 'Scanorama': '#EDBF28', \n",
    "       'INSCT' : '#286CED', 'LIGER' : '#90EE90','fastMNN':  \"#FFB6C1\", \"iMAP\" : \"#964B00\",\n",
    "       'scDREAMER': '#086E28', 'scANVI': '#c5b0d5',\n",
    "'scGEN': '#d62829',\n",
    "'scDREAMER-Sup': '#113f0a'\n",
    "#                     \"scANVI\" : '#B626D3',\n",
    "#         'scGEN': \"#964B00\",\n",
    "#        'scDREAMER-Sup' : \"#013220\"\n",
    "       }\n",
    "methods_to_plot = ['scGEN','scANVI','scDREAMER-Sup']"
   ]
  },
  {
   "cell_type": "markdown",
   "id": "68614a08-0766-4018-818a-4f08700c9e0e",
   "metadata": {
    "tags": []
   },
   "source": [
    "# composite score supervised"
   ]
  },
  {
   "cell_type": "code",
   "execution_count": null,
   "id": "fb05b536-ef9c-4c23-a006-e7468271a2b3",
   "metadata": {},
   "outputs": [],
   "source": [
    "import seaborn as sns\n",
    "def plot_bar_multi(df,col,method_color_dct,save_folder=None):\n",
    "    ax = sns.barplot(x='Percentage_wrong', y=col, hue='Method', data=df,palette=method_color_dct)#, ax=ax1)\n",
    "    plt.xticks(rotation=90)\n",
    "    ax.legend(loc='center left', bbox_to_anchor=(1, 0.5),prop={'family':\"Arial\",'weight':'bold','size':14})\n",
    "    ax.get_legend().remove()\n",
    "    for tick in ax.xaxis.get_major_ticks():\n",
    "        tick.label1.set_fontsize(14)\n",
    "        tick.label1.set_fontweight('bold')\n",
    "    for tick in ax.yaxis.get_major_ticks():\n",
    "        tick.label1.set_fontsize(14)\n",
    "        tick.label1.set_fontweight('bold')\n",
    "    ax.set_ylabel(col,fontsize = 15, fontname='Arial', fontweight = 'bold')\n",
    "    ax.set_xlabel('Percentage of missing cell type labels',fontsize = 15, fontname='Arial', fontweight = 'bold')\n",
    "    rects = ax.patches\n",
    "    for rect in rects:\n",
    "        height = rect.get_height()\n",
    "        ax.text(\n",
    "        rect.get_x() + rect.get_width() / 2, height, round(height,2), ha=\"center\", va=\"bottom\"\n",
    "            )\n",
    "    ax. spines['top']. set_visible(False)\n",
    "    ax. spines['right']. set_visible(False)\n",
    "    if save_folder:\n",
    "        if not os.path.exists(save_folder):\n",
    "            print(save_folder)\n",
    "            os.makedirs(save_folder)\n",
    "        plt.savefig(save_folder+'/'+col.replace('/','_')+'.png', transparent=True, bbox_inches='tight')\n",
    "    plt.show()\n",
    "    \n",
    "from sklearn.preprocessing import MinMaxScaler\n",
    "def scale_with_mini(df,min_values):\n",
    "    for col in df.columns:\n",
    "        scaler = MinMaxScaler(feature_range=(min_values[col],1))\n",
    "        df.loc[:,col] = scaler.fit_transform(np.array(df.loc[:,col]).reshape(-1,1))\n",
    "    return df\n",
    "def scale(df):\n",
    "    scaler = MinMaxScaler()\n",
    "    df = scaler.fit_transform(df)\n",
    "    return df"
   ]
  },
  {
   "cell_type": "markdown",
   "id": "546f09b3-4c44-40f9-a036-733d259cb9de",
   "metadata": {
    "tags": []
   },
   "source": [
    "# scale all min max"
   ]
  },
  {
   "cell_type": "code",
   "execution_count": null,
   "id": "2050a1d6-2a5b-43e4-9fc6-cdfbe7c8b3dc",
   "metadata": {},
   "outputs": [],
   "source": [
    "df = pd.read_excel(excel_path,sheet_name =sheet_name)\n",
    "df_dataset = df[df['Dataset'] == dataset].reset_index(drop = True)\n",
    "df_dataset.index = df_dataset['Method']\n",
    "df_dataset.drop(['Dataset','Method'], inplace=True, axis=1)\n",
    "df_dataset.loc[:,columns_to_scale] =scale(df_dataset.loc[:,columns_to_scale])\n",
    "df_dataset = df_dataset.loc[methods_to_plot,:]\n",
    "df_dataset"
   ]
  },
  {
   "cell_type": "markdown",
   "id": "482563ee-16b3-4e62-938c-f261c67b4421",
   "metadata": {
    "tags": []
   },
   "source": [
    "# scale with mini"
   ]
  },
  {
   "cell_type": "code",
   "execution_count": null,
   "id": "05058d86-d443-455d-a65b-9126cd472559",
   "metadata": {},
   "outputs": [],
   "source": [
    "# df = pd.read_excel(excel_path,sheet_name =sheet_name)\n",
    "# df_dataset = df[df['Dataset'] == dataset].reset_index(drop = True)\n",
    "# df_dataset.index = df_dataset['Method']\n",
    "# df_dataset.drop(['Dataset','Method'], inplace=True, axis=1)\n",
    "# mini_values = df_dataset.loc[:,columns_to_scale].min(axis = 0)\n",
    "# df_dataset = df_dataset.loc[methods_to_plot,:]\n",
    "# df_dataset.loc[:,columns_to_scale] =scale_with_mini(df_dataset.loc[:,columns_to_scale],mini_values)\n",
    "# df_dataset"
   ]
  },
  {
   "cell_type": "markdown",
   "id": "b37404f9-f852-422c-844f-2e9eca1291cc",
   "metadata": {
    "tags": []
   },
   "source": [
    "# scale normal or existing"
   ]
  },
  {
   "cell_type": "code",
   "execution_count": null,
   "id": "04d55ed7-4ef4-49f2-beb6-73fe65680018",
   "metadata": {
    "scrolled": true,
    "tags": []
   },
   "outputs": [],
   "source": [
    "# df = pd.read_excel(excel_path,sheet_name =sheet_name)\n",
    "# df_dataset = df[df['Dataset'] == dataset].reset_index(drop = True)\n",
    "# df_dataset.index = df_dataset['Method']\n",
    "# df_dataset.drop(['Dataset','Method'], inplace=True, axis=1)\n",
    "# df_dataset = df_dataset.loc[methods_to_plot,:]\n",
    "# df_dataset.loc[:,columns_to_scale] =scale(df_dataset.loc[:,columns_to_scale])\n",
    "# df_dataset"
   ]
  },
  {
   "cell_type": "markdown",
   "id": "089c1d6d-18d4-462c-8b2c-214f99377902",
   "metadata": {
    "tags": []
   },
   "source": [
    "# calculate composite"
   ]
  },
  {
   "cell_type": "code",
   "execution_count": null,
   "id": "07b64545-1b69-4369-8b71-ac259eb09da4",
   "metadata": {
    "scrolled": true,
    "tags": []
   },
   "outputs": [],
   "source": [
    "if dataset in ['Immune_Human','Lung']:\n",
    "    df_dataset['Percentage_wrong'] = df_dataset['Percentage_wrong'].astype('int32')\n",
    "    df_dataset = df_dataset.apply(lambda x:x.apply(lambda y:round(y,2) if type(y)==type(0.0) else y))\n",
    "    df_dataset['color'] = pd.Series(df_dataset.index,index=df_dataset.index).replace(method_color_dct)\n",
    "    df_dataset['Method'] = df_dataset.index\n",
    "    df_dataset['Composite bio-conservation score'] = df_dataset[['NMI cluster/label', 'ARI cluster/label', 'ASW label']].mean(axis = 1)\n",
    "    df_dataset['Composite batch-correction score'] = df_dataset[['ASW label/batch', 'PCR batch', 'graph connectivity', 'kBET']].mean(axis = 1)\n",
    "    df_dataset['Composite isolated label score'] = df_dataset[['isolated silhouette coefficient', 'isolated f1 score']].mean(axis = 1)\n",
    "    df_dataset['Combined composite score'] = df_dataset[['Composite bio-conservation score', 'Composite batch-correction score']].mean(axis = 1)\n",
    "    plot_bar_multi(df_dataset, 'Combined composite score',method_color_dct,save_folder =save_folder+dataset)\n",
    "    plot_bar_multi(df_dataset, 'Composite batch-correction score',method_color_dct,save_folder =save_folder+dataset)\n",
    "    plot_bar_multi(df_dataset, 'Composite bio-conservation score',method_color_dct,save_folder =save_folder+dataset)\n",
    "    plot_bar_multi(df_dataset, 'Composite isolated label score',method_color_dct,save_folder =save_folder+dataset)"
   ]
  },
  {
   "cell_type": "code",
   "execution_count": null,
   "id": "f98b9e9a-1ef2-4592-b5e9-865af58504ef",
   "metadata": {},
   "outputs": [],
   "source": [
    "# scVI - cyan\n",
    "# Harmony - orange\n",
    "# Seurat - magenta\n",
    "# BBKNN - purple\n",
    "# Scanorama - yellow\n",
    "# INSCT - blue\n",
    "# iMAP - brown\n",
    "# Liger - light green\n",
    "# fastMNN - light pink\n",
    "# scANVI - removed from main figure\n",
    "# scDREAMER - Green\n",
    "# scDREAMER++ - Red"
   ]
  },
  {
   "cell_type": "markdown",
   "id": "ae7dc58c-7b22-40f0-9dc7-b5a4baa638ae",
   "metadata": {},
   "source": [
    "# legend"
   ]
  },
  {
   "cell_type": "code",
   "execution_count": null,
   "id": "89593a57-ea4d-47cb-a691-38b0e650148a",
   "metadata": {},
   "outputs": [],
   "source": [
    "df_dataset['Method'] = df_dataset.index\n",
    "ax = sns.barplot(x='Percentage_wrong', y='NMI cluster/label', hue='Method', data=df_dataset,palette=method_color_dct)#, ax=ax1)\n",
    "ax.legend(loc='center left', bbox_to_anchor=(1, 0.5),prop={'family':\"Arial\",'size':14})\n",
    "plt.savefig('./Supplimentary_Sup/Sup_legend.png', transparent=True, bbox_inches='tight')"
   ]
  },
  {
   "cell_type": "code",
   "execution_count": null,
   "id": "256880f0-f43d-4057-bef5-e7bd0bd5ed30",
   "metadata": {},
   "outputs": [],
   "source": [
    "if dataset in ['Immune_Human','Lung']:\n",
    "    df_dataset['Percentage_wrong'] = df_dataset['Percentage_wrong'].astype('int32')\n",
    "    df_dataset = df_dataset.apply(lambda x:x.apply(lambda y:round(y,2) if type(y)==type(0.0) else y))\n",
    "    df_dataset['color'] = pd.Series(df_dataset.index,index=df_dataset.index).replace(method_color_dct)\n",
    "    df_dataset['Method'] = df_dataset.index\n",
    "    df_dataset['Composite bio-conservation score'] = df_dataset[['NMI cluster/label', 'ARI cluster/label', 'ASW label']].mean(axis = 1)\n",
    "    df_dataset['Composite batch-correction score'] = df_dataset[['ASW label/batch', 'PCR batch', 'graph connectivity', 'kBET']].mean(axis = 1)\n",
    "    df_dataset['Composite isolated label score'] = df_dataset[['isolated silhouette coefficient', 'isolated f1 score']].mean(axis = 1)\n",
    "    df_dataset['Combined composite score'] = df_dataset[['Composite bio-conservation score', 'Composite batch-correction score']].mean(axis = 1)\n",
    "    df_dataset = df_dataset[['Composite bio-conservation score','Composite batch-correction score','Composite isolated label score','Combined composite score','Percentage_wrong']]\n",
    "    "
   ]
  },
  {
   "cell_type": "code",
   "execution_count": null,
   "id": "996be46e-0228-4fc3-af2a-60c1ccdcd82a",
   "metadata": {},
   "outputs": [],
   "source": [
    "df_dataset.to_csv(dataset+'_supervised_composite_scores.csv',sep='\\t',index=True)"
   ]
  },
  {
   "cell_type": "code",
   "execution_count": null,
   "id": "ab18ba20-b4fb-4e32-aff7-196f990e7e3f",
   "metadata": {},
   "outputs": [],
   "source": []
  }
 ],
 "metadata": {
  "kernelspec": {
   "display_name": "Python 3 (ipykernel)",
   "language": "python",
   "name": "python3"
  },
  "language_info": {
   "codemirror_mode": {
    "name": "ipython",
    "version": 3
   },
   "file_extension": ".py",
   "mimetype": "text/x-python",
   "name": "python",
   "nbconvert_exporter": "python",
   "pygments_lexer": "ipython3",
   "version": "3.7.11"
  }
 },
 "nbformat": 4,
 "nbformat_minor": 5
}
