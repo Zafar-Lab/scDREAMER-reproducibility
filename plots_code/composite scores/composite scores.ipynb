{
 "cells": [
  {
   "cell_type": "code",
   "execution_count": null,
   "id": "b8dca486-fb1e-4ffb-987b-2142cbab39be",
   "metadata": {},
   "outputs": [],
   "source": [
    "import pandas as pd\n",
    "import numpy as np\n",
    "import math\n",
    "import pylab\n",
    "from pylab import *\n",
    "from sklearn import linear_model\n",
    "from sklearn.metrics import mean_squared_error, r2_score\n",
    "import matplotlib.pyplot as plt\n",
    "import matplotlib.colors as mcolors\n",
    "from IPython.display import display\n",
    "import matplotlib as mpl\n",
    "mpl.rcParams['figure.dpi'] = 300\n",
    "\n",
    "import os"
   ]
  },
  {
   "cell_type": "code",
   "execution_count": null,
   "id": "2b720a97-681c-4ba1-bdb5-be90d1a013f8",
   "metadata": {},
   "outputs": [],
   "source": [
    "save_folder = './Main_Figures/'\n",
    "dataset = 'Pancreas'"
   ]
  },
  {
   "cell_type": "code",
   "execution_count": null,
   "id": "10c6034c-17af-4332-ac51-f79105a04e2f",
   "metadata": {},
   "outputs": [],
   "source": [
    "excel_path = '~/Downloads/All_metrics_15_Sep.xlsx' \n",
    "sheet_name =  'all_metrics_revision'"
   ]
  },
  {
   "cell_type": "code",
   "execution_count": null,
   "id": "19c5e24d-4f51-4932-aef8-b5c78e78003a",
   "metadata": {},
   "outputs": [],
   "source": [
    "columns_to_scale = [\"NMI cluster/label\",\"ARI cluster/label\",\"ASW label\",\"ASW label/batch\",\"PCR batch\",\"isolated f1 score\",\"isolated silhouette coefficient\",\"graph connectivity\",\"kBET\",\"iLISI\",\"cLISI\"]\n",
    "method_color_dct = {'scVI' : '#28DDED', 'Harmony': '#ED7A28','Seurat' : '#994363', \n",
    "       'BBKNN': '#B626D3', 'Scanorama': '#EDBF28', \n",
    "       'INSCT' : '#286CED', 'LIGER' : '#90EE90','fastMNN':  \"#FFB6C1\", \"iMAP\" : \"#964B00\",\n",
    "       'scDREAMER': '#086E28', 'scANVI': '#c5b0d5',\n",
    "'scGEN': '#d62829',\n",
    "'scDREAMER-Sup': '#113f0a'\n",
    "       }\n",
    "methods_to_plot = [ 'scVI' , 'Harmony','Seurat', 'BBKNN', 'Scanorama','INSCT' ,'LIGER' , \"iMAP\" ,'scDREAMER']"
   ]
  },
  {
   "cell_type": "code",
   "execution_count": null,
   "id": "19745615-a5d3-4402-a4c4-ee9f2ae091be",
   "metadata": {},
   "outputs": [],
   "source": [
    "import os\n",
    "def plot_bar(df_, col_name,save_folder = False):#save_name dataset\n",
    "    \n",
    "    rc('axes', linewidth = 2)\n",
    "\n",
    "#     if (dataset == 'Human_Mouse' and col_name == 'kBET'):\n",
    "#         df_ = df_[df_.index != 'BBKNN']#.reset_index(drop = True)\n",
    "#     if (dataset =='Human_Mouse' and col_name in [\"isolated f1 score\",\"isolated silhouette coefficient\"]):\n",
    "#         return\n",
    "#     if (col_name == 'PCR batch'): # or col_name == 'ASW label' or col_name == 'ASW label/batch' or  col_name == 'isolated silhouette coefficient'\n",
    "#         df_ = df_[df_.index != 'BBKNN']#.reset_index(drop = True)\n",
    "\n",
    "\n",
    "    fig = plt.figure(figsize = (6, 4))\n",
    "    ax = df_[col_name].plot(kind=\"bar\", color = df_['color'])\n",
    "\n",
    "   \n",
    "    rects = ax.patches\n",
    "    ax.set_xticklabels(df_.index, rotation = 75, fontname='Arial', fontsize = 10)\n",
    "  \n",
    "    for rect, label in zip(rects, df_[col_name]):\n",
    "        height = rect.get_height()\n",
    "        ax.text(\n",
    "        rect.get_x() + rect.get_width() / 2, height, round(label, 2), ha=\"center\", va=\"bottom\"\n",
    "        )\n",
    "    \n",
    "    \n",
    "    mi = df_[col_name].min()\n",
    "    mx = df_[col_name].max()\n",
    "    ylim(max(mi - 0.01,0), min(mx*1.05, 1.0))\n",
    "    \n",
    "    \n",
    "    \n",
    "    plt.ylabel(col_name, fontsize = 15, fontname='Arial', fontweight = 'bold')\n",
    "    plt.xlabel(None)#, fontsize = 15, fontname='Arial', fontweight = 'bold')\n",
    "    for tick in ax.xaxis.get_major_ticks():\n",
    "        tick.label1.set_fontsize(14)\n",
    "        tick.label1.set_fontweight('bold')\n",
    "    for tick in ax.yaxis.get_major_ticks():\n",
    "        tick.label1.set_fontsize(14)\n",
    "        tick.label1.set_fontweight('bold')\n",
    "        \n",
    "    plt.subplot(111).spines['right'].set_visible(False)\n",
    "    plt.subplot(111).spines['top'].set_visible(False)\n",
    "   \n",
    "    plt.tight_layout()\n",
    "#     plt.gcf().subplots_adjust(bottom = 0.3)\n",
    "    #plt.gcf().subplots_adjust(top = 3)\n",
    "    #plt.gcf().subplots_adjust(top=5)\n",
    "    \n",
    "    if save_folder:\n",
    "        if not os.path.exists(save_folder):\n",
    "            print(save_folder)\n",
    "            os.makedirs(save_folder)\n",
    "        plt.savefig(save_folder+'/'+col_name.replace('/','_')+'.png', transparent=True, bbox_inches='tight')\n",
    "\n",
    "    plt.show()"
   ]
  },
  {
   "cell_type": "markdown",
   "id": "328e6176-3df5-4a06-941d-d0343952a28b",
   "metadata": {
    "tags": []
   },
   "source": [
    "# composite score main"
   ]
  },
  {
   "cell_type": "code",
   "execution_count": null,
   "id": "2274f4c5-ddd4-472d-8dcd-4a02e2c81d37",
   "metadata": {},
   "outputs": [],
   "source": [
    "from sklearn.preprocessing import MinMaxScaler\n",
    "def scale(df):\n",
    "    scaler = MinMaxScaler()\n",
    "    df = scaler.fit_transform(df)\n",
    "    return df\n",
    "def calculate_composite(df_dataset):\n",
    "    df_dataset['color'] = pd.Series(df_dataset.index,index=df_dataset.index).replace(method_color_dct)\n",
    "    df_dataset['Composite bio-conservation score'] = df_dataset[['NMI cluster/label', 'ARI cluster/label', 'ASW label']].mean(axis = 1)\n",
    "    df_dataset['Composite batch-correction score'] = df_dataset[['ASW label/batch', 'PCR batch', 'graph connectivity', 'kBET']].mean(axis = 1)\n",
    "    df_dataset['Composite isolated label score'] = df_dataset[['isolated silhouette coefficient', 'isolated f1 score']].mean(axis = 1)\n",
    "    df_dataset['Combined composite score'] = df_dataset[['Composite bio-conservation score', 'Composite batch-correction score']].mean(axis = 1)\n",
    "    df_dataset = df_dataset.apply(lambda x:x.apply(lambda y:round(y,2) if type(y)!=str else y))\n",
    "    return df_dataset\n",
    "def plot_composite(df_dataset,save_path):\n",
    "    plot_bar(df_dataset, 'Combined composite score', save_folder=save_path)\n",
    "    plot_bar(df_dataset, 'Composite batch-correction score', save_folder = save_path)\n",
    "    plot_bar(df_dataset, 'Composite bio-conservation score', save_folder=save_path)\n",
    "    plot_bar(df_dataset, 'Composite isolated label score', save_folder=save_path)"
   ]
  },
  {
   "cell_type": "markdown",
   "id": "619da13f-0bc0-4d06-8799-9942ea2260ea",
   "metadata": {
    "tags": []
   },
   "source": [
    "# Pancreas"
   ]
  },
  {
   "cell_type": "code",
   "execution_count": null,
   "id": "99b08fa8-4388-45c7-901e-e70368df347e",
   "metadata": {
    "scrolled": true,
    "tags": []
   },
   "outputs": [],
   "source": [
    "dataset = 'Pancreas'\n",
    "df = pd.read_excel(excel_path,sheet_name =sheet_name)\n",
    "df_dataset = df[df['Dataset'] == dataset].reset_index(drop = True)\n",
    "df_dataset.index = df_dataset['Method']\n",
    "df_dataset.drop(['Dataset','Method'], inplace=True, axis=1)\n",
    "df_dataset = df_dataset.loc[df_dataset['Percentage_wrong']==0]\n",
    "df_dataset  = df_dataset.loc[methods_to_plot,:]\n",
    "df_dataset.loc[:,columns_to_scale] =scale(df_dataset.loc[:,columns_to_scale])\n",
    "df_dataset = calculate_composite(df_dataset)\n",
    "display(df_dataset)\n",
    "plot_composite(df_dataset,save_folder+dataset)"
   ]
  },
  {
   "cell_type": "code",
   "execution_count": null,
   "id": "ddc62aa2-14c5-4281-87e9-1d74dae43064",
   "metadata": {},
   "outputs": [],
   "source": [
    "dataset = 'Pancreas'\n",
    "df = pd.read_excel(excel_path,sheet_name =sheet_name)\n",
    "df_dataset = df[df['Dataset'] == dataset].reset_index(drop = True)\n",
    "df_dataset.index = df_dataset['Method']\n",
    "df_dataset.drop(['Dataset','Method'], inplace=True, axis=1)\n",
    "df_dataset = df_dataset.loc[df_dataset['Percentage_wrong']==0]\n",
    "df_dataset  = df_dataset.loc[methods_to_plot,:]\n",
    "df_dataset.loc[:,columns_to_scale] =scale(df_dataset.loc[:,columns_to_scale])\n",
    "df_dataset = calculate_composite(df_dataset)\n",
    "df_dataset = df_dataset[[\"Composite bio-conservation score\", \"Composite batch-correction score\",\n",
    "                         \"Composite isolated label score\", \"Combined composite score\"]]\n",
    "df_dataset.to_csv('./Composite_Scores/'+dataset+'_composite_scores.csv')"
   ]
  },
  {
   "cell_type": "markdown",
   "id": "af93450e-b600-4636-949f-afe3e9825d4d",
   "metadata": {},
   "source": [
    "# Human_Retina"
   ]
  },
  {
   "cell_type": "code",
   "execution_count": null,
   "id": "8012e8a9-bbb6-46c4-8532-e27b5c3194c1",
   "metadata": {
    "scrolled": true,
    "tags": []
   },
   "outputs": [],
   "source": [
    "dataset = \"Human_Retina\"\n",
    "df = pd.read_excel(excel_path,sheet_name =sheet_name)\n",
    "df_dataset = df[df['Dataset'] == dataset].reset_index(drop = True)\n",
    "df_dataset.index = df_dataset['Method']\n",
    "df_dataset.drop(['Dataset','Method'], inplace=True, axis=1)\n",
    "df_dataset = df_dataset.loc[df_dataset['Percentage_wrong']==0]\n",
    "df_dataset  = df_dataset.loc[methods_to_plot,:]\n",
    "df_dataset.loc[:,columns_to_scale] =scale(df_dataset.loc[:,columns_to_scale])\n",
    "df_dataset = calculate_composite(df_dataset)\n",
    "display(df_dataset)\n",
    "plot_composite(df_dataset,save_folder+dataset)"
   ]
  },
  {
   "cell_type": "code",
   "execution_count": null,
   "id": "502580f4-9e98-4e8b-b558-769715fea7f8",
   "metadata": {},
   "outputs": [],
   "source": [
    "dataset = 'Human_Retina'\n",
    "df = pd.read_excel(excel_path,sheet_name =sheet_name)\n",
    "df_dataset = df[df['Dataset'] == dataset].reset_index(drop = True)\n",
    "df_dataset.index = df_dataset['Method']\n",
    "df_dataset.drop(['Dataset','Method'], inplace=True, axis=1)\n",
    "df_dataset = df_dataset.loc[df_dataset['Percentage_wrong']==0]\n",
    "df_dataset  = df_dataset.loc[methods_to_plot,:]\n",
    "df_dataset.loc[:,columns_to_scale] =scale(df_dataset.loc[:,columns_to_scale])\n",
    "df_dataset = calculate_composite(df_dataset)\n",
    "df_dataset = df_dataset[[\"Composite bio-conservation score\", \"Composite batch-correction score\",\n",
    "                         \"Composite isolated label score\", \"Combined composite score\"]]\n",
    "df_dataset.to_csv('./Composite_Scores/'+dataset+'_composite_scores.csv')"
   ]
  },
  {
   "cell_type": "markdown",
   "id": "f88bfb27-767a-4d78-bd6d-258d4fdc8d08",
   "metadata": {},
   "source": [
    "# Human Mouse"
   ]
  },
  {
   "cell_type": "code",
   "execution_count": null,
   "id": "fe7b82a1-4630-4fb8-84fd-6e4009ff2f56",
   "metadata": {
    "scrolled": true,
    "tags": []
   },
   "outputs": [],
   "source": [
    "dataset = \"Human_Mouse\"\n",
    "df = pd.read_excel(excel_path,sheet_name =sheet_name)\n",
    "df_dataset = df[df['Dataset'] == dataset].reset_index(drop = True)\n",
    "df_dataset.index = df_dataset['Method']\n",
    "df_dataset.drop(['Dataset','Method'], inplace=True, axis=1)\n",
    "df_dataset = df_dataset.loc[df_dataset['Percentage_wrong']==0]\n",
    "methods_to_plot_hm = methods_to_plot.copy()\n",
    "methods_to_plot_hm.remove('Seurat')\n",
    "df_dataset  = df_dataset.loc[methods_to_plot_hm,:]\n",
    "df_dataset.loc[:,columns_to_scale] =scale(df_dataset.loc[:,columns_to_scale])\n",
    "df_dataset = calculate_composite(df_dataset)\n",
    "display(df_dataset)\n",
    "plot_composite(df_dataset,save_folder+dataset)"
   ]
  },
  {
   "cell_type": "code",
   "execution_count": null,
   "id": "3e585e54-4b6f-411c-ab71-5c6109b8d257",
   "metadata": {},
   "outputs": [],
   "source": [
    "dataset = \"Human_Mouse\"\n",
    "df = pd.read_excel(excel_path,sheet_name =sheet_name)\n",
    "df_dataset = df[df['Dataset'] == dataset].reset_index(drop = True)\n",
    "df_dataset.index = df_dataset['Method']\n",
    "df_dataset.drop(['Dataset','Method'], inplace=True, axis=1)\n",
    "df_dataset = df_dataset.loc[df_dataset['Percentage_wrong']==0]\n",
    "methods_to_plot_hm = methods_to_plot.copy()\n",
    "methods_to_plot_hm.remove('Seurat')\n",
    "df_dataset  = df_dataset.loc[methods_to_plot_hm,:]\n",
    "df_dataset.loc[:,columns_to_scale] =scale(df_dataset.loc[:,columns_to_scale])\n",
    "df_dataset = calculate_composite(df_dataset)\n",
    "df_dataset = df_dataset[[\"Composite bio-conservation score\", \"Composite batch-correction score\",\n",
    "                         \"Composite isolated label score\", \"Combined composite score\"]]\n",
    "df_dataset.to_csv('./Composite_Scores/'+dataset+'_composite_scores.csv')"
   ]
  },
  {
   "cell_type": "markdown",
   "id": "05d9a166-6c51-43ef-bf32-6681acba0c74",
   "metadata": {},
   "source": [
    "# Lung"
   ]
  },
  {
   "cell_type": "code",
   "execution_count": null,
   "id": "b5ed101c-c0a7-4cf2-917d-438c719ad07a",
   "metadata": {
    "scrolled": true,
    "tags": []
   },
   "outputs": [],
   "source": [
    "dataset = \"Lung\"\n",
    "df = pd.read_excel(excel_path,sheet_name =sheet_name)\n",
    "df_dataset = df[df['Dataset'] == dataset].reset_index(drop = True)\n",
    "df_dataset.index = df_dataset['Method']\n",
    "df_dataset.drop(['Dataset','Method'], inplace=True, axis=1)\n",
    "df_dataset.loc[:,columns_to_scale] =scale(df_dataset.loc[:,columns_to_scale])\n",
    "df_dataset = df_dataset.loc[df_dataset['Percentage_wrong']==0]\n",
    "df_dataset  = df_dataset.loc[methods_to_plot,:]\n",
    "df_dataset = calculate_composite(df_dataset)\n",
    "display(df_dataset)\n",
    "plot_composite(df_dataset,save_folder+dataset)"
   ]
  },
  {
   "cell_type": "code",
   "execution_count": null,
   "id": "f1f71606-ed37-4cd0-b211-05ef1a789433",
   "metadata": {},
   "outputs": [],
   "source": [
    "dataset = \"Lung\"\n",
    "df = pd.read_excel(excel_path,sheet_name =sheet_name)\n",
    "df_dataset = df[df['Dataset'] == dataset].reset_index(drop = True)\n",
    "df_dataset.index = df_dataset['Method']\n",
    "df_dataset.drop(['Dataset','Method'], inplace=True, axis=1)\n",
    "df_dataset.loc[:,columns_to_scale] =scale(df_dataset.loc[:,columns_to_scale])\n",
    "df_dataset = df_dataset.loc[df_dataset['Percentage_wrong']==0]\n",
    "df_dataset  = df_dataset.loc[methods_to_plot,:]\n",
    "df_dataset = calculate_composite(df_dataset)\n",
    "df_dataset = df_dataset[[\"Composite bio-conservation score\", \"Composite batch-correction score\",\n",
    "                         \"Composite isolated label score\", \"Combined composite score\"]]\n",
    "df_dataset.to_csv('./Composite_Scores/'+dataset+'_composite_scores.csv')"
   ]
  },
  {
   "cell_type": "markdown",
   "id": "d8e9281b-1d85-4516-88d4-885ea34b43ac",
   "metadata": {},
   "source": [
    "# Immune_Human"
   ]
  },
  {
   "cell_type": "code",
   "execution_count": null,
   "id": "aabd72b5-a0f8-411e-9f9c-2fcb766aea02",
   "metadata": {
    "scrolled": true,
    "tags": []
   },
   "outputs": [],
   "source": [
    "dataset = \"Immune_Human\"\n",
    "df = pd.read_excel(excel_path,sheet_name =sheet_name)\n",
    "df_dataset = df[df['Dataset'] == dataset].reset_index(drop = True)\n",
    "df_dataset.index = df_dataset['Method']\n",
    "df_dataset.drop(['Dataset','Method'], inplace=True, axis=1)\n",
    "df_dataset.loc[:,columns_to_scale] =scale(df_dataset.loc[:,columns_to_scale])\n",
    "df_dataset = df_dataset.loc[df_dataset['Percentage_wrong']==0]\n",
    "df_dataset  = df_dataset.loc[methods_to_plot,:]\n",
    "df_dataset = calculate_composite(df_dataset)\n",
    "display(df_dataset)\n",
    "plot_composite(df_dataset,save_folder+dataset)"
   ]
  },
  {
   "cell_type": "code",
   "execution_count": null,
   "id": "7037ed54-d0b2-4643-a8df-c26916749d2e",
   "metadata": {},
   "outputs": [],
   "source": [
    "dataset = \"Immune_Human\"\n",
    "df = pd.read_excel(excel_path,sheet_name =sheet_name)\n",
    "df_dataset = df[df['Dataset'] == dataset].reset_index(drop = True)\n",
    "df_dataset.index = df_dataset['Method']\n",
    "df_dataset.drop(['Dataset','Method'], inplace=True, axis=1)\n",
    "df_dataset.loc[:,columns_to_scale] =scale(df_dataset.loc[:,columns_to_scale])\n",
    "df_dataset = df_dataset.loc[df_dataset['Percentage_wrong']==0]\n",
    "df_dataset  = df_dataset.loc[methods_to_plot,:]\n",
    "df_dataset = calculate_composite(df_dataset)\n",
    "df_dataset = df_dataset[[\"Composite bio-conservation score\", \"Composite batch-correction score\",\n",
    "                         \"Composite isolated label score\", \"Combined composite score\"]]\n",
    "df_dataset.to_csv('./Composite_Scores/'+dataset+'_composite_scores.csv')"
   ]
  },
  {
   "cell_type": "markdown",
   "id": "d64417ed-9841-4bc9-9793-82cefd349c23",
   "metadata": {},
   "source": [
    "# composite score ablation studies"
   ]
  },
  {
   "cell_type": "code",
   "execution_count": null,
   "id": "89593a57-ea4d-47cb-a691-38b0e650148a",
   "metadata": {},
   "outputs": [],
   "source": [
    "datasets = [\"Human_Mouse\",\"Lung\",\"Pancreas\",\"Immune_Human\",\"Human_Retina\",]\n",
    "sheet_name = 'Ablation'\n",
    "save_folder = './Ablation/'\n",
    "methods_to_plot = ['scDREAMER','scDREAMER-woDis','scDREAMER-woBC']\n",
    "df = pd.read_excel(excel_path,sheet_name =sheet_name)\n",
    "# display(df)\n",
    "df = df.loc[df['Percentage_wrong']==0]\n",
    "methods_to_scale_accross = set(df['Method'].unique()) - set(['scANVI','scGEN','scDREAMER-Sup','fastmnn'])\n",
    "for dataset in datasets:\n",
    "    df_dataset = df[df['Dataset'] == dataset].reset_index(drop = True)\n",
    "    df_dataset.index = df_dataset['Method']\n",
    "    df_dataset.drop(['Dataset','Method'], inplace=True, axis=1)\n",
    "    df_dataset.loc[methods_to_scale_accross,columns_to_scale] =scale(df_dataset.loc[methods_to_scale_accross,columns_to_scale])\n",
    "    df_dataset = df_dataset.loc[df_dataset['Percentage_wrong']==0]\n",
    "    df_dataset  = df_dataset.loc[methods_to_plot,:]\n",
    "    df_dataset = calculate_composite(df_dataset)\n",
    "    df_dataset = df_dataset.loc[:,['Composite bio-conservation score','Composite batch-correction score','Composite isolated label score','Combined composite score']]\n",
    "    print(dataset)\n",
    "    display(df_dataset)"
   ]
  },
  {
   "cell_type": "code",
   "execution_count": null,
   "id": "5356f47f-52d2-4862-87ef-fdfa8a5472bd",
   "metadata": {},
   "outputs": [],
   "source": []
  },
  {
   "cell_type": "code",
   "execution_count": null,
   "id": "e4d63493-704f-4ecf-b999-3afab50c0a43",
   "metadata": {},
   "outputs": [],
   "source": []
  },
  {
   "cell_type": "code",
   "execution_count": null,
   "id": "a9c94875-61af-4b0d-9891-c20439cc0bb1",
   "metadata": {},
   "outputs": [],
   "source": [
    "# scVI - cyan\n",
    "# Harmony - orange\n",
    "# Seurat - magenta\n",
    "# BBKNN - purple\n",
    "# Scanorama - yellow\n",
    "# INSCT - blue\n",
    "# iMAP - brown\n",
    "# Liger - light green\n",
    "# fastMNN - light pink\n",
    "# scANVI - removed from main figure\n",
    "# scDREAMER - Green\n",
    "# scDREAMER++ - Red"
   ]
  },
  {
   "cell_type": "markdown",
   "id": "eaac970d-6097-4380-b170-361787eb2809",
   "metadata": {
    "tags": []
   },
   "source": [
    "# scale with mini"
   ]
  },
  {
   "cell_type": "code",
   "execution_count": null,
   "id": "b3279fd3-c7c4-4f98-a7a6-d5eb8a787567",
   "metadata": {},
   "outputs": [],
   "source": [
    "# def scale_with_mini(df,min_values):\n",
    "#     for col in df.columns:\n",
    "#         scaler = MinMaxScaler(feature_range=(min_values[col],1))\n",
    "#         df.loc[:,col] = scaler.fit_transform(np.array(df.loc[:,col]).reshape(-1,1))\n",
    "#     return df\n",
    "# df = pd.read_excel(excel_path,sheet_name =sheet_name)\n",
    "# df_dataset = df[df['Dataset'] == dataset].reset_index(drop = True)\n",
    "# df_dataset.index = df_dataset['Method']\n",
    "# df_dataset.drop(['Dataset','Method'], inplace=True, axis=1)\n",
    "# mini_values = df_dataset.loc[:,columns_to_scale].min(axis = 0)\n",
    "# df_dataset = df_dataset.loc[df_dataset['Percentage_wrong']==0]\n",
    "# df_dataset = df_dataset.loc[methods_to_plot,:]\n",
    "# df_dataset.loc[:,columns_to_scale] =scale_with_mini(df_dataset.loc[:,columns_to_scale],mini_values)\n",
    "# df_dataset"
   ]
  },
  {
   "cell_type": "markdown",
   "id": "e7824879-5e82-4f26-b2da-5acd2dbf037e",
   "metadata": {},
   "source": [
    "# scale normal or existing"
   ]
  },
  {
   "cell_type": "code",
   "execution_count": null,
   "id": "a0de1d94-e826-4c83-92cc-9fe5e806ce33",
   "metadata": {},
   "outputs": [],
   "source": [
    "# df = pd.read_excel(excel_path,sheet_name =sheet_name)\n",
    "# df_dataset = df[df['Dataset'] == dataset].reset_index(drop = True)\n",
    "# df_dataset.index = df_dataset['Method']\n",
    "# df_dataset.drop(['Dataset','Method'], inplace=True, axis=1)\n",
    "# df_dataset = df_dataset.loc[df_dataset['Percentage_wrong']==0]\n",
    "# df_dataset = df_dataset.loc[methods_to_plot,:]\n",
    "# df_dataset.loc[:,columns_to_scale] =scale(df_dataset.loc[:,columns_to_scale]\n",
    "# df_dataset)"
   ]
  },
  {
   "cell_type": "code",
   "execution_count": null,
   "id": "7bae4333-3c95-4e1c-b8df-036a2a4f2482",
   "metadata": {},
   "outputs": [],
   "source": []
  }
 ],
 "metadata": {
  "kernelspec": {
   "display_name": "Python 3 (ipykernel)",
   "language": "python",
   "name": "python3"
  },
  "language_info": {
   "codemirror_mode": {
    "name": "ipython",
    "version": 3
   },
   "file_extension": ".py",
   "mimetype": "text/x-python",
   "name": "python",
   "nbconvert_exporter": "python",
   "pygments_lexer": "ipython3",
   "version": "3.7.11"
  }
 },
 "nbformat": 4,
 "nbformat_minor": 5
}
