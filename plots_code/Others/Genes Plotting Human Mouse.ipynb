{
 "cells": [
  {
   "cell_type": "code",
   "execution_count": null,
   "id": "cb46797e",
   "metadata": {},
   "outputs": [],
   "source": [
    "import matplotlib.pyplot as plt\n",
    "import matplotlib as mpl\n",
    "mpl.rcParams['figure.dpi'] = 300\n",
    "import scipy.sparse\n",
    "import scipy.io\n",
    "from sklearn.metrics.cluster import normalized_mutual_info_score as nmi\n",
    "from sklearn.cluster import KMeans\n",
    "from sklearn.mixture import GaussianMixture\n",
    "from scipy import stats \n",
    "from scipy import * \n",
    "import numpy as np\n",
    "import scanpy as sc\n",
    "import pandas as pd"
   ]
  },
  {
   "cell_type": "code",
   "execution_count": null,
   "id": "2a84de5c",
   "metadata": {},
   "outputs": [],
   "source": [
    "dir_path = \"/home/krushna/Documents/Data_integration/SCRNA_Datasets/All_h5ad/\"\n",
    "def load_data(dataset,batch):\n",
    "    adata =sc.read_h5ad(dir_path+dataset+'.h5ad')\n",
    "#     sc.pp.filter_genes(adata, min_counts=3)\n",
    "#     adata.layers[\"counts\"] = adata.X.copy()\n",
    "#     sc.pp.normalize_total(adata, target_sum=1e4)\n",
    "#     sc.pp.log1p(adata)\n",
    "#     adata.raw = adata\n",
    "#     sc.pp.highly_variable_genes(\n",
    "#             adata,\n",
    "#             flavor=\"seurat\",\n",
    "#             n_top_genes=2000,\n",
    "#             layer=\"counts\",\n",
    "#             batch_key=batch,\n",
    "#             subset=True\n",
    "#     )\n",
    "    return adata\n",
    "batch_key_dic = {'Immune_Human' : 'batch',\n",
    "                 'Lung' : 'batch',\n",
    "                 'Pancreas' : 'tech',\n",
    "                 'Human_Mouse' : 'batch',\n",
    "                 'Human_Retina': \"Batch\"\n",
    "                 \n",
    "                }\n",
    "cell_type_key_dic = {'Immune_Human' : 'final_annotation',\n",
    "                 'Lung' : 'cell_type',\n",
    "                 'Pancreas' : 'celltype',\n",
    "                 'Human_Mouse' : \"celltype\",\n",
    "                 \"Human_Retina\":\"Subcluster\"\n",
    "                    }    \n",
    "our_method_emb_dic = {'Immune_Human' : 'Immune_Human_case2_latent_matrix_c_300',\n",
    "                 'Lung' : 'Lung_case2_latent_matrix_c_300',\n",
    "                 'Pancreas' : 'Pancreas_case2_latent_matrix_c_250',\n",
    "                 'Human_Retina': \"retina_case2_latent_matrix_c_300\",\n",
    "                 'Human_Mouse' : 'Human_Mouse_latent_matrix_c400'\n",
    "                }   \n",
    "emb_folder = \"/home/krushna/Documents/Data_integration/Ajita_embeddings/checking_other_cases/final/\""
   ]
  },
  {
   "cell_type": "code",
   "execution_count": null,
   "id": "c0ccd33e",
   "metadata": {},
   "outputs": [],
   "source": [
    "dataset = 'Human_Mouse'\n",
    "embeddings = our_method_emb_dic[dataset]+'.csv'\n",
    "batch = batch_key_dic[dataset]\n",
    "cell_type = cell_type_key_dic[dataset]\n",
    "adata = load_data(dataset,batch)\n",
    "emb_path = emb_folder + embeddings \n",
    "final_embedings=pd.read_csv(emb_path, sep=',',header=None).values\n",
    "adata.obsm['final_embeddings'] = final_embedings"
   ]
  },
  {
   "cell_type": "code",
   "execution_count": null,
   "id": "730b398d",
   "metadata": {},
   "outputs": [],
   "source": [
    "sc.pp.neighbors(adata, use_rep='final_embeddings')  # use_rep = 'final_embeddings'\n",
    "sc.tl.umap(adata)\n",
    "sc.pl.umap(adata, color=cell_type, frameon=False)\n",
    "sc.pl.umap(adata, color=batch, frameon=False)\n"
   ]
  },
  {
   "cell_type": "code",
   "execution_count": null,
   "id": "10a8cc8e",
   "metadata": {},
   "outputs": [],
   "source": [
    "adata_hu = adata[adata.obs['batch']=='HCL']\n",
    "adata_mu  = adata[adata.obs['batch'] == 'MCA']"
   ]
  },
  {
   "cell_type": "code",
   "execution_count": null,
   "id": "56c65e75",
   "metadata": {},
   "outputs": [],
   "source": [
    "mpl.rcParams['figure.dpi'] = 300\n",
    "sc.pl.umap(adata_hu, color=[\"EGFL7\", \"PRAP1\", \"MOG\", \"COL3A1\"], frameon=False)"
   ]
  },
  {
   "cell_type": "code",
   "execution_count": null,
   "id": "aab07a3a",
   "metadata": {},
   "outputs": [],
   "source": [
    "sc.pl.umap(adata_mu, color=[\"EGFL7\", \"PRAP1\", \"MOG\", \"COL3A1\"], frameon=False)"
   ]
  },
  {
   "cell_type": "code",
   "execution_count": null,
   "id": "5c9cbab2",
   "metadata": {},
   "outputs": [],
   "source": [
    "adata.var_names"
   ]
  },
  {
   "cell_type": "code",
   "execution_count": null,
   "id": "480b1f70",
   "metadata": {},
   "outputs": [],
   "source": [
    "import re\n",
    "r = re.compile(\"[A-Z][a-z0-9].*\")\n",
    "newlist = list(filter(r.match, list(adata.var_names))) # Read Note below\n",
    "newlist"
   ]
  },
  {
   "cell_type": "code",
   "execution_count": null,
   "id": "49dff4ff",
   "metadata": {},
   "outputs": [],
   "source": [
    "adata.obs['batch'].value_counts()"
   ]
  },
  {
   "cell_type": "code",
   "execution_count": null,
   "id": "37455648",
   "metadata": {},
   "outputs": [],
   "source": []
  }
 ],
 "metadata": {
  "kernelspec": {
   "display_name": "Python 3 (ipykernel)",
   "language": "python",
   "name": "python3"
  },
  "language_info": {
   "codemirror_mode": {
    "name": "ipython",
    "version": 3
   },
   "file_extension": ".py",
   "mimetype": "text/x-python",
   "name": "python",
   "nbconvert_exporter": "python",
   "pygments_lexer": "ipython3",
   "version": "3.9.7"
  }
 },
 "nbformat": 4,
 "nbformat_minor": 5
}
