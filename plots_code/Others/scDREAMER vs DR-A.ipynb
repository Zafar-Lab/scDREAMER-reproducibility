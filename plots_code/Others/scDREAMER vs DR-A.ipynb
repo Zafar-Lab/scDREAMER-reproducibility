{
 "cells": [
  {
   "cell_type": "code",
   "execution_count": null,
   "id": "f0fe8547-41fc-4c0d-b131-3f4ce440ce79",
   "metadata": {},
   "outputs": [],
   "source": [
    "import pandas as pd\n",
    "import matplotlib.pyplot as plt\n",
    "import matplotlib as mpl\n",
    "import numpy as np\n",
    "import seaborn as sns\n",
    "mpl.rcParams['axes.spines.right'] = False\n",
    "mpl.rcParams['axes.spines.top'] = False\n",
    "mpl.rcParams['figure.dpi'] = 200"
   ]
  },
  {
   "cell_type": "markdown",
   "id": "51f01238-fccd-4131-9582-c7b2709a9a89",
   "metadata": {},
   "source": [
    "# Pancreas"
   ]
  },
  {
   "cell_type": "code",
   "execution_count": null,
   "id": "1a408b32-898a-4089-b4d8-5c892a6672f4",
   "metadata": {},
   "outputs": [],
   "source": [
    "#pancreas\n",
    "x_labels= [\"NMI cluster/label\",\"ARI cluster/label\",\"ASW label\",\"ASW label/batch\",\"PCR batch\",\"isolated f1 score\",\"isolated silhouette coefficient\",\"graph connectivity\",\"kBET\",\"iLISI\",\"cLISI\"]\n",
    "scDREAMER_values = [0.916163,0.950315,0.677033,0.862231,0.921926,0.093333,0.712927,0.912265,0.554129,0.393088,1]\n",
    "dra_values = [0.675627,0.480445,0.560649,0.783647,0.103048,0.089552,0.695528,0.967661,0.492026,0.011155,0.999698]\n",
    "metrics = pd.DataFrame([scDREAMER_values,dra_values],index = ['scDREAMER','DR-A'],columns = x_labels)\n",
    "metrics"
   ]
  },
  {
   "cell_type": "code",
   "execution_count": null,
   "id": "a2f8c4b1-178b-43f9-b4f2-1429d83916c5",
   "metadata": {},
   "outputs": [],
   "source": [
    "metrics_bio = metrics.loc[:,[\"NMI cluster/label\",\"ARI cluster/label\",\"ASW label\"]]\n",
    "metrics_bio['method']=metrics_bio.index\n",
    "metrics_bio = metrics_bio.iloc[:2,:]\n",
    "metrics_bio = pd.melt(metrics_bio, id_vars='method',var_name='metric', value_name='value')\n",
    "metrics_bio"
   ]
  },
  {
   "cell_type": "code",
   "execution_count": null,
   "id": "6a67c5bd-ebd5-4fe7-ae6f-fb231734420b",
   "metadata": {},
   "outputs": [],
   "source": [
    "# import matplotlib as mpl\n",
    "# mpl.rcParams.update(mpl.rcParamsDefault)"
   ]
  },
  {
   "cell_type": "code",
   "execution_count": null,
   "id": "f5d526ea-236a-45e0-85db-7e6986181853",
   "metadata": {},
   "outputs": [],
   "source": [
    "# plt.rcParams['figure.figsize'] = [12,5]\n",
    "ax = sns.barplot(x='metric', y='value', hue='method', data=metrics_bio,palette=['#086E28','red'])#, ax=ax1)\n",
    "plt.xticks(rotation=90)\n",
    "ax.legend(loc='center left', bbox_to_anchor=(1, 0.5),prop={'family':\"Arial\",'weight':'bold','size':14})\n",
    "for tick in ax.xaxis.get_major_ticks():\n",
    "    tick.label1.set_fontsize(14)\n",
    "    tick.label1.set_fontweight('bold')\n",
    "for tick in ax.yaxis.get_major_ticks():\n",
    "    tick.label1.set_fontsize(14)\n",
    "    tick.label1.set_fontweight('bold')\n",
    "ax.set_ylabel('bio-conservation score',fontsize = 15, fontname='Arial', fontweight = 'bold')\n",
    "ax.set_xlabel(None)\n",
    "rects = ax.patches\n",
    "for rect in rects:\n",
    "    height = rect.get_height()\n",
    "    ax.text(\n",
    "    rect.get_x() + rect.get_width() / 2, height, round(height,2), ha=\"center\", va=\"bottom\"\n",
    "        )\n",
    "plt.savefig('scDREAMER vs DR-A pancresa bio.png', bbox_inches='tight',transparent=True)\n",
    "plt.show()"
   ]
  },
  {
   "cell_type": "code",
   "execution_count": null,
   "id": "b959c9d0-85a6-4f66-8405-1f516003f214",
   "metadata": {},
   "outputs": [],
   "source": [
    "metrics_batch = metrics.loc[:,[\"ASW label/batch\",\"PCR batch\",\"graph connectivity\",\"kBET\"]]\n",
    "metrics_batch['method']=metrics_batch.index\n",
    "metrics_batch = pd.melt(metrics_batch, id_vars='method',var_name='metric', value_name='value')\n",
    "metrics_batch"
   ]
  },
  {
   "cell_type": "code",
   "execution_count": null,
   "id": "be14151e-f142-4033-9524-0ac579ebe69e",
   "metadata": {},
   "outputs": [],
   "source": [
    "# plt.rcParams['figure.figsize'] = [12,5]\n",
    "ax = sns.barplot(x='metric', y='value', hue='method', data=metrics_batch,palette=['#086E28','red'])#, ax=ax1)\n",
    "plt.xticks(rotation=90)\n",
    "ax.legend(loc='center left', bbox_to_anchor=(1, 0.5),prop={'family':\"Arial\",'weight':'bold','size':14})\n",
    "for tick in ax.xaxis.get_major_ticks():\n",
    "    tick.label1.set_fontsize(14)\n",
    "    tick.label1.set_fontweight('bold')\n",
    "for tick in ax.yaxis.get_major_ticks():\n",
    "    tick.label1.set_fontsize(14)\n",
    "    tick.label1.set_fontweight('bold')\n",
    "ax.set_ylabel('batch-correction score',fontsize = 15, fontname='Arial', fontweight = 'bold')\n",
    "ax.set_xlabel(None)\n",
    "rects = ax.patches\n",
    "for rect in rects:\n",
    "    height = rect.get_height()\n",
    "    ax.text(\n",
    "    rect.get_x() + rect.get_width() / 2, height, round(height,2), ha=\"center\", va=\"bottom\"\n",
    "        )\n",
    "plt.savefig('scDREAMER vs DR-A batch.png', bbox_inches='tight',transparent=True)\n",
    "plt.show()"
   ]
  },
  {
   "cell_type": "markdown",
   "id": "3f0d70cf-f5d5-470e-8f7e-4495c6c2438e",
   "metadata": {},
   "source": [
    "# Immune Human"
   ]
  },
  {
   "cell_type": "code",
   "execution_count": null,
   "id": "c7b76b79-e326-4962-a5b7-f6e1d1cc5ea5",
   "metadata": {},
   "outputs": [],
   "source": []
  },
  {
   "cell_type": "code",
   "execution_count": null,
   "id": "0de7e86e-0d22-4db7-b0ba-ff8b8806fefd",
   "metadata": {},
   "outputs": [],
   "source": [
    "x_labels= [\"NMI cluster/label\",\"ARI cluster/label\",\"ASW label\",\"ASW label/batch\",\"PCR batch\",\"isolated f1 score\",\"isolated silhouette coefficient\",\"graph connectivity\",\"kBET\",\"iLISI\",\"cLISI\"]\n",
    "scDREAMER_values = [0.814407,0.822247,0.587119,0.892423,0.930324,0.736765,0.560992,0.973039,0.409336,0.305977,0.994311]\n",
    "dra_values = [0.643954,0.31924,0.586974,0.812867,0,0.600162,0.596057,0.956057,0.365512,0.034842,0.998803]\n",
    "metrics = pd.DataFrame([scDREAMER_values,dra_values],index = ['scDREAMER','DR-A'],columns = x_labels)\n",
    "metrics"
   ]
  },
  {
   "cell_type": "code",
   "execution_count": null,
   "id": "ca871f74-0008-4ab7-89ff-bb6bac198dd8",
   "metadata": {},
   "outputs": [],
   "source": [
    "metrics_bio = metrics.loc[:,[\"NMI cluster/label\",\"ARI cluster/label\",\"ASW label\"]]\n",
    "metrics_bio['method']=metrics_bio.index\n",
    "metrics_bio = metrics_bio.iloc[:2,:]\n",
    "metrics_bio = pd.melt(metrics_bio, id_vars='method',var_name='metric', value_name='value')\n",
    "metrics_bio"
   ]
  },
  {
   "cell_type": "code",
   "execution_count": null,
   "id": "608dee2a-ef51-4bbc-bb86-24fc6a32f82b",
   "metadata": {},
   "outputs": [],
   "source": [
    "# import matplotlib as mpl\n",
    "# mpl.rcParams.update(mpl.rcParamsDefault)"
   ]
  },
  {
   "cell_type": "code",
   "execution_count": null,
   "id": "acda656a-108d-434c-a752-737a73f0b687",
   "metadata": {},
   "outputs": [],
   "source": [
    "# plt.rcParams['figure.figsize'] = [12,5]\n",
    "ax = sns.barplot(x='metric', y='value', hue='method', data=metrics_bio,palette=['#086E28','red'])#, ax=ax1)\n",
    "plt.xticks(rotation=90)\n",
    "ax.legend(loc='center left', bbox_to_anchor=(1, 0.5),prop={'family':\"Arial\",'weight':'bold','size':14})\n",
    "for tick in ax.xaxis.get_major_ticks():\n",
    "    tick.label1.set_fontsize(14)\n",
    "    tick.label1.set_fontweight('bold')\n",
    "for tick in ax.yaxis.get_major_ticks():\n",
    "    tick.label1.set_fontsize(14)\n",
    "    tick.label1.set_fontweight('bold')\n",
    "ax.set_ylabel('bio-conservation score',fontsize = 15, fontname='Arial', fontweight = 'bold')\n",
    "ax.set_xlabel(None)\n",
    "rects = ax.patches\n",
    "for rect in rects:\n",
    "    height = rect.get_height()\n",
    "    ax.text(\n",
    "    rect.get_x() + rect.get_width() / 2, height, round(height,2), ha=\"center\", va=\"bottom\"\n",
    "        )\n",
    "plt.savefig('scDREAMER vs DR-A Immune_Human bio.png', bbox_inches='tight',transparent=True)\n",
    "plt.show()"
   ]
  },
  {
   "cell_type": "code",
   "execution_count": null,
   "id": "889ce8da-c4d8-44f8-bbd7-24892c76ea05",
   "metadata": {},
   "outputs": [],
   "source": [
    "metrics_batch = metrics.loc[:,[\"ASW label/batch\",\"PCR batch\",\"graph connectivity\",\"kBET\"]]\n",
    "metrics_batch['method']=metrics_batch.index\n",
    "metrics_batch = pd.melt(metrics_batch, id_vars='method',var_name='metric', value_name='value')\n",
    "metrics_batch"
   ]
  },
  {
   "cell_type": "code",
   "execution_count": null,
   "id": "ba4b332a-d569-42e5-8e1d-4248158bb784",
   "metadata": {},
   "outputs": [],
   "source": [
    "# plt.rcParams['figure.figsize'] = [12,5]\n",
    "ax = sns.barplot(x='metric', y='value', hue='method', data=metrics_batch,palette=['#086E28','red'])#, ax=ax1)\n",
    "plt.xticks(rotation=90)\n",
    "ax.legend(loc='center left', bbox_to_anchor=(1, 0.5),prop={'family':\"Arial\",'weight':'bold','size':14})\n",
    "for tick in ax.xaxis.get_major_ticks():\n",
    "    tick.label1.set_fontsize(14)\n",
    "    tick.label1.set_fontweight('bold')\n",
    "for tick in ax.yaxis.get_major_ticks():\n",
    "    tick.label1.set_fontsize(14)\n",
    "    tick.label1.set_fontweight('bold')\n",
    "ax.set_ylabel('batch-correction score',fontsize = 15, fontname='Arial', fontweight = 'bold')\n",
    "ax.set_xlabel(None)\n",
    "rects = ax.patches\n",
    "for rect in rects:\n",
    "    height = rect.get_height()\n",
    "    ax.text(\n",
    "    rect.get_x() + rect.get_width() / 2, height, round(height,2), ha=\"center\", va=\"bottom\"\n",
    "        )\n",
    "\n",
    "plt.savefig('scDREAMER vs DR-A Immune_Human batch.png', bbox_inches='tight',transparent=True)\n",
    "plt.show()"
   ]
  },
  {
   "cell_type": "code",
   "execution_count": null,
   "id": "1f8eadd7-7008-48e4-8c9e-249110cac414",
   "metadata": {},
   "outputs": [],
   "source": []
  },
  {
   "cell_type": "code",
   "execution_count": null,
   "id": "1771d8bb-def4-4de6-ba05-d08db53d1d50",
   "metadata": {},
   "outputs": [],
   "source": []
  }
 ],
 "metadata": {
  "kernelspec": {
   "display_name": "Python 3 (ipykernel)",
   "language": "python",
   "name": "python3"
  },
  "language_info": {
   "codemirror_mode": {
    "name": "ipython",
    "version": 3
   },
   "file_extension": ".py",
   "mimetype": "text/x-python",
   "name": "python",
   "nbconvert_exporter": "python",
   "pygments_lexer": "ipython3",
   "version": "3.7.11"
  }
 },
 "nbformat": 4,
 "nbformat_minor": 5
}
