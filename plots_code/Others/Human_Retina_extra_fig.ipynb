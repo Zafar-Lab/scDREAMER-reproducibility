{
 "cells": [
  {
   "cell_type": "code",
   "execution_count": null,
   "id": "62482cf6-d427-4318-a1fa-63de6e8b3f5d",
   "metadata": {},
   "outputs": [],
   "source": [
    "import os\n",
    "import numpy as np\n",
    "import scipy.sparse\n",
    "import scipy.io\n",
    "from sklearn.metrics.cluster import normalized_mutual_info_score as nmi\n",
    "from sklearn.cluster import KMeans\n",
    "from sklearn.mixture import GaussianMixture\n",
    "from scipy import stats \n",
    "from scipy import * \n",
    "import numpy as np\n",
    "import scanpy as sc\n",
    "import pandas as pd"
   ]
  },
  {
   "cell_type": "code",
   "execution_count": null,
   "id": "b3d060e3-c444-4f60-84b1-304e9b2ca062",
   "metadata": {},
   "outputs": [],
   "source": [
    "import matplotlib as mpl\n",
    "import matplotlib.pyplot as plt\n",
    "mpl.rcParams['figure.dpi'] = 200"
   ]
  },
  {
   "cell_type": "code",
   "execution_count": null,
   "id": "3e451d4c-c3a5-42ac-87fc-ff5be7aef68c",
   "metadata": {},
   "outputs": [],
   "source": [
    "batch_key = 'Batch'\n",
    "cell_type_key = 'Subcluster'\n",
    "emb_path = \"/home/krushna/Documents/Data_integration/Ajita_embeddings/checking_other_cases/final/retina_case2_latent_matrix_c_300.csv\"\n",
    "dataset_path = \"/home/krushna/Documents/Data_integration/SCRNA_Datasets/All_h5ad/Human_Retina.h5ad\"\n",
    "Ann = sc.read_h5ad(dataset_path)\n",
    "final_embedings=pd.read_csv(emb_path, sep=',',header=None).values\n",
    "Ann.obsm['final_embeddings'] = final_embedings"
   ]
  },
  {
   "cell_type": "code",
   "execution_count": null,
   "id": "839d76dd-41ef-4b05-97ba-5fa3cf27c754",
   "metadata": {},
   "outputs": [],
   "source": [
    "sc.pp.neighbors(Ann, use_rep='final_embeddings')  \n",
    "sc.tl.umap(Ann)\n",
    "sc.pl.umap(Ann, color=cell_type_key, frameon=False)  # cells\n",
    "sc.pl.umap(Ann, color=batch_key, frameon=False)"
   ]
  },
  {
   "cell_type": "code",
   "execution_count": null,
   "id": "8d897f81",
   "metadata": {},
   "outputs": [],
   "source": [
    "Ann"
   ]
  },
  {
   "cell_type": "code",
   "execution_count": null,
   "id": "d993c6ce",
   "metadata": {},
   "outputs": [],
   "source": [
    "sc.pl.umap(Ann, color='Region', frameon=False)"
   ]
  },
  {
   "cell_type": "code",
   "execution_count": null,
   "id": "62e6a01c-157e-4331-9f6a-716d552b820e",
   "metadata": {},
   "outputs": [],
   "source": [
    "# drop_seq = ['B1','B2','B3','B4']\n",
    "# Technology = [  'drop-seq'  if ele in drop_seq else '10X' for ele in Ann.obs['batch'] ] \n",
    "# Ann.obs['Technology']= Technology\n",
    "\n",
    "# sc.settings.figdir = \"/home/krushna/Documents/Data_integration/Figures/Lung/\"\n",
    "# path_to_save_umap = \"_ourmethod_technology.png\"\n",
    "# sc.pl.umap(Ann, color='Technology', frameon=False,save = path_to_save_umap)"
   ]
  },
  {
   "cell_type": "code",
   "execution_count": null,
   "id": "3ddf9837-a1e8-4a1e-91b7-538e180aaf6e",
   "metadata": {},
   "outputs": [],
   "source": []
  }
 ],
 "metadata": {
  "kernelspec": {
   "display_name": "Python 3 (ipykernel)",
   "language": "python",
   "name": "python3"
  },
  "language_info": {
   "codemirror_mode": {
    "name": "ipython",
    "version": 3
   },
   "file_extension": ".py",
   "mimetype": "text/x-python",
   "name": "python",
   "nbconvert_exporter": "python",
   "pygments_lexer": "ipython3",
   "version": "3.7.11"
  }
 },
 "nbformat": 4,
 "nbformat_minor": 5
}
