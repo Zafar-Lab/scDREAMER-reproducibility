{
 "cells": [
  {
   "cell_type": "code",
   "execution_count": null,
   "id": "b8dca486-fb1e-4ffb-987b-2142cbab39be",
   "metadata": {
    "tags": []
   },
   "outputs": [],
   "source": [
    "import os\n",
    "\n",
    "import matplotlib as mpl\n",
    "import matplotlib.pyplot as plt\n",
    "import pandas as pd\n",
    "import seaborn as sns\n",
    "from pylab import *\n",
    "\n",
    "mpl.rcParams[\"figure.dpi\"] = 300\n",
    "\n",
    "from IPython.display import display"
   ]
  },
  {
   "cell_type": "code",
   "execution_count": null,
   "id": "fae93f78-2431-4aae-bc04-3bffa1d2943f",
   "metadata": {
    "tags": []
   },
   "outputs": [],
   "source": [
    "save_folder = \"./Supplimentary/Supervised/\""
   ]
  },
  {
   "cell_type": "markdown",
   "id": "df76c7db-038c-4dd8-ba35-38a0bb37de17",
   "metadata": {},
   "source": [
    "# raw score"
   ]
  },
  {
   "cell_type": "code",
   "execution_count": null,
   "id": "10c6034c-17af-4332-ac51-f79105a04e2f",
   "metadata": {
    "tags": []
   },
   "outputs": [],
   "source": [
    "excel_path = \"~/Downloads/All_metrics_15_Mar_23.xlsx\"\n",
    "sheet_name = \"All_Metrics\"\n",
    "# pd.options.mode.use_inf_as_na = True"
   ]
  },
  {
   "cell_type": "code",
   "execution_count": null,
   "id": "19c5e24d-4f51-4932-aef8-b5c78e78003a",
   "metadata": {
    "tags": []
   },
   "outputs": [],
   "source": [
    "cloumns_to_plot = [\n",
    "    \"NMI cluster/label\",\n",
    "    \"ARI cluster/label\",\n",
    "    \"ASW label\",\n",
    "    \"ASW label/batch\",\n",
    "    \"PCR batch\",\n",
    "    \"isolated f1 score\",\n",
    "    \"isolated silhouette coefficient\",\n",
    "    \"graph connectivity\",\n",
    "    \"kBET\",\n",
    "]  # ,\"iLISI\",\"cLISI\"]\n",
    "method_color_dct = {\n",
    "    \"scVI\": \"#28DDED\",\n",
    "    \"Harmony\": \"#ED7A28\",\n",
    "    \"Seurat\": \"#994363\",\n",
    "    \"BBKNN\": \"#B626D3\",\n",
    "    \"Scanorama\": \"#EDBF28\",\n",
    "    \"INSCT\": \"#286CED\",\n",
    "    \"LIGER\": \"#90EE90\",\n",
    "    \"fastMNN\": \"#FFB6C1\",\n",
    "    \"iMAP\": \"#964B00\",\n",
    "    \"scDREAMER\": \"#086E28\",\n",
    "    \"scANVI\": \"#c5b0d5\",\n",
    "    \"scGEN\": \"#d62829\",\n",
    "    \"scDREAMER-Sup\": \"#113f0a\",\n",
    "}\n",
    "methods_to_plot = [\"scGEN\", \"scANVI\", \"scDREAMER-Sup\"]"
   ]
  },
  {
   "cell_type": "code",
   "execution_count": null,
   "id": "27e2a83e-02c5-4dc1-8716-e5b033e93a0d",
   "metadata": {
    "tags": []
   },
   "outputs": [],
   "source": [
    "# directly downloaded from our sheet"
   ]
  },
  {
   "cell_type": "code",
   "execution_count": null,
   "id": "698baf5b-86b2-46d9-ad02-567227dee396",
   "metadata": {
    "tags": []
   },
   "outputs": [],
   "source": [
    "def plot_bar(df_, col_name, save_folder=False):  # save_name dataset\n",
    "\n",
    "    rc(\"axes\", linewidth=2)\n",
    "\n",
    "    df_ = df_.loc[df_[col_name].notna(), :]\n",
    "\n",
    "    fig = plt.figure(figsize=(6, 4))\n",
    "    ax = df_[col_name].plot(kind=\"bar\", color=df_[\"color\"])\n",
    "\n",
    "    rects = ax.patches\n",
    "    ax.set_xticklabels(df_.index, rotation=75, fontname=\"Arial\", fontsize=10)\n",
    "\n",
    "    for rect, label in zip(rects, df_[col_name]):\n",
    "        height = rect.get_height()\n",
    "        ax.text(\n",
    "            rect.get_x() + rect.get_width() / 2,\n",
    "            height,\n",
    "            round(label, 2),\n",
    "            ha=\"center\",\n",
    "            va=\"bottom\",\n",
    "        )\n",
    "\n",
    "    mi = df_[col_name].min()\n",
    "    mx = df_[col_name].max()\n",
    "    ylim(max(mi - 0.01, 0), min(mx * 1.05, 1.0))\n",
    "\n",
    "    plt.ylabel(col_name, fontsize=15, fontname=\"Arial\", fontweight=\"bold\")\n",
    "    plt.xlabel(None)  # , fontsize = 15, fontname='Arial', fontweight = 'bold')\n",
    "    for tick in ax.xaxis.get_major_ticks():\n",
    "        tick.label1.set_fontsize(14)\n",
    "        tick.label1.set_fontweight(\"bold\")\n",
    "    for tick in ax.yaxis.get_major_ticks():\n",
    "        tick.label1.set_fontsize(14)\n",
    "        tick.label1.set_fontweight(\"bold\")\n",
    "\n",
    "    plt.subplot(111).spines[\"right\"].set_visible(False)\n",
    "    plt.subplot(111).spines[\"top\"].set_visible(False)\n",
    "\n",
    "    plt.tight_layout()\n",
    "    #     plt.gcf().subplots_adjust(bottom = 0.3)\n",
    "    # plt.gcf().subplots_adjust(top = 3)\n",
    "    # plt.gcf().subplots_adjust(top=5)\n",
    "\n",
    "    if save_folder:\n",
    "        if not os.path.exists(save_folder):\n",
    "            print(save_folder)\n",
    "            os.makedirs(save_folder)\n",
    "        plt.savefig(\n",
    "            save_folder + \"/\" + col_name.replace(\"/\", \"_\") + \".png\",\n",
    "            transparent=True,\n",
    "            bbox_inches=\"tight\",\n",
    "        )\n",
    "\n",
    "    plt.show()"
   ]
  },
  {
   "cell_type": "markdown",
   "id": "1df77bc9-cbc8-4f5a-8f22-f465f2c57536",
   "metadata": {},
   "source": [
    "# dataset = 'Pancreas'"
   ]
  },
  {
   "cell_type": "code",
   "execution_count": null,
   "id": "de3beab3-30a7-4f63-9b73-797efe4822f1",
   "metadata": {
    "scrolled": true,
    "tags": []
   },
   "outputs": [],
   "source": [
    "dataset = \"Pancreas\"\n",
    "df = pd.read_excel(excel_path, sheet_name=sheet_name)\n",
    "df_dataset = df[df[\"Dataset\"] == dataset].reset_index(drop=True)\n",
    "df_dataset.index = df_dataset[\"Method\"]\n",
    "df_dataset = df_dataset[df_dataset[\"Percentage_wrong\"] == 0]\n",
    "df_dataset.drop([\"Dataset\", \"Method\"], inplace=True, axis=1)\n",
    "df_dataset = df_dataset.loc[methods_to_plot, cloumns_to_plot]\n",
    "df_dataset = df_dataset.apply(lambda x: x.apply(lambda y: round(y, 2)))\n",
    "df_dataset[\"color\"] = pd.Series(df_dataset.index, index=df_dataset.index).replace(\n",
    "    method_color_dct\n",
    ")\n",
    "display(df_dataset)\n",
    "for i in df_dataset.columns[:-1]:\n",
    "    print(i, dataset)\n",
    "    plot_bar(df_dataset, i, save_folder=save_folder + dataset)"
   ]
  },
  {
   "cell_type": "code",
   "execution_count": null,
   "id": "5563ddd8-89cc-48fc-8342-2890d22d9b84",
   "metadata": {
    "scrolled": true,
    "tags": []
   },
   "outputs": [],
   "source": [
    "dataset = \"Lung\"\n",
    "df = pd.read_excel(excel_path, sheet_name=sheet_name)\n",
    "df_dataset = df[df[\"Dataset\"] == dataset].reset_index(drop=True)\n",
    "df_dataset.index = df_dataset[\"Method\"]\n",
    "df_dataset = df_dataset[df_dataset[\"Percentage_wrong\"] == 0]\n",
    "df_dataset.drop([\"Dataset\", \"Method\"], inplace=True, axis=1)\n",
    "df_dataset = df_dataset.loc[methods_to_plot, cloumns_to_plot]\n",
    "df_dataset = df_dataset.apply(lambda x: x.apply(lambda y: round(y, 2)))\n",
    "df_dataset[\"color\"] = pd.Series(df_dataset.index, index=df_dataset.index).replace(\n",
    "    method_color_dct\n",
    ")\n",
    "display(df_dataset)\n",
    "for i in df_dataset.columns[:-1]:\n",
    "    print(i, dataset)\n",
    "    plot_bar(df_dataset, i, save_folder=save_folder + dataset)"
   ]
  },
  {
   "cell_type": "code",
   "execution_count": null,
   "id": "3ec9b427-5915-4f43-907f-f1cd2fe2b3b7",
   "metadata": {
    "scrolled": true,
    "tags": []
   },
   "outputs": [],
   "source": [
    "dataset = \"Immune_Human\"\n",
    "df = pd.read_excel(excel_path, sheet_name=sheet_name)\n",
    "df_dataset = df[df[\"Dataset\"] == dataset].reset_index(drop=True)\n",
    "df_dataset.index = df_dataset[\"Method\"]\n",
    "df_dataset = df_dataset[df_dataset[\"Percentage_wrong\"] == 0]\n",
    "df_dataset.drop([\"Dataset\", \"Method\"], inplace=True, axis=1)\n",
    "df_dataset = df_dataset.loc[methods_to_plot, cloumns_to_plot]\n",
    "df_dataset = df_dataset.apply(lambda x: x.apply(lambda y: round(y, 2)))\n",
    "df_dataset[\"color\"] = pd.Series(df_dataset.index, index=df_dataset.index).replace(\n",
    "    method_color_dct\n",
    ")\n",
    "display(df_dataset)\n",
    "for i in df_dataset.columns[:-1]:\n",
    "    print(i, dataset)\n",
    "    plot_bar(df_dataset, i, save_folder=save_folder + dataset)"
   ]
  },
  {
   "cell_type": "code",
   "execution_count": null,
   "id": "c09a6fe6-81ce-40b0-a926-29468668e73b",
   "metadata": {
    "scrolled": true,
    "tags": []
   },
   "outputs": [],
   "source": [
    "dataset = \"Human_Retina\"\n",
    "df = pd.read_excel(excel_path, sheet_name=sheet_name)\n",
    "df_dataset = df[df[\"Dataset\"] == dataset].reset_index(drop=True)\n",
    "df_dataset.index = df_dataset[\"Method\"]\n",
    "df_dataset = df_dataset[df_dataset[\"Percentage_wrong\"] == 0]\n",
    "df_dataset.drop([\"Dataset\", \"Method\"], inplace=True, axis=1)\n",
    "df_dataset = df_dataset.loc[methods_to_plot, cloumns_to_plot]\n",
    "df_dataset = df_dataset.apply(lambda x: x.apply(lambda y: round(y, 2)))\n",
    "df_dataset[\"color\"] = pd.Series(df_dataset.index, index=df_dataset.index).replace(\n",
    "    method_color_dct\n",
    ")\n",
    "display(df_dataset)\n",
    "for i in df_dataset.columns[:-1]:\n",
    "    print(i, dataset)\n",
    "    plot_bar(df_dataset, i, save_folder=save_folder + dataset)"
   ]
  },
  {
   "cell_type": "code",
   "execution_count": null,
   "id": "07fd25c1-706f-40a2-8276-c17a5eb78620",
   "metadata": {
    "scrolled": true,
    "tags": []
   },
   "outputs": [],
   "source": [
    "dataset = \"Human_Mouse\"\n",
    "df = pd.read_excel(excel_path, sheet_name=sheet_name)\n",
    "df_dataset = df[df[\"Dataset\"] == dataset].reset_index(drop=True)\n",
    "df_dataset.index = df_dataset[\"Method\"]\n",
    "df_dataset = df_dataset[df_dataset[\"Percentage_wrong\"] == 0]\n",
    "df_dataset.drop([\"Dataset\", \"Method\"], inplace=True, axis=1)\n",
    "methods_to_plot_hm = methods_to_plot.copy()\n",
    "cloumns_to_plot_hm = cloumns_to_plot.copy()\n",
    "\n",
    "# methods_to_plot_hm.remove('Seurat')\n",
    "cloumns_to_plot_hm.remove(\"isolated f1 score\")\n",
    "cloumns_to_plot_hm.remove(\"isolated silhouette coefficient\")\n",
    "df_dataset = df_dataset.loc[methods_to_plot_hm, cloumns_to_plot_hm]\n",
    "df_dataset = df_dataset.apply(lambda x: x.apply(lambda y: round(y, 2)))\n",
    "df_dataset[\"color\"] = pd.Series(df_dataset.index, index=df_dataset.index).replace(\n",
    "    method_color_dct\n",
    ")\n",
    "display(df_dataset)\n",
    "for i in df_dataset.columns[:-1]:\n",
    "    print(i, dataset)\n",
    "    plot_bar(df_dataset, i, save_folder=save_folder + dataset)"
   ]
  },
  {
   "cell_type": "markdown",
   "id": "11dff3c1-ae46-45d8-b35f-c81fe04fccc5",
   "metadata": {
    "tags": []
   },
   "source": [
    "# multi bar "
   ]
  },
  {
   "cell_type": "code",
   "execution_count": null,
   "id": "0868e76f-441a-4db8-9c57-180835e57ab3",
   "metadata": {
    "tags": []
   },
   "outputs": [],
   "source": [
    "def plot_bar_multi(df, col, method_color_dct, save_folder=None):\n",
    "    ax = sns.barplot(\n",
    "        x=\"Percentage_wrong\", y=col, hue=\"Method\", data=df, palette=method_color_dct\n",
    "    )  # , ax=ax1)\n",
    "    plt.xticks(rotation=90)\n",
    "    #     ax.legend(loc='center left', bbox_to_anchor=(1, 0.5),prop={'family':\"Arial\",'weight':'bold','size':14})\n",
    "    ax.get_legend().remove()\n",
    "\n",
    "    for tick in ax.xaxis.get_major_ticks():\n",
    "        tick.label1.set_fontsize(14)\n",
    "        tick.label1.set_fontweight(\"bold\")\n",
    "    for tick in ax.yaxis.get_major_ticks():\n",
    "        tick.label1.set_fontsize(14)\n",
    "        tick.label1.set_fontweight(\"bold\")\n",
    "    ax.set_ylabel(col, fontsize=15, fontname=\"Arial\", fontweight=\"bold\")\n",
    "    ax.set_xlabel(\n",
    "        \"Percentage of missing cell type labels\",\n",
    "        fontsize=15,\n",
    "        fontname=\"Arial\",\n",
    "        fontweight=\"bold\",\n",
    "    )\n",
    "    rects = ax.patches\n",
    "    for rect in rects:\n",
    "        height = rect.get_height()\n",
    "        ax.text(\n",
    "            rect.get_x() + rect.get_width() / 2,\n",
    "            height,\n",
    "            round(height, 2),\n",
    "            ha=\"center\",\n",
    "            va=\"bottom\",\n",
    "        )\n",
    "    ax.spines[\"top\"].set_visible(False)\n",
    "    ax.spines[\"right\"].set_visible(False)\n",
    "    if save_folder:\n",
    "        if not os.path.exists(save_folder):\n",
    "            os.makedirs(save_folder)\n",
    "        file_path_to_save = save_folder + \"/\" + col.replace(\"/\", \"_\") + \".png\"\n",
    "        print(\"saving file at:\", file_path_to_save)\n",
    "        plt.savefig(file_path_to_save, transparent=True, bbox_inches=\"tight\")\n",
    "    plt.show()"
   ]
  },
  {
   "cell_type": "code",
   "execution_count": null,
   "id": "c74bd6ea-fda2-4e6f-ad48-4281d8593b06",
   "metadata": {
    "scrolled": true,
    "tags": []
   },
   "outputs": [],
   "source": [
    "dataset = \"Lung\"\n",
    "df = pd.read_excel(excel_path, sheet_name=sheet_name)\n",
    "df_dataset = df[df[\"Dataset\"] == dataset].reset_index(drop=True)\n",
    "df_dataset.index = df_dataset[\"Method\"]\n",
    "df_dataset.drop([\"Dataset\"], inplace=True, axis=1)\n",
    "df_dataset = df_dataset.loc[methods_to_plot, :]\n",
    "df_dataset = df_dataset.apply(\n",
    "    lambda x: x.apply(lambda y: round(y, 2) if type(y) != str else y)\n",
    ")\n",
    "df_dataset[\"Percentage_wrong\"] = df_dataset[\"Percentage_wrong\"].astype(\"int32\")\n",
    "df_dataset[\"color\"] = pd.Series(df_dataset.index, index=df_dataset.index).replace(\n",
    "    method_color_dct\n",
    ")\n",
    "display(df_dataset)\n",
    "for col in cloumns_to_plot:\n",
    "    print(col, dataset)\n",
    "    plot_bar_multi(\n",
    "        df_dataset, col, method_color_dct, save_folder=save_folder + dataset + \"_multi\"\n",
    "    )"
   ]
  },
  {
   "cell_type": "code",
   "execution_count": null,
   "id": "1417469b-97bf-4485-8cda-784990e8d3f2",
   "metadata": {
    "scrolled": true,
    "tags": []
   },
   "outputs": [],
   "source": [
    "dataset = \"Immune_Human\"\n",
    "df = pd.read_excel(excel_path, sheet_name=sheet_name)\n",
    "df_dataset = df[df[\"Dataset\"] == dataset].reset_index(drop=True)\n",
    "df_dataset.index = df_dataset[\"Method\"]\n",
    "df_dataset.drop([\"Dataset\"], inplace=True, axis=1)\n",
    "df_dataset = df_dataset.loc[methods_to_plot, :]\n",
    "df_dataset = df_dataset.apply(\n",
    "    lambda x: x.apply(lambda y: round(y, 2) if type(y) != str else y)\n",
    ")\n",
    "df_dataset[\"Percentage_wrong\"] = df_dataset[\"Percentage_wrong\"].astype(\"int32\")\n",
    "df_dataset[\"color\"] = pd.Series(df_dataset.index, index=df_dataset.index).replace(\n",
    "    method_color_dct\n",
    ")\n",
    "display(df_dataset)\n",
    "for col in cloumns_to_plot:\n",
    "    print(col, dataset)\n",
    "    plot_bar_multi(\n",
    "        df_dataset, col, method_color_dct, save_folder=save_folder + dataset + \"_multi\"\n",
    "    )"
   ]
  }
 ],
 "metadata": {
  "kernelspec": {
   "display_name": "Python 3 (ipykernel)",
   "language": "python",
   "name": "python3"
  },
  "language_info": {
   "codemirror_mode": {
    "name": "ipython",
    "version": 3
   },
   "file_extension": ".py",
   "mimetype": "text/x-python",
   "name": "python",
   "nbconvert_exporter": "python",
   "pygments_lexer": "ipython3",
   "version": "3.7.11"
  }
 },
 "nbformat": 4,
 "nbformat_minor": 5
}
