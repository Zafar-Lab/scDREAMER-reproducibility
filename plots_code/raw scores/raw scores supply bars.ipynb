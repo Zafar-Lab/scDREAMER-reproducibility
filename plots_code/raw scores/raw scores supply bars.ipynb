{
 "cells": [
  {
   "cell_type": "code",
   "execution_count": null,
   "id": "b8dca486-fb1e-4ffb-987b-2142cbab39be",
   "metadata": {},
   "outputs": [],
   "source": [
    "import pandas as pd\n",
    "import numpy as np\n",
    "import math\n",
    "import pylab\n",
    "from pylab import *\n",
    "from sklearn import linear_model\n",
    "from sklearn.metrics import mean_squared_error, r2_score\n",
    "import matplotlib.pyplot as plt\n",
    "import matplotlib.colors as mcolors\n",
    "\n",
    "import matplotlib as mpl\n",
    "mpl.rcParams['figure.dpi'] = 300\n",
    "from IPython.display import display\n",
    "import os"
   ]
  },
  {
   "cell_type": "code",
   "execution_count": null,
   "id": "fae93f78-2431-4aae-bc04-3bffa1d2943f",
   "metadata": {},
   "outputs": [],
   "source": [
    "save_folder = './Supplimentary/'"
   ]
  },
  {
   "cell_type": "markdown",
   "id": "df76c7db-038c-4dd8-ba35-38a0bb37de17",
   "metadata": {},
   "source": [
    "# raw score"
   ]
  },
  {
   "cell_type": "code",
   "execution_count": null,
   "id": "10c6034c-17af-4332-ac51-f79105a04e2f",
   "metadata": {},
   "outputs": [],
   "source": [
    "excel_path = '~/Downloads/All_metrics_15_Sep.xlsx' \n",
    "sheet_name =  'all_metrics_revision'\n",
    "# pd.options.mode.use_inf_as_na = True"
   ]
  },
  {
   "cell_type": "code",
   "execution_count": null,
   "id": "19c5e24d-4f51-4932-aef8-b5c78e78003a",
   "metadata": {},
   "outputs": [],
   "source": [
    "cloumns_to_plot = [\"NMI cluster/label\",\"ARI cluster/label\",\"ASW label\",\"ASW label/batch\",\"PCR batch\",\"isolated f1 score\",\"isolated silhouette coefficient\",\"graph connectivity\",\"kBET\"]#,\"iLISI\",\"cLISI\"]\n",
    "method_color_dct = {'scVI' : '#28DDED', 'Harmony': '#ED7A28','Seurat' : '#994363', \n",
    "       'BBKNN': '#B626D3', 'Scanorama': '#EDBF28', \n",
    "       'INSCT' : '#286CED', 'LIGER' : '#90EE90','fastMNN':  \"#FFB6C1\", \"iMAP\" : \"#964B00\",\n",
    "       'scDREAMER': '#086E28', 'scANVI': '#c5b0d5',\n",
    "'scGEN': '#d62829',\n",
    "'scDREAMER-Sup': '#113f0a'\n",
    "       }\n",
    "methods_to_plot = [ 'scVI' , 'Harmony','Seurat', 'BBKNN', 'Scanorama','INSCT' ,'LIGER' , \"iMAP\" ,'scDREAMER']#,'scDREAMER-Sup','scANVI','scGEN']"
   ]
  },
  {
   "cell_type": "code",
   "execution_count": null,
   "id": "27e2a83e-02c5-4dc1-8716-e5b033e93a0d",
   "metadata": {},
   "outputs": [],
   "source": [
    " #directly downloaded from our sheet"
   ]
  },
  {
   "cell_type": "code",
   "execution_count": null,
   "id": "698baf5b-86b2-46d9-ad02-567227dee396",
   "metadata": {},
   "outputs": [],
   "source": [
    "import os\n",
    "def plot_bar(df_, col_name,save_folder = False):#save_name dataset\n",
    "    \n",
    "    rc('axes', linewidth = 2)\n",
    "\n",
    "#     if (dataset == 'Human_Mouse' and col_name == 'kBET'):\n",
    "#         df_ = df_[df_.index != 'BBKNN']#.reset_index(drop = True)\n",
    "#     if (dataset =='Human_Mouse' and col_name in [\"isolated f1 score\",\"isolated silhouette coefficient\"]):\n",
    "#         return\n",
    "#     if (col_name == 'PCR batch'): # or col_name == 'ASW label' or col_name == 'ASW label/batch' or  col_name == 'isolated silhouette coefficient'\n",
    "#         df_ = df_[df_.index != 'BBKNN']#.reset_index(drop = True)\n",
    "    \n",
    "    df_ = df_.loc[df_[col_name].notna(),:]\n",
    "\n",
    "    fig = plt.figure(figsize = (6, 4))\n",
    "    ax = df_[col_name].plot(kind=\"bar\", color = df_['color'])\n",
    "\n",
    "   \n",
    "    rects = ax.patches\n",
    "    ax.set_xticklabels(df_.index, rotation = 75, fontname='Arial', fontsize = 10)\n",
    "  \n",
    "    for rect, label in zip(rects, df_[col_name]):\n",
    "        height = rect.get_height()\n",
    "        ax.text(\n",
    "        rect.get_x() + rect.get_width() / 2, height, round(label, 2), ha=\"center\", va=\"bottom\"\n",
    "        )\n",
    "    \n",
    "    \n",
    "    mi = df_[col_name].min()\n",
    "    mx = df_[col_name].max()\n",
    "    ylim(max(mi - 0.01,0), min(mx*1.05, 1.0))\n",
    "    \n",
    "    \n",
    "    \n",
    "    plt.ylabel(col_name, fontsize = 15, fontname='Arial', fontweight = 'bold')\n",
    "    plt.xlabel(None)#, fontsize = 15, fontname='Arial', fontweight = 'bold')\n",
    "    for tick in ax.xaxis.get_major_ticks():\n",
    "        tick.label1.set_fontsize(14)\n",
    "        tick.label1.set_fontweight('bold')\n",
    "    for tick in ax.yaxis.get_major_ticks():\n",
    "        tick.label1.set_fontsize(14)\n",
    "        tick.label1.set_fontweight('bold')\n",
    "        \n",
    "    plt.subplot(111).spines['right'].set_visible(False)\n",
    "    plt.subplot(111).spines['top'].set_visible(False)\n",
    "   \n",
    "    plt.tight_layout()\n",
    "#     plt.gcf().subplots_adjust(bottom = 0.3)\n",
    "    #plt.gcf().subplots_adjust(top = 3)\n",
    "    #plt.gcf().subplots_adjust(top=5)\n",
    "    \n",
    "    if save_folder:\n",
    "        if not os.path.exists(save_folder):\n",
    "            print(save_folder)\n",
    "            os.makedirs(save_folder)\n",
    "        plt.savefig(save_folder+'/'+col_name.replace('/','_')+'.png', transparent=True, bbox_inches='tight')\n",
    "\n",
    "    plt.show()"
   ]
  },
  {
   "cell_type": "code",
   "execution_count": null,
   "id": "cc31a5fe-d408-4792-b027-7d0dd044d26e",
   "metadata": {},
   "outputs": [],
   "source": [
    "dataset = 'Pancreas'\n",
    "df = pd.read_excel(excel_path,sheet_name =sheet_name)\n",
    "df_dataset = df[df['Dataset'] == dataset].reset_index(drop = True)\n",
    "df_dataset.index = df_dataset['Method']\n",
    "df_dataset = df_dataset[df_dataset['Percentage_wrong']==0]\n",
    "df_dataset.drop(['Dataset','Method'], inplace=True, axis=1)\n",
    "df_dataset = df_dataset.loc[methods_to_plot,cloumns_to_plot]\n",
    "df_dataset = df_dataset.apply(lambda x:x.apply(lambda y:round(y,2)))\n",
    "df_dataset['color'] = pd.Series(df_dataset.index,index=df_dataset.index).replace(method_color_dct)\n",
    "display(df_dataset)\n",
    "for i in df_dataset.columns[:-1]:\n",
    "    print (i,dataset)\n",
    "    plot_bar(df_dataset, i,save_folder = False)\n",
    "    break"
   ]
  },
  {
   "cell_type": "markdown",
   "id": "1df77bc9-cbc8-4f5a-8f22-f465f2c57536",
   "metadata": {},
   "source": [
    "# dataset = 'Pancreas'"
   ]
  },
  {
   "cell_type": "code",
   "execution_count": null,
   "id": "de3beab3-30a7-4f63-9b73-797efe4822f1",
   "metadata": {
    "scrolled": true,
    "tags": []
   },
   "outputs": [],
   "source": [
    "dataset = 'Pancreas'\n",
    "df = pd.read_excel(excel_path,sheet_name =sheet_name)\n",
    "df_dataset = df[df['Dataset'] == dataset].reset_index(drop = True)\n",
    "df_dataset.index = df_dataset['Method']\n",
    "df_dataset = df_dataset[df_dataset['Percentage_wrong']==0]\n",
    "df_dataset.drop(['Dataset','Method'], inplace=True, axis=1)\n",
    "df_dataset = df_dataset.loc[methods_to_plot,cloumns_to_plot]\n",
    "df_dataset = df_dataset.apply(lambda x:x.apply(lambda y:round(y,2)))\n",
    "df_dataset['color'] = pd.Series(df_dataset.index,index=df_dataset.index).replace(method_color_dct)\n",
    "display(df_dataset)\n",
    "for i in df_dataset.columns[:-1]:\n",
    "    print (i,dataset)\n",
    "    plot_bar(df_dataset, i,save_folder = save_folder+dataset)"
   ]
  },
  {
   "cell_type": "code",
   "execution_count": null,
   "id": "5563ddd8-89cc-48fc-8342-2890d22d9b84",
   "metadata": {
    "scrolled": true,
    "tags": []
   },
   "outputs": [],
   "source": [
    "dataset = 'Lung'\n",
    "df = pd.read_excel(excel_path,sheet_name =sheet_name)\n",
    "df_dataset = df[df['Dataset'] == dataset].reset_index(drop = True)\n",
    "df_dataset.index = df_dataset['Method']\n",
    "df_dataset = df_dataset[df_dataset['Percentage_wrong']==0]\n",
    "df_dataset.drop(['Dataset','Method'], inplace=True, axis=1)\n",
    "df_dataset = df_dataset.loc[methods_to_plot,cloumns_to_plot]\n",
    "df_dataset = df_dataset.apply(lambda x:x.apply(lambda y:round(y,2)))\n",
    "df_dataset['color'] = pd.Series(df_dataset.index,index=df_dataset.index).replace(method_color_dct)\n",
    "display(df_dataset)\n",
    "for i in df_dataset.columns[:-1]:\n",
    "    print (i,dataset)\n",
    "    plot_bar(df_dataset, i,save_folder = save_folder+dataset)"
   ]
  },
  {
   "cell_type": "code",
   "execution_count": null,
   "id": "3ec9b427-5915-4f43-907f-f1cd2fe2b3b7",
   "metadata": {
    "scrolled": true,
    "tags": []
   },
   "outputs": [],
   "source": [
    "dataset = 'Immune_Human'\n",
    "df = pd.read_excel(excel_path,sheet_name =sheet_name)\n",
    "df_dataset = df[df['Dataset'] == dataset].reset_index(drop = True)\n",
    "df_dataset.index = df_dataset['Method']\n",
    "df_dataset = df_dataset[df_dataset['Percentage_wrong']==0]\n",
    "df_dataset.drop(['Dataset','Method'], inplace=True, axis=1)\n",
    "df_dataset = df_dataset.loc[methods_to_plot,cloumns_to_plot]\n",
    "df_dataset = df_dataset.apply(lambda x:x.apply(lambda y:round(y,2)))\n",
    "df_dataset['color'] = pd.Series(df_dataset.index,index=df_dataset.index).replace(method_color_dct)\n",
    "display(df_dataset)\n",
    "for i in df_dataset.columns[:-1]:\n",
    "    print (i,dataset)\n",
    "    plot_bar(df_dataset, i,save_folder = save_folder+dataset)"
   ]
  },
  {
   "cell_type": "code",
   "execution_count": null,
   "id": "c09a6fe6-81ce-40b0-a926-29468668e73b",
   "metadata": {
    "scrolled": true,
    "tags": []
   },
   "outputs": [],
   "source": [
    "dataset = 'Human_Retina'\n",
    "df = pd.read_excel(excel_path,sheet_name =sheet_name)\n",
    "df_dataset = df[df['Dataset'] == dataset].reset_index(drop = True)\n",
    "df_dataset.index = df_dataset['Method']\n",
    "df_dataset = df_dataset[df_dataset['Percentage_wrong']==0]\n",
    "df_dataset.drop(['Dataset','Method'], inplace=True, axis=1)\n",
    "df_dataset = df_dataset.loc[methods_to_plot,cloumns_to_plot]\n",
    "df_dataset = df_dataset.apply(lambda x:x.apply(lambda y:round(y,2)))\n",
    "df_dataset['color'] = pd.Series(df_dataset.index,index=df_dataset.index).replace(method_color_dct)\n",
    "display(df_dataset)\n",
    "for i in df_dataset.columns[:-1]:\n",
    "    print (i,dataset)\n",
    "    plot_bar(df_dataset, i,save_folder = save_folder+dataset)"
   ]
  },
  {
   "cell_type": "code",
   "execution_count": null,
   "id": "07fd25c1-706f-40a2-8276-c17a5eb78620",
   "metadata": {
    "scrolled": true,
    "tags": []
   },
   "outputs": [],
   "source": [
    "dataset = 'Human_Mouse'\n",
    "df = pd.read_excel(excel_path,sheet_name =sheet_name)\n",
    "df_dataset = df[df['Dataset'] == dataset].reset_index(drop = True)\n",
    "df_dataset.index = df_dataset['Method']\n",
    "df_dataset = df_dataset[df_dataset['Percentage_wrong']==0]\n",
    "df_dataset.drop(['Dataset','Method'], inplace=True, axis=1)\n",
    "methods_to_plot_hm = methods_to_plot.copy()\n",
    "cloumns_to_plot_hm = cloumns_to_plot.copy()\n",
    "\n",
    "methods_to_plot_hm.remove('Seurat')\n",
    "cloumns_to_plot_hm.remove('isolated f1 score')\n",
    "cloumns_to_plot_hm.remove(\"isolated silhouette coefficient\")\n",
    "df_dataset = df_dataset.loc[methods_to_plot_hm,cloumns_to_plot_hm]\n",
    "df_dataset = df_dataset.apply(lambda x:x.apply(lambda y:round(y,2)))\n",
    "df_dataset['color'] = pd.Series(df_dataset.index,index=df_dataset.index).replace(method_color_dct)\n",
    "display(df_dataset)\n",
    "for i in df_dataset.columns[:-1]:\n",
    "    print (i,dataset)\n",
    "    plot_bar(df_dataset, i,save_folder = save_folder+dataset)"
   ]
  },
  {
   "cell_type": "code",
   "execution_count": null,
   "id": "f98b9e9a-1ef2-4592-b5e9-865af58504ef",
   "metadata": {},
   "outputs": [],
   "source": [
    "# scVI - cyan\n",
    "# Harmony - orange\n",
    "# Seurat - magenta\n",
    "# BBKNN - purple\n",
    "# Scanorama - yellow\n",
    "# INSCT - blue\n",
    "# iMAP - brown\n",
    "# Liger - light green\n",
    "# fastMNN - light pink\n",
    "# scANVI - removed from main figure\n",
    "# scDREAMER - Green\n",
    "# scDREAMER++ - Red"
   ]
  },
  {
   "cell_type": "code",
   "execution_count": null,
   "id": "89593a57-ea4d-47cb-a691-38b0e650148a",
   "metadata": {},
   "outputs": [],
   "source": []
  },
  {
   "cell_type": "code",
   "execution_count": null,
   "id": "9f081cd3-99de-411b-a348-e4e35e981784",
   "metadata": {},
   "outputs": [],
   "source": []
  },
  {
   "cell_type": "code",
   "execution_count": null,
   "id": "b8cb36f4-551c-45c0-bb73-863b9a1b7b13",
   "metadata": {},
   "outputs": [],
   "source": []
  },
  {
   "cell_type": "code",
   "execution_count": null,
   "id": "35c555e4-a28e-493a-b2f7-5291b585be86",
   "metadata": {},
   "outputs": [],
   "source": []
  },
  {
   "cell_type": "code",
   "execution_count": null,
   "id": "97b5c171-5d87-4d9b-88f6-826e94387e0e",
   "metadata": {},
   "outputs": [],
   "source": []
  },
  {
   "cell_type": "code",
   "execution_count": null,
   "id": "d39ee3bc-2876-4b2b-8a4a-03ab3ecd5bbf",
   "metadata": {},
   "outputs": [],
   "source": []
  },
  {
   "cell_type": "code",
   "execution_count": null,
   "id": "256880f0-f43d-4057-bef5-e7bd0bd5ed30",
   "metadata": {},
   "outputs": [],
   "source": []
  }
 ],
 "metadata": {
  "kernelspec": {
   "display_name": "Python 3 (ipykernel)",
   "language": "python",
   "name": "python3"
  },
  "language_info": {
   "codemirror_mode": {
    "name": "ipython",
    "version": 3
   },
   "file_extension": ".py",
   "mimetype": "text/x-python",
   "name": "python",
   "nbconvert_exporter": "python",
   "pygments_lexer": "ipython3",
   "version": "3.7.11"
  }
 },
 "nbformat": 4,
 "nbformat_minor": 5
}
