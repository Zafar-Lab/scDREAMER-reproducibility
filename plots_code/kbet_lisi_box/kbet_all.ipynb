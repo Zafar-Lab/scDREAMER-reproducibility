{
 "cells": [
  {
   "cell_type": "code",
   "execution_count": null,
   "id": "5fa7448c",
   "metadata": {},
   "outputs": [],
   "source": [
    "All_h5ad = \"/home/krushna/Documents/Data_integration/SCRNA_Datasets/All_h5ad/\"\n",
    "# paths = {\n",
    "#     'scanorama' : \"scanorama/scanorama-\"+dataset+\".h5ad\", #adata\n",
    "#     'scvi' : \"scvi/scvi-\"+dataset+\".h5ad\", #adata\n",
    "#     'harmony' : \"harmony/harmony-\"+dataset+\".h5ad\", #adata\n",
    "#     'seurat' : \"seurat/seurat-\"+dataset+\".h5ad\",\n",
    "#     'bbknn' : \"bbknn/bbknn-\"+dataset+'.h5ad',\n",
    "#     'our_method' : \"/home/krushna/Documents/Data_integration/Ajita_embeddings/non zero kl/\" + our_method_emb\n",
    "# }\n",
    "# #    \n",
    "\n",
    "  \n",
    "batch_key_dic = {'Immune_Human' : 'batch',\n",
    "                 'Immune_human_mouse' : 'batch',\n",
    "                 'Lung' : 'batch',\n",
    "                 'Mouse_brain' : 'batch',\n",
    "                 'Pancreas' : 'tech',\n",
    "                 'Simulation1' : 'Batch',\n",
    "                 'Simulation2' : 'Batch',\n",
    "                 'Pancreas_scDGN' : 'batch',\n",
    "                 'Mouse_Brain_scDGN' : 'batch',\n",
    "                 'tabular_muris' : \"batch\",\n",
    "                 'Human_Mouse' : 'batch',\n",
    "                 'Human_Retina': \"Batch\"\n",
    "                }\n",
    "cell_type_key_dic = {'Immune_Human' : 'final_annotation',\n",
    "                 'Immune_human_mouse' : 'final_annotation',\n",
    "                 'Lung' : 'cell_type',\n",
    "                 'Mouse_brain' : 'cell_type',\n",
    "                 'Pancreas' : 'celltype',\n",
    "                 'Simulation1' : 'Group',\n",
    "                 'Simulation2' : 'Group',\n",
    "                 'Pancreas_scDGN' : 'cell_type',\n",
    "                 'Mouse_Brain_scDGN' : \"tissue\" ,\n",
    "                 \"tabular_muris\" : \"cell_ontology_class\",\n",
    "                 'Human_Mouse' : \"celltype\",\n",
    "                 \"Human_Retina\":\"Subcluster\"\n",
    "                    }  \n"
   ]
  },
  {
   "cell_type": "code",
   "execution_count": null,
   "id": "05729c42",
   "metadata": {},
   "outputs": [],
   "source": [
    "import scanpy as sc\n",
    "import numpy as np"
   ]
  },
  {
   "cell_type": "code",
   "execution_count": null,
   "id": "362f567a-9a75-473f-911a-b4f9f0e7baaa",
   "metadata": {},
   "outputs": [],
   "source": [
    "datasets = ['Immune_Human','Lung','Pancreas','Human_Retina']"
   ]
  },
  {
   "cell_type": "code",
   "execution_count": null,
   "id": "52968e17-53d0-4524-80c8-29e86d9c7afa",
   "metadata": {
    "tags": []
   },
   "outputs": [],
   "source": [
    "for dataset in datasets:\n",
    "    kbet_all_paths = [\n",
    "    # \"bbknn/\"+dataset+\"_kbet_all.csv\",\n",
    "    \"harmony/\"+dataset+\"_kbet_all.csv\",\n",
    "    \"scanorama/\"+dataset+\"_kbet_all.csv\",\n",
    "    \"scvi/\"+dataset+\"_kbet_all.csv\",\n",
    "    \"seurat/\"+dataset+\"_kbet_all.csv\",\n",
    "    \"insct/\"+dataset+\"_kbet_all.csv\",\n",
    "    \"ourmethod/\"+dataset+\"_kbet_all.csv\"\n",
    "              ]\n",
    "    print(dataset)\n",
    "    labels = ['harmony','scanorama','scvi','seurat','insct','ourmethod']\n",
    "    kbet_all_values = [np.genfromtxt(path, delimiter=',').flatten()  for path in kbet_all_paths]\n",
    "    import matplotlib.pyplot as plt\n",
    "    plt.xticks(rotation=45)\n",
    "    plt.ylabel('kbet')\n",
    "    plt.xlabel(dataset)\n",
    "    plt.boxplot(kbet_all_values,labels = labels)\n",
    "    plt.show()\n",
    "#     plt.xticks(rotation=45)\n",
    "#     plt.ylabel('clisi')\n",
    "#     plt.xlabel(dataset)\n",
    "#     plt.boxplot(clisi_values,labels = labels)\n",
    "#     plt.show()\n",
    "\n",
    "    "
   ]
  },
  {
   "cell_type": "code",
   "execution_count": null,
   "id": "5499e0f6-4788-484b-a670-d23e33d5caef",
   "metadata": {},
   "outputs": [],
   "source": []
  }
 ],
 "metadata": {
  "kernelspec": {
   "display_name": "Python 3 (ipykernel)",
   "language": "python",
   "name": "python3"
  },
  "language_info": {
   "codemirror_mode": {
    "name": "ipython",
    "version": 3
   },
   "file_extension": ".py",
   "mimetype": "text/x-python",
   "name": "python",
   "nbconvert_exporter": "python",
   "pygments_lexer": "ipython3",
   "version": "3.7.11"
  }
 },
 "nbformat": 4,
 "nbformat_minor": 5
}
