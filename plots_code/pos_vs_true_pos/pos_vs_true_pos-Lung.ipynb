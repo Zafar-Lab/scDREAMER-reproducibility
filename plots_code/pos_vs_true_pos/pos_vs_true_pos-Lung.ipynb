{
 "cells": [
  {
   "cell_type": "code",
   "execution_count": null,
   "id": "1f6618b1",
   "metadata": {},
   "outputs": [],
   "source": [
    "dataset = \"Lung\"\n",
    "All_h5ad = \"/home/krushna/Documents/Data_integration/SCRNA_Datasets/All_h5ad/\"\n",
    "methods_h5ad = '/home/krushna/Documents/Data_integration/imapOthermethods/'"
   ]
  },
  {
   "cell_type": "code",
   "execution_count": null,
   "id": "8bed9e9d",
   "metadata": {},
   "outputs": [],
   "source": [
    "our_method_emb_dic = {'Immune_Human' : 'Immune_Human_case2_latent_matrix_c_300',\n",
    "                 'Lung' : 'Lung_case2_latent_matrix_c_300',\n",
    "                 'Pancreas' : 'Pancreas_case2_latent_matrix_c_250',\n",
    "                 'Human_Retina': \"retina_case2_latent_matrix_c_300\"    \n",
    "                }   \n",
    "scdreamer_plus_emb_dic = {\n",
    "                'Immune_Human' : 'Immune_Humanlatent_matrix_c299_v2_crossEv2',\n",
    "                 'Lung' : 'Lunglatent_matrix_c299_v2_crossEv2',\n",
    "                 'Pancreas' : 'Pancreaslatent_matrix_c299_v2_crossEv2',\n",
    "                 'Human_Retina': \"Human_Retinalatent_matrix_c299_v2_crossEv2\",\n",
    "                 'Human_Mouse' : 'Human_Mousenewlatent_matrix_c300_scdreamer++'\n",
    "}\n",
    "\n",
    "insct_emb_dic = {'Immune_Human' : 'Immune_tnn_embeddings_1510',\n",
    "             'Lung' : 'Lung_tnn_embeddings_1510',\n",
    "             'Pancreas' : 'Pancreas_tnn_embeddings_1510',\n",
    "             'Tabula_Muris' : \"tabular_muris_tnn_embeddings_0211\",\n",
    "             'Human_Mouse' : '',\n",
    "             'Human_Retina': \"\"    \n",
    "}   \n",
    "  \n",
    "batch_key_dic = {'Immune_Human' : 'batch',\n",
    "                 'Lung' : 'batch',\n",
    "                 'Pancreas' : 'tech',\n",
    "                 'Tabula_Muris' : \"batch\",\n",
    "                 'Human_Mouse' : 'batch',\n",
    "                 'Human_Retina': \"Batch\"\n",
    "                }\n",
    "cell_type_key_dic = {'Immune_Human' : 'final_annotation',\n",
    "                 'Lung' : 'cell_type',\n",
    "                 'Pancreas' : 'celltype',\n",
    "                 \"Tabula_Muris\" : \"cell_ontology_class\",\n",
    "                 'Human_Mouse' : \"celltype\",\n",
    "                 \"Human_Retina\":\"Subcluster\"\n",
    "                    } \n",
    "insct_emb  = insct_emb_dic[dataset]\n",
    "our_method_emb = our_method_emb_dic[dataset]\n",
    "batch_key = batch_key_dic[dataset]\n",
    "cell_type_key = cell_type_key_dic[dataset]\n",
    "paths = {\n",
    "    'scanorama' : \"scanorama/scanorama-\"+dataset+\".h5ad\", #adata\n",
    "    'scvi' : \"scvi/scvi-\"+dataset+\".h5ad\", #adata\n",
    "    'harmony' : \"harmony/harmony-\"+dataset+\".h5ad\", #adata\n",
    "    'seurat' : \"seurat/seurat-\"+dataset+\".h5ad\",\n",
    "    'bbknn' : \"bbknn/bbknn-\"+dataset+'.h5ad',\n",
    "    'FastMnn' : \"fastmnn/\"+dataset+'.h5ad',\n",
    "    'scGen' : \"scGen/scGen-\"+dataset+'.h5ad',\n",
    "    'scanvi' : \"scanvi/scanvi-\"+dataset+'.h5ad',\n",
    "    'imap' : \"imap/imap-\"+dataset+'.h5ad',\n",
    "    'liger' : \"/home/krushna/Documents/Data_integration/Othermethods/liger/embeddings/\" + dataset + '.csv',\n",
    "    'our_method' : \"/home/krushna/Documents/Data_integration/Ajita_embeddings/checking_other_cases/final/\" + our_method_emb +'.csv',\n",
    "    'insct' : \"/home/krushna/Documents/Data_integration/Ajita_embeddings/non zero kl/\" + insct_emb +'.csv',\n",
    "    'scdreamer_plus' : '/home/krushna/Documents/Data_integration/Ajita_embeddings/scDREAMER++/'+scdreamer_plus_emb_dic[dataset]+'.csv'\n",
    "}\n",
    "\n"
   ]
  },
  {
   "cell_type": "code",
   "execution_count": null,
   "id": "cf924d7e",
   "metadata": {},
   "outputs": [],
   "source": [
    "import scanpy as sc\n",
    "import numpy as np"
   ]
  },
  {
   "cell_type": "markdown",
   "id": "b1a901e9",
   "metadata": {},
   "source": [
    "#  R"
   ]
  },
  {
   "cell_type": "code",
   "execution_count": null,
   "id": "110d9bfc",
   "metadata": {
    "scrolled": true,
    "tags": []
   },
   "outputs": [],
   "source": [
    "import anndata2ri\n",
    "anndata2ri.activate()\n",
    "\n",
    "#Loading the rpy2 extension enables cell magic to be used\n",
    "#This runs R code in jupyter notebook cells\n",
    "%load_ext rpy2.ipython\n",
    "\n",
    "sc.settings.verbosity = 3\n",
    "sc.logging.print_versions()"
   ]
  },
  {
   "cell_type": "code",
   "execution_count": null,
   "id": "0dfce80c",
   "metadata": {},
   "outputs": [],
   "source": [
    "%%R\n",
    "#' @param data: cells * features matrix\n",
    "#' @param cell_type: named vector\n",
    "#' @param batch: named vector\n",
    "#' @param k: number of NNs to classify negative cells\n",
    "\n",
    "options(stringsAsFactors = FALSE)\n",
    "require(RcppAnnoy)\n",
    "require(ggplot2)\n",
    "require(grid)\n",
    "require(ggpubr)\n",
    "\n",
    "color_used <- c(\n",
    "  \"cyan4\",      \"skyblue3\",   \"darkolivegreen3\",   \"lightpink\",   \"darkmagenta\",   \"brown\",   \"blueviolet\", \"bisque4\",  \"deeppink3\",       \"darkkhaki\",      \n",
    "  \"dodgerblue4\",     \"goldenrod4\",            \"gainsboro\",       \"firebrick4\",      \"cadetblue3\",\n",
    "  \"greenyellow\",     \"gray6\",           \"coral2\",                     \"yellow4\",         \n",
    "         \"darkgoldenrod3\",  \"navy\",            \"deepskyblue3\",\"antiquewhite3\"\n",
    ")\n",
    "\n",
    "benchmark_idx = function(data, cell_type, batch, k = 20, k2 = 100, pos_thr = 3, \n",
    "                         plot = FALSE, prefix = '', \n",
    "                         color_batch = NULL, \n",
    "                         color_cell_type = NULL, \n",
    "                         color_index = NULL, \n",
    "                         point_size = 1){\n",
    "    bench_list = list()\n",
    "    \n",
    "    falseRates = c()\n",
    "    tmp_c = table(cell_type)\n",
    "    \n",
    "    tmp_b = table(cell_type, batch)\n",
    "    unique_batch = unique(batch)\n",
    "    \n",
    "    \n",
    "    \n",
    "    vector_size = dim(data)[2]\n",
    "    a <- new(AnnoyEuclidean, vector_size)\n",
    "    a$setSeed(1)\n",
    "    for(i in 1:dim(data)[1]){\n",
    "        a$addItem(i-1, data[i,])\n",
    "    }\n",
    "    a$build(50)\n",
    "    \n",
    "    ks = c()\n",
    "    for(i in 1:dim(data)[1]){\n",
    "        k_ = min(k, tmp_c[cell_type[i]])\n",
    "        ks = c(ks, k_)\n",
    "        NNs = a$getNNsByItem(i-1, k_+1)[2:(k_+1)] + 1\n",
    "        \n",
    "        c_NN = cell_type[NNs]\n",
    "        false_rate = sum(c_NN != cell_type[i]) / k_\n",
    "        falseRates = c(falseRates, false_rate)\n",
    "    }\n",
    "    \n",
    "    bench_list[['falseRates']] = falseRates\n",
    "    bench_list[['NegativeCells']] = falseRates >= 0.5\n",
    "    bench_list[['NumberOfNegativeCells']] = sum(falseRates >= 0.5)\n",
    "#     message('Number of negative cells: ', sum(falseRates >= 0.5))\n",
    "    \n",
    "    \n",
    "    ######### discriminate TRUE POSITIVE CELLS\n",
    "    truePositive = c()\n",
    "    \n",
    "    tmp_b_prob = t(apply(tmp_b, 1, function(x) x/sum(x)))\n",
    "                       \n",
    "    for(i in 1:dim(data)[1]){\n",
    "        cur = Inf\n",
    "        if(falseRates[i] < 0.5){\n",
    "            k_2 = min(k2, tmp_c[cell_type[i]])\n",
    "            NNs_ = a$getNNsByItem(i-1, k_2) + 1\n",
    "            NNs_c = cell_type[i]\n",
    "            NNs_i = NNs_c == cell_type[i]\n",
    "            NNs_ = NNs_[NNs_i]\n",
    "            k_2 = length(NNs_)\n",
    "            \n",
    "            NNs_b = batch[NNs_]\n",
    "            \n",
    "            b_prob_ = tmp_b_prob[cell_type[i],]\n",
    "            \n",
    "            max_b = 0\n",
    "            for(b in unique_batch){\n",
    "                if(b_prob_[b] > 0 & b_prob_[b] < 1){\n",
    "                    p_b = sum(NNs_b == b)\n",
    "                    sd_b = abs(p_b - k_2 * b_prob_[b]) / sqrt(k_2 * b_prob_[b] * (1-b_prob_[b]))\n",
    "                    max_b = max(max_b, sd_b)\n",
    "                }\n",
    "            }\n",
    "            cur = max_b\n",
    "        }\n",
    "        \n",
    "        truePositive = c(truePositive, cur)\n",
    "    }\n",
    "    \n",
    "    bench_list[['truePositiveRate']] = truePositive\n",
    "    bench_list[['truePositiveCells']] = truePositive <= pos_thr \n",
    "    bench_list[['NumberOfTruePositiveCells']] = sum(truePositive <= pos_thr)\n",
    "#     message('Number of true positive cells: ', sum(truePositive <= pos_thr))\n",
    "           \n",
    "    labels = rep('Others', length(batch))\n",
    "    labels[falseRates >= 0.5] = 'Negative cells'\n",
    "    labels[truePositive <= pos_thr] = 'True positive cells'\n",
    "    bench_list[['labels']] = labels\n",
    "    \n",
    "    if(plot){\n",
    "        n = length(batch)\n",
    "        ord = sample(n,n,replace=F)\n",
    "        \n",
    "        labels = rep('Others', length(ord))\n",
    "        labels[falseRates[ord] >= 0.5] = 'Negative cells'\n",
    "        labels[truePositive[ord] <= pos_thr] = 'True positive cells'\n",
    "        df = data.frame(\n",
    "            x = data[ord, 1],\n",
    "            y = data[ord, 2],\n",
    "            labels = labels\n",
    "        )\n",
    "        \n",
    "        if(is.null(color_index)){\n",
    "            color_index = color_used[c(1,9,19)]\n",
    "        }\n",
    "        #### plot cell type\n",
    "        pdf(paste0(prefix, '_index.pdf'), height = 6, width = 8)\n",
    "        p = df %>% ggplot() + geom_point(aes(x=x, y=y, color=labels), size = point_size, alpha = 1) + theme_pubr() +\n",
    "            scale_color_manual(values = color_index, name = 'scBM') +\n",
    "            xlab('UMAP 1') + ylab('UMAP 2') + theme(legend.position = 'right') +\n",
    "            guides(colour = guide_legend(override.aes = list(size=5))) +\n",
    "            scale_size_manual(values = .1)\n",
    "        print(p)\n",
    "        dev.off()\n",
    "        \n",
    "        pdf(paste0(prefix, 'true_positive_cells.pdf'), height = 6, width = 8)\n",
    "        p = ggplot() + geom_point(aes(x=data[ord,1], y=data[ord,2], color=truePositive[ord] <= pos_thr), size = point_size, alpha = 1) + theme_pubr() +\n",
    "            scale_color_manual(values = c('red', 'blue'), name = 'True Positive') +\n",
    "            xlab('UMAP 1') + ylab('UMAP 2') + theme(legend.position = 'right') +\n",
    "            guides(colour = guide_legend(override.aes = list(size=5))) +\n",
    "            scale_size_manual(values = .1)\n",
    "        print(p)\n",
    "        dev.off()\n",
    "        \n",
    "        ### Plot cell type\n",
    "        if(is.null(color_cell_type)){\n",
    "            no_of_markers <- length(unique(cell_type))\n",
    "            if (no_of_markers > length(color_used)) {\n",
    "                color_cell_type <- colorRampPalette(brewer.pal(9, \"Set1\"))(no_of_markers+1)\n",
    "            }\n",
    "            else {\n",
    "                color_cell_type <- color_used\n",
    "            }\n",
    "        }\n",
    "        pdf(paste0(prefix,'cell_types.pdf'), height = 6, width = 8)\n",
    "        p = ggplot() + geom_point(aes(x=data[ord,1], y=data[ord,2], color=cell_type[ord]), size = point_size, alpha = 1) + theme_pubr() +\n",
    "            scale_color_manual(values = color_cell_type, name = 'Cell type') +\n",
    "            xlab('UMAP 1') + ylab('UMAP 2') + theme(legend.position = 'right') +\n",
    "            guides(colour = guide_legend(override.aes = list(size=5))) +\n",
    "            scale_size_manual(values = .1)\n",
    "        print(p)\n",
    "        dev.off()\n",
    "    \n",
    "#          theme(\n",
    "#                 axis.text.y = element_blank(),\n",
    "#                 axis.text.x = element_blank(),\n",
    "#                 legend.position = 'right',\n",
    "#                 axis.ticks.x=element_blank(),\n",
    "#                 axis.ticks.y=element_blank()\n",
    "#             )\n",
    "        ### Plot cell type\n",
    "        if(is.null(color_batch)){\n",
    "            color_batch = rev(color_used)\n",
    "        }\n",
    "        pdf(paste0(prefix,'batches.pdf'), height = 6, width = 8)\n",
    "        \n",
    "        p = ggplot() + geom_point(aes(x=data[ord,1], y=data[ord,2], color=batch[ord]), size = point_size, alpha = 1) + theme_pubr() +\n",
    "            scale_color_manual(values = color_batch, name = batch_key) +\n",
    "            xlab('UMAP 1') + ylab('UMAP 2') + theme(legend.position = 'right') +\n",
    "            guides(colour = guide_legend(override.aes = list(size=5))) +\n",
    "            scale_size_manual(values = .1)\n",
    "        print(p)\n",
    "        dev.off()\n",
    "    }\n",
    "    \n",
    "    return(bench_list)\n",
    "}\n",
    " \n",
    "benchmark_idx_new = function(data, cell_type, batch, k = 20, k2 = 100, pos_thr = 1, \n",
    "                         plot = FALSE, prefix = '', \n",
    "                         color_batch = NULL, \n",
    "                         color_cell_type = NULL, \n",
    "                         color_index = NULL, \n",
    "                         point_size = 1){\n",
    "    bench_list = list()\n",
    "    \n",
    "    falseRates = c()\n",
    "    tmp_c = table(cell_type)\n",
    "    \n",
    "    tmp_b = table(cell_type, batch)\n",
    "    unique_batch = unique(batch)\n",
    "    \n",
    "    \n",
    "    \n",
    "    vector_size = dim(data)[2]\n",
    "    a <- new(AnnoyEuclidean, vector_size)\n",
    "    a$setSeed(1)\n",
    "    for(i in 1:dim(data)[1]){\n",
    "        a$addItem(i-1, data[i,])\n",
    "    }\n",
    "    a$build(50)\n",
    "    \n",
    "    ks = c()\n",
    "    for(i in 1:dim(data)[1]){\n",
    "        k_ = min(k, tmp_c[cell_type[i]])\n",
    "        ks = c(ks, k_)\n",
    "        NNs = a$getNNsByItem(i-1, k_+1)[2:(k_+1)] + 1\n",
    "        \n",
    "        c_NN = cell_type[NNs]\n",
    "        false_rate = sum(c_NN != cell_type[i]) / k_\n",
    "        falseRates = c(falseRates, false_rate)\n",
    "    }\n",
    "    \n",
    "    bench_list[['falseRates']] = falseRates\n",
    "    bench_list[['NegativeCells']] = falseRates >= 0.5\n",
    "    bench_list[['NumberOfNegativeCells']] = sum(falseRates >= 0.5)\n",
    "#     message('Number of negative cells: ', sum(falseRates >= 0.5))\n",
    "    \n",
    "    \n",
    "    ######### discriminate TRUE POSITIVE CELLS\n",
    "    truePositive = c()\n",
    "    \n",
    "    tmp_b_prob = t(apply(tmp_b, 1, function(x) x/sum(x)))\n",
    "                       \n",
    "    for(i in 1:dim(data)[1]){\n",
    "        sd_b = -Inf\n",
    "        if(falseRates[i] < 0.5){\n",
    "            k_2 = min(k2, tmp_c[cell_type[i]])\n",
    "            NNs_ = a$getNNsByItem(i-1, k_2) + 1\n",
    "            NNs_c = cell_type[i]\n",
    "            b = batch[i]\n",
    "            k_2 = length(NNs_)\n",
    "            \n",
    "            NNs_b = batch[NNs_]\n",
    "            \n",
    "            b_prob_ = tmp_b_prob[cell_type[i],]\n",
    "            \n",
    "            p_b = sum(NNs_b == b)\n",
    "            \n",
    "            sd_b = (p_b - k_2 * b_prob_[b]) / sqrt(k_2 * b_prob_[b] * (1-b_prob_[b]))\n",
    "            \n",
    "        }\n",
    "        \n",
    "        truePositive = c(truePositive, sd_b)\n",
    "    }\n",
    "    \n",
    "    bench_list[['truePositiveRate']] = truePositive\n",
    "    bench_list[['truePositiveCells']] = truePositive >= pos_thr \n",
    "    bench_list[['NumberOfTruePositiveCells']] = sum(truePositive >= pos_thr)\n",
    "#     message('Number of true positive cells: ', sum(truePositive >= pos_thr))\n",
    "           \n",
    "    labels = rep('Others', length(batch))\n",
    "    labels[falseRates >= 0.5] = 'Negative cells'\n",
    "    labels[truePositive <= pos_thr] = 'True positive cells'\n",
    "    bench_list[['labels']] = labels\n",
    "    \n",
    "    \n",
    "    return(bench_list)\n",
    "}                        "
   ]
  },
  {
   "cell_type": "markdown",
   "id": "6e073e67",
   "metadata": {},
   "source": [
    "# scanorama"
   ]
  },
  {
   "cell_type": "code",
   "execution_count": null,
   "id": "b9126ac7",
   "metadata": {
    "scrolled": true
   },
   "outputs": [],
   "source": [
    "adata =sc.read_h5ad(paths['scanorama'])\n",
    "sc.pp.neighbors(adata, use_rep='X_emb')  # use_rep = 'final_embeddings'\n",
    "sc.tl.umap(adata)\n",
    "sc.pl.umap(adata, color=cell_type_key, frameon=False)\n",
    "sc.pl.umap(adata, color=batch_key, frameon=False)"
   ]
  },
  {
   "cell_type": "code",
   "execution_count": null,
   "id": "663ac258",
   "metadata": {},
   "outputs": [],
   "source": [
    "batch = adata.obs[batch_key].to_numpy()\n",
    "cell_type = adata.obs[cell_type_key].to_numpy()\n",
    "data_mat = adata.obsm['X_emb']\n",
    "data_mat_umap = adata.obsm['X_umap']"
   ]
  },
  {
   "cell_type": "code",
   "execution_count": null,
   "id": "3298cffa",
   "metadata": {},
   "outputs": [],
   "source": [
    "%%R --i data_mat --i batch --i cell_type --i data_mat_umap\n",
    "print(dim(data_mat))\n",
    "print(length(batch))\n",
    "print(length(cell_type))\n",
    "bench_list <- benchmark_idx(data_mat, cell_type, batch)\n",
    "possitive = sum(!bench_list[[\"NegativeCells\"]])\n",
    "print(sprintf(\"possitive percent : %f\",100*possitive/length(bench_list[[\"NegativeCells\"]])))\n",
    "print(sprintf(\"True possitive percent : %f\",100*bench_list[['NumberOfTruePositiveCells']]/possitive))\n",
    "\n",
    "bench_list <- benchmark_idx(data_mat_umap, cell_type, batch)\n",
    "possitive = sum(!bench_list[[\"NegativeCells\"]])\n",
    "# sprintf(\"possitive percent umap : %f\",100*possitive/length(bench_list[[\"NegativeCells\"]]))\n",
    "print(sprintf(\"True possitive percent umap : %f\",100*bench_list[['NumberOfTruePositiveCells']]/possitive))\n",
    "\n",
    "\n",
    "bench_list <- benchmark_idx_new(data_mat, cell_type, batch)\n",
    "possitive = sum(!bench_list[[\"NegativeCells\"]])\n",
    "# sprintf(\"possitive percent : %f\",100*possitive/length(bench_list[[\"NegativeCells\"]]))\n",
    "print(sprintf(\"True possitive percent new : %f\",100*bench_list[['NumberOfTruePositiveCells']]/possitive))\n",
    "\n",
    "bench_list <- benchmark_idx_new(data_mat_umap, cell_type, batch)\n",
    "possitive = sum(!bench_list[[\"NegativeCells\"]])\n",
    "# sprintf(\"possitive percent : %f\",100*possitive/length(bench_list[[\"NegativeCells\"]]))\n",
    "print(sprintf(\"True possitive percent new umap : %f\",100*bench_list[['NumberOfTruePositiveCells']]/possitive))"
   ]
  },
  {
   "cell_type": "markdown",
   "id": "567c0b67",
   "metadata": {},
   "source": [
    "# Scvi"
   ]
  },
  {
   "cell_type": "code",
   "execution_count": null,
   "id": "e1add06e",
   "metadata": {
    "scrolled": true
   },
   "outputs": [],
   "source": [
    "adata =sc.read_h5ad(paths['scvi'])\n",
    "sc.pp.neighbors(adata, use_rep='X_scVI')  # use_rep = 'final_embeddings'\n",
    "sc.tl.umap(adata)\n",
    "sc.pl.umap(adata, color=cell_type_key, frameon=False)\n",
    "sc.pl.umap(adata, color=batch_key, frameon=False)"
   ]
  },
  {
   "cell_type": "code",
   "execution_count": null,
   "id": "d1d8960c",
   "metadata": {},
   "outputs": [],
   "source": [
    "batch = adata.obs[batch_key].to_numpy()\n",
    "cell_type = adata.obs[cell_type_key].to_numpy()\n",
    "data_mat = adata.obsm['X_scVI']\n",
    "data_mat_umap = adata.obsm['X_umap']"
   ]
  },
  {
   "cell_type": "code",
   "execution_count": null,
   "id": "300f0d37",
   "metadata": {},
   "outputs": [],
   "source": [
    "%%R --i data_mat --i batch --i cell_type --i data_mat_umap\n",
    "print(dim(data_mat))\n",
    "print(length(batch))\n",
    "print(length(cell_type))\n",
    "bench_list <- benchmark_idx(data_mat, cell_type, batch)\n",
    "possitive = sum(!bench_list[[\"NegativeCells\"]])\n",
    "print(sprintf(\"possitive percent : %f\",100*possitive/length(bench_list[[\"NegativeCells\"]])))\n",
    "print(sprintf(\"True possitive percent : %f\",100*bench_list[['NumberOfTruePositiveCells']]/possitive))\n",
    "\n",
    "bench_list <- benchmark_idx(data_mat_umap, cell_type, batch)\n",
    "possitive = sum(!bench_list[[\"NegativeCells\"]])\n",
    "# sprintf(\"possitive percent umap : %f\",100*possitive/length(bench_list[[\"NegativeCells\"]]))\n",
    "print(sprintf(\"True possitive percent umap : %f\",100*bench_list[['NumberOfTruePositiveCells']]/possitive))\n",
    "\n",
    "\n",
    "bench_list <- benchmark_idx_new(data_mat, cell_type, batch)\n",
    "possitive = sum(!bench_list[[\"NegativeCells\"]])\n",
    "# sprintf(\"possitive percent : %f\",100*possitive/length(bench_list[[\"NegativeCells\"]]))\n",
    "print(sprintf(\"True possitive percent new : %f\",100*bench_list[['NumberOfTruePositiveCells']]/possitive))\n",
    "\n",
    "bench_list <- benchmark_idx_new(data_mat_umap, cell_type, batch)\n",
    "possitive = sum(!bench_list[[\"NegativeCells\"]])\n",
    "# sprintf(\"possitive percent : %f\",100*possitive/length(bench_list[[\"NegativeCells\"]]))\n",
    "print(sprintf(\"True possitive percent new umap : %f\",100*bench_list[['NumberOfTruePositiveCells']]/possitive))"
   ]
  },
  {
   "cell_type": "markdown",
   "id": "0df8cf90",
   "metadata": {},
   "source": [
    "# harmony"
   ]
  },
  {
   "cell_type": "code",
   "execution_count": null,
   "id": "e8807e24",
   "metadata": {},
   "outputs": [],
   "source": [
    "adata =sc.read_h5ad(paths['harmony'])"
   ]
  },
  {
   "cell_type": "code",
   "execution_count": null,
   "id": "8127d41a",
   "metadata": {
    "scrolled": true
   },
   "outputs": [],
   "source": [
    "sc.pp.neighbors(adata,use_rep='X_harmony')  # use_rep = 'final_embeddings'\n",
    "sc.tl.umap(adata)\n",
    "sc.pl.umap(adata, color=cell_type_key, frameon=False)\n",
    "sc.pl.umap(adata, color=batch_key, frameon=False)"
   ]
  },
  {
   "cell_type": "code",
   "execution_count": null,
   "id": "46a2821c",
   "metadata": {},
   "outputs": [],
   "source": [
    "batch = adata.obs[batch_key].to_numpy()\n",
    "cell_type = adata.obs[cell_type_key].to_numpy()\n",
    "data_mat = adata.obsm['X_harmony']\n",
    "data_mat_umap = adata.obsm['X_umap']"
   ]
  },
  {
   "cell_type": "code",
   "execution_count": null,
   "id": "8e50a64b",
   "metadata": {},
   "outputs": [],
   "source": [
    "%%R --i data_mat --i batch --i cell_type --i data_mat_umap\n",
    "print(dim(data_mat))\n",
    "print(length(batch))\n",
    "print(length(cell_type))\n",
    "bench_list <- benchmark_idx(data_mat, cell_type, batch)\n",
    "possitive = sum(!bench_list[[\"NegativeCells\"]])\n",
    "print(sprintf(\"possitive percent : %f\",100*possitive/length(bench_list[[\"NegativeCells\"]])))\n",
    "print(sprintf(\"True possitive percent : %f\",100*bench_list[['NumberOfTruePositiveCells']]/possitive))\n",
    "\n",
    "bench_list <- benchmark_idx(data_mat_umap, cell_type, batch)\n",
    "possitive = sum(!bench_list[[\"NegativeCells\"]])\n",
    "# sprintf(\"possitive percent umap : %f\",100*possitive/length(bench_list[[\"NegativeCells\"]]))\n",
    "print(sprintf(\"True possitive percent umap : %f\",100*bench_list[['NumberOfTruePositiveCells']]/possitive))\n",
    "\n",
    "\n",
    "bench_list <- benchmark_idx_new(data_mat, cell_type, batch)\n",
    "possitive = sum(!bench_list[[\"NegativeCells\"]])\n",
    "# sprintf(\"possitive percent : %f\",100*possitive/length(bench_list[[\"NegativeCells\"]]))\n",
    "print(sprintf(\"True possitive percent new : %f\",100*bench_list[['NumberOfTruePositiveCells']]/possitive))\n",
    "\n",
    "bench_list <- benchmark_idx_new(data_mat_umap, cell_type, batch)\n",
    "possitive = sum(!bench_list[[\"NegativeCells\"]])\n",
    "# sprintf(\"possitive percent : %f\",100*possitive/length(bench_list[[\"NegativeCells\"]]))\n",
    "print(sprintf(\"True possitive percent new umap : %f\",100*bench_list[['NumberOfTruePositiveCells']]/possitive))"
   ]
  },
  {
   "cell_type": "markdown",
   "id": "5ee36c51",
   "metadata": {},
   "source": [
    "# seurat"
   ]
  },
  {
   "cell_type": "code",
   "execution_count": null,
   "id": "129b564b",
   "metadata": {
    "tags": []
   },
   "outputs": [],
   "source": [
    "adata =sc.read_h5ad(paths['seurat'])"
   ]
  },
  {
   "cell_type": "code",
   "execution_count": null,
   "id": "8fc2f548",
   "metadata": {
    "scrolled": true
   },
   "outputs": [],
   "source": [
    "sc.pp.neighbors(adata)  # use_rep = 'final_embeddings'\n",
    "sc.tl.umap(adata)\n",
    "sc.pl.umap(adata, color=cell_type_key, frameon=False)\n",
    "sc.pl.umap(adata, color=batch_key, frameon=False)"
   ]
  },
  {
   "cell_type": "code",
   "execution_count": null,
   "id": "4f6bcf8e",
   "metadata": {},
   "outputs": [],
   "source": [
    "batch = adata.obs[batch_key].to_numpy()\n",
    "cell_type = adata.obs[cell_type_key].to_numpy()\n",
    "data_mat = adata.X.todense()\n",
    "data_mat_umap = adata.obsm['X_umap']"
   ]
  },
  {
   "cell_type": "code",
   "execution_count": null,
   "id": "287f885f",
   "metadata": {},
   "outputs": [],
   "source": [
    "%%R --i data_mat --i batch --i cell_type --i data_mat_umap\n",
    "print(dim(data_mat))\n",
    "print(length(batch))\n",
    "print(length(cell_type))\n",
    "bench_list <- benchmark_idx(data_mat, cell_type, batch)\n",
    "possitive = sum(!bench_list[[\"NegativeCells\"]])\n",
    "print(sprintf(\"possitive percent : %f\",100*possitive/length(bench_list[[\"NegativeCells\"]])))\n",
    "print(sprintf(\"True possitive percent : %f\",100*bench_list[['NumberOfTruePositiveCells']]/possitive))\n",
    "\n",
    "bench_list <- benchmark_idx(data_mat_umap, cell_type, batch)\n",
    "possitive = sum(!bench_list[[\"NegativeCells\"]])\n",
    "# sprintf(\"possitive percent umap : %f\",100*possitive/length(bench_list[[\"NegativeCells\"]]))\n",
    "print(sprintf(\"True possitive percent umap : %f\",100*bench_list[['NumberOfTruePositiveCells']]/possitive))\n",
    "\n",
    "\n",
    "bench_list <- benchmark_idx_new(data_mat, cell_type, batch)\n",
    "possitive = sum(!bench_list[[\"NegativeCells\"]])\n",
    "# sprintf(\"possitive percent : %f\",100*possitive/length(bench_list[[\"NegativeCells\"]]))\n",
    "print(sprintf(\"True possitive percent new : %f\",100*bench_list[['NumberOfTruePositiveCells']]/possitive))\n",
    "\n",
    "bench_list <- benchmark_idx_new(data_mat_umap, cell_type, batch)\n",
    "possitive = sum(!bench_list[[\"NegativeCells\"]])\n",
    "# sprintf(\"possitive percent : %f\",100*possitive/length(bench_list[[\"NegativeCells\"]]))\n",
    "print(sprintf(\"True possitive percent new umap : %f\",100*bench_list[['NumberOfTruePositiveCells']]/possitive))"
   ]
  },
  {
   "cell_type": "markdown",
   "id": "28744f7e",
   "metadata": {},
   "source": [
    "# our method"
   ]
  },
  {
   "cell_type": "code",
   "execution_count": null,
   "id": "29c70b06",
   "metadata": {
    "scrolled": true
   },
   "outputs": [],
   "source": [
    "import pandas as pd\n",
    "import matplotlib as mpl\n",
    "mpl.rcParams['figure.dpi'] = 300\n",
    "adata =sc.read_h5ad(All_h5ad+dataset+\".h5ad\")\n",
    "batch = adata.obs[batch_key].to_numpy()\n",
    "cell_type = adata.obs[cell_type_key].to_numpy()\n",
    "data_mat = pd.read_csv(paths['our_method'],sep=',',header=None).values\n",
    "adata.obsm['X_emb'] = data_mat\n",
    "sc.pp.neighbors(adata, use_rep = 'X_emb')  # use_rep = 'final_embeddings'\n",
    "sc.tl.umap(adata)\n",
    "data_mat_umap = adata.obsm['X_umap']\n",
    "sc.settings.figdir = \"/home/krushna/Documents/Data_integration/Figures/positive_vs_true_positive/\"\n",
    "path_to_save_umap = \"_ourmethod_\" +dataset+\"_cell.png\"\n",
    "sc.pl.umap(adata, color=cell_type_key, frameon=False, save = path_to_save_umap)\n",
    "path_to_save_umap = \"_ourmethod_\" +dataset+\"_batch.png\"\n",
    "sc.pl.umap(adata, color=batch_key, frameon=False, save = path_to_save_umap)"
   ]
  },
  {
   "cell_type": "code",
   "execution_count": null,
   "id": "09d40cd3",
   "metadata": {},
   "outputs": [],
   "source": [
    "%%R --i data_mat --i batch --i cell_type --i data_mat_umap\n",
    "print(dim(data_mat))\n",
    "print(length(batch))\n",
    "print(length(cell_type))\n",
    "bench_list <- benchmark_idx(data_mat, cell_type, batch)\n",
    "possitive = sum(!bench_list[[\"NegativeCells\"]])\n",
    "print(sprintf(\"possitive percent : %f\",100*possitive/length(bench_list[[\"NegativeCells\"]])))\n",
    "print(sprintf(\"True possitive percent : %f\",100*bench_list[['NumberOfTruePositiveCells']]/possitive))\n",
    "\n",
    "bench_list <- benchmark_idx(data_mat_umap, cell_type, batch)\n",
    "possitive = sum(!bench_list[[\"NegativeCells\"]])\n",
    "# sprintf(\"possitive percent umap : %f\",100*possitive/length(bench_list[[\"NegativeCells\"]]))\n",
    "print(sprintf(\"True possitive percent umap : %f\",100*bench_list[['NumberOfTruePositiveCells']]/possitive))\n",
    "\n",
    "\n",
    "bench_list <- benchmark_idx_new(data_mat, cell_type, batch)\n",
    "possitive = sum(!bench_list[[\"NegativeCells\"]])\n",
    "# sprintf(\"possitive percent : %f\",100*possitive/length(bench_list[[\"NegativeCells\"]]))\n",
    "print(sprintf(\"True possitive percent new : %f\",100*bench_list[['NumberOfTruePositiveCells']]/possitive))\n",
    "\n",
    "bench_list <- benchmark_idx_new(data_mat_umap, cell_type, batch)\n",
    "possitive = sum(!bench_list[[\"NegativeCells\"]])\n",
    "# sprintf(\"possitive percent : %f\",100*possitive/length(bench_list[[\"NegativeCells\"]]))\n",
    "print(sprintf(\"True possitive percent new umap : %f\",100*bench_list[['NumberOfTruePositiveCells']]/possitive))"
   ]
  },
  {
   "cell_type": "code",
   "execution_count": null,
   "id": "0e43cc30-6e15-41c3-9b56-2dd7da9d7dab",
   "metadata": {},
   "outputs": [],
   "source": [
    "%%R --i data_mat --i batch --i cell_type --i data_mat_umap\n",
    "print(dim(data_mat))\n",
    "print(length(batch))\n",
    "print(length(cell_type))\n",
    "bench_list <- benchmark_idx(data_mat, cell_type, batch)\n",
    "possitive = sum(!bench_list[[\"NegativeCells\"]])\n",
    "print(sprintf(\"possitive percent : %f\",100*possitive/length(bench_list[[\"NegativeCells\"]])))\n",
    "print(sprintf(\"True possitive percent : %f\",100*bench_list[['NumberOfTruePositiveCells']]/possitive))\n"
   ]
  },
  {
   "cell_type": "code",
   "execution_count": null,
   "id": "352e167d-9044-44c7-b0ad-e44fcdd91ad8",
   "metadata": {},
   "outputs": [],
   "source": [
    "%%R --i dataset --o bench_list \n",
    "saveRDS(bench_list,paste0(\"/home/krushna/Documents/Data_integration/Othermethods/pos_vs_true_pos/ourmethod_\",dataset,\"_bench_list.RDS\"))\n",
    "# class(bench_list)"
   ]
  },
  {
   "cell_type": "code",
   "execution_count": null,
   "id": "cd47e000-8e56-4dad-a8f1-cc550aa81103",
   "metadata": {},
   "outputs": [],
   "source": [
    "%%R --i dataset --o bench_list \n",
    "bench_list <- readRDS(paste0(\"/home/krushna/Documents/Data_integration/Othermethods/pos_vs_true_pos/ourmethod_\",dataset,\"_bench_list.RDS\"))"
   ]
  },
  {
   "cell_type": "code",
   "execution_count": null,
   "id": "4d685cae-e127-4cd9-b90e-2e8920bdc534",
   "metadata": {},
   "outputs": [],
   "source": [
    "\n",
    "adata.obs['Evaluation'] = list(bench_list[6])\n",
    "adata.obs['Evaluation']  = adata.obs['Evaluation'].replace(to_replace = \"Others\", value = 'Positive cells' )\n",
    "color_map = {'Negative cells' : 'red', 'Positive cells' : 'lightgreen', 'True positive cells' : 'blue'}\n",
    "sc.settings.figdir = \"/home/krushna/Documents/Data_integration/Figures/positive_vs_true_positive/\"\n",
    "path_to_save_umap = \"_ourmethod_\" +dataset+\".png\"\n",
    "sc.pl.umap(adata, color='Evaluation', frameon=False, palette = color_map, save = path_to_save_umap)"
   ]
  },
  {
   "cell_type": "markdown",
   "id": "9376ab97-6bde-43b8-8671-606dbb04c520",
   "metadata": {
    "tags": []
   },
   "source": [
    "# Insct"
   ]
  },
  {
   "cell_type": "code",
   "execution_count": null,
   "id": "f0c26d50-57de-4112-a5f6-06db2a57f202",
   "metadata": {},
   "outputs": [],
   "source": [
    "import pandas as pd\n",
    "adata =sc.read_h5ad(All_h5ad+dataset+\".h5ad\")\n",
    "batch = adata.obs[batch_key].to_numpy()\n",
    "cell_type = adata.obs[cell_type_key].to_numpy()\n",
    "data_mat = pd.read_csv(paths['insct'],sep=',',header=None).values\n",
    "adata.obsm['X_emb'] = data_mat\n",
    "sc.pp.neighbors(adata, use_rep = 'X_emb')  # use_rep = 'final_embeddings'\n",
    "sc.tl.umap(adata)\n",
    "data_mat_umap = adata.obsm['X_umap']\n",
    "sc.pl.umap(adata, color=cell_type_key, frameon=False)\n",
    "sc.pl.umap(adata, color=batch_key, frameon=False)"
   ]
  },
  {
   "cell_type": "code",
   "execution_count": null,
   "id": "19b432e5-d7d1-4b1a-b5f0-255ad28765d9",
   "metadata": {},
   "outputs": [],
   "source": [
    "%%R --i data_mat --i batch --i cell_type --i data_mat_umap\n",
    "print(dim(data_mat))\n",
    "print(length(batch))\n",
    "print(length(cell_type))\n",
    "bench_list <- benchmark_idx(data_mat, cell_type, batch)\n",
    "possitive = sum(!bench_list[[\"NegativeCells\"]])\n",
    "print(sprintf(\"possitive percent : %f\",100*possitive/length(bench_list[[\"NegativeCells\"]])))\n",
    "print(sprintf(\"True possitive percent : %f\",100*bench_list[['NumberOfTruePositiveCells']]/possitive))\n",
    "\n",
    "bench_list <- benchmark_idx(data_mat_umap, cell_type, batch)\n",
    "possitive = sum(!bench_list[[\"NegativeCells\"]])\n",
    "# sprintf(\"possitive percent umap : %f\",100*possitive/length(bench_list[[\"NegativeCells\"]]))\n",
    "print(sprintf(\"True possitive percent umap : %f\",100*bench_list[['NumberOfTruePositiveCells']]/possitive))\n",
    "\n",
    "\n",
    "bench_list <- benchmark_idx_new(data_mat, cell_type, batch)\n",
    "possitive = sum(!bench_list[[\"NegativeCells\"]])\n",
    "# sprintf(\"possitive percent : %f\",100*possitive/length(bench_list[[\"NegativeCells\"]]))\n",
    "print(sprintf(\"True possitive percent new : %f\",100*bench_list[['NumberOfTruePositiveCells']]/possitive))\n",
    "\n",
    "bench_list <- benchmark_idx_new(data_mat_umap, cell_type, batch)\n",
    "possitive = sum(!bench_list[[\"NegativeCells\"]])\n",
    "# sprintf(\"possitive percent : %f\",100*possitive/length(bench_list[[\"NegativeCells\"]]))\n",
    "print(sprintf(\"True possitive percent new umap : %f\",100*bench_list[['NumberOfTruePositiveCells']]/possitive))"
   ]
  },
  {
   "cell_type": "markdown",
   "id": "d1a54d18-3ee2-4359-a236-1252dcb21243",
   "metadata": {},
   "source": [
    "# scANVI"
   ]
  },
  {
   "cell_type": "code",
   "execution_count": null,
   "id": "c02e4278-5197-4656-ae00-c461b19f1137",
   "metadata": {},
   "outputs": [],
   "source": [
    "adata =sc.read_h5ad(methods_h5ad+paths['scanvi'])\n",
    "sc.pp.neighbors(adata, use_rep='X_scANVI')  # use_rep = 'final_embeddings'\n",
    "sc.tl.umap(adata)\n",
    "sc.pl.umap(adata, color=cell_type_key, frameon=False)\n",
    "sc.pl.umap(adata, color=batch_key, frameon=False)"
   ]
  },
  {
   "cell_type": "code",
   "execution_count": null,
   "id": "3ffb153d-84e7-4eb1-b915-56afce905a09",
   "metadata": {},
   "outputs": [],
   "source": [
    "adata"
   ]
  },
  {
   "cell_type": "code",
   "execution_count": null,
   "id": "22333e8b-0c13-4083-9ecb-53fe4c934a6c",
   "metadata": {},
   "outputs": [],
   "source": [
    "batch = adata.obs[batch_key].to_numpy()\n",
    "cell_type = adata.obs[cell_type_key].to_numpy()\n",
    "data_mat = adata.obsm['X_scANVI']\n",
    "data_mat_umap = adata.obsm['X_umap']"
   ]
  },
  {
   "cell_type": "code",
   "execution_count": null,
   "id": "dce71411-5be8-4f1a-9961-b5ad2702878c",
   "metadata": {},
   "outputs": [],
   "source": [
    "%%R --i data_mat --i batch --i cell_type --i data_mat_umap\n",
    "print(dim(data_mat))\n",
    "print(length(batch))\n",
    "print(length(cell_type))\n",
    "bench_list <- benchmark_idx(data_mat, cell_type, batch)\n",
    "possitive = sum(!bench_list[[\"NegativeCells\"]])\n",
    "print(sprintf(\"possitive percent : %f\",100*possitive/length(bench_list[[\"NegativeCells\"]])))\n",
    "print(sprintf(\"True possitive percent : %f\",100*bench_list[['NumberOfTruePositiveCells']]/possitive))\n",
    "\n",
    "bench_list <- benchmark_idx(data_mat_umap, cell_type, batch)\n",
    "possitive = sum(!bench_list[[\"NegativeCells\"]])\n",
    "# sprintf(\"possitive percent umap : %f\",100*possitive/length(bench_list[[\"NegativeCells\"]]))\n",
    "print(sprintf(\"True possitive percent umap : %f\",100*bench_list[['NumberOfTruePositiveCells']]/possitive))\n",
    "\n",
    "\n",
    "bench_list <- benchmark_idx_new(data_mat, cell_type, batch)\n",
    "possitive = sum(!bench_list[[\"NegativeCells\"]])\n",
    "# sprintf(\"possitive percent : %f\",100*possitive/length(bench_list[[\"NegativeCells\"]]))\n",
    "print(sprintf(\"True possitive percent new : %f\",100*bench_list[['NumberOfTruePositiveCells']]/possitive))\n",
    "\n",
    "bench_list <- benchmark_idx_new(data_mat_umap, cell_type, batch)\n",
    "possitive = sum(!bench_list[[\"NegativeCells\"]])\n",
    "# sprintf(\"possitive percent : %f\",100*possitive/length(bench_list[[\"NegativeCells\"]]))\n",
    "print(sprintf(\"True possitive percent new umap : %f\",100*bench_list[['NumberOfTruePositiveCells']]/possitive))"
   ]
  },
  {
   "cell_type": "markdown",
   "id": "1597080e-b976-4088-9ffa-8cf35c473394",
   "metadata": {},
   "source": [
    "# scGen"
   ]
  },
  {
   "cell_type": "code",
   "execution_count": null,
   "id": "1058bbb3-383b-4e27-b4c6-6aa2553eb0de",
   "metadata": {
    "tags": []
   },
   "outputs": [],
   "source": [
    "adata =sc.read_h5ad(methods_h5ad+paths['scGen'])"
   ]
  },
  {
   "cell_type": "code",
   "execution_count": null,
   "id": "431637cf-ef73-42fe-a4a4-e2c8b90fa5df",
   "metadata": {
    "scrolled": true
   },
   "outputs": [],
   "source": [
    "sc.pp.neighbors(adata)  # use_rep = 'final_embeddings'\n",
    "sc.tl.umap(adata)\n",
    "sc.pl.umap(adata, color=cell_type_key, frameon=False)\n",
    "sc.pl.umap(adata, color=batch_key, frameon=False)"
   ]
  },
  {
   "cell_type": "code",
   "execution_count": null,
   "id": "996cef98-8de3-4d47-8711-ba16210afe25",
   "metadata": {},
   "outputs": [],
   "source": [
    "batch = adata.obs[batch_key].to_numpy()\n",
    "cell_type = adata.obs[cell_type_key].to_numpy()\n",
    "data_mat = adata.X\n",
    "data_mat_umap = adata.obsm['X_umap']"
   ]
  },
  {
   "cell_type": "code",
   "execution_count": null,
   "id": "c5691acc-8808-4bb8-a2a7-47969b6be6b9",
   "metadata": {},
   "outputs": [],
   "source": [
    "%%R --i data_mat --i batch --i cell_type --i data_mat_umap\n",
    "print(dim(data_mat))\n",
    "print(length(batch))\n",
    "print(length(cell_type))\n",
    "bench_list <- benchmark_idx(data_mat, cell_type, batch)\n",
    "possitive = sum(!bench_list[[\"NegativeCells\"]])\n",
    "print(sprintf(\"possitive percent : %f\",100*possitive/length(bench_list[[\"NegativeCells\"]])))\n",
    "print(sprintf(\"True possitive percent : %f\",100*bench_list[['NumberOfTruePositiveCells']]/possitive))\n",
    "\n",
    "bench_list <- benchmark_idx(data_mat_umap, cell_type, batch)\n",
    "possitive = sum(!bench_list[[\"NegativeCells\"]])\n",
    "# sprintf(\"possitive percent umap : %f\",100*possitive/length(bench_list[[\"NegativeCells\"]]))\n",
    "print(sprintf(\"True possitive percent umap : %f\",100*bench_list[['NumberOfTruePositiveCells']]/possitive))\n",
    "\n",
    "\n",
    "bench_list <- benchmark_idx_new(data_mat, cell_type, batch)\n",
    "possitive = sum(!bench_list[[\"NegativeCells\"]])\n",
    "# sprintf(\"possitive percent : %f\",100*possitive/length(bench_list[[\"NegativeCells\"]]))\n",
    "print(sprintf(\"True possitive percent new : %f\",100*bench_list[['NumberOfTruePositiveCells']]/possitive))\n",
    "\n",
    "bench_list <- benchmark_idx_new(data_mat_umap, cell_type, batch)\n",
    "possitive = sum(!bench_list[[\"NegativeCells\"]])\n",
    "# sprintf(\"possitive percent : %f\",100*possitive/length(bench_list[[\"NegativeCells\"]]))\n",
    "print(sprintf(\"True possitive percent new umap : %f\",100*bench_list[['NumberOfTruePositiveCells']]/possitive))"
   ]
  },
  {
   "cell_type": "markdown",
   "id": "c49709fe-97b5-41af-a1fb-d8fc07450c4a",
   "metadata": {},
   "source": [
    "# FastMnn"
   ]
  },
  {
   "cell_type": "code",
   "execution_count": null,
   "id": "26260bc2-8ee1-4995-aa84-fc2ba7c67522",
   "metadata": {
    "tags": []
   },
   "outputs": [],
   "source": [
    "adata =sc.read_h5ad(methods_h5ad+paths['FastMnn'])"
   ]
  },
  {
   "cell_type": "code",
   "execution_count": null,
   "id": "8df92980-c450-42d7-878b-3376a8b02f1c",
   "metadata": {
    "scrolled": true
   },
   "outputs": [],
   "source": [
    "sc.pp.neighbors(adata)  # use_rep = 'final_embeddings'\n",
    "sc.tl.umap(adata)\n",
    "sc.pl.umap(adata, color=cell_type_key, frameon=False)\n",
    "sc.pl.umap(adata, color=batch_key, frameon=False)"
   ]
  },
  {
   "cell_type": "code",
   "execution_count": null,
   "id": "f061715d-0c58-4c29-84d3-46c592f65022",
   "metadata": {},
   "outputs": [],
   "source": [
    "batch = adata.obs[batch_key].to_numpy()\n",
    "cell_type = adata.obs[cell_type_key].to_numpy()\n",
    "data_mat = adata.X\n",
    "data_mat_umap = adata.obsm['X_umap']"
   ]
  },
  {
   "cell_type": "code",
   "execution_count": null,
   "id": "fa77e808-cd8f-4318-a36c-4a8ecc5988e1",
   "metadata": {},
   "outputs": [],
   "source": [
    "%%R --i data_mat --i batch --i cell_type --i data_mat_umap\n",
    "print(dim(data_mat))\n",
    "print(length(batch))\n",
    "print(length(cell_type))\n",
    "bench_list <- benchmark_idx(data_mat, cell_type, batch)\n",
    "possitive = sum(!bench_list[[\"NegativeCells\"]])\n",
    "print(sprintf(\"possitive percent : %f\",100*possitive/length(bench_list[[\"NegativeCells\"]])))\n",
    "print(sprintf(\"True possitive percent : %f\",100*bench_list[['NumberOfTruePositiveCells']]/possitive))\n",
    "\n",
    "bench_list <- benchmark_idx(data_mat_umap, cell_type, batch)\n",
    "possitive = sum(!bench_list[[\"NegativeCells\"]])\n",
    "# sprintf(\"possitive percent umap : %f\",100*possitive/length(bench_list[[\"NegativeCells\"]]))\n",
    "print(sprintf(\"True possitive percent umap : %f\",100*bench_list[['NumberOfTruePositiveCells']]/possitive))\n",
    "\n",
    "\n",
    "bench_list <- benchmark_idx_new(data_mat, cell_type, batch)\n",
    "possitive = sum(!bench_list[[\"NegativeCells\"]])\n",
    "# sprintf(\"possitive percent : %f\",100*possitive/length(bench_list[[\"NegativeCells\"]]))\n",
    "print(sprintf(\"True possitive percent new : %f\",100*bench_list[['NumberOfTruePositiveCells']]/possitive))\n",
    "\n",
    "bench_list <- benchmark_idx_new(data_mat_umap, cell_type, batch)\n",
    "possitive = sum(!bench_list[[\"NegativeCells\"]])\n",
    "# sprintf(\"possitive percent : %f\",100*possitive/length(bench_list[[\"NegativeCells\"]]))\n",
    "print(sprintf(\"True possitive percent new umap : %f\",100*bench_list[['NumberOfTruePositiveCells']]/possitive))"
   ]
  },
  {
   "cell_type": "code",
   "execution_count": null,
   "id": "c77cecc1-6333-477b-88a2-75500973e7d2",
   "metadata": {},
   "outputs": [],
   "source": []
  },
  {
   "cell_type": "markdown",
   "id": "aa9768e6-6a53-4521-a5f7-9d617b2d228d",
   "metadata": {},
   "source": [
    "# imap"
   ]
  },
  {
   "cell_type": "code",
   "execution_count": null,
   "id": "ed785fe8-b038-4e30-b061-ffe723f541ba",
   "metadata": {
    "tags": []
   },
   "outputs": [],
   "source": [
    "adata =sc.read_h5ad(methods_h5ad+paths['imap'])"
   ]
  },
  {
   "cell_type": "code",
   "execution_count": null,
   "id": "8ab02b69-a457-4f70-b7f9-f6df87cce566",
   "metadata": {
    "scrolled": true
   },
   "outputs": [],
   "source": [
    "sc.pp.neighbors(adata)  # use_rep = 'final_embeddings'\n",
    "sc.tl.umap(adata)\n",
    "sc.pl.umap(adata, color=cell_type_key, frameon=False)\n",
    "sc.pl.umap(adata, color=batch_key, frameon=False)"
   ]
  },
  {
   "cell_type": "code",
   "execution_count": null,
   "id": "a38d58b3-e2f0-4bd9-bfd2-cd9acc356334",
   "metadata": {},
   "outputs": [],
   "source": [
    "batch = adata.obs[batch_key].to_numpy()\n",
    "cell_type = adata.obs[cell_type_key].to_numpy()\n",
    "data_mat = adata.X\n",
    "data_mat_umap = adata.obsm['X_umap']"
   ]
  },
  {
   "cell_type": "code",
   "execution_count": null,
   "id": "be963f93-c85a-4dcf-ae29-a680dc841b2b",
   "metadata": {},
   "outputs": [],
   "source": [
    "%%R --i data_mat --i batch --i cell_type --i data_mat_umap\n",
    "print(dim(data_mat))\n",
    "print(length(batch))\n",
    "print(length(cell_type))\n",
    "bench_list <- benchmark_idx(data_mat, cell_type, batch)\n",
    "possitive = sum(!bench_list[[\"NegativeCells\"]])\n",
    "print(sprintf(\"possitive percent : %f\",100*possitive/length(bench_list[[\"NegativeCells\"]])))\n",
    "print(sprintf(\"True possitive percent : %f\",100*bench_list[['NumberOfTruePositiveCells']]/possitive))\n",
    "\n",
    "bench_list <- benchmark_idx(data_mat_umap, cell_type, batch)\n",
    "possitive = sum(!bench_list[[\"NegativeCells\"]])\n",
    "# sprintf(\"possitive percent umap : %f\",100*possitive/length(bench_list[[\"NegativeCells\"]]))\n",
    "print(sprintf(\"True possitive percent umap : %f\",100*bench_list[['NumberOfTruePositiveCells']]/possitive))\n",
    "\n",
    "\n",
    "bench_list <- benchmark_idx_new(data_mat, cell_type, batch)\n",
    "possitive = sum(!bench_list[[\"NegativeCells\"]])\n",
    "# sprintf(\"possitive percent : %f\",100*possitive/length(bench_list[[\"NegativeCells\"]]))\n",
    "print(sprintf(\"True possitive percent new : %f\",100*bench_list[['NumberOfTruePositiveCells']]/possitive))\n",
    "\n",
    "bench_list <- benchmark_idx_new(data_mat_umap, cell_type, batch)\n",
    "possitive = sum(!bench_list[[\"NegativeCells\"]])\n",
    "# sprintf(\"possitive percent : %f\",100*possitive/length(bench_list[[\"NegativeCells\"]]))\n",
    "print(sprintf(\"True possitive percent new umap : %f\",100*bench_list[['NumberOfTruePositiveCells']]/possitive))"
   ]
  },
  {
   "cell_type": "markdown",
   "id": "13d59506-a377-4d28-9bef-2f49bf41bf0f",
   "metadata": {},
   "source": [
    "# Liger"
   ]
  },
  {
   "cell_type": "code",
   "execution_count": null,
   "id": "41fe2ef6-45fc-4dbe-8722-4701519111db",
   "metadata": {},
   "outputs": [],
   "source": [
    "import pandas as pd\n",
    "adata =sc.read_h5ad(All_h5ad+dataset+\".h5ad\")\n",
    "batch = adata.obs[batch_key].to_numpy()\n",
    "cell_type = adata.obs[cell_type_key].to_numpy()\n",
    "data_mat = pd.read_csv(paths['liger'],sep=',',index_col=0).values\n",
    "adata.obsm['X_emb'] = data_mat\n",
    "sc.pp.neighbors(adata, use_rep = 'X_emb')  # use_rep = 'final_embeddings'\n",
    "sc.tl.umap(adata)\n",
    "data_mat_umap = adata.obsm['X_umap']\n",
    "sc.pl.umap(adata, color=cell_type_key, frameon=False)\n",
    "sc.pl.umap(adata, color=batch_key, frameon=False)"
   ]
  },
  {
   "cell_type": "code",
   "execution_count": null,
   "id": "ddc4b1cc-6ed6-4b64-afb4-43a816843511",
   "metadata": {},
   "outputs": [],
   "source": [
    "%%R --i data_mat --i batch --i cell_type --i data_mat_umap\n",
    "print(dim(data_mat))\n",
    "print(length(batch))\n",
    "print(length(cell_type))\n",
    "bench_list <- benchmark_idx(data_mat, cell_type, batch)\n",
    "possitive = sum(!bench_list[[\"NegativeCells\"]])\n",
    "print(sprintf(\"possitive percent : %f\",100*possitive/length(bench_list[[\"NegativeCells\"]])))\n",
    "print(sprintf(\"True possitive percent : %f\",100*bench_list[['NumberOfTruePositiveCells']]/possitive))\n",
    "\n",
    "bench_list <- benchmark_idx(data_mat_umap, cell_type, batch)\n",
    "possitive = sum(!bench_list[[\"NegativeCells\"]])\n",
    "# sprintf(\"possitive percent umap : %f\",100*possitive/length(bench_list[[\"NegativeCells\"]]))\n",
    "print(sprintf(\"True possitive percent umap : %f\",100*bench_list[['NumberOfTruePositiveCells']]/possitive))\n",
    "\n",
    "\n",
    "bench_list <- benchmark_idx_new(data_mat, cell_type, batch)\n",
    "possitive = sum(!bench_list[[\"NegativeCells\"]])\n",
    "# sprintf(\"possitive percent : %f\",100*possitive/length(bench_list[[\"NegativeCells\"]]))\n",
    "print(sprintf(\"True possitive percent new : %f\",100*bench_list[['NumberOfTruePositiveCells']]/possitive))\n",
    "\n",
    "bench_list <- benchmark_idx_new(data_mat_umap, cell_type, batch)\n",
    "possitive = sum(!bench_list[[\"NegativeCells\"]])\n",
    "# sprintf(\"possitive percent : %f\",100*possitive/length(bench_list[[\"NegativeCells\"]]))\n",
    "print(sprintf(\"True possitive percent new umap : %f\",100*bench_list[['NumberOfTruePositiveCells']]/possitive))"
   ]
  },
  {
   "cell_type": "code",
   "execution_count": null,
   "id": "3aa08021-1eea-4da7-86fe-f5d68593a4ba",
   "metadata": {},
   "outputs": [],
   "source": []
  },
  {
   "cell_type": "code",
   "execution_count": null,
   "id": "eea6ad08-c598-4299-ba4c-15a6430ca52d",
   "metadata": {},
   "outputs": [],
   "source": []
  },
  {
   "cell_type": "markdown",
   "id": "8b63b270-1e55-45aa-bcae-f45e2130b25c",
   "metadata": {},
   "source": [
    "# scDREAMER_plus"
   ]
  },
  {
   "cell_type": "code",
   "execution_count": null,
   "id": "7b15f012-08df-4f0f-a63f-62541ca15cd6",
   "metadata": {},
   "outputs": [],
   "source": []
  },
  {
   "cell_type": "code",
   "execution_count": null,
   "id": "5a4423a8-e9dd-4a5e-affb-c62727745b40",
   "metadata": {
    "scrolled": true
   },
   "outputs": [],
   "source": [
    "import pandas as pd\n",
    "import matplotlib as mpl\n",
    "mpl.rcParams['figure.dpi'] = 300\n",
    "adata =sc.read_h5ad(All_h5ad+dataset+\".h5ad\")\n",
    "batch = adata.obs[batch_key].to_numpy()\n",
    "cell_type = adata.obs[cell_type_key].to_numpy()\n",
    "data_mat = pd.read_csv(paths['scdreamer_plus'],sep=',',header=None).values\n",
    "adata.obsm['X_emb'] = data_mat\n",
    "sc.pp.neighbors(adata, use_rep = 'X_emb')  # use_rep = 'final_embeddings'\n",
    "sc.tl.umap(adata)\n",
    "data_mat_umap = adata.obsm['X_umap']\n",
    "sc.settings.figdir = \"/home/krushna/Documents/Data_integration/Figures/positive_vs_true_positive/\"\n",
    "path_to_save_umap = \"_scdreamer_plus_\" +dataset+\"_cell.png\"\n",
    "sc.pl.umap(adata, color=cell_type_key, frameon=False, save = path_to_save_umap)\n",
    "path_to_save_umap = \"_scdreamer_plus_\" +dataset+\"_batch.png\"\n",
    "sc.pl.umap(adata, color=batch_key, frameon=False, save = path_to_save_umap)"
   ]
  },
  {
   "cell_type": "code",
   "execution_count": null,
   "id": "7873a28a-5b41-470c-b289-d5abfc5d1229",
   "metadata": {},
   "outputs": [],
   "source": [
    "%%R --i data_mat --i batch --i cell_type --i data_mat_umap\n",
    "print(dim(data_mat))\n",
    "print(length(batch))\n",
    "print(length(cell_type))\n",
    "bench_list <- benchmark_idx(data_mat, cell_type, batch)\n",
    "possitive = sum(!bench_list[[\"NegativeCells\"]])\n",
    "print(sprintf(\"possitive percent : %f\",100*possitive/length(bench_list[[\"NegativeCells\"]])))\n",
    "print(sprintf(\"True possitive percent : %f\",100*bench_list[['NumberOfTruePositiveCells']]/possitive))\n",
    "\n",
    "bench_list <- benchmark_idx(data_mat_umap, cell_type, batch)\n",
    "possitive = sum(!bench_list[[\"NegativeCells\"]])\n",
    "# sprintf(\"possitive percent umap : %f\",100*possitive/length(bench_list[[\"NegativeCells\"]]))\n",
    "print(sprintf(\"True possitive percent umap : %f\",100*bench_list[['NumberOfTruePositiveCells']]/possitive))\n",
    "\n",
    "\n",
    "bench_list <- benchmark_idx_new(data_mat, cell_type, batch)\n",
    "possitive = sum(!bench_list[[\"NegativeCells\"]])\n",
    "# sprintf(\"possitive percent : %f\",100*possitive/length(bench_list[[\"NegativeCells\"]]))\n",
    "print(sprintf(\"True possitive percent new : %f\",100*bench_list[['NumberOfTruePositiveCells']]/possitive))\n",
    "\n",
    "bench_list <- benchmark_idx_new(data_mat_umap, cell_type, batch)\n",
    "possitive = sum(!bench_list[[\"NegativeCells\"]])\n",
    "# sprintf(\"possitive percent : %f\",100*possitive/length(bench_list[[\"NegativeCells\"]]))\n",
    "print(sprintf(\"True possitive percent new umap : %f\",100*bench_list[['NumberOfTruePositiveCells']]/possitive))"
   ]
  },
  {
   "cell_type": "code",
   "execution_count": null,
   "id": "4529d199-006a-4572-9906-d4a8bd4dc6cb",
   "metadata": {},
   "outputs": [],
   "source": []
  }
 ],
 "metadata": {
  "kernelspec": {
   "display_name": "Python 3 (ipykernel)",
   "language": "python",
   "name": "python3"
  },
  "language_info": {
   "codemirror_mode": {
    "name": "ipython",
    "version": 3
   },
   "file_extension": ".py",
   "mimetype": "text/x-python",
   "name": "python",
   "nbconvert_exporter": "python",
   "pygments_lexer": "ipython3",
   "version": "3.7.11"
  }
 },
 "nbformat": 4,
 "nbformat_minor": 5
}
