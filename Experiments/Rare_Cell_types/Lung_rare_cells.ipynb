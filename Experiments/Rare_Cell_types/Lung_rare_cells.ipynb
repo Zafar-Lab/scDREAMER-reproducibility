{
 "cells": [
  {
   "cell_type": "code",
   "execution_count": 13,
   "id": "e1cb92c1-b1f7-491e-8dfd-bb48dca564e8",
   "metadata": {},
   "outputs": [],
   "source": [
    "import scanpy as sc\n",
    "import pandas as pd"
   ]
  },
  {
   "cell_type": "code",
   "execution_count": 14,
   "id": "dac8c1b4-106d-4df4-880d-f4cb602ec785",
   "metadata": {},
   "outputs": [],
   "source": [
    "dir_path = \"/home/krushna/Documents/Data_integration/Othermethods/bbknn/\"\n",
    "\n",
    "batch_key_dic = {'Immune_Human' : 'batch',\n",
    "                 'Lung' : 'batch',\n",
    "                 'Pancreas' : 'tech',\n",
    "                 'Human_Mouse' : 'batch',\n",
    "                 'Human_Retina': \"Batch\"\n",
    "                }\n",
    "cell_type_key_dic = {'Immune_Human' : 'final_annotation',\n",
    "                 'Lung' : 'cell_type',\n",
    "                 'Pancreas' : 'celltype',\n",
    "                 'Human_Mouse' : \"celltype\",\n",
    "                 \"Human_Retina\":\"Subcluster\"\n",
    "                    }    "
   ]
  },
  {
   "cell_type": "code",
   "execution_count": 15,
   "id": "0f63d7fc-807a-4b3f-9950-480a7664731c",
   "metadata": {},
   "outputs": [],
   "source": [
    "dataset = \"Lung\"\n",
    "batch = batch_key_dic[dataset]\n",
    "cell_type = cell_type_key_dic[dataset]\n",
    "adata_int = sc.read_h5ad(dir_path+\"bbknn-\"+dataset+\".h5ad\")"
   ]
  },
  {
   "cell_type": "code",
   "execution_count": 16,
   "id": "eaf687ed-a71e-48ce-b610-a7d0c6f6c057",
   "metadata": {},
   "outputs": [
    {
     "data": {
      "text/html": [
       "<div>\n",
       "<style scoped>\n",
       "    .dataframe tbody tr th:only-of-type {\n",
       "        vertical-align: middle;\n",
       "    }\n",
       "\n",
       "    .dataframe tbody tr th {\n",
       "        vertical-align: top;\n",
       "    }\n",
       "\n",
       "    .dataframe thead th {\n",
       "        text-align: right;\n",
       "    }\n",
       "</style>\n",
       "<table border=\"1\" class=\"dataframe\">\n",
       "  <thead>\n",
       "    <tr style=\"text-align: right;\">\n",
       "      <th></th>\n",
       "      <th>0</th>\n",
       "      <th>1</th>\n",
       "    </tr>\n",
       "  </thead>\n",
       "  <tbody>\n",
       "    <tr>\n",
       "      <th>7</th>\n",
       "      <td>Ionocytes</td>\n",
       "      <td>46</td>\n",
       "    </tr>\n",
       "    <tr>\n",
       "      <th>8</th>\n",
       "      <td>Lymphatic</td>\n",
       "      <td>341</td>\n",
       "    </tr>\n",
       "    <tr>\n",
       "      <th>15</th>\n",
       "      <td>Type 1</td>\n",
       "      <td>424</td>\n",
       "    </tr>\n",
       "    <tr>\n",
       "      <th>12</th>\n",
       "      <td>Neutrophils_IL1R2</td>\n",
       "      <td>472</td>\n",
       "    </tr>\n",
       "    <tr>\n",
       "      <th>6</th>\n",
       "      <td>Fibroblast</td>\n",
       "      <td>733</td>\n",
       "    </tr>\n",
       "    <tr>\n",
       "      <th>10</th>\n",
       "      <td>Mast cell</td>\n",
       "      <td>889</td>\n",
       "    </tr>\n",
       "    <tr>\n",
       "      <th>5</th>\n",
       "      <td>Endothelium</td>\n",
       "      <td>988</td>\n",
       "    </tr>\n",
       "    <tr>\n",
       "      <th>0</th>\n",
       "      <td>B cell</td>\n",
       "      <td>1353</td>\n",
       "    </tr>\n",
       "    <tr>\n",
       "      <th>4</th>\n",
       "      <td>Dendritic cell</td>\n",
       "      <td>1367</td>\n",
       "    </tr>\n",
       "    <tr>\n",
       "      <th>11</th>\n",
       "      <td>Neutrophil_CD14_high</td>\n",
       "      <td>1626</td>\n",
       "    </tr>\n",
       "    <tr>\n",
       "      <th>14</th>\n",
       "      <td>T/NK cell</td>\n",
       "      <td>1797</td>\n",
       "    </tr>\n",
       "    <tr>\n",
       "      <th>1</th>\n",
       "      <td>Basal 1</td>\n",
       "      <td>1972</td>\n",
       "    </tr>\n",
       "    <tr>\n",
       "      <th>13</th>\n",
       "      <td>Secretory</td>\n",
       "      <td>2459</td>\n",
       "    </tr>\n",
       "    <tr>\n",
       "      <th>2</th>\n",
       "      <td>Basal 2</td>\n",
       "      <td>3072</td>\n",
       "    </tr>\n",
       "    <tr>\n",
       "      <th>3</th>\n",
       "      <td>Ciliated</td>\n",
       "      <td>3155</td>\n",
       "    </tr>\n",
       "    <tr>\n",
       "      <th>16</th>\n",
       "      <td>Type 2</td>\n",
       "      <td>4286</td>\n",
       "    </tr>\n",
       "    <tr>\n",
       "      <th>9</th>\n",
       "      <td>Macrophage</td>\n",
       "      <td>7492</td>\n",
       "    </tr>\n",
       "  </tbody>\n",
       "</table>\n",
       "</div>"
      ],
      "text/plain": [
       "                       0     1\n",
       "7              Ionocytes    46\n",
       "8              Lymphatic   341\n",
       "15                Type 1   424\n",
       "12     Neutrophils_IL1R2   472\n",
       "6             Fibroblast   733\n",
       "10             Mast cell   889\n",
       "5            Endothelium   988\n",
       "0                 B cell  1353\n",
       "4         Dendritic cell  1367\n",
       "11  Neutrophil_CD14_high  1626\n",
       "14             T/NK cell  1797\n",
       "1                Basal 1  1972\n",
       "13             Secretory  2459\n",
       "2                Basal 2  3072\n",
       "3               Ciliated  3155\n",
       "16                Type 2  4286\n",
       "9             Macrophage  7492"
      ]
     },
     "execution_count": 16,
     "metadata": {},
     "output_type": "execute_result"
    }
   ],
   "source": [
    "import numpy as np\n",
    "import pandas as pd\n",
    "cell_counts = pd.DataFrame(np.unique(adata_int.obs[cell_type], return_counts = True)).T.sort_values(1)\n",
    "cell_counts"
   ]
  },
  {
   "cell_type": "code",
   "execution_count": 17,
   "id": "1e122572-37f0-4ee0-b0f5-bf11c5739933",
   "metadata": {},
   "outputs": [
    {
     "name": "stdout",
     "output_type": "stream",
     "text": [
      "           0   1\n",
      "7  Ionocytes  46\n"
     ]
    }
   ],
   "source": [
    "cells_rare = cell_counts[cell_counts[1] < adata_int.shape[0]*1/100]\n",
    "if cells_rare.shape[0] == 0:\n",
    "    cells_rare = cell_counts.iloc[0:1,:]\n",
    "if cells_rare.shape[0] > 10:\n",
    "    cells_rare = cell_counts.iloc[0:10,:]\n",
    "print(cells_rare)\n",
    "cells_rare = list(cells_rare[0])"
   ]
  },
  {
   "cell_type": "code",
   "execution_count": 18,
   "id": "450cf0df-c96a-4552-a4c4-a9dfae956628",
   "metadata": {},
   "outputs": [
    {
     "data": {
      "text/plain": [
       "['Ionocytes']"
      ]
     },
     "execution_count": 18,
     "metadata": {},
     "output_type": "execute_result"
    }
   ],
   "source": [
    "cells_rare"
   ]
  },
  {
   "cell_type": "markdown",
   "id": "c69d8b26-398b-4279-aae1-a90ae4fbf820",
   "metadata": {},
   "source": [
    "# bbknn"
   ]
  },
  {
   "cell_type": "code",
   "execution_count": 19,
   "id": "8b9a3f0c-2ee9-42cd-b3de-257ff88b25b2",
   "metadata": {},
   "outputs": [],
   "source": [
    "adata_int = sc.read_h5ad(dir_path+\"bbknn-\"+dataset+\".h5ad\")"
   ]
  },
  {
   "cell_type": "code",
   "execution_count": 20,
   "id": "d37f978d-876b-4c86-9b2f-a0d7412f94bb",
   "metadata": {},
   "outputs": [
    {
     "name": "stdout",
     "output_type": "stream",
     "text": [
      "use rep: X_pca\n"
     ]
    }
   ],
   "source": [
    "import isolated_labels\n",
    "\n",
    "il_score_f1 = isolated_labels.isolated_labels(\n",
    "            adata_int,\n",
    "            label_key=cell_type,\n",
    "            batch_key=batch,\n",
    "            embed='X_pca',\n",
    "            isolated_labels = cells_rare,\n",
    "            cluster=True,\n",
    "            n=None,\n",
    "            verbose=False\n",
    "        )\n",
    "il_score_asw = isolated_labels.isolated_labels(\n",
    "            adata_int,\n",
    "            label_key=cell_type,\n",
    "            batch_key=batch,\n",
    "            embed='X_pca',\n",
    "            isolated_labels = cells_rare,\n",
    "            cluster=False,\n",
    "            n=None,\n",
    "            verbose=False\n",
    "        )"
   ]
  },
  {
   "cell_type": "code",
   "execution_count": 21,
   "id": "2124f1e6-b7a2-4453-a524-a86eb9f6f182",
   "metadata": {},
   "outputs": [
    {
     "name": "stdout",
     "output_type": "stream",
     "text": [
      "0.0341034103410341 0.42100927233695984\n"
     ]
    }
   ],
   "source": [
    "print(il_score_f1,il_score_asw)"
   ]
  },
  {
   "cell_type": "markdown",
   "id": "7961ec40-d24e-4df2-b400-d4cb716395e6",
   "metadata": {},
   "source": [
    "# harmony"
   ]
  },
  {
   "cell_type": "code",
   "execution_count": 22,
   "id": "f9e4c5c5-ada2-40cb-a4dc-8db66838d097",
   "metadata": {},
   "outputs": [],
   "source": [
    "dir_path = \"/home/krushna/Documents/Data_integration/Othermethods/harmony/\"\n",
    "adata_int = sc.read_h5ad(dir_path+\"harmony-\"+dataset+\".h5ad\")"
   ]
  },
  {
   "cell_type": "code",
   "execution_count": 23,
   "id": "771d3aa2-87a4-4671-86a3-62f9d976c4c8",
   "metadata": {},
   "outputs": [
    {
     "name": "stdout",
     "output_type": "stream",
     "text": [
      "use rep: X_harmony\n",
      "0.09893048128342247 0.415709488093853\n"
     ]
    }
   ],
   "source": [
    "import isolated_labels\n",
    "\n",
    "il_score_f1 = isolated_labels.isolated_labels(\n",
    "            adata_int,\n",
    "            label_key=cell_type,\n",
    "            batch_key=batch,\n",
    "            embed='X_harmony',\n",
    "            isolated_labels = cells_rare,\n",
    "            cluster=True,\n",
    "            n=None,\n",
    "            verbose=False\n",
    "        )\n",
    "il_score_asw = isolated_labels.isolated_labels(\n",
    "            adata_int,\n",
    "            label_key=cell_type,\n",
    "            batch_key=batch,\n",
    "            embed='X_harmony',\n",
    "            isolated_labels = cells_rare,\n",
    "            cluster=False,\n",
    "            n=None,\n",
    "            verbose=False\n",
    "        )\n",
    "print(il_score_f1,il_score_asw)"
   ]
  },
  {
   "cell_type": "markdown",
   "id": "553edbdc-e2ac-465c-a30d-50f5e05bd79b",
   "metadata": {},
   "source": [
    "# insct"
   ]
  },
  {
   "cell_type": "code",
   "execution_count": 24,
   "id": "e0207ee8-5a45-4b1e-9cf3-2dc16ed445d4",
   "metadata": {},
   "outputs": [],
   "source": [
    "dir_path = \"/home/krushna/Documents/Data_integration/SCRNA_Datasets/All_h5ad/\"\n",
    "\n",
    "embeddings = \"/home/krushna/Documents/Data_integration/Othermethods/insct/embeddings/Lung_tnn_embeddings_1510.csv\"\n",
    "\n",
    "adata_int = sc.read_h5ad(dir_path+dataset+'.h5ad')\n",
    "final_embedings=pd.read_csv(embeddings, sep=',',header=None).values\n",
    "adata_int.obsm['final_embeddings'] = final_embedings"
   ]
  },
  {
   "cell_type": "code",
   "execution_count": 25,
   "id": "94e40099-891e-4e26-b05b-a6aebb0ab87d",
   "metadata": {},
   "outputs": [
    {
     "name": "stdout",
     "output_type": "stream",
     "text": [
      "use rep: final_embeddings\n",
      "0.12803532008830024 0.3830991134135828\n"
     ]
    }
   ],
   "source": [
    "import isolated_labels\n",
    "\n",
    "il_score_f1 = isolated_labels.isolated_labels(\n",
    "            adata_int,\n",
    "            label_key=cell_type,\n",
    "            batch_key=batch,\n",
    "            embed='final_embeddings',\n",
    "            isolated_labels = cells_rare,\n",
    "            cluster=True,\n",
    "            n=None,\n",
    "            verbose=False\n",
    "        )\n",
    "il_score_asw = isolated_labels.isolated_labels(\n",
    "            adata_int,\n",
    "            label_key=cell_type,\n",
    "            batch_key=batch,\n",
    "            embed='final_embeddings',\n",
    "            isolated_labels = cells_rare,\n",
    "            cluster=False,\n",
    "            n=None,\n",
    "            verbose=False\n",
    "        )\n",
    "print(il_score_f1,il_score_asw)"
   ]
  },
  {
   "cell_type": "markdown",
   "id": "4f9d40ef-6e5b-4e16-ac32-67459b4c581d",
   "metadata": {},
   "source": [
    "# scanorama"
   ]
  },
  {
   "cell_type": "code",
   "execution_count": 26,
   "id": "59eb14d9-45ab-4a67-8541-fa7cc39bb151",
   "metadata": {},
   "outputs": [],
   "source": [
    "dir_path = \"/home/krushna/Documents/Data_integration/Othermethods/scanorama/\"\n",
    "adata_int = sc.read_h5ad(dir_path+\"scanorama-\"+dataset+\".h5ad\")"
   ]
  },
  {
   "cell_type": "code",
   "execution_count": 27,
   "id": "6e125aee-e404-4385-863c-bfb1961d8ddf",
   "metadata": {},
   "outputs": [
    {
     "name": "stdout",
     "output_type": "stream",
     "text": [
      "use rep: X_emb\n",
      "0.8705882352941177 0.4572779654597432\n"
     ]
    }
   ],
   "source": [
    "import isolated_labels\n",
    "\n",
    "il_score_f1 = isolated_labels.isolated_labels(\n",
    "            adata_int,\n",
    "            label_key=cell_type,\n",
    "            batch_key=batch,\n",
    "            embed='X_emb',\n",
    "            isolated_labels = cells_rare,\n",
    "            cluster=True,\n",
    "            n=None,\n",
    "            verbose=False\n",
    "        )\n",
    "il_score_asw = isolated_labels.isolated_labels(\n",
    "            adata_int,\n",
    "            label_key=cell_type,\n",
    "            batch_key=batch,\n",
    "            embed='X_emb',\n",
    "            isolated_labels = cells_rare,\n",
    "            cluster=False,\n",
    "            n=None,\n",
    "            verbose=False\n",
    "        )\n",
    "print(il_score_f1,il_score_asw)"
   ]
  },
  {
   "cell_type": "markdown",
   "id": "c42ba319-4863-421c-ac99-831556bb6f0c",
   "metadata": {},
   "source": [
    "# scVI"
   ]
  },
  {
   "cell_type": "code",
   "execution_count": 28,
   "id": "1bc9a62c-0fad-40eb-99b5-0539ca28431e",
   "metadata": {},
   "outputs": [],
   "source": [
    "dir_path = \"/home/krushna/Documents/Data_integration/Othermethods/scvi/\"\n",
    "adata_int = sc.read_h5ad(dir_path+\"scvi-\"+dataset+\".h5ad\")"
   ]
  },
  {
   "cell_type": "code",
   "execution_count": 29,
   "id": "26c303c4-9ee1-4832-9b54-f579adc3f4ea",
   "metadata": {},
   "outputs": [
    {
     "name": "stdout",
     "output_type": "stream",
     "text": [
      "use rep: X_scVI\n",
      "0.8705882352941177 0.6644591093063354\n"
     ]
    }
   ],
   "source": [
    "import isolated_labels\n",
    "\n",
    "il_score_f1 = isolated_labels.isolated_labels(\n",
    "            adata_int,\n",
    "            label_key=cell_type,\n",
    "            batch_key=batch,\n",
    "            embed='X_scVI',\n",
    "            isolated_labels = cells_rare,\n",
    "            cluster=True,\n",
    "            n=None,\n",
    "            verbose=False\n",
    "        )\n",
    "il_score_asw = isolated_labels.isolated_labels(\n",
    "            adata_int,\n",
    "            label_key=cell_type,\n",
    "            batch_key=batch,\n",
    "            embed='X_scVI',\n",
    "            isolated_labels = cells_rare,\n",
    "            cluster=False,\n",
    "            n=None,\n",
    "            verbose=False\n",
    "        )\n",
    "print(il_score_f1,il_score_asw)"
   ]
  },
  {
   "cell_type": "markdown",
   "id": "8b02cdbf-ee25-4dba-bed9-f164295007e6",
   "metadata": {},
   "source": [
    "# seurat"
   ]
  },
  {
   "cell_type": "code",
   "execution_count": 30,
   "id": "8931c109-61ef-4f49-9ae7-3fe84a1d0a5c",
   "metadata": {},
   "outputs": [
    {
     "name": "stdout",
     "output_type": "stream",
     "text": [
      "WARNING: You’re trying to run this on 2000 dimensions of `.X`, if you really want this, set `use_rep='X'`.\n",
      "         Falling back to preprocessing with `sc.pp.pca` and default params.\n"
     ]
    },
    {
     "data": {
      "text/plain": [
       "AnnData object with n_obs × n_vars = 32472 × 2000\n",
       "    obs: 'orig.ident', 'nCount_originalexp', 'dataset', 'location', 'patientGroup', 'percent.mito', 'protocol', 'sanger_type', 'size_factors', 'sampling_method', 'batch', 'cell_type', 'donor', 'ident'\n",
       "    uns: 'neighbors'\n",
       "    obsm: 'X_pca'\n",
       "    obsp: 'distances', 'connectivities'"
      ]
     },
     "execution_count": 30,
     "metadata": {},
     "output_type": "execute_result"
    }
   ],
   "source": [
    "dir_path = \"/home/krushna/Documents/Data_integration/Othermethods/seurat/\"\n",
    "adata_int = sc.read_h5ad(dir_path+\"seurat-\"+dataset+\".h5ad\")\n",
    "sc.pp.neighbors(adata_int, use_rep=None)\n",
    "adata_int"
   ]
  },
  {
   "cell_type": "code",
   "execution_count": 31,
   "id": "ea5a70b7-911b-4de6-b0b5-35d7f74f0530",
   "metadata": {},
   "outputs": [
    {
     "name": "stdout",
     "output_type": "stream",
     "text": [
      "use rep: X_pca\n",
      "0.04671173939766441 0.4003363251686096\n"
     ]
    }
   ],
   "source": [
    "import isolated_labels\n",
    "\n",
    "il_score_f1 = isolated_labels.isolated_labels(\n",
    "            adata_int,\n",
    "            label_key=cell_type,\n",
    "            batch_key=batch,\n",
    "            embed='X_pca',\n",
    "            isolated_labels = cells_rare,\n",
    "            cluster=True,\n",
    "            n=None,\n",
    "            verbose=False\n",
    "        )\n",
    "il_score_asw = isolated_labels.isolated_labels(\n",
    "            adata_int,\n",
    "            label_key=cell_type,\n",
    "            batch_key=batch,\n",
    "            embed='X_pca',\n",
    "            isolated_labels = cells_rare,\n",
    "            cluster=False,\n",
    "            n=None,\n",
    "            verbose=False\n",
    "        )\n",
    "print(il_score_f1,il_score_asw)"
   ]
  },
  {
   "cell_type": "markdown",
   "id": "12d8c1e9-661e-449c-9b4a-4631ee96bb59",
   "metadata": {},
   "source": [
    "# our method"
   ]
  },
  {
   "cell_type": "code",
   "execution_count": 32,
   "id": "e409345f-c7cf-4269-b80e-e1d7badc54aa",
   "metadata": {},
   "outputs": [],
   "source": [
    "dir_path = \"/home/krushna/Documents/Data_integration/SCRNA_Datasets/All_h5ad/\"\n",
    "\n",
    "embeddings = \"/home/krushna/Documents/Data_integration/Ajita_embeddings/checking_other_cases/final/Lung_case2_latent_matrix_c_300.csv\"\n",
    "\n",
    "adata_int = sc.read_h5ad(dir_path+dataset+'.h5ad')\n",
    "final_embedings=pd.read_csv(embeddings, sep=',',header=None).values\n",
    "adata_int.obsm['final_embeddings'] = final_embedings"
   ]
  },
  {
   "cell_type": "code",
   "execution_count": 33,
   "id": "5829f3b6-9147-4212-9c92-58ed592a15cb",
   "metadata": {},
   "outputs": [
    {
     "name": "stdout",
     "output_type": "stream",
     "text": [
      "use rep: final_embeddings\n",
      "0.8674698795180723 0.5509041609823218\n"
     ]
    }
   ],
   "source": [
    "import isolated_labels\n",
    "\n",
    "il_score_f1 = isolated_labels.isolated_labels(\n",
    "            adata_int,\n",
    "            label_key=cell_type,\n",
    "            batch_key=batch,\n",
    "            embed='final_embeddings',\n",
    "            isolated_labels = cells_rare,\n",
    "            cluster=True,\n",
    "            n=None,\n",
    "            verbose=False\n",
    "        )\n",
    "il_score_asw = isolated_labels.isolated_labels(\n",
    "            adata_int,\n",
    "            label_key=cell_type,\n",
    "            batch_key=batch,\n",
    "            embed='final_embeddings',\n",
    "            isolated_labels = cells_rare,\n",
    "            cluster=False,\n",
    "            n=None,\n",
    "            verbose=False\n",
    "        )\n",
    "print(il_score_f1,il_score_asw)"
   ]
  },
  {
   "cell_type": "code",
   "execution_count": null,
   "id": "12c4ba2c-109f-4aa0-9241-877568f0ec59",
   "metadata": {},
   "outputs": [],
   "source": []
  },
  {
   "cell_type": "code",
   "execution_count": null,
   "id": "f82a91e8-93a9-4d98-bc1e-17742d4051af",
   "metadata": {},
   "outputs": [],
   "source": []
  },
  {
   "cell_type": "code",
   "execution_count": null,
   "id": "65aa42d7-ac0d-4539-8c41-e8e824d9a65d",
   "metadata": {},
   "outputs": [],
   "source": []
  }
 ],
 "metadata": {
  "kernelspec": {
   "display_name": "Python 3 (ipykernel)",
   "language": "python",
   "name": "python3"
  },
  "language_info": {
   "codemirror_mode": {
    "name": "ipython",
    "version": 3
   },
   "file_extension": ".py",
   "mimetype": "text/x-python",
   "name": "python",
   "nbconvert_exporter": "python",
   "pygments_lexer": "ipython3",
   "version": "3.7.11"
  }
 },
 "nbformat": 4,
 "nbformat_minor": 5
}
