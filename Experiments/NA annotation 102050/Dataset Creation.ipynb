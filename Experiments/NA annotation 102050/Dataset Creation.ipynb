{
 "cells": [
  {
   "cell_type": "code",
   "execution_count": 1,
   "id": "61bd741a-d009-4376-b961-b9bbc70a8385",
   "metadata": {},
   "outputs": [],
   "source": [
    "import scanpy as sc\n",
    "import random\n",
    "import numpy as np\n",
    "from sklearn.model_selection import train_test_split\n",
    "random.seed(10)"
   ]
  },
  {
   "cell_type": "code",
   "execution_count": 2,
   "id": "7cc11861-a2ed-4775-a133-e7337d668cf3",
   "metadata": {},
   "outputs": [],
   "source": [
    "# dataset = 'Immune_Human'\n",
    "# cell_type = \"final_annotation\"\n",
    "dataset = 'Lung'\n",
    "cell_type = 'cell_type'\n",
    "NA_percent = 0.5"
   ]
  },
  {
   "cell_type": "code",
   "execution_count": 3,
   "id": "d150791c-1a26-4d30-a993-b79869fc22e6",
   "metadata": {},
   "outputs": [],
   "source": [
    "path = \"/home/krushna/Documents/Data_integration/SCRNA_Datasets/All_h5ad/\"+dataset+\".h5ad\"\n",
    "adata = sc.read_h5ad(path)"
   ]
  },
  {
   "cell_type": "code",
   "execution_count": 4,
   "id": "48b31fa7-a275-488e-9601-8a95d4cc87c1",
   "metadata": {},
   "outputs": [
    {
     "data": {
      "text/plain": [
       "AnnData object with n_obs × n_vars = 32472 × 15148\n",
       "    obs: 'dataset', 'location', 'nGene', 'nUMI', 'patientGroup', 'percent.mito', 'protocol', 'sanger_type', 'size_factors', 'sampling_method', 'batch', 'cell_type', 'donor'\n",
       "    layers: 'counts'"
      ]
     },
     "execution_count": 4,
     "metadata": {},
     "output_type": "execute_result"
    }
   ],
   "source": [
    "adata"
   ]
  },
  {
   "cell_type": "code",
   "execution_count": 5,
   "id": "2e96dd6e-50e1-4b8f-bde9-5999f1d1369b",
   "metadata": {},
   "outputs": [
    {
     "data": {
      "text/plain": [
       "Macrophage              7492\n",
       "Type 2                  4286\n",
       "Ciliated                3155\n",
       "Basal 2                 3072\n",
       "Secretory               2459\n",
       "Basal 1                 1972\n",
       "T/NK cell               1797\n",
       "Neutrophil_CD14_high    1626\n",
       "Dendritic cell          1367\n",
       "B cell                  1353\n",
       "Endothelium              988\n",
       "Mast cell                889\n",
       "Fibroblast               733\n",
       "Neutrophils_IL1R2        472\n",
       "Type 1                   424\n",
       "Lymphatic                341\n",
       "Ionocytes                 46\n",
       "Name: cell_type, dtype: int64"
      ]
     },
     "execution_count": 5,
     "metadata": {},
     "output_type": "execute_result"
    }
   ],
   "source": [
    "adata.obs[cell_type].value_counts()"
   ]
  },
  {
   "cell_type": "code",
   "execution_count": 6,
   "id": "1e17f3d2-8c19-4ca8-8bfb-8252f0f96487",
   "metadata": {},
   "outputs": [],
   "source": [
    "cell_types = adata.obs[cell_type]\n",
    "index = np.arange(len(cell_types))"
   ]
  },
  {
   "cell_type": "code",
   "execution_count": 7,
   "id": "1ba0d72f-a45c-4a11-83f3-b76bea214692",
   "metadata": {},
   "outputs": [],
   "source": [
    "_,NA_index = train_test_split(index,test_size=NA_percent,stratify=cell_types,shuffle=True)"
   ]
  },
  {
   "cell_type": "code",
   "execution_count": 8,
   "id": "dca8cbdd-d464-4b71-b919-4da740381173",
   "metadata": {},
   "outputs": [
    {
     "data": {
      "text/plain": [
       "Macrophage              3746\n",
       "Type 2                  2143\n",
       "Ciliated                1577\n",
       "Basal 2                 1536\n",
       "Secretory               1230\n",
       "Basal 1                  986\n",
       "T/NK cell                898\n",
       "Neutrophil_CD14_high     813\n",
       "Dendritic cell           684\n",
       "B cell                   677\n",
       "Endothelium              494\n",
       "Mast cell                444\n",
       "Fibroblast               366\n",
       "Neutrophils_IL1R2        236\n",
       "Type 1                   212\n",
       "Lymphatic                171\n",
       "Ionocytes                 23\n",
       "Name: cell_type, dtype: int64"
      ]
     },
     "execution_count": 8,
     "metadata": {},
     "output_type": "execute_result"
    }
   ],
   "source": [
    "cell_types[NA_index].value_counts()"
   ]
  },
  {
   "cell_type": "code",
   "execution_count": 9,
   "id": "753b8185-be7e-46df-b03e-33c09d66b9fc",
   "metadata": {},
   "outputs": [],
   "source": [
    "adata.obs[cell_type+'_NA'] = adata.obs[cell_type].cat.add_categories(['NA'])"
   ]
  },
  {
   "cell_type": "code",
   "execution_count": 10,
   "id": "d53ecd3e-21a0-441f-bdfc-293ee22431b3",
   "metadata": {},
   "outputs": [],
   "source": [
    "adata.obs[cell_type+'_NA'][NA_index]  = 'NA'"
   ]
  },
  {
   "cell_type": "code",
   "execution_count": 11,
   "id": "ddca91f6-d3d0-4f6d-b25f-15c97e7e74b8",
   "metadata": {},
   "outputs": [
    {
     "data": {
      "text/plain": [
       "Macrophage              7492\n",
       "Type 2                  4286\n",
       "Ciliated                3155\n",
       "Basal 2                 3072\n",
       "Secretory               2459\n",
       "Basal 1                 1972\n",
       "T/NK cell               1797\n",
       "Neutrophil_CD14_high    1626\n",
       "Dendritic cell          1367\n",
       "B cell                  1353\n",
       "Endothelium              988\n",
       "Mast cell                889\n",
       "Fibroblast               733\n",
       "Neutrophils_IL1R2        472\n",
       "Type 1                   424\n",
       "Lymphatic                341\n",
       "Ionocytes                 46\n",
       "Name: cell_type, dtype: int64"
      ]
     },
     "execution_count": 11,
     "metadata": {},
     "output_type": "execute_result"
    }
   ],
   "source": [
    "adata.obs[cell_type].value_counts()"
   ]
  },
  {
   "cell_type": "code",
   "execution_count": 12,
   "id": "2a24dcdf-457d-4329-bdba-f6826f3a9b8c",
   "metadata": {},
   "outputs": [
    {
     "data": {
      "text/plain": [
       "NA                      16236\n",
       "Macrophage               3746\n",
       "Type 2                   2143\n",
       "Ciliated                 1578\n",
       "Basal 2                  1536\n",
       "Secretory                1229\n",
       "Basal 1                   986\n",
       "T/NK cell                 899\n",
       "Neutrophil_CD14_high      813\n",
       "Dendritic cell            683\n",
       "B cell                    676\n",
       "Endothelium               494\n",
       "Mast cell                 445\n",
       "Fibroblast                367\n",
       "Neutrophils_IL1R2         236\n",
       "Type 1                    212\n",
       "Lymphatic                 170\n",
       "Ionocytes                  23\n",
       "Name: cell_type_NA, dtype: int64"
      ]
     },
     "execution_count": 12,
     "metadata": {},
     "output_type": "execute_result"
    }
   ],
   "source": [
    "adata.obs[cell_type+'_NA'].value_counts()"
   ]
  },
  {
   "cell_type": "code",
   "execution_count": 13,
   "id": "38331923-995b-4769-b059-06b442a6db9e",
   "metadata": {},
   "outputs": [],
   "source": [
    "adata.write(\"/home/krushna/Documents/Data_integration/SCRNA_Datasets/All_h5ad/\"+dataset+\"_NA_\"+str(NA_percent)+\".h5ad\")"
   ]
  },
  {
   "cell_type": "code",
   "execution_count": null,
   "id": "05f7b3b5-89d4-483b-ad04-3893cb4d4301",
   "metadata": {},
   "outputs": [],
   "source": []
  },
  {
   "cell_type": "code",
   "execution_count": 14,
   "id": "74d87250-4059-4a07-9a27-9baf907225b3",
   "metadata": {},
   "outputs": [],
   "source": [
    "#testing\n",
    "path = \"/home/krushna/Documents/Data_integration/SCRNA_Datasets/All_h5ad/\"+dataset+\"_NA_\"+str(NA_percent)+\".h5ad\"\n",
    "adata_50 = sc.read_h5ad(path)"
   ]
  },
  {
   "cell_type": "code",
   "execution_count": 15,
   "id": "b105e40e-3f7c-4d1c-8826-2bb586508ef9",
   "metadata": {},
   "outputs": [
    {
     "data": {
      "text/plain": [
       "Macrophage              7492\n",
       "Type 2                  4286\n",
       "Ciliated                3155\n",
       "Basal 2                 3072\n",
       "Secretory               2459\n",
       "Basal 1                 1972\n",
       "T/NK cell               1797\n",
       "Neutrophil_CD14_high    1626\n",
       "Dendritic cell          1367\n",
       "B cell                  1353\n",
       "Endothelium              988\n",
       "Mast cell                889\n",
       "Fibroblast               733\n",
       "Neutrophils_IL1R2        472\n",
       "Type 1                   424\n",
       "Lymphatic                341\n",
       "Ionocytes                 46\n",
       "Name: cell_type, dtype: int64"
      ]
     },
     "execution_count": 15,
     "metadata": {},
     "output_type": "execute_result"
    }
   ],
   "source": [
    "adata.obs[cell_type].value_counts()"
   ]
  },
  {
   "cell_type": "code",
   "execution_count": 17,
   "id": "e14c0a69-8087-4c57-bb64-31540733aba0",
   "metadata": {},
   "outputs": [
    {
     "data": {
      "text/plain": [
       "AnnData object with n_obs × n_vars = 32472 × 15148\n",
       "    obs: 'dataset', 'location', 'nGene', 'nUMI', 'patientGroup', 'percent.mito', 'protocol', 'sanger_type', 'size_factors', 'sampling_method', 'batch', 'cell_type', 'donor', 'cell_type_NA'\n",
       "    layers: 'counts'"
      ]
     },
     "execution_count": 17,
     "metadata": {},
     "output_type": "execute_result"
    }
   ],
   "source": [
    "adata"
   ]
  },
  {
   "cell_type": "code",
   "execution_count": 18,
   "id": "361ebf3a-8a3a-4e05-9d12-4a0073a7ab8a",
   "metadata": {},
   "outputs": [
    {
     "data": {
      "text/plain": [
       "NA                      16236\n",
       "Macrophage               3746\n",
       "Type 2                   2143\n",
       "Ciliated                 1578\n",
       "Basal 2                  1536\n",
       "Secretory                1229\n",
       "Basal 1                   986\n",
       "T/NK cell                 899\n",
       "Neutrophil_CD14_high      813\n",
       "Dendritic cell            683\n",
       "B cell                    676\n",
       "Endothelium               494\n",
       "Mast cell                 445\n",
       "Fibroblast                367\n",
       "Neutrophils_IL1R2         236\n",
       "Type 1                    212\n",
       "Lymphatic                 170\n",
       "Ionocytes                  23\n",
       "Name: cell_type_NA, dtype: int64"
      ]
     },
     "execution_count": 18,
     "metadata": {},
     "output_type": "execute_result"
    }
   ],
   "source": [
    "adata_50.obs[cell_type+'_NA'].value_counts()"
   ]
  },
  {
   "cell_type": "code",
   "execution_count": null,
   "id": "337deca8-114b-4158-aec9-6fc7b775277b",
   "metadata": {},
   "outputs": [],
   "source": []
  }
 ],
 "metadata": {
  "kernelspec": {
   "display_name": "Python 3 (ipykernel)",
   "language": "python",
   "name": "python3"
  },
  "language_info": {
   "codemirror_mode": {
    "name": "ipython",
    "version": 3
   },
   "file_extension": ".py",
   "mimetype": "text/x-python",
   "name": "python",
   "nbconvert_exporter": "python",
   "pygments_lexer": "ipython3",
   "version": "3.7.11"
  }
 },
 "nbformat": 4,
 "nbformat_minor": 5
}
