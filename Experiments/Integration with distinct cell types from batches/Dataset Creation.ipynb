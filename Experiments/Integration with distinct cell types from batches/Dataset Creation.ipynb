{
 "cells": [
  {
   "cell_type": "code",
   "execution_count": 20,
   "id": "4e977f45",
   "metadata": {},
   "outputs": [],
   "source": [
    "import scanpy as sc\n",
    "import numpy as np\n",
    "import pandas as pd"
   ]
  },
  {
   "cell_type": "code",
   "execution_count": 21,
   "id": "0c7b2839",
   "metadata": {},
   "outputs": [],
   "source": [
    "dir_path = \"/home/krushna/Documents/scDREAMER/Data_integration/SCRNA_Datasets/All_h5ad/\"\n",
    "\n",
    "batch_key_dic = {'Immune_Human' : 'batch',\n",
    "                 'Lung' : 'batch',\n",
    "                 'Pancreas' : 'Batch'\n",
    "                }\n",
    "cell_type_key_dic = {'Immune_Human' : 'final_annotation',\n",
    "                 'Lung' : 'cell_type',\n",
    "                 'Pancreas' : 'Group'\n",
    "                    }\n"
   ]
  },
  {
   "cell_type": "code",
   "execution_count": 22,
   "id": "b0d1ff38",
   "metadata": {},
   "outputs": [],
   "source": [
    "dataset = \"Lung\"\n",
    "adata =sc.read_h5ad(dir_path+dataset+'.h5ad')"
   ]
  },
  {
   "cell_type": "code",
   "execution_count": 23,
   "id": "b74b2520",
   "metadata": {},
   "outputs": [],
   "source": [
    "batch = batch_key_dic[dataset]\n",
    "cell_type = cell_type_key_dic[dataset]"
   ]
  },
  {
   "cell_type": "code",
   "execution_count": 24,
   "id": "71619d82",
   "metadata": {},
   "outputs": [
    {
     "data": {
      "text/html": [
       "<div>\n",
       "<style scoped>\n",
       "    .dataframe tbody tr th:only-of-type {\n",
       "        vertical-align: middle;\n",
       "    }\n",
       "\n",
       "    .dataframe tbody tr th {\n",
       "        vertical-align: top;\n",
       "    }\n",
       "\n",
       "    .dataframe thead th {\n",
       "        text-align: right;\n",
       "    }\n",
       "</style>\n",
       "<table border=\"1\" class=\"dataframe\">\n",
       "  <thead>\n",
       "    <tr style=\"text-align: right;\">\n",
       "      <th></th>\n",
       "      <th>batch</th>\n",
       "    </tr>\n",
       "  </thead>\n",
       "  <tbody>\n",
       "    <tr>\n",
       "      <th>4</th>\n",
       "      <td>3763</td>\n",
       "    </tr>\n",
       "    <tr>\n",
       "      <th>B2</th>\n",
       "      <td>3297</td>\n",
       "    </tr>\n",
       "    <tr>\n",
       "      <th>6</th>\n",
       "      <td>3229</td>\n",
       "    </tr>\n",
       "  </tbody>\n",
       "</table>\n",
       "</div>"
      ],
      "text/plain": [
       "    batch\n",
       "4    3763\n",
       "B2   3297\n",
       "6    3229"
      ]
     },
     "execution_count": 24,
     "metadata": {},
     "output_type": "execute_result"
    }
   ],
   "source": [
    "no_of_batch = adata.obs[batch].value_counts()\n",
    "pd.DataFrame(no_of_batch).sort_values('batch',ascending=False)[:3]"
   ]
  },
  {
   "cell_type": "code",
   "execution_count": 25,
   "id": "193860e3",
   "metadata": {},
   "outputs": [],
   "source": [
    "meta_data = adata.obs[[batch,cell_type]]"
   ]
  },
  {
   "cell_type": "code",
   "execution_count": 28,
   "id": "41b75e5d",
   "metadata": {},
   "outputs": [
    {
     "data": {
      "text/plain": [
       "16"
      ]
     },
     "execution_count": 28,
     "metadata": {},
     "output_type": "execute_result"
    }
   ],
   "source": [
    "len(np.unique(meta_data[batch]))"
   ]
  },
  {
   "cell_type": "code",
   "execution_count": 26,
   "id": "0670840d",
   "metadata": {},
   "outputs": [
    {
     "name": "stdout",
     "output_type": "stream",
     "text": [
      "1\n",
      "Neutrophils_IL1R2    438\n",
      "Endothelium          157\n",
      "T/NK cell            142\n",
      "Name: cell_type, dtype: int64\n",
      "2\n",
      "Neutrophil_CD14_high    1227\n",
      "Dendritic cell           230\n",
      "T/NK cell                209\n",
      "Name: cell_type, dtype: int64\n",
      "3\n",
      "Type 2            135\n",
      "Dendritic cell     98\n",
      "Mast cell          98\n",
      "Name: cell_type, dtype: int64\n",
      "4\n",
      "Macrophage    1828\n",
      "Type 2        1419\n",
      "Fibroblast     212\n",
      "Name: cell_type, dtype: int64\n",
      "5\n",
      "Macrophage    1105\n",
      "Type 2         356\n",
      "T/NK cell      190\n",
      "Name: cell_type, dtype: int64\n",
      "6\n",
      "Macrophage        1533\n",
      "Type 2             822\n",
      "Dendritic cell     495\n",
      "Name: cell_type, dtype: int64\n",
      "A1\n",
      "Basal 1      530\n",
      "Ciliated     488\n",
      "Secretory    388\n",
      "Name: cell_type, dtype: int64\n",
      "A2\n",
      "Basal 1     485\n",
      "Basal 2     353\n",
      "Ciliated    346\n",
      "Name: cell_type, dtype: int64\n",
      "A3\n",
      "Ciliated     487\n",
      "Basal 1      260\n",
      "Secretory    232\n",
      "Name: cell_type, dtype: int64\n",
      "A4\n",
      "Basal 1     218\n",
      "Ciliated    195\n",
      "Basal 2     157\n",
      "Name: cell_type, dtype: int64\n",
      "A5\n",
      "Basal 2      1465\n",
      "Ciliated      442\n",
      "Secretory     215\n",
      "Name: cell_type, dtype: int64\n",
      "A6\n",
      "Ciliated     622\n",
      "Secretory    619\n",
      "Basal 2      535\n",
      "Name: cell_type, dtype: int64\n",
      "B1\n",
      "Type 2        749\n",
      "Macrophage    606\n",
      "T/NK cell     274\n",
      "Name: cell_type, dtype: int64\n",
      "B2\n",
      "Macrophage    1293\n",
      "Type 2         612\n",
      "Secretory      563\n",
      "Name: cell_type, dtype: int64\n",
      "B3\n",
      "Macrophage     911\n",
      "T/NK cell      189\n",
      "Endothelium    162\n",
      "Name: cell_type, dtype: int64\n",
      "B4\n",
      "B cell       1211\n",
      "T/NK cell     523\n",
      "Mast cell     368\n",
      "Name: cell_type, dtype: int64\n"
     ]
    }
   ],
   "source": [
    "\n",
    "for batch_value in np.unique(meta_data[batch]):\n",
    "    meta_data_batch= meta_data[meta_data[batch]==batch_value]\n",
    "    print(batch_value)\n",
    "    print(meta_data_batch[cell_type].value_counts().sort_values(ascending=False)[:3])\n",
    "    "
   ]
  },
  {
   "cell_type": "code",
   "execution_count": 10,
   "id": "24a6fdb3",
   "metadata": {},
   "outputs": [],
   "source": [
    "#immune_human\n",
    "to_remove = pd.DataFrame(\n",
    "[    \n",
    "    ['10X', 'CD14+ Monocytes', 3388],\n",
    "    ['Freytag','CD4+ T cells', 1238],\n",
    "    ['Oetjen_A','CD4+ T cells', 577],\n",
    "    ['Oetjen_P','Erythrocytes',1219],\n",
    "    ['Oetjen_U', 'CD20+ B cells', 417],\n",
    "    ['Sun_sample1_CS','CD4+ T cells', 1054],\n",
    "    ['Sun_sample2_KC', 'CD14+ Monocytes', 522],\n",
    "    ['Sun_sample3_TB', 'CD14+ Monocytes', 372],\n",
    "    ['Sun_sample4_TC', 'NK cells' ,464],\n",
    "    ['Villani','Monocyte-derived dendritic cells',534]\n",
    "],\n",
    "    columns = [batch,cell_type,'count']\n",
    ")"
   ]
  },
  {
   "cell_type": "code",
   "execution_count": 29,
   "id": "dbeaa60f",
   "metadata": {},
   "outputs": [],
   "source": [
    "#Lung\n",
    "to_remove = pd.DataFrame(\n",
    "[    \n",
    "    ['1','Neutrophils_IL1R2',438],\n",
    "    ['2', 'Neutrophil_CD14_high', 1227],\n",
    "    ['3', 'Type 2', 135],\n",
    "    ['4','Macrophage', 1828],\n",
    "    ['5', 'Macrophage', 1105],\n",
    "    ['6', 'Type 2', 822],\n",
    "    ['A1', 'Basal 1', 530],\n",
    "    ['A2', 'Basal 1' ,485],\n",
    "    ['A3', 'Ciliated', 487],\n",
    "    ['A4', 'Ciliated',195],\n",
    "    ['A5', 'Basal 2', 1465],\n",
    "    ['A6', 'Ciliated', 622],\n",
    "    ['B1', 'Type 2', 749],\n",
    "    ['B2', 'Macrophage', 1293],\n",
    "    ['B3', 'T/NK cell',189],\n",
    "    ['B4', 'B cell', 1211]\n",
    "],\n",
    "    columns = [batch,cell_type,'count']\n",
    ")\n"
   ]
  },
  {
   "cell_type": "code",
   "execution_count": 30,
   "id": "3da5bcfb",
   "metadata": {},
   "outputs": [
    {
     "data": {
      "text/html": [
       "<div>\n",
       "<style scoped>\n",
       "    .dataframe tbody tr th:only-of-type {\n",
       "        vertical-align: middle;\n",
       "    }\n",
       "\n",
       "    .dataframe tbody tr th {\n",
       "        vertical-align: top;\n",
       "    }\n",
       "\n",
       "    .dataframe thead th {\n",
       "        text-align: right;\n",
       "    }\n",
       "</style>\n",
       "<table border=\"1\" class=\"dataframe\">\n",
       "  <thead>\n",
       "    <tr style=\"text-align: right;\">\n",
       "      <th></th>\n",
       "      <th>batch</th>\n",
       "      <th>cell_type</th>\n",
       "      <th>count</th>\n",
       "    </tr>\n",
       "  </thead>\n",
       "  <tbody>\n",
       "    <tr>\n",
       "      <th>0</th>\n",
       "      <td>1</td>\n",
       "      <td>Neutrophils_IL1R2</td>\n",
       "      <td>438</td>\n",
       "    </tr>\n",
       "    <tr>\n",
       "      <th>1</th>\n",
       "      <td>2</td>\n",
       "      <td>Neutrophil_CD14_high</td>\n",
       "      <td>1227</td>\n",
       "    </tr>\n",
       "    <tr>\n",
       "      <th>2</th>\n",
       "      <td>3</td>\n",
       "      <td>Type 2</td>\n",
       "      <td>135</td>\n",
       "    </tr>\n",
       "    <tr>\n",
       "      <th>3</th>\n",
       "      <td>4</td>\n",
       "      <td>Macrophage</td>\n",
       "      <td>1828</td>\n",
       "    </tr>\n",
       "    <tr>\n",
       "      <th>4</th>\n",
       "      <td>5</td>\n",
       "      <td>Macrophage</td>\n",
       "      <td>1105</td>\n",
       "    </tr>\n",
       "    <tr>\n",
       "      <th>5</th>\n",
       "      <td>6</td>\n",
       "      <td>Type 2</td>\n",
       "      <td>822</td>\n",
       "    </tr>\n",
       "    <tr>\n",
       "      <th>6</th>\n",
       "      <td>A1</td>\n",
       "      <td>Basal 1</td>\n",
       "      <td>530</td>\n",
       "    </tr>\n",
       "    <tr>\n",
       "      <th>7</th>\n",
       "      <td>A2</td>\n",
       "      <td>Basal 1</td>\n",
       "      <td>485</td>\n",
       "    </tr>\n",
       "    <tr>\n",
       "      <th>8</th>\n",
       "      <td>A3</td>\n",
       "      <td>Ciliated</td>\n",
       "      <td>487</td>\n",
       "    </tr>\n",
       "    <tr>\n",
       "      <th>9</th>\n",
       "      <td>A4</td>\n",
       "      <td>Ciliated</td>\n",
       "      <td>195</td>\n",
       "    </tr>\n",
       "    <tr>\n",
       "      <th>10</th>\n",
       "      <td>A5</td>\n",
       "      <td>Basal 2</td>\n",
       "      <td>1465</td>\n",
       "    </tr>\n",
       "    <tr>\n",
       "      <th>11</th>\n",
       "      <td>A6</td>\n",
       "      <td>Ciliated</td>\n",
       "      <td>622</td>\n",
       "    </tr>\n",
       "    <tr>\n",
       "      <th>12</th>\n",
       "      <td>B1</td>\n",
       "      <td>Type 2</td>\n",
       "      <td>749</td>\n",
       "    </tr>\n",
       "    <tr>\n",
       "      <th>13</th>\n",
       "      <td>B2</td>\n",
       "      <td>Macrophage</td>\n",
       "      <td>1293</td>\n",
       "    </tr>\n",
       "    <tr>\n",
       "      <th>14</th>\n",
       "      <td>B3</td>\n",
       "      <td>T/NK cell</td>\n",
       "      <td>189</td>\n",
       "    </tr>\n",
       "    <tr>\n",
       "      <th>15</th>\n",
       "      <td>B4</td>\n",
       "      <td>B cell</td>\n",
       "      <td>1211</td>\n",
       "    </tr>\n",
       "  </tbody>\n",
       "</table>\n",
       "</div>"
      ],
      "text/plain": [
       "   batch             cell_type  count\n",
       "0      1     Neutrophils_IL1R2    438\n",
       "1      2  Neutrophil_CD14_high   1227\n",
       "2      3                Type 2    135\n",
       "3      4            Macrophage   1828\n",
       "4      5            Macrophage   1105\n",
       "5      6                Type 2    822\n",
       "6     A1               Basal 1    530\n",
       "7     A2               Basal 1    485\n",
       "8     A3              Ciliated    487\n",
       "9     A4              Ciliated    195\n",
       "10    A5               Basal 2   1465\n",
       "11    A6              Ciliated    622\n",
       "12    B1                Type 2    749\n",
       "13    B2            Macrophage   1293\n",
       "14    B3             T/NK cell    189\n",
       "15    B4                B cell   1211"
      ]
     },
     "execution_count": 30,
     "metadata": {},
     "output_type": "execute_result"
    }
   ],
   "source": [
    "to_remove"
   ]
  },
  {
   "cell_type": "code",
   "execution_count": 31,
   "id": "3e617669",
   "metadata": {},
   "outputs": [
    {
     "data": {
      "text/plain": [
       "12781"
      ]
     },
     "execution_count": 31,
     "metadata": {},
     "output_type": "execute_result"
    }
   ],
   "source": [
    "sum(to_remove['count'])"
   ]
  },
  {
   "cell_type": "code",
   "execution_count": 32,
   "id": "7b37616c",
   "metadata": {},
   "outputs": [
    {
     "data": {
      "text/plain": [
       "32472"
      ]
     },
     "execution_count": 32,
     "metadata": {},
     "output_type": "execute_result"
    }
   ],
   "source": [
    "len(adata.obs['batch'])"
   ]
  },
  {
   "cell_type": "code",
   "execution_count": 33,
   "id": "b96d538d",
   "metadata": {},
   "outputs": [
    {
     "data": {
      "text/plain": [
       "(array([False]), array([32472]))"
      ]
     },
     "execution_count": 33,
     "metadata": {},
     "output_type": "execute_result"
    }
   ],
   "source": [
    "cell_to_remove = np.array([False]* len(adata.obs['batch']),dtype='bool')\n",
    "np.unique(cell_to_remove,return_counts=True)"
   ]
  },
  {
   "cell_type": "code",
   "execution_count": 34,
   "id": "c69001a6",
   "metadata": {},
   "outputs": [],
   "source": [
    "for batch_val,cell_type_val in zip(to_remove[batch],to_remove[cell_type]):\n",
    "    cell_to_remove = cell_to_remove | (np.array(meta_data[batch]==batch_val)\n",
    "                                       & np.array(meta_data[cell_type] == cell_type_val))"
   ]
  },
  {
   "cell_type": "code",
   "execution_count": 35,
   "id": "d815b535",
   "metadata": {},
   "outputs": [
    {
     "data": {
      "text/plain": [
       "(array([False,  True]), array([19691, 12781]))"
      ]
     },
     "execution_count": 35,
     "metadata": {},
     "output_type": "execute_result"
    }
   ],
   "source": [
    "np.unique(cell_to_remove,return_counts=True)"
   ]
  },
  {
   "cell_type": "code",
   "execution_count": 36,
   "id": "5dfa5a2a",
   "metadata": {},
   "outputs": [],
   "source": [
    "adata_sub = adata[~cell_to_remove]"
   ]
  },
  {
   "cell_type": "code",
   "execution_count": 37,
   "id": "8706a91d",
   "metadata": {},
   "outputs": [
    {
     "data": {
      "text/plain": [
       "View of AnnData object with n_obs × n_vars = 19691 × 15148\n",
       "    obs: 'dataset', 'location', 'nGene', 'nUMI', 'patientGroup', 'percent.mito', 'protocol', 'sanger_type', 'size_factors', 'sampling_method', 'batch', 'cell_type', 'donor'\n",
       "    layers: 'counts'"
      ]
     },
     "execution_count": 37,
     "metadata": {},
     "output_type": "execute_result"
    }
   ],
   "source": [
    "adata_sub"
   ]
  },
  {
   "cell_type": "code",
   "execution_count": 38,
   "id": "1544c19e",
   "metadata": {},
   "outputs": [],
   "source": [
    "adata_sub.write(dir_path+dataset+'_removed_top_cells.h5ad')"
   ]
  },
  {
   "cell_type": "code",
   "execution_count": null,
   "id": "fc593ba6",
   "metadata": {},
   "outputs": [],
   "source": []
  }
 ],
 "metadata": {
  "kernelspec": {
   "display_name": "Python 3 (ipykernel)",
   "language": "python",
   "name": "python3"
  },
  "language_info": {
   "codemirror_mode": {
    "name": "ipython",
    "version": 3
   },
   "file_extension": ".py",
   "mimetype": "text/x-python",
   "name": "python",
   "nbconvert_exporter": "python",
   "pygments_lexer": "ipython3",
   "version": "3.7.11"
  }
 },
 "nbformat": 4,
 "nbformat_minor": 5
}
