{
 "cells": [
  {
   "cell_type": "code",
   "execution_count": 1,
   "id": "61bd741a-d009-4376-b961-b9bbc70a8385",
   "metadata": {},
   "outputs": [],
   "source": [
    "import scanpy as sc\n",
    "import random\n",
    "import numpy as np\n",
    "from sklearn.model_selection import train_test_split\n",
    "random.seed(10)"
   ]
  },
  {
   "cell_type": "code",
   "execution_count": 2,
   "id": "316d37bb-1b9a-4884-9444-e559893f96f5",
   "metadata": {},
   "outputs": [],
   "source": [
    "# dataset = \"Immune_Human\"\n",
    "# cell_type = \"final_annotation\"\n",
    "dataset = \"Lung\"\n",
    "cell_type = \"cell_type\""
   ]
  },
  {
   "cell_type": "code",
   "execution_count": 3,
   "id": "d150791c-1a26-4d30-a993-b79869fc22e6",
   "metadata": {},
   "outputs": [],
   "source": [
    "path = \"/home/krushna/Documents/Data_integration/SCRNA_Datasets/All_h5ad/\"+dataset+\".h5ad\"\n",
    "adata = sc.read_h5ad(path)"
   ]
  },
  {
   "cell_type": "code",
   "execution_count": 4,
   "id": "73dff467-5bdb-4f40-94b3-055db89396c8",
   "metadata": {},
   "outputs": [],
   "source": [
    "cell_types = adata.obs[cell_type]\n",
    "index = np.arange(len(cell_types))\n",
    "_,index_to_label = train_test_split(index,test_size=0.1,stratify=cell_types,shuffle=True)"
   ]
  },
  {
   "cell_type": "code",
   "execution_count": 5,
   "id": "d04144ed-75b1-4cd2-af9e-c410f2c5212f",
   "metadata": {},
   "outputs": [],
   "source": [
    "# no_label_wrong = int(adata.shape[0]/10)\n",
    "# no_label_wrong"
   ]
  },
  {
   "cell_type": "code",
   "execution_count": 6,
   "id": "efd2ab45-344c-4ebd-a872-08c27c7da099",
   "metadata": {},
   "outputs": [],
   "source": [
    "# index_to_label = random.sample(range(0, adata.shape[0]), no_label_wrong)"
   ]
  },
  {
   "cell_type": "code",
   "execution_count": 7,
   "id": "753b8185-be7e-46df-b03e-33c09d66b9fc",
   "metadata": {},
   "outputs": [
    {
     "data": {
      "text/plain": [
       "(array(['B cell', 'Basal 1', 'Basal 2', 'Ciliated', 'Dendritic cell',\n",
       "        'Endothelium', 'Fibroblast', 'Ionocytes', 'Lymphatic',\n",
       "        'Macrophage', 'Mast cell', 'Neutrophil_CD14_high',\n",
       "        'Neutrophils_IL1R2', 'Secretory', 'T/NK cell', 'Type 1', 'Type 2'],\n",
       "       dtype=object),\n",
       " array([135, 197, 307, 316, 137,  99,  73,   5,  34, 749,  89, 163,  47,\n",
       "        246, 180,  42, 429]))"
      ]
     },
     "execution_count": 7,
     "metadata": {},
     "output_type": "execute_result"
    }
   ],
   "source": [
    "before_suffle = adata.obs[cell_type][index_to_label]\n",
    "np.unique(before_suffle,return_counts=True)"
   ]
  },
  {
   "cell_type": "code",
   "execution_count": 8,
   "id": "6b9a24fb-4824-424e-bb84-2f4e49750468",
   "metadata": {},
   "outputs": [],
   "source": [
    "def random_shuffle(data):\n",
    "    unique_values = set(np.unique(data))\n",
    "    shuffled_data = []\n",
    "    for val in data:\n",
    "        others = list(unique_values-set([val]))\n",
    "        temp = random.choice(others)\n",
    "        if temp==val:\n",
    "            print(temp,val)\n",
    "            print(temp in others,len(others))\n",
    "        shuffled_data.append(temp)\n",
    "    return shuffled_data"
   ]
  },
  {
   "cell_type": "code",
   "execution_count": 9,
   "id": "1d955c5e-c702-40f1-a35b-dc88e4c97eaf",
   "metadata": {
    "scrolled": true,
    "tags": []
   },
   "outputs": [],
   "source": [
    "after_suffle = before_suffle.copy()\n",
    "after_suffle = random_shuffle(after_suffle)\n",
    "# after_suffle"
   ]
  },
  {
   "cell_type": "code",
   "execution_count": 10,
   "id": "cda50d14-9421-4451-9cb3-00be8eb06dad",
   "metadata": {},
   "outputs": [],
   "source": [
    "adata.obs[cell_type+'_wrong'] = adata.obs[cell_type]\n",
    "adata.obs[cell_type+'_wrong'][index_to_label] = after_suffle"
   ]
  },
  {
   "cell_type": "code",
   "execution_count": 11,
   "id": "fad18a5e-c741-4cab-b8dc-cda47b4cfddd",
   "metadata": {},
   "outputs": [
    {
     "data": {
      "text/plain": [
       "{'B cell',\n",
       " 'Basal 1',\n",
       " 'Basal 2',\n",
       " 'Ciliated',\n",
       " 'Dendritic cell',\n",
       " 'Endothelium',\n",
       " 'Fibroblast',\n",
       " 'Ionocytes',\n",
       " 'Lymphatic',\n",
       " 'Macrophage',\n",
       " 'Mast cell',\n",
       " 'Neutrophil_CD14_high',\n",
       " 'Neutrophils_IL1R2',\n",
       " 'Secretory',\n",
       " 'T/NK cell',\n",
       " 'Type 1',\n",
       " 'Type 2'}"
      ]
     },
     "execution_count": 11,
     "metadata": {},
     "output_type": "execute_result"
    }
   ],
   "source": [
    "set(adata.obs[cell_type+'_wrong'].unique())"
   ]
  },
  {
   "cell_type": "code",
   "execution_count": 12,
   "id": "6fa3e40d-d88a-4ed8-8059-304d1c5eb3c1",
   "metadata": {},
   "outputs": [
    {
     "name": "stdout",
     "output_type": "stream",
     "text": [
      "3247 0\n"
     ]
    }
   ],
   "source": [
    "after_suffle = adata.obs[cell_type+'_wrong'][index_to_label]\n",
    "count=0\n",
    "for i in range(len(before_suffle)):\n",
    "    if before_suffle[i] == after_suffle[i]:\n",
    "        count+=1\n",
    "print( int(adata.shape[0]/10),count)"
   ]
  },
  {
   "cell_type": "code",
   "execution_count": 13,
   "id": "38331923-995b-4769-b059-06b442a6db9e",
   "metadata": {},
   "outputs": [],
   "source": [
    "adata.write(\"/home/krushna/Documents/Data_integration/SCRNA_Datasets/All_h5ad/\"+dataset+\"_wrong_label_10.h5ad\")"
   ]
  },
  {
   "cell_type": "code",
   "execution_count": null,
   "id": "05f7b3b5-89d4-483b-ad04-3893cb4d4301",
   "metadata": {},
   "outputs": [],
   "source": []
  }
 ],
 "metadata": {
  "kernelspec": {
   "display_name": "Python 3 (ipykernel)",
   "language": "python",
   "name": "python3"
  },
  "language_info": {
   "codemirror_mode": {
    "name": "ipython",
    "version": 3
   },
   "file_extension": ".py",
   "mimetype": "text/x-python",
   "name": "python",
   "nbconvert_exporter": "python",
   "pygments_lexer": "ipython3",
   "version": "3.7.11"
  }
 },
 "nbformat": 4,
 "nbformat_minor": 5
}
