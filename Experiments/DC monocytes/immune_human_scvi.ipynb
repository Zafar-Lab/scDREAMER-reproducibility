{
 "cells": [
  {
   "cell_type": "code",
   "execution_count": null,
   "id": "1b146c3b-6ccc-48a1-aad2-d4b32dd42a3f",
   "metadata": {},
   "outputs": [],
   "source": [
    "import os\n",
    "import numpy as np\n",
    "import scipy.sparse\n",
    "import scipy.io\n",
    "from sklearn.metrics.cluster import normalized_mutual_info_score as nmi\n",
    "from sklearn.cluster import KMeans\n",
    "from sklearn.mixture import GaussianMixture\n",
    "from scipy import stats \n",
    "from scipy import * \n",
    "import numpy as np\n",
    "import scanpy as sc\n",
    "import pandas as pd\n",
    "import matplotlib.pyplot as plt\n",
    "sc.settings.figdir = \"/home/krushna/Documents/Data_integration/Experiments/DC monocytes/Figures\"\n",
    "sc.set_figure_params(dpi_save=200)\n",
    "sc.set_figure_params(figsize=(6.4, 4.8))"
   ]
  },
  {
   "cell_type": "code",
   "execution_count": null,
   "id": "f46b86ae-a6ec-43fe-83c1-7552c73b6898",
   "metadata": {},
   "outputs": [],
   "source": [
    "dir_path = \"/home/krushna/Documents/Data_integration/SCRNA_Datasets/All_h5ad/\"\n",
    "batch_key_dic = {'Immune_Human' : 'batch',\n",
    "                 'Lung' : 'batch',\n",
    "                 'Pancreas' : 'tech',\n",
    "                 'Human_Mouse' : 'batch',\n",
    "                 'Human_Retina': \"Batch\"\n",
    "                 \n",
    "                }\n",
    "cell_type_key_dic = {'Immune_Human' : 'final_annotation',\n",
    "                 'Lung' : 'cell_type',\n",
    "                 'Pancreas' : 'celltype',\n",
    "                 'Human_Mouse' : \"celltype\",\n",
    "                 \"Human_Retina\":\"Subcluster\"\n",
    "                    }    \n",
    "# emb_folder = \"/home/krushna/Documents/Data_integration/Ajita_embeddings/final/\""
   ]
  },
  {
   "cell_type": "code",
   "execution_count": null,
   "id": "04dffd88-ab1a-4ec9-95c7-46544e2abfc8",
   "metadata": {},
   "outputs": [],
   "source": [
    "dataset = 'Immune_Human'\n",
    "method = 'scvi'\n",
    "batch = batch_key_dic[dataset]\n",
    "cell_type = cell_type_key_dic[dataset]\n",
    "adata = sc.read_h5ad(\"/home/krushna/Documents/Data_integration/Othermethods/scvi/scvi-Immune_Human.h5ad\")"
   ]
  },
  {
   "cell_type": "code",
   "execution_count": null,
   "id": "0eba346b-09e8-4420-b8ea-b0c36be8368a",
   "metadata": {
    "scrolled": true,
    "tags": []
   },
   "outputs": [],
   "source": [
    "import scIB\n",
    "#Trajectory is asking precomputed sudo time point\n",
    "results,ilisi_all,clisi_all,kbet_all = scIB.metrics.metrics(\n",
    "        adata,\n",
    "        adata,\n",
    "        batch_key = batch,\n",
    "        label_key = cell_type,\n",
    "        hvg_score_=False,\n",
    "        cluster_key='cluster',\n",
    "        cluster_nmi=None,\n",
    "        ari_=True,\n",
    "        nmi_=True,\n",
    "        nmi_method='arithmetic',\n",
    "        nmi_dir=None,\n",
    "        silhouette_=False,\n",
    "        embed='X_scVI',\n",
    "        si_metric='euclidean',\n",
    "        pcr_=False,\n",
    "        cell_cycle_=False,\n",
    "        organism='mouse',\n",
    "        isolated_labels_=False,  # backwards compatibility\n",
    "        isolated_labels_f1_=False,\n",
    "        isolated_labels_asw_=False,\n",
    "        n_isolated=None,\n",
    "        graph_conn_=False,\n",
    "        kBET_=False,\n",
    "        kBET_sub=0.5,\n",
    "        lisi_graph_=False,\n",
    "        lisi_raw=False,\n",
    "        trajectory_=False,\n",
    "        type_=None,\n",
    "        verbose=True,\n",
    ")\n",
    "results"
   ]
  },
  {
   "cell_type": "code",
   "execution_count": null,
   "id": "5caebc93-dd07-4d11-82f8-a24f27b08aef",
   "metadata": {
    "scrolled": true,
    "tags": []
   },
   "outputs": [],
   "source": [
    "sc.pp.neighbors(adata, use_rep='X_scVI')\n",
    "sc.tl.louvain(adata, resolution=0.23692631578947368,key_added='cluster')"
   ]
  },
  {
   "cell_type": "code",
   "execution_count": null,
   "id": "7c50097a-bc9a-427d-b21b-57d60734f98b",
   "metadata": {},
   "outputs": [],
   "source": [
    "# sc.pp.neighbors(adata, use_rep='X_scVI')  # use_rep = 'final_embeddings'\n",
    "sc.tl.umap(adata)"
   ]
  },
  {
   "cell_type": "code",
   "execution_count": null,
   "id": "e7b292be-2430-4809-8541-6bf6aca09049",
   "metadata": {},
   "outputs": [],
   "source": [
    "sc.pl.umap(adata, color=cell_type, frameon=False,save = '_'+method+'_cell_type.png')\n",
    "sc.pl.umap(adata, color=batch, frameon=False,save='_'+method+'_batch.png')\n",
    "sc.pl.umap(adata, color='cluster', frameon=False,save='_'+method+'_opt_cluster.png')"
   ]
  },
  {
   "cell_type": "code",
   "execution_count": null,
   "id": "6e85861c-22ea-4916-b137-7eac4208db9c",
   "metadata": {},
   "outputs": [],
   "source": [
    "sc.pl.umap(adata, color=['CLEC9A','CD1C','VCAN'], frameon=False,save='_'+method+'_DC123_markers.png')"
   ]
  },
  {
   "cell_type": "code",
   "execution_count": null,
   "id": "c03cb79d-8d6a-4181-90fc-bf31098cb4e5",
   "metadata": {},
   "outputs": [],
   "source": [
    "sc.pl.umap(adata, color='cluster', frameon=False,save='_'+method+'_opt_cluster.png',title='scVI louvain clusters')"
   ]
  },
  {
   "cell_type": "markdown",
   "id": "0ecbb7af-a365-4b15-92b9-5002b2872d37",
   "metadata": {
    "tags": []
   },
   "source": [
    "# view markers on all data DC"
   ]
  },
  {
   "cell_type": "code",
   "execution_count": null,
   "id": "180f590a-1ba7-461f-9c21-66841207ac2f",
   "metadata": {},
   "outputs": [],
   "source": [
    "#1\n",
    "sc.pl.umap(adata, color=[\"CLEC9A\",\"HLA-DPA1\",\"CADM1\",\"CAMK2D\",cell_type], frameon=False)#\"C1ORF54\"\n",
    "\n",
    "# [\"CD1C\",\"FCER1A\",\"CLEC10A\",\"ADAM8\",\"CD1D\"]\n",
    "# [\"S100A9\",\"S100A8\",\"VCAN\",\"LYZ\",\"ANXA1\"]\n",
    "# [\"FCGR3A\",\"FTL\",\"SERPINA1\",\"LST1\",\"AIF1\"]\n",
    "# [\"AXL\",\"PPP1R14A\",\"SIGLEC6\",\"CD22\",\"DAB2\"]\n",
    "# [\"GZMB\",\"IGJ\",\"AK128525\",\"SERPINF1\",\"ITM2C\"]"
   ]
  },
  {
   "cell_type": "code",
   "execution_count": null,
   "id": "77772972-d835-463b-b0ba-0fdbfde8b7bf",
   "metadata": {},
   "outputs": [],
   "source": [
    "#2\n",
    "sc.pl.umap(adata, color=[\"CD1C\",\"FCER1A\",\"CLEC10A\",\"ADAM8\",\"CD1D\",cell_type], frameon=False)"
   ]
  },
  {
   "cell_type": "code",
   "execution_count": null,
   "id": "24d52ab7-9c9f-4d41-9f01-9c057e0f9951",
   "metadata": {},
   "outputs": [],
   "source": [
    "#3\n",
    "sc.pl.umap(adata, color=[\"S100A9\",\"S100A8\",\"VCAN\",\"LYZ\",\"ANXA1\",cell_type], frameon=False)"
   ]
  },
  {
   "cell_type": "code",
   "execution_count": null,
   "id": "d53470db-335d-4c12-b0d4-103ca9a03e17",
   "metadata": {},
   "outputs": [],
   "source": [
    "#4\n",
    "sc.pl.umap(adata, color=[\"FCGR3A\",\"FTL\",\"SERPINA1\",\"LST1\",\"AIF1\",cell_type], frameon=False)"
   ]
  },
  {
   "cell_type": "code",
   "execution_count": null,
   "id": "2d9d309c-fef6-4737-a74d-5352e8355b28",
   "metadata": {},
   "outputs": [],
   "source": [
    "#5 novel cluster\n",
    "sc.pl.umap(adata, color=[\"AXL\",\"PPP1R14A\",\"SIGLEC6\",\"CD22\",\"DAB2\",cell_type], frameon=False)"
   ]
  },
  {
   "cell_type": "code",
   "execution_count": null,
   "id": "0e7ee213-3d74-42e3-b8cd-90d5eddce5d6",
   "metadata": {},
   "outputs": [],
   "source": [
    "#6\n",
    "sc.pl.umap(adata, color= [\"GZMB\",\"SERPINF1\",\"ITM2C\",cell_type], frameon=False)#\"IGJ\",\"AK128525\","
   ]
  },
  {
   "cell_type": "markdown",
   "id": "e6f9d6bd-ca8d-471a-ac00-026f00214b85",
   "metadata": {},
   "source": [
    "# subset DC subsetypes"
   ]
  },
  {
   "cell_type": "code",
   "execution_count": null,
   "id": "4f957da9-61c0-46d2-9358-3f201138db40",
   "metadata": {},
   "outputs": [],
   "source": [
    "adata_sub=adata[adata.obs[cell_type].isin([\"Monocyte-derived dendritic cells\",\"Plasmacytoid dendritic cells\"])]"
   ]
  },
  {
   "cell_type": "code",
   "execution_count": null,
   "id": "658faf51-672e-4017-8fca-ef659289a8f8",
   "metadata": {},
   "outputs": [],
   "source": [
    "sc.pp.neighbors(adata_sub, use_rep='X_scVI')"
   ]
  },
  {
   "cell_type": "markdown",
   "id": "a9bb85f0-7a20-4478-8183-b1ec4bc39eff",
   "metadata": {
    "tags": []
   },
   "source": [
    "## check resolution"
   ]
  },
  {
   "cell_type": "code",
   "execution_count": null,
   "id": "fcb38455-0500-4a37-9446-5810d1f8e30d",
   "metadata": {
    "scrolled": true,
    "tags": []
   },
   "outputs": [],
   "source": [
    "for i in [0.1,0.2,0.3,0.4,0.5,1]:\n",
    "    print(\"resolution :\",i)\n",
    "    sc.tl.louvain(adata_sub, resolution=i)\n",
    "    sc.pl.umap(adata_sub,color=['louvain',cell_type],frameon=False)"
   ]
  },
  {
   "cell_type": "markdown",
   "id": "e338cbbd-b118-4358-8cca-71ec2031e5b4",
   "metadata": {
    "tags": []
   },
   "source": [
    "## view marker genes of clustes"
   ]
  },
  {
   "cell_type": "code",
   "execution_count": null,
   "id": "9d92bb2c-f81b-45ef-8811-05bd5cd2b8dd",
   "metadata": {},
   "outputs": [],
   "source": [
    "sc.tl.louvain(adata_sub, resolution=0.4)\n",
    "sc.pl.umap(adata_sub,color=['louvain'],frameon = False,save='_'+method+'_dc_sub_opt_res.png')"
   ]
  },
  {
   "cell_type": "code",
   "execution_count": null,
   "id": "0e728cd3-41e4-4e64-8cdc-e403c5b50556",
   "metadata": {
    "scrolled": true,
    "tags": []
   },
   "outputs": [],
   "source": [
    "#1\n",
    "print('DC1')\n",
    "sc.pl.umap(adata_sub, color=[\"CLEC9A\",\"HLA-DPA1\",\"CADM1\",\"CAMK2D\",\"louvain\",cell_type], frameon=False)#\"C1ORF54\"\n",
    "print('DC2')#2\n",
    "sc.pl.umap(adata_sub, color=[\"CD1C\",\"FCER1A\",\"CLEC10A\",\"ADAM8\",\"CD1D\",\"louvain\",cell_type], frameon=False)\n",
    "print('DC3')#3\n",
    "sc.pl.umap(adata_sub, color=[\"S100A9\",\"S100A8\",\"VCAN\",\"LYZ\",\"ANXA1\",\"louvain\",cell_type], frameon=False)\n",
    "print('DC4')#4\n",
    "sc.pl.umap(adata_sub, color=[\"FCGR3A\",\"FTL\",\"SERPINA1\",\"LST1\",\"AIF1\",\"louvain\",cell_type], frameon=False)\n",
    "print('DC6')#6\n",
    "sc.pl.umap(adata_sub, color= [\"GZMB\",\"SERPINF1\",\"ITM2C\",cell_type], frameon=False)#\"IGJ\",\"AK128525\",\n",
    "# [\"CD1C\",\"FCER1A\",\"CLEC10A\",\"ADAM8\",\"CD1D\"]\n",
    "# [\"S100A9\",\"S100A8\",\"VCAN\",\"LYZ\",\"ANXA1\"]\n",
    "# [\"FCGR3A\",\"FTL\",\"SERPINA1\",\"LST1\",\"AIF1\"]\n",
    "# [\"AXL\",\"PPP1R14A\",\"SIGLEC6\",\"CD22\",\"DAB2\"]\n",
    "# [\"GZMB\",\"IGJ\",\"AK128525\",\"SERPINF1\",\"ITM2C\"]"
   ]
  },
  {
   "cell_type": "code",
   "execution_count": null,
   "id": "ae7b5a26-0be7-42a4-8d76-4b223b426547",
   "metadata": {},
   "outputs": [],
   "source": [
    "#5 novel cluster\n",
    "sc.pl.umap(adata_sub, color=[\"AXL\",\"PPP1R14A\",\"SIGLEC6\",\"CD22\",\"DAB2\",\"louvain\",cell_type], frameon=False)"
   ]
  },
  {
   "cell_type": "code",
   "execution_count": null,
   "id": "4c897048-5474-4a7a-bf3d-ecd9ff7af32d",
   "metadata": {},
   "outputs": [],
   "source": [
    "markers_all = {'DC1':[\"CLEC9A\",\"HLA-DPA1\",\"CADM1\",\"CAMK2D\"],\n",
    "           'DC2':[\"CD1C\",\"FCER1A\",\"CLEC10A\",\"ADAM8\",\"CD1D\"],\n",
    "           'DC3':[\"S100A9\",\"S100A8\",\"VCAN\",\"LYZ\",\"ANXA1\"],\n",
    "           'DC4':[\"FCGR3A\",\"FTL\",\"SERPINA1\",\"LST1\",\"AIF1\"],\n",
    "           'DC5':[\"AXL\",\"PPP1R14A\",\"SIGLEC6\",\"CD22\",\"DAB2\",\"CD22\"],\n",
    "           'DC6':[\"GZMB\",\"SERPINF1\",\"ITM2C\"]\n",
    "          }\n",
    "markers = {'DC1':[\"CLEC9A\",\"CAMK2D\"],\n",
    "           'DC2':[\"CD1C\",\"CD1D\"],\n",
    "           'DC3':[\"S100A8\",\"VCAN\"],\n",
    "           'DC4':[\"FCGR3A\",\"SERPINA1\"],\n",
    "           'DC5':[\"AXL\",\"PPP1R14A\"],\n",
    "           'DC6':[\"GZMB\",\"SERPINF1\"]\n",
    "           \n",
    "}\n",
    "sc.pl.stacked_violin(adata_sub ,markers, groupby='louvain',categories_order=['2','0','4','3','1'],figsize=(15,5),cmap='YlGn',save= \"_\"+dataset+'_'+method+\"_DC violin.png\")"
   ]
  },
  {
   "cell_type": "markdown",
   "id": "84d1d9ed-5a79-41d3-a3f0-c6010f019494",
   "metadata": {},
   "source": [
    "# violin plots"
   ]
  },
  {
   "cell_type": "code",
   "execution_count": null,
   "id": "50716b87-ec87-4a37-846e-0a715f1e3b06",
   "metadata": {
    "scrolled": true,
    "tags": []
   },
   "outputs": [],
   "source": [
    "print(\"DC!\")\n",
    "sc.pl.violin(adata_sub, [\"CLEC9A\",\"CAMK2D\"], groupby='louvain',save = '_'+method+'_immune_human_DC1.png')#,frameon=False) #\"HLA-DPA1\",\"CADM1\",\n",
    "print('DC2')#2\n",
    "sc.pl.violin(adata_sub, [\"CD1C\",\"CD1D\"], groupby='louvain',save = '_'+method+'_immune_human_DC2.png')\n",
    "print('DC3')#3\n",
    "sc.pl.violin(adata_sub, [\"S100A8\",\"VCAN\"], groupby='louvain',save = '_'+method+'_immune_human_DC3.png')\n",
    "print('DC4')#4\n",
    "sc.pl.violin(adata_sub, [\"FCGR3A\",\"SERPINA1\"], groupby='louvain',save = '_'+method+'_immune_human_DC4.png')\n",
    "print(\"DC5\")\n",
    "sc.pl.violin(adata_sub, [\"AXL\",\"PPP1R14A\",\"CD22\"], groupby='louvain',save = '_'+method+'_immune_human_DC5.png')\n",
    "print('DC6')#6\n",
    "sc.pl.violin(adata_sub, [\"GZMB\",\"SERPINF1\"], groupby='louvain',save = '_'+method+'_immune_human_DC6.png')"
   ]
  },
  {
   "cell_type": "markdown",
   "id": "9ede6deb-a1b5-4eae-9e0f-b7a2ad61d456",
   "metadata": {},
   "source": [
    "# Monocytes sub clustering"
   ]
  },
  {
   "cell_type": "code",
   "execution_count": null,
   "id": "166c98ba-36cb-4e9b-92b9-8e7db7f0db80",
   "metadata": {},
   "outputs": [],
   "source": [
    "adata_sub=adata[adata.obs[cell_type].isin([\"CD16+ Monocytes\",\"CD14+ Monocytes\",'Monocyte progenitors'])]"
   ]
  },
  {
   "cell_type": "code",
   "execution_count": null,
   "id": "504acc39-5f97-477e-8a56-eecef6055a71",
   "metadata": {},
   "outputs": [],
   "source": [
    "sc.pp.neighbors(adata_sub, use_rep='X_scVI')"
   ]
  },
  {
   "cell_type": "code",
   "execution_count": null,
   "id": "684481b7-1e29-4df6-b395-5884a3eb362d",
   "metadata": {
    "scrolled": true,
    "tags": []
   },
   "outputs": [],
   "source": [
    "for i in [0.1,0.2,0.3,0.4,0.5,1]:\n",
    "    print(\"resolution :\",i)\n",
    "    sc.tl.louvain(adata_sub, resolution=i)\n",
    "    sc.pl.umap(adata_sub,color=['louvain',cell_type])"
   ]
  },
  {
   "cell_type": "code",
   "execution_count": null,
   "id": "5eda6bbd-957c-4a52-abaf-d6726b0c1ba1",
   "metadata": {},
   "outputs": [],
   "source": [
    "sc.tl.louvain(adata_sub, resolution=0.2)"
   ]
  },
  {
   "cell_type": "code",
   "execution_count": null,
   "id": "9edce764-ffc6-49a1-a3c7-f5ded4a599e1",
   "metadata": {},
   "outputs": [],
   "source": [
    "print('mono1')\n",
    "sc.pl.umap(adata_sub, color=[\"CD14\",\"VCAN\",\"S100A8\",\"S100A9\",\"FCN1\",\"louvain\",cell_type], frameon=False)\n",
    "print('mono2')\n",
    "sc.pl.umap(adata_sub, color=[\"LAIR2\",\"ASAH1\",\"APOBEC3A\",\"TSPAN14\",\"LIPA\",\"louvain\",cell_type], frameon=False)"
   ]
  },
  {
   "cell_type": "code",
   "execution_count": null,
   "id": "1ada528f-53fd-414c-b011-bfead854b1a0",
   "metadata": {},
   "outputs": [],
   "source": [
    "print('novel clusters')\n",
    "print('mono3')\n",
    "sc.pl.umap(adata_sub, color=[\"G0S2\",\"NAMPT\",\"NEAT1\",\"CSF3R\",\"louvain\",cell_type], frameon=False)#,\"AL137655\"\n",
    "print('mono4')\n",
    "sc.pl.umap(adata_sub, color=[\"PRF1\",\"GNLY\",\"KLRC4-KLRK1\",\"CTSW\",\"louvain\",cell_type], frameon=False)#\"TCRBV3S1\"\n"
   ]
  },
  {
   "cell_type": "code",
   "execution_count": null,
   "id": "b33f2404-944f-4cce-bce2-40a76d0dc2e1",
   "metadata": {},
   "outputs": [],
   "source": []
  }
 ],
 "metadata": {
  "kernelspec": {
   "display_name": "Python 3 (ipykernel)",
   "language": "python",
   "name": "python3"
  },
  "language_info": {
   "codemirror_mode": {
    "name": "ipython",
    "version": 3
   },
   "file_extension": ".py",
   "mimetype": "text/x-python",
   "name": "python",
   "nbconvert_exporter": "python",
   "pygments_lexer": "ipython3",
   "version": "3.7.11"
  }
 },
 "nbformat": 4,
 "nbformat_minor": 5
}
